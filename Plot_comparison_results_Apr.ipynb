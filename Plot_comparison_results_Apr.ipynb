{
 "cells": [
  {
   "cell_type": "code",
   "execution_count": 1,
   "metadata": {},
   "outputs": [
    {
     "data": {
      "text/plain": [
       "polyEval (generic function with 1 method)"
      ]
     },
     "execution_count": 1,
     "metadata": {},
     "output_type": "execute_result"
    }
   ],
   "source": [
    "polyEval(coeffs, pt) = sum([coeffs[i] * pt^(i-1) for i = 1:length(coeffs)])  "
   ]
  },
  {
   "cell_type": "code",
   "execution_count": 2,
   "metadata": {},
   "outputs": [
    {
     "ename": "LoadError",
     "evalue": "\u001b[91mUndefVarError: readall not defined\u001b[39m",
     "output_type": "error",
     "traceback": [
      "\u001b[91mUndefVarError: readall not defined\u001b[39m",
      ""
     ]
    }
   ],
   "source": [
    "using JSON\n",
    "\n",
    "cross_validation_best_key_Apr_AM = readall(\"../temp_files/cross_validation_best_key_Apr_AM.json\")\n",
    "cross_validation_best_key_Apr_AM = JSON.parse(cross_validation_best_key_Apr_AM)\n",
    "\n",
    "cross_validation_best_key_Apr_MD = readall(\"../temp_files/cross_validation_best_key_Apr_MD.json\")\n",
    "cross_validation_best_key_Apr_MD = JSON.parse(cross_validation_best_key_Apr_MD)\n",
    "\n",
    "cross_validation_best_key_Apr_PM = readall(\"../temp_files/cross_validation_best_key_Apr_PM.json\")\n",
    "cross_validation_best_key_Apr_PM = JSON.parse(cross_validation_best_key_Apr_PM)\n",
    "\n",
    "cross_validation_best_key_Apr_NT = readall(\"../temp_files/cross_validation_best_key_Apr_NT.json\")\n",
    "cross_validation_best_key_Apr_NT = JSON.parse(cross_validation_best_key_Apr_NT)\n",
    "\n",
    "cross_validation_best_key_Apr_weekend = readall(\"../temp_files/cross_validation_best_key_Apr_weekend.json\")\n",
    "cross_validation_best_key_Apr_weekend = JSON.parse(cross_validation_best_key_Apr_weekend)"
   ]
  },
  {
   "cell_type": "code",
   "execution_count": 33,
   "metadata": {},
   "outputs": [
    {
     "data": {
      "text/plain": [
       "7-element Array{Any,1}:\n",
       "  1.0        \n",
       "  0.00926752 \n",
       "  0.000651516\n",
       " -0.000537749\n",
       " -0.00015105 \n",
       " -1.77509e-5 \n",
       " -2.03956e-7 "
      ]
     },
     "execution_count": 33,
     "metadata": {},
     "output_type": "execute_result"
    }
   ],
   "source": [
    "instances = [\"AM\", \"MD\", \"PM\", \"NT\"]\n",
    "out_dir = \"../results/\"\n",
    "files_ID =\"_cdc_all_comp_apr_2012\"\n",
    "\n",
    "\n",
    "cross_validation_best_key_Apr_AM = \"(6, 2.5, 100.0, 1)\"\n",
    "cross_validation_best_key_Apr_MD = \"(6, 2.5, 100.0, 1)\"\n",
    "cross_validation_best_key_Apr_PM = \"(6, 2.5, 100.0, 1)\"\n",
    "cross_validation_best_key_Apr_NT = \"(6, 2.5, 100.0, 1)\"\n",
    "\n",
    "\n",
    "coeffs_dict_Apr_AM = readstring( out_dir * files_ID * \"/coeffs_dict_\"* month_w * \"_\" * instances[1] * \".json\")\n",
    "coeffs_dict_Apr_AM = JSON.parse(coeffs_dict_Apr_AM)\n",
    "\n",
    "coeffs_dict_Apr_MD = readstring( out_dir * files_ID * \"/coeffs_dict_\"* month_w * \"_\" * instances[2] * \".json\")\n",
    "coeffs_dict_Apr_MD = JSON.parse(coeffs_dict_Apr_MD)\n",
    "\n",
    "coeffs_dict_Apr_PM = readstring( out_dir * files_ID * \"/coeffs_dict_\"* month_w * \"_\" * instances[3] * \".json\")\n",
    "coeffs_dict_Apr_PM = JSON.parse(coeffs_dict_Apr_PM)\n",
    "\n",
    "coeffs_dict_Apr_NT = readstring( out_dir * files_ID * \"/coeffs_dict_\"* month_w * \"_\" * instances[4] * \".json\")\n",
    "coeffs_dict_Apr_NT = JSON.parse(coeffs_dict_Apr_NT)\n",
    "\n",
    "#coeffs_dict_Apr_weekend = readall(\"../temp_files/coeffs_dict_Apr_weekend.json\")\n",
    "#coeffs_dict_Apr_weekend = JSON.parse(coeffs_dict_Apr_weekend)\n",
    "\n",
    "\n",
    "coeffs_best_Apr_AM = coeffs_dict_Apr_AM[cross_validation_best_key_Apr_AM]\n",
    "coeffs_best_Apr_MD = coeffs_dict_Apr_MD[cross_validation_best_key_Apr_MD]\n",
    "coeffs_best_Apr_PM = coeffs_dict_Apr_PM[cross_validation_best_key_Apr_PM]\n",
    "coeffs_best_Apr_NT = coeffs_dict_Apr_NT[cross_validation_best_key_Apr_NT]\n",
    "#coeffs_best_Apr_weekend = coeffs_dict_Apr_weekend[cross_validation_best_key_Apr_weekend]"
   ]
  },
  {
   "cell_type": "code",
   "execution_count": 42,
   "metadata": {},
   "outputs": [
    {
     "ename": "LoadError",
     "evalue": "\u001b[91mKeyError: key \"python\" not found\u001b[39m",
     "output_type": "error",
     "traceback": [
      "\u001b[91mKeyError: key \"python\" not found\u001b[39m",
      "",
      "Stacktrace:",
      " [1] \u001b[1maccess_env\u001b[22m\u001b[22m\u001b[1m(\u001b[22m\u001b[22m::Base.##290#291, ::String\u001b[1m)\u001b[22m\u001b[22m at \u001b[1m.\\env.jl:14\u001b[22m\u001b[22m",
      " [2] \u001b[1mgetindex\u001b[22m\u001b[22m\u001b[1m(\u001b[22m\u001b[22m::Base.EnvHash, ::String\u001b[1m)\u001b[22m\u001b[22m at \u001b[1m.\\env.jl:78\u001b[22m\u001b[22m"
     ]
    }
   ],
   "source": [
    "ENV[\"PYTHON\"]"
   ]
  },
  {
   "cell_type": "code",
   "execution_count": 34,
   "metadata": {},
   "outputs": [
    {
     "ename": "LoadError",
     "evalue": "\u001b[91mPyError (ccall(@pysym(:PyObject_Call), PyPtr, (PyPtr, PyPtr, PyPtr), o, arg, kw)) <type 'exceptions.TypeError'>\nTypeError('pop() takes at most 1 argument (2 given)',)\n  File \"C:\\Users\\Salomon\\.julia\\v0.6\\Conda\\deps\\usr\\lib\\site-packages\\matplotlib\\pyplot.py\", line 1512, in xlabel\n    return gca().set_xlabel(s, *args, **kwargs)\n  File \"C:\\Users\\Salomon\\.julia\\v0.6\\Conda\\deps\\usr\\lib\\site-packages\\matplotlib\\axes\\_axes.py\", line 234, in set_xlabel\n    return self.xaxis.set_label_text(xlabel, fontdict, **kwargs)\n  File \"C:\\Users\\Salomon\\.julia\\v0.6\\Conda\\deps\\usr\\lib\\site-packages\\matplotlib\\axis.py\", line 1561, in set_label_text\n    self.label.update(fontdict)\n  File \"C:\\Users\\Salomon\\.julia\\v0.6\\Conda\\deps\\usr\\lib\\site-packages\\matplotlib\\text.py\", line 184, in update\n    bbox = kwargs.pop(\"bbox\", sentinel)\n\u001b[39m",
     "output_type": "error",
     "traceback": [
      "\u001b[91mPyError (ccall(@pysym(:PyObject_Call), PyPtr, (PyPtr, PyPtr, PyPtr), o, arg, kw)) <type 'exceptions.TypeError'>\nTypeError('pop() takes at most 1 argument (2 given)',)\n  File \"C:\\Users\\Salomon\\.julia\\v0.6\\Conda\\deps\\usr\\lib\\site-packages\\matplotlib\\pyplot.py\", line 1512, in xlabel\n    return gca().set_xlabel(s, *args, **kwargs)\n  File \"C:\\Users\\Salomon\\.julia\\v0.6\\Conda\\deps\\usr\\lib\\site-packages\\matplotlib\\axes\\_axes.py\", line 234, in set_xlabel\n    return self.xaxis.set_label_text(xlabel, fontdict, **kwargs)\n  File \"C:\\Users\\Salomon\\.julia\\v0.6\\Conda\\deps\\usr\\lib\\site-packages\\matplotlib\\axis.py\", line 1561, in set_label_text\n    self.label.update(fontdict)\n  File \"C:\\Users\\Salomon\\.julia\\v0.6\\Conda\\deps\\usr\\lib\\site-packages\\matplotlib\\text.py\", line 184, in update\n    bbox = kwargs.pop(\"bbox\", sentinel)\n\u001b[39m",
      "",
      "Stacktrace:",
      " [1] \u001b[1mpyerr_check\u001b[22m\u001b[22m at \u001b[1mC:\\Users\\Salomon\\.julia\\v0.6\\PyCall\\src\\exception.jl:60\u001b[22m\u001b[22m [inlined]",
      " [2] \u001b[1mpyerr_check\u001b[22m\u001b[22m at \u001b[1mC:\\Users\\Salomon\\.julia\\v0.6\\PyCall\\src\\exception.jl:64\u001b[22m\u001b[22m [inlined]",
      " [3] \u001b[1mmacro expansion\u001b[22m\u001b[22m at \u001b[1mC:\\Users\\Salomon\\.julia\\v0.6\\PyCall\\src\\exception.jl:84\u001b[22m\u001b[22m [inlined]",
      " [4] \u001b[1m#_pycall#86\u001b[22m\u001b[22m\u001b[1m(\u001b[22m\u001b[22m::Array{Any,1}, ::Function, ::PyCall.PyObject, ::String, ::Vararg{String,N} where N\u001b[1m)\u001b[22m\u001b[22m at \u001b[1mC:\\Users\\Salomon\\.julia\\v0.6\\PyCall\\src\\PyCall.jl:714\u001b[22m\u001b[22m",
      " [5] \u001b[1m(::PyCall.#kw##_pycall)\u001b[22m\u001b[22m\u001b[1m(\u001b[22m\u001b[22m::Array{Any,1}, ::PyCall.#_pycall, ::PyCall.PyObject, ::String, ::Vararg{String,N} where N\u001b[1m)\u001b[22m\u001b[22m at \u001b[1m.\\<missing>:0\u001b[22m\u001b[22m",
      " [6] \u001b[1m#pycall#90\u001b[22m\u001b[22m\u001b[1m(\u001b[22m\u001b[22m::Array{Any,1}, ::Function, ::PyCall.PyObject, ::Type{PyCall.PyAny}, ::String, ::Vararg{String,N} where N\u001b[1m)\u001b[22m\u001b[22m at \u001b[1mC:\\Users\\Salomon\\.julia\\v0.6\\PyCall\\src\\PyCall.jl:731\u001b[22m\u001b[22m",
      " [7] \u001b[1m(::PyCall.#kw##pycall)\u001b[22m\u001b[22m\u001b[1m(\u001b[22m\u001b[22m::Array{Any,1}, ::PyCall.#pycall, ::PyCall.PyObject, ::Type{PyCall.PyAny}, ::String, ::Vararg{String,N} where N\u001b[1m)\u001b[22m\u001b[22m at \u001b[1m.\\<missing>:0\u001b[22m\u001b[22m",
      " [8] \u001b[1m#xlabel#136\u001b[22m\u001b[22m\u001b[1m(\u001b[22m\u001b[22m::Array{Any,1}, ::Function, ::String, ::Vararg{String,N} where N\u001b[1m)\u001b[22m\u001b[22m at \u001b[1mC:\\Users\\Salomon\\.julia\\v0.6\\PyPlot\\src\\PyPlot.jl:172\u001b[22m\u001b[22m",
      " [9] \u001b[1m(::PyPlot.#kw##xlabel)\u001b[22m\u001b[22m\u001b[1m(\u001b[22m\u001b[22m::Array{Any,1}, ::PyPlot.#xlabel, ::String, ::Vararg{String,N} where N\u001b[1m)\u001b[22m\u001b[22m at \u001b[1m.\\<missing>:0\u001b[22m\u001b[22m"
     ]
    }
   ],
   "source": [
    "using PyPlot\n",
    "\n",
    "xs = linspace(0, 1.3, 20)\n",
    "\n",
    "#true_coeffs = [1, 0, 0, 0, .15]\n",
    "#ys_true = map(x->polyEval(true_coeffs, x), xs)\n",
    "#plot(xs, ys_true, \"k\", label=\"True\")\n",
    "\n",
    "ys_Apr_AM = map(x->polyEval(coeffs_best_Apr_AM, x), xs)\n",
    "ys_Apr_MD = map(x->polyEval(coeffs_best_Apr_MD, x), xs)\n",
    "ys_Apr_PM = map(x->polyEval(coeffs_best_Apr_PM, x), xs)\n",
    "ys_Apr_NT = map(x->polyEval(coeffs_best_Apr_NT, x), xs)\n",
    "#ys_Apr_weekend = map(x->polyEval(coeffs_best_Apr_weekend, x), xs)\n",
    "\n",
    "plot(xs, ys_Apr_AM, \">-r\", label=\"AM Peak\", linewidth=1.5)\n",
    "plot(xs, ys_Apr_MD, \"s-c\", label=\"Middle Day\", linewidth=1.5)\n",
    "plot(xs, ys_Apr_PM, \"<-b\", label=\"PM Peak\", linewidth=1.5)\n",
    "plot(xs, ys_Apr_NT, \"^-m\", label=\"Night\", linewidth=1.5)\n",
    "#plot(xs, ys_Apr_weekend, \"v-g\", label=\"Weekend\", linewidth=1.5)\n",
    "\n",
    "legend(loc=\"upper left\") \n",
    "\n",
    "grid(\"on\")\n",
    "xlim(-0.1, 1.25);\n",
    "ylim(0.98, 1.5);\n",
    "\n",
    "font1 = [\"family\"=>\"serif\",\n",
    "    \"color\"=>\"black\",\n",
    "    \"weight\"=>\"normal\",\n",
    "    \"size\"=>12]\n",
    "xlabel(\"Scaled Flow\", fontdict=font1)\n",
    "ylabel(\"Scaled Cost\", fontdict=font1)\n",
    "\n",
    "savefig(\"../temp_files/fitting_comparison_Apr.pdf\")"
   ]
  },
  {
   "cell_type": "code",
   "execution_count": 20,
   "metadata": {},
   "outputs": [
    {
     "data": {
      "text/plain": [
       "\"(6, 2.5, 100.0, 1)\""
      ]
     },
     "execution_count": 20,
     "metadata": {},
     "output_type": "execute_result"
    }
   ],
   "source": [
    "cross_validation_best_key_Apr_AM"
   ]
  },
  {
   "cell_type": "code",
   "execution_count": 6,
   "metadata": {
    "collapsed": true
   },
   "outputs": [],
   "source": [
    "outfile = open(\"../temp_files/cost_func_Apr.txt\", \"w\")\n",
    "\n",
    "write(outfile,\"coeffs_Apr_AM: $(coeffs_best_Apr_AM) \\n \\\n",
    "coeffs_Apr_MD: $(coeffs_best_Apr_MD) \\n \\\n",
    "coeffs_Apr_PM: $(coeffs_best_Apr_PM) \\n \\\n",
    "coeffs_Apr_NT: $(coeffs_best_Apr_NT) \\n \\\n",
    "coeffs_Apr_weekend: $(coeffs_best_Apr_weekend) \\n\")\n",
    "\n",
    "close(outfile)"
   ]
  },
  {
   "cell_type": "code",
   "execution_count": null,
   "metadata": {
    "collapsed": true
   },
   "outputs": [],
   "source": []
  }
 ],
 "metadata": {
  "kernelspec": {
   "display_name": "Julia 0.6.4",
   "language": "julia",
   "name": "julia-0.6"
  },
  "language_info": {
   "file_extension": ".jl",
   "mimetype": "application/julia",
   "name": "julia",
   "version": "0.6.4"
  }
 },
 "nbformat": 4,
 "nbformat_minor": 1
}
