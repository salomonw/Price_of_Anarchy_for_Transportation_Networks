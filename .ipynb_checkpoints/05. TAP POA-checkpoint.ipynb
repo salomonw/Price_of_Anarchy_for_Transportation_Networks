{
 "cells": [
  {
   "cell_type": "code",
   "execution_count": 2,
   "metadata": {},
   "outputs": [],
   "source": [
    "out_dir = \"../results/\"\n",
    "files_ID =\"_cdc_all_comp_apr_2012\"\n",
    "month_w = \"Apr\"\n",
    "year = 2012\n",
    "instances_ = \"AM\", \"MD\", \"PM\", \"NT\"\n",
    "\n",
    "instance_ = instances_[3];"
   ]
  },
  {
   "cell_type": "code",
   "execution_count": 3,
   "metadata": {},
   "outputs": [],
   "source": [
    "using JSON\n",
    "\n",
    "instance1 = instance_\n",
    "\n",
    "#load OD pair-route incidence\n",
    "odPairRoute = readstring(out_dir * files_ID * \"/od_pair_route_incidence_\" * instance1 *  files_ID * \".json\");\n",
    "odPairRoute = JSON.parse(odPairRoute);\n",
    "\n",
    "#load link-route incidence\n",
    "linkRoute = readstring(out_dir * files_ID * \"/link_route_incidence_\" * instance1 *  files_ID * \".json\");\n",
    "linkRoute = JSON.parse(linkRoute);\n",
    "\n",
    "#load OD pair labels\n",
    "odPairLabel = readstring(out_dir * files_ID * \"/od_pair_label_dict_refined.json\");\n",
    "odPairLabel = JSON.parse(odPairLabel);\n",
    "\n",
    "odPairLabel_ = readstring(out_dir * files_ID *\"/od_pair_label_dict__refined.json\");\n",
    "odPairLabel_ = JSON.parse(odPairLabel_);\n",
    "\n",
    "#load link labels\n",
    "linkLabel = readstring(out_dir * files_ID * \"/link_label_dict.json\");\n",
    "linkLabel = JSON.parse(linkLabel);\n",
    "\n",
    "linkLabel_ = readstring(out_dir * files_ID * \"/link_label_dict_.json\");\n",
    "linkLabel_ = JSON.parse(linkLabel_);\n",
    "\n",
    "#load node-link incidence\n",
    "nodeLink = readstring(out_dir * files_ID * \"/node_link_incidence.json\");\n",
    "nodeLink = JSON.parse(nodeLink);"
   ]
  },
  {
   "cell_type": "code",
   "execution_count": null,
   "metadata": {},
   "outputs": [],
   "source": []
  },
  {
   "cell_type": "code",
   "execution_count": 4,
   "metadata": {},
   "outputs": [],
   "source": [
    "include(\"Julia_files/load_network_uni_class.jl\");"
   ]
  },
  {
   "cell_type": "code",
   "execution_count": 5,
   "metadata": {},
   "outputs": [],
   "source": [
    "ta_data = load_ta_network_(out_dir, files_ID, month_w, instance1);"
   ]
  },
  {
   "cell_type": "code",
   "execution_count": 6,
   "metadata": {},
   "outputs": [],
   "source": [
    "capacity = ta_data.capacity;\n",
    "free_flow_time = ta_data.free_flow_time;"
   ]
  },
  {
   "cell_type": "code",
   "execution_count": 7,
   "metadata": {},
   "outputs": [],
   "source": [
    "############\n",
    "#Read in the demand file\n",
    "file = open(out_dir * files_ID * \"/data_traffic_assignment_uni-class/\" * files_ID * \"_trips_\" * month_w * \"_\" * instance1 * \".txt\")\n",
    "demands = Dict()\n",
    "s = 0\n",
    "for line in eachline(file)\n",
    "    if contains(line, \"Origin\")\n",
    "        s = Int(parse(Float64,(split(line)[2])))\n",
    "    elseif contains(line, \";\")\n",
    "        pairs = split(line, \";\")\n",
    "        for pair in pairs[1:end-1]\n",
    "            if !contains(pair, \"\\n\")\n",
    "                pair_vals = split(pair, \":\")\n",
    "                t, demand = Int(parse(Float64,pair_vals[1])), parse(Float64,pair_vals[2])\n",
    "                demands[(s,t)] = demand \n",
    "            end\n",
    "        end\n",
    "    end\n",
    "end                \n",
    "close(file);"
   ]
  },
  {
   "cell_type": "code",
   "execution_count": 8,
   "metadata": {},
   "outputs": [],
   "source": [
    "demands;"
   ]
  },
  {
   "cell_type": "code",
   "execution_count": 9,
   "metadata": {},
   "outputs": [],
   "source": [
    "demandsVec = zeros(length(odPairLabel_))\n",
    "\n",
    "for i = 1:length(demandsVec)\n",
    "    demandsVec[i] = demands[odPairLabel_[\"$i\"][1], odPairLabel_[\"$i\"][2]]\n",
    "end"
   ]
  },
  {
   "cell_type": "code",
   "execution_count": 10,
   "metadata": {},
   "outputs": [],
   "source": [
    "demandsVec;"
   ]
  },
  {
   "cell_type": "code",
   "execution_count": 11,
   "metadata": {},
   "outputs": [],
   "source": [
    "for key=keys(odPairRoute)\n",
    "    if contains(key, \"56-\")\n",
    "        println(key)\n",
    "    end\n",
    "end"
   ]
  },
  {
   "cell_type": "code",
   "execution_count": 12,
   "metadata": {},
   "outputs": [],
   "source": [
    "linkRoute;"
   ]
  },
  {
   "cell_type": "code",
   "execution_count": 13,
   "metadata": {},
   "outputs": [
    {
     "data": {
      "text/plain": [
       "8-element Array{Any,1}:\n",
       " 1.0        \n",
       " 0.0161905  \n",
       " 0.0160433  \n",
       " 0.010257   \n",
       " 0.00448839 \n",
       " 0.0011708  \n",
       " 0.000244701\n",
       " 4.32898e-6 "
      ]
     },
     "execution_count": 13,
     "metadata": {},
     "output_type": "execute_result"
    }
   ],
   "source": [
    "coeffs_dict_Apr_PM_ = readstring(out_dir * files_ID * \"/coeffs_dict_\" * month_w *  \"_\" * instance1 * \".json\")\n",
    "coeffs_dict_Apr_PM_ = JSON.parse(coeffs_dict_Apr_PM_)\n",
    "fcoeffs = coeffs_dict_Apr_PM_[\"(7, 1.5, 10000.0, 1)\"]"
   ]
  },
  {
   "cell_type": "code",
   "execution_count": 14,
   "metadata": {
    "scrolled": false
   },
   "outputs": [
    {
     "name": "stdout",
     "output_type": "stream",
     "text": [
      "56-82\n"
     ]
    },
    {
     "name": "stderr",
     "output_type": "stream",
     "text": [
      "\u001b[1m\u001b[33mWARNING: \u001b[39m\u001b[22m\u001b[33mThe curly syntax (sum{},prod{},norm2{}) is deprecated in favor of the new generator syntax (sum(),prod(),norm()).\u001b[39m\n",
      "\u001b[1m\u001b[33mWARNING: \u001b[39m\u001b[22m\u001b[33mReplace sum{free_flow_time[a] * fcoeffs[1] * linkFlow[a] + (free_flow_time[a] * fcoeffs[2] * linkFlow[a] ^ 2) / capacity[a] + (free_flow_time[a] * fcoeffs[3] * linkFlow[a] ^ 3) / capacity[a] ^ 2 + (free_flow_time[a] * fcoeffs[4] * linkFlow[a] ^ 4) / capacity[a] ^ 3 + (free_flow_time[a] * fcoeffs[5] * linkFlow[a] ^ 5) / capacity[a] ^ 4 + (free_flow_time[a] * fcoeffs[6] * linkFlow[a] ^ 6) / capacity[a] ^ 5 + (free_flow_time[a] * fcoeffs[7] * linkFlow[a] ^ 7) / capacity[a] ^ 6 + (free_flow_time[a] * fcoeffs[8] * linkFlow[a] ^ 8) / capacity[a] ^ 7, a = 1:numLinks} with sum(free_flow_time[a] * fcoeffs[1] * linkFlow[a] + (free_flow_time[a] * fcoeffs[2] * linkFlow[a] ^ 2) / capacity[a] + (free_flow_time[a] * fcoeffs[3] * linkFlow[a] ^ 3) / capacity[a] ^ 2 + (free_flow_time[a] * fcoeffs[4] * linkFlow[a] ^ 4) / capacity[a] ^ 3 + (free_flow_time[a] * fcoeffs[5] * linkFlow[a] ^ 5) / capacity[a] ^ 4 + (free_flow_time[a] * fcoeffs[6] * linkFlow[a] ^ 6) / capacity[a] ^ 5 + (free_flow_time[a] * fcoeffs[7] * linkFlow[a] ^ 7) / capacity[a] ^ 6 + (free_flow_time[a] * fcoeffs[8] * linkFlow[a] ^ 8) / capacity[a] ^ 7 for a = 1:numLinks).\u001b[39m\n"
     ]
    }
   ],
   "source": [
    "using JuMP, Ipopt\n",
    "\n",
    "# m = Model(solver=GurobiSolver(OutputFlag=false))\n",
    "m = Model(solver=IpoptSolver())\n",
    "\n",
    "numLinks = length(linkLabel_)\n",
    "numRoute = length(linkRoute)\n",
    "numOD = length(demandsVec)\n",
    "\n",
    "@variable(m, linkFlow[1:numLinks])\n",
    "@variable(m, pathFlow[1:numRoute])\n",
    "\n",
    "pathFlowSum = Dict()\n",
    "\n",
    "for i=1:numOD\n",
    "    pathFlowSum[i] = 0\n",
    "    for j=1:numRoute\n",
    "        if \"$(i)-$(j)\" in keys(odPairRoute)\n",
    "            pathFlowSum[i] += pathFlow[j]\n",
    "        end\n",
    "    end\n",
    "    @constraint(m, pathFlowSum[i] == demandsVec[i])\n",
    "end\n",
    "\n",
    "pathFlowLinkSum = Dict()\n",
    "\n",
    "\n",
    "\n",
    "for a=1:numLinks\n",
    "    pathFlowLinkSum[a] = 0\n",
    "    for j=1:numRoute\n",
    "        if \"$(a)-$(j)\" in keys(linkRoute)\n",
    "            pathFlowLinkSum[a] += pathFlow[j]\n",
    "        end\n",
    "    end\n",
    "    @constraint(m, pathFlowLinkSum[a] == linkFlow[a])\n",
    "end\n",
    "\n",
    "\n",
    "\n",
    "for j=1:numRoute\n",
    "    @NLconstraint(m, pathFlow[j] >= 0)\n",
    "end\n",
    "\n",
    "#@NLexpression(f, sum{free_flow_time[a]*linkFlow[a] + .03*free_flow_time[a]*((linkFlow[a])^5)/((capacity[a])^4), a = 1:numLinks})\n",
    "\n",
    "@NLexpression(m, f, sum{free_flow_time[a] * fcoeffs[1] * linkFlow[a] + \n",
    "    free_flow_time[a] * fcoeffs[2] * linkFlow[a]^2 / capacity[a] +\n",
    "    free_flow_time[a] * fcoeffs[3] * linkFlow[a]^3 / capacity[a]^2 +\n",
    "    free_flow_time[a] * fcoeffs[4] * linkFlow[a]^4 / capacity[a]^3 +\n",
    "    free_flow_time[a] * fcoeffs[5] * linkFlow[a]^5 / capacity[a]^4 +\n",
    "    free_flow_time[a] * fcoeffs[6] * linkFlow[a]^6 / capacity[a]^5 +\n",
    "    free_flow_time[a] * fcoeffs[7] * linkFlow[a]^7 / capacity[a]^6 +\n",
    "    free_flow_time[a] * fcoeffs[8] * linkFlow[a]^8 / capacity[a]^7, a = 1:numLinks})\n",
    "\n",
    "\n",
    "\n",
    "@NLobjective(m, Min, f)\n",
    "#print(m) \n",
    "\n",
    "solve(m);"
   ]
  },
  {
   "cell_type": "code",
   "execution_count": 15,
   "metadata": {},
   "outputs": [
    {
     "name": "stdout",
     "output_type": "stream",
     "text": [
      "\n",
      "******************************************************************************\n",
      "This program contains Ipopt, a library for large-scale nonlinear optimization.\n",
      " Ipopt is released as open source code under the Eclipse Public License (EPL).\n",
      "         For more information visit http://projects.coin-or.org/Ipopt\n",
      "******************************************************************************\n",
      "\n",
      "This is Ipopt version 3.12.8, running with linear solver mumps.\n",
      "NOTE: Other linear solvers might be more efficient (see Ipopt documentation).\n",
      "\n",
      "Number of nonzeros in equality constraint Jacobian...:      294\n",
      "Number of nonzeros in inequality constraint Jacobian.:      192\n",
      "Number of nonzeros in Lagrangian Hessian.............:       24\n",
      "\n",
      "Total number of variables............................:      216\n",
      "                     variables with only lower bounds:        0\n",
      "                variables with lower and upper bounds:        0\n",
      "                     variables with only upper bounds:        0\n",
      "Total number of equality constraints.................:       80\n",
      "Total number of inequality constraints...............:      192\n",
      "        inequality constraints with only lower bounds:      192\n",
      "   inequality constraints with lower and upper bounds:        0\n",
      "        inequality constraints with only upper bounds:        0\n",
      "\n",
      "iter    objective    inf_pr   inf_du lg(mu)  ||d||  lg(rg) alpha_du alpha_pr  ls\n",
      "   0 0.0000000e+000 4.85e+003 5.00e-001  -1.0 0.00e+000    -  0.00e+000 0.00e+000   0\n",
      "   1 1.6814617e+004 6.82e-013 4.85e+005  -1.0 4.85e+003    -  2.04e-006 1.00e+000h  1\n",
      "   2 1.6812121e+004 1.36e-012 4.16e-002  -1.0 3.14e+001    -  9.58e-001 1.00e+000f  1\n",
      "   3 1.6768558e+004 1.14e-012 1.57e-002  -1.0 5.98e+002    -  6.22e-001 1.00e+000f  1\n",
      "   4 1.6742888e+004 9.09e-013 3.90e-003  -1.0 4.01e+002    -  7.79e-001 1.00e+000f  1\n",
      "   5 1.6734165e+004 1.08e-012 6.31e-005  -1.0 2.46e+002    -  9.90e-001 1.00e+000f  1\n",
      "   6 1.6731205e+004 1.14e-012 8.68e-005  -1.7 5.75e+002    -  9.96e-001 1.00e+000f  1\n",
      "   7 1.6730570e+004 1.14e-012 3.41e-007  -2.5 8.09e+003    -  1.00e+000 1.00e+000f  1\n",
      "   8 1.6730496e+004 1.59e-012 4.45e-009  -3.8 4.86e+003    -  1.00e+000 1.00e+000f  1\n",
      "   9 1.6730493e+004 1.14e-012 1.84e-011  -5.7 1.06e+003    -  1.00e+000 1.00e+000f  1\n",
      "iter    objective    inf_pr   inf_du lg(mu)  ||d||  lg(rg) alpha_du alpha_pr  ls\n",
      "  10 1.6730493e+004 6.82e-013 2.51e-014  -8.6 1.16e+002    -  1.00e+000 1.00e+000f  1\n",
      "\n",
      "Number of Iterations....: 10\n",
      "\n",
      "                                   (scaled)                 (unscaled)\n",
      "Objective...............:  1.6730492632234756e+004   1.6730492632234756e+004\n",
      "Dual infeasibility......:  2.5091040356528538e-014   2.5091040356528538e-014\n",
      "Constraint violation....:  6.8212102632969618e-013   6.8212102632969618e-013\n",
      "Complementarity.........:  2.8174454291189726e-009   2.8174454291189726e-009\n",
      "Overall NLP error.......:  2.8174454291189726e-009   2.8174454291189726e-009\n",
      "\n",
      "\n",
      "Number of objective function evaluations             = 11\n",
      "Number of objective gradient evaluations             = 11\n",
      "Number of equality constraint evaluations            = 11\n",
      "Number of inequality constraint evaluations          = 11\n",
      "Number of equality constraint Jacobian evaluations   = 11\n",
      "Number of inequality constraint Jacobian evaluations = 11\n",
      "Number of Lagrangian Hessian evaluations             = 10\n",
      "Total CPU secs in IPOPT (w/o function evaluations)   =      0.103\n",
      "Total CPU secs in NLP function evaluations           =      0.024\n",
      "\n",
      "EXIT: Optimal Solution Found.\n"
     ]
    }
   ],
   "source": [
    "getvalue(linkFlow);"
   ]
  },
  {
   "cell_type": "code",
   "execution_count": 16,
   "metadata": {},
   "outputs": [],
   "source": [
    "getobjectivevalue(m);"
   ]
  },
  {
   "cell_type": "code",
   "execution_count": 17,
   "metadata": {},
   "outputs": [],
   "source": [
    "flows = Dict()\n",
    "\n",
    "for i = 1:length(ta_data.start_node)\n",
    "    key = (ta_data.start_node[i], ta_data.end_node[i])\n",
    "    flows[key] = getvalue(linkFlow)[i]\n",
    "end\n",
    "\n",
    "flows;"
   ]
  },
  {
   "cell_type": "code",
   "execution_count": 1,
   "metadata": {},
   "outputs": [],
   "source": [
    "using PyCall\n",
    "unshift!(PyVector(pyimport(\"sys\")[\"path\"]), \"\");\n",
    "#using Conda\n",
    "#using Pandas\n",
    "\n",
    "@pyimport matplotlib.pyplot as plt\n",
    "@pyimport numpy as np\n",
    "@pyimport json\n",
    "@pyimport os\n",
    "@pyimport pickle\n",
    "@pyimport pandas as pd\n",
    "@pyimport collections\n",
    "\n",
    "\n",
    "#@pyimport pandas\n",
    "#@pyimport parameters_julia\n",
    "#@pyimport utils_julia\n",
    "#@pyimport GLS_julia"
   ]
  },
  {
   "cell_type": "code",
   "execution_count": 2,
   "metadata": {},
   "outputs": [],
   "source": [
    "@pyimport parameters_julia\n",
    "@pyimport utils_julia\n",
    "@pyimport GLS_julia"
   ]
  },
  {
   "cell_type": "code",
   "execution_count": 4,
   "metadata": {},
   "outputs": [
    {
     "data": {
      "text/plain": [
       "24×21 Array{Float64,2}:\n",
       " 2457.32  2963.21  2865.32  2712.24  …  2283.9   2112.98  3176.2   1481.07\n",
       " 1754.55  2027.93  1857.32  2480.48     1733.52  2301.19  1775.89  2360.47\n",
       " 1536.14  1248.32  1522.17  1576.1      1226.37  1553.57  1373.53  1674.66\n",
       " 3644.99  5777.29  2825.64  6943.2      3974.39  3350.73  2518.98  2308.13\n",
       " 1438.08  2306.29  2457.99  3306.66     1986.73  1936.78  2322.32  2095.33\n",
       " 2546.51  2162.25  2438.16  1905.44  …  1714.21  2283.48  2244.97  1993.12\n",
       " 2031.57  1934.49  1855.14  4099.63     1541.83  3473.59  1558.5   1706.42\n",
       " 3271.06  6013.17  6513.84  6972.52     6883.16  6813.33  6237.52  5874.97\n",
       " 4820.06  7091.25  5241.35  6776.56     6230.99  6931.26  6027.08  6549.82\n",
       " 1299.84  1561.95  1300.45  1249.53     1183.06  1087.46  1298.76  1140.65\n",
       " 1820.8   1742.34  1806.53  1792.1   …  1672.59  2142.67  1447.7   2533.75\n",
       " 1494.86  1333.68  1645.49  1523.98     1289.5   3770.6   1235.53  1346.45\n",
       " 3575.93  3645.11  4399.74  5987.78     5565.21  6531.33  3948.94  4149.07\n",
       " 1946.16  3475.19  2147.81  4386.7      1845.59  2313.13  4537.27  2267.11\n",
       " 2118.84  4468.39  3884.44  4201.18     5101.62  3467.4   3738.67  3392.91\n",
       " 2467.4   2113.38  1967.52  2535.08  …  2387.66  2509.94  2271.53  2043.83\n",
       " 3262.54  3925.07  4021.77  3733.92     4791.88  4383.12  4300.01  3061.89\n",
       " 4690.49  4816.52  4893.18  5313.59     4364.8   5008.18  5264.25  3430.48\n",
       " 3609.34  4660.05  5488.26  5702.73     5731.97  6044.02  4490.74  4268.99\n",
       " 1604.44  1696.88  1271.75  1859.17     1243.79  1611.46  1486.57  1389.0 \n",
       " 3333.11  4321.49  4647.17  6686.04  …  5089.86  5303.81  6519.2   5290.58\n",
       " 4531.42  4878.61  5464.26  5670.8      4451.69  5928.58  5877.59  3994.74\n",
       " 1035.67  1776.26  1279.19  1456.98     1028.27  1551.99  1199.79  1194.77\n",
       " 2217.48  4445.91  3522.38  2280.84     2183.41  2424.95  2770.48  2333.92"
      ]
     },
     "execution_count": 4,
     "metadata": {},
     "output_type": "execute_result"
    }
   ],
   "source": [
    "flow_user  = GLS_julia.x_;"
   ]
  },
  {
   "cell_type": "code",
   "execution_count": 21,
   "metadata": {},
   "outputs": [
    {
     "data": {
      "text/plain": [
       "socialObj (generic function with 1 method)"
      ]
     },
     "execution_count": 21,
     "metadata": {},
     "output_type": "execute_result"
    }
   ],
   "source": [
    "function socialObj(linkFlowVec)\n",
    "    objVal = sum([free_flow_time[a] * fcoeffs[1] * linkFlowVec[a] + \n",
    "                    free_flow_time[a] * fcoeffs[2] * linkFlowVec[a]^2 / capacity[a] + \n",
    "                    free_flow_time[a] * fcoeffs[3] * linkFlowVec[a]^3 / capacity[a]^2 + \n",
    "                    free_flow_time[a] * fcoeffs[4] * linkFlowVec[a]^4 / capacity[a]^3 + \n",
    "                    free_flow_time[a] * fcoeffs[5] * linkFlowVec[a]^5 / capacity[a]^4 + \n",
    "                    free_flow_time[a] * fcoeffs[6] * linkFlowVec[a]^6 / capacity[a]^5 + \n",
    "                    free_flow_time[a] * fcoeffs[7] * linkFlowVec[a]^7 / capacity[a]^6 + \n",
    "                    free_flow_time[a] * fcoeffs[8] * linkFlowVec[a]^8 / capacity[a]^7 for a = 1:numLinks])\n",
    "    return objVal\n",
    "end"
   ]
  },
  {
   "cell_type": "code",
   "execution_count": 22,
   "metadata": {},
   "outputs": [
    {
     "name": "stdout",
     "output_type": "stream",
     "text": [
      "0.9202809969861866\n",
      "1.1608875140095862\n",
      "1.1170927463313531\n",
      "1.3186757255844384\n",
      "0.999514205714323\n",
      "0.8822882377676936\n",
      "0.9517849823861593\n",
      "1.0880806772618636\n",
      "1.3985116162400246\n",
      "1.1270535536715798\n",
      "0.7929163126008991\n",
      "1.0849337460811361\n",
      "1.248760863577379\n",
      "1.194525039641443\n",
      "1.0688358306499466\n",
      "0.8919042552706461\n",
      "1.0211110608729577\n",
      "1.0814853396841073\n",
      "1.2392548303094395\n",
      "1.1334626797796274\n",
      "1.0201821337189578\n"
     ]
    }
   ],
   "source": [
    "week_day_Apr_list = 2, 3, 4, 5, 6, 9, 10, 11, 12, 13, 16, 17, 18, 19, 20, 23, 24, 25, 26, 27, 30\n",
    "for i = 1:length(week_day_Apr_list)\n",
    "    println(socialObj(flow_user[:, i])/getobjectivevalue(m))\n",
    "end"
   ]
  },
  {
   "cell_type": "code",
   "execution_count": null,
   "metadata": {},
   "outputs": [],
   "source": []
  }
 ],
 "metadata": {
  "kernelspec": {
   "display_name": "Julia 0.6.4",
   "language": "julia",
   "name": "julia-0.6"
  },
  "language_info": {
   "file_extension": ".jl",
   "mimetype": "application/julia",
   "name": "julia",
   "version": "0.6.4"
  }
 },
 "nbformat": 4,
 "nbformat_minor": 2
}
