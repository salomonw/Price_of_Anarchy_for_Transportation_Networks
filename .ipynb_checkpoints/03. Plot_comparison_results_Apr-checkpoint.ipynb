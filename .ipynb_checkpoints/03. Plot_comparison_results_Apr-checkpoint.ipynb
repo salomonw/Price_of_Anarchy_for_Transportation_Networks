{
 "cells": [
  {
   "cell_type": "code",
   "execution_count": null,
   "metadata": {},
   "outputs": [],
   "source": []
  },
  {
   "cell_type": "code",
   "execution_count": null,
   "metadata": {},
   "outputs": [],
   "source": []
  },
  {
   "cell_type": "code",
   "execution_count": 8,
   "metadata": {},
   "outputs": [
    {
     "ename": "LoadError",
     "evalue": "\u001b[91mKeyError: key \"(7, 2.5, 100.0, 1)\" not found\u001b[39m",
     "output_type": "error",
     "traceback": [
      "\u001b[91mKeyError: key \"(7, 2.5, 100.0, 1)\" not found\u001b[39m",
      "",
      "Stacktrace:",
      " [1] \u001b[1mgetindex\u001b[22m\u001b[22m\u001b[1m(\u001b[22m\u001b[22m::Dict{String,Any}, ::String\u001b[1m)\u001b[22m\u001b[22m at \u001b[1m.\\dict.jl:474\u001b[22m\u001b[22m"
     ]
    }
   ],
   "source": [
    "polyEval(coeffs, pt) = sum([coeffs[i] * pt^(i-1) for i = 1:length(coeffs)])  \n",
    "\n",
    "#Importing parameters\n",
    "using PyCall\n",
    "unshift!(PyVector(pyimport(\"sys\")[\"path\"]), \"\");\n",
    "@pyimport parameters_julia\n",
    "\n",
    "out_dir = parameters_julia.out_dir\n",
    "files_ID = parameters_julia.files_ID\n",
    "month_w = parameters_julia.month_w\n",
    "year = parameters_julia.year\n",
    "instances = parameters_julia.instances_ID\n",
    "\n",
    "\n",
    "key = \"(7, 1.5, 100.0, 1)\"\n",
    "\n",
    "cross_validation_best_key_Apr_AM = key\n",
    "cross_validation_best_key_Apr_MD = key\n",
    "cross_validation_best_key_Apr_PM = key\n",
    "cross_validation_best_key_Apr_NT = key\n",
    "\n",
    "\n",
    "coeffs_dict_Apr_AM = readstring( out_dir * \"coeffs_dict_\"* month_w * \"_\" * instances[1] * \".json\")\n",
    "coeffs_dict_Apr_AM = JSON.parse(coeffs_dict_Apr_AM)\n",
    "\n",
    "coeffs_dict_Apr_MD = readstring( out_dir * \"coeffs_dict_\"* month_w * \"_\" * instances[2] * \".json\")\n",
    "coeffs_dict_Apr_MD = JSON.parse(coeffs_dict_Apr_MD)\n",
    "\n",
    "coeffs_dict_Apr_PM = readstring( out_dir * \"coeffs_dict_\"* month_w * \"_\" * instances[3] * \".json\")\n",
    "coeffs_dict_Apr_PM = JSON.parse(coeffs_dict_Apr_PM)\n",
    "\n",
    "coeffs_dict_Apr_NT = readstring( out_dir  * \"coeffs_dict_\"* month_w * \"_\" * instances[4] * \".json\")\n",
    "coeffs_dict_Apr_NT = JSON.parse(coeffs_dict_Apr_NT)\n",
    "\n",
    "#coeffs_dict_Apr_weekend = readall(\"../temp_files/coeffs_dict_Apr_weekend.json\")\n",
    "#coeffs_dict_Apr_weekend = JSON.parse(coeffs_dict_Apr_weekend)\n",
    "\n",
    "\n",
    "coeffs_best_Apr_AM = coeffs_dict_Apr_AM[cross_validation_best_key_Apr_AM]\n",
    "coeffs_best_Apr_MD = coeffs_dict_Apr_MD[cross_validation_best_key_Apr_MD]\n",
    "coeffs_best_Apr_PM = coeffs_dict_Apr_PM[cross_validation_best_key_Apr_PM]\n",
    "coeffs_best_Apr_NT = coeffs_dict_Apr_NT[cross_validation_best_key_Apr_NT]\n",
    "#coeffs_best_Apr_weekend = coeffs_dict_Apr_weekend[cross_validation_best_key_Apr_weekend]\n",
    "\n",
    "\n",
    "using PyPlot\n",
    "\n",
    "xs = linspace(0, 1.5, 20)\n",
    "\n",
    "#true_coeffs = [1, 0, 0, 0, .15]\n",
    "#ys_true = map(x->polyEval(true_coeffs, x), xs)\n",
    "#plot(xs, ys_true, \"k\", label=\"True\")\n",
    "\n",
    "ys_Apr_AM = map(x->polyEval(coeffs_best_Apr_AM, x), xs)\n",
    "ys_Apr_MD = map(x->polyEval(coeffs_best_Apr_MD, x), xs)\n",
    "ys_Apr_PM = map(x->polyEval(coeffs_best_Apr_PM, x), xs)\n",
    "ys_Apr_NT = map(x->polyEval(coeffs_best_Apr_NT, x), xs)\n",
    "#ys_Apr_weekend = map(x->polyEval(coeffs_best_Apr_weekend, x), xs)\n",
    "\n",
    "plot(xs, ys_Apr_AM, \">-r\", label=\"AM Peak\", linewidth=1.5)\n",
    "plot(xs, ys_Apr_MD, \"s-c\", label=\"Middle Day\", linewidth=1.5)\n",
    "plot(xs, ys_Apr_PM, \"<-b\", label=\"PM Peak\", linewidth=1.5)\n",
    "plot(xs, ys_Apr_NT, \"^-m\", label=\"Night\", linewidth=1.5)\n",
    "#plot(xs, ys_Apr_weekend, \"v-g\", label=\"Weekend\", linewidth=1.5)\n",
    "\n",
    "legend(loc=\"upper left\") \n",
    "\n",
    "grid(\"on\")\n",
    "#=\n",
    "xlim(-0.1, 1.25);\n",
    "ylim(0.98, 1.5);\n",
    "\n",
    "font1 = [\"family\"=>\"serif\",\n",
    "    \"color\"=>\"black\",\n",
    "    \"weight\"=>\"normal\",\n",
    "    \"size\"=>12]\n",
    "xlabel(\"Scaled Flow\", fontdict=font1)\n",
    "ylabel(\"Scaled Cost\", fontdict=font1)\n",
    "=#\n",
    "savefig(out_dir * \"fitting_comparison_\"* month_w * \".pdf\")"
   ]
  },
  {
   "cell_type": "code",
   "execution_count": 4,
   "metadata": {},
   "outputs": [
    {
     "data": {
      "text/plain": [
       "8-element Array{Any,1}:\n",
       "  1.0        \n",
       "  0.0414166  \n",
       " -0.0239569  \n",
       " -0.00787654 \n",
       "  0.00345957 \n",
       "  0.00211634 \n",
       "  0.000422631\n",
       "  2.15832e-5 "
      ]
     },
     "execution_count": 4,
     "metadata": {},
     "output_type": "execute_result"
    }
   ],
   "source": [
    "coeffs_best_Apr_PM"
   ]
  },
  {
   "cell_type": "code",
   "execution_count": null,
   "metadata": {},
   "outputs": [],
   "source": []
  },
  {
   "cell_type": "code",
   "execution_count": null,
   "metadata": {},
   "outputs": [],
   "source": []
  },
  {
   "cell_type": "code",
   "execution_count": null,
   "metadata": {},
   "outputs": [],
   "source": []
  },
  {
   "cell_type": "code",
   "execution_count": null,
   "metadata": {},
   "outputs": [],
   "source": []
  },
  {
   "cell_type": "code",
   "execution_count": null,
   "metadata": {},
   "outputs": [],
   "source": []
  },
  {
   "cell_type": "code",
   "execution_count": null,
   "metadata": {},
   "outputs": [],
   "source": []
  },
  {
   "cell_type": "code",
   "execution_count": null,
   "metadata": {},
   "outputs": [],
   "source": []
  }
 ],
 "metadata": {
  "kernelspec": {
   "display_name": "Julia 0.6.4",
   "language": "julia",
   "name": "julia-0.6"
  },
  "language_info": {
   "file_extension": ".jl",
   "mimetype": "application/julia",
   "name": "julia",
   "version": "0.6.4"
  }
 },
 "nbformat": 4,
 "nbformat_minor": 1
}
