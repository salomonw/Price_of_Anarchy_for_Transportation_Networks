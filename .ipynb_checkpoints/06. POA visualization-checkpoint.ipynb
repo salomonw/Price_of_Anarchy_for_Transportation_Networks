{
 "cells": [
  {
   "cell_type": "code",
   "execution_count": 9,
   "metadata": {},
   "outputs": [
    {
     "ename": "LoadError",
     "evalue": "\u001b[91mKeyError: key 24 not found\u001b[39m",
     "output_type": "error",
     "traceback": [
      "\u001b[91mKeyError: key 24 not found\u001b[39m",
      "",
      "Stacktrace:",
      " [1] \u001b[1mgetindex\u001b[22m\u001b[22m\u001b[1m(\u001b[22m\u001b[22m::Dict{Any,Any}, ::Int64\u001b[1m)\u001b[22m\u001b[22m at \u001b[1m.\\dict.jl:474\u001b[22m\u001b[22m",
      " [2] \u001b[1mcollect_to!\u001b[22m\u001b[22m\u001b[1m(\u001b[22m\u001b[22m::Array{Float64,1}, ::Base.Generator{Array{Int64,1},##7#8}, ::Int64, ::Int64\u001b[1m)\u001b[22m\u001b[22m at \u001b[1m.\\array.jl:503\u001b[22m\u001b[22m",
      " [3] \u001b[1m_collect\u001b[22m\u001b[22m\u001b[1m(\u001b[22m\u001b[22m::Array{Int64,1}, ::Base.Generator{Array{Int64,1},##7#8}, ::Base.EltypeUnknown, ::Base.HasShape\u001b[1m)\u001b[22m\u001b[22m at \u001b[1m.\\array.jl:484\u001b[22m\u001b[22m",
      " [4] \u001b[1mmap\u001b[22m\u001b[22m\u001b[1m(\u001b[22m\u001b[22m::Function, ::Array{Int64,1}\u001b[1m)\u001b[22m\u001b[22m at \u001b[1m.\\abstractarray.jl:1868\u001b[22m\u001b[22m"
     ]
    }
   ],
   "source": [
    "using JSON\n",
    "using PyCall\n",
    "unshift!(PyVector(pyimport(\"sys\")[\"path\"]), \"\");\n",
    "@pyimport parameters_julia\n",
    "\n",
    "out_dir = parameters_julia.out_dir\n",
    "month_w = parameters_julia.month_w\n",
    "files_ID = parameters_julia.files_ID\n",
    "\n",
    "instance = \"AM\"\n",
    "key = \"(5, 1.5, 1000.0, 1)\"\n",
    "\n",
    "poaDict = readstring(out_dir * \"PoA_Dict_\" * month_w * \"_\" *instance * \".json\");\n",
    "poaDict = JSON.parse(poaDict);\n",
    "\n",
    "poaDict_ = Dict{}()\n",
    "\n",
    "for key in keys(poaDict)\n",
    "    poaDict_[parse(Int, key)] = poaDict[key]\n",
    "end\n",
    "\n",
    "\n",
    "using PyPlot\n",
    "\n",
    "week_day_Apr_list = parameters_julia.week_day_list\n",
    "days = length(week_day_Apr_list)\n",
    "day = 1:days\n",
    "\n",
    "poa = map(day->poaDict_[day], week_day_Apr_list)\n",
    "\n",
    "# plot(iterNum, objFun, \"s-g\", label=\"True\")\n",
    "\n",
    "fig = figure(figsize=(7,2))\n",
    "\n",
    "plot(day, poa, \"o-r\", linewidth=1, markerfacecolor=\"None\", markeredgecolor=\"r\", markeredgewidth=1)\n",
    "\n",
    "# legend(loc=\"upper right\",fancybox=\"true\") \n",
    "\n",
    "# grid(\"on\")\n",
    "\n",
    "xlim(0, days+1)\n",
    "xticks(1:1:days)\n",
    "yticks(-0.2:0.2:2.4)\n",
    "ylim(minimum(poa)-.08, maximum(poa)+.08)\n",
    "\n",
    "font1 = Dict(\"family\"=>\"serif\", \"color\"=>\"k\", \"weight\"=>\"normal\", \"size\"=>14)\n",
    "\n",
    "xlabel(\"day of Apr. 2012 (PM period)\", fontdict=font1)\n",
    "ylabel(\"PoA\", fontdict=font1)\n",
    "\n",
    "# savefig(\"./results/POA_Apr_ext.pdf\", dpi=300, bbox_inches=\"tight\")\n",
    "\n",
    "dire = out_dir\n",
    "\n",
    "savefig(dire * \"POA_Apr_ext.pdf\", dpi=300, bbox_inches=\"tight\")\n"
   ]
  },
  {
   "cell_type": "code",
   "execution_count": null,
   "metadata": {},
   "outputs": [],
   "source": []
  }
 ],
 "metadata": {
  "kernelspec": {
   "display_name": "Julia 0.6.4",
   "language": "julia",
   "name": "julia-0.6"
  },
  "language_info": {
   "file_extension": ".jl",
   "mimetype": "application/julia",
   "name": "julia",
   "version": "0.6.4"
  }
 },
 "nbformat": 4,
 "nbformat_minor": 2
}
