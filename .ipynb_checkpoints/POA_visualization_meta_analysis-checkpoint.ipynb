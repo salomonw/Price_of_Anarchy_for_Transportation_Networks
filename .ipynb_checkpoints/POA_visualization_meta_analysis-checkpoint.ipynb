{
 "cells": [
  {
   "cell_type": "code",
   "execution_count": 49,
   "metadata": {},
   "outputs": [],
   "source": [
    "out_dir = \"../results/\"\n",
    "files_ID =\"_cdc_all_comp_apr_2012\"\n",
    "month_w = \"Apr\"\n",
    "year = 2012\n",
    "instances_ = \"AM\", \"MD\", \"PM\", \"NT\"\n",
    "\n",
    "instance_ = instances_[3];"
   ]
  },
  {
   "cell_type": "code",
   "execution_count": 50,
   "metadata": {},
   "outputs": [],
   "source": [
    "#using JSON\n",
    "using PyCall\n",
    "unshift!(PyVector(pyimport(\"sys\")[\"path\"]), \"\");\n",
    "@pyimport matplotlib.pyplot as plt\n",
    "@pyimport numpy as np\n",
    "@pyimport json\n",
    "@pyimport os\n",
    "@pyimport pickle\n",
    "@pyimport pandas as pd\n",
    "@pyimport collections\n",
    "@pyimport utils_julia\n",
    "@pyimport parameters_julia"
   ]
  },
  {
   "cell_type": "code",
   "execution_count": 51,
   "metadata": {},
   "outputs": [],
   "source": [
    "using PyCall\n",
    "unshift!(PyVector(pyimport(\"sys\")[\"path\"]), \"\");\n",
    "@pyimport parameters_julia\n",
    "@pyimport utils_julia\n",
    "@pyimport GLS_julia\n",
    "@pyimport Compute_Jacobian"
   ]
  },
  {
   "cell_type": "code",
   "execution_count": 52,
   "metadata": {},
   "outputs": [],
   "source": [
    "unshift!(PyVector(pyimport(\"sys\")[\"path\"]), \"\");\n",
    "numNodesnumNode  = Compute_Jacobian.numNodes;\n",
    "numLinks = Compute_Jacobian.numLinks;\n",
    "numODpairs = Compute_Jacobian.numODpairs;\n",
    "numZones = Compute_Jacobian.numZones\n",
    "od_pairs = Compute_Jacobian.od_pairs;\n",
    "link_list_js = Compute_Jacobian.link_list_js;\n",
    "link_length_list = Compute_Jacobian.link_length_list;"
   ]
  },
  {
   "cell_type": "code",
   "execution_count": 53,
   "metadata": {},
   "outputs": [
    {
     "ename": "LoadError",
     "evalue": "LoadError: \u001b[91mSystemError: opening file ../temp_files/link_label_dict_MA_journal.json: No such file or directory\u001b[39m\nwhile loading G:\\My Drive\\Github\\PoA\\Price_of_Anarchy_for_Transportation_Networks\\extract_data.jl, in expression starting on line 12",
     "output_type": "error",
     "traceback": [
      "LoadError: \u001b[91mSystemError: opening file ../temp_files/link_label_dict_MA_journal.json: No such file or directory\u001b[39m\nwhile loading G:\\My Drive\\Github\\PoA\\Price_of_Anarchy_for_Transportation_Networks\\extract_data.jl, in expression starting on line 12",
      "",
      "Stacktrace:",
      " [1] \u001b[1m#systemerror#44\u001b[22m\u001b[22m at \u001b[1m.\\error.jl:64\u001b[22m\u001b[22m [inlined]",
      " [2] \u001b[1msystemerror\u001b[22m\u001b[22m\u001b[1m(\u001b[22m\u001b[22m::String, ::Bool\u001b[1m)\u001b[22m\u001b[22m at \u001b[1m.\\error.jl:64\u001b[22m\u001b[22m",
      " [3] \u001b[1mopen\u001b[22m\u001b[22m\u001b[1m(\u001b[22m\u001b[22m::String, ::Bool, ::Bool, ::Bool, ::Bool, ::Bool\u001b[1m)\u001b[22m\u001b[22m at \u001b[1m.\\iostream.jl:104\u001b[22m\u001b[22m",
      " [4] \u001b[1mopen\u001b[22m\u001b[22m\u001b[1m(\u001b[22m\u001b[22m::Base.#readstring, ::String\u001b[1m)\u001b[22m\u001b[22m at \u001b[1m.\\iostream.jl:150\u001b[22m\u001b[22m",
      " [5] \u001b[1mfurInfo\u001b[22m\u001b[22m\u001b[1m(\u001b[22m\u001b[22m\u001b[1m)\u001b[22m\u001b[22m at \u001b[1mG:\\My Drive\\Github\\PoA\\Price_of_Anarchy_for_Transportation_Networks\\prepare_data.jl:176\u001b[22m\u001b[22m",
      " [6] \u001b[1minclude_from_node1\u001b[22m\u001b[22m\u001b[1m(\u001b[22m\u001b[22m::String\u001b[1m)\u001b[22m\u001b[22m at \u001b[1m.\\loading.jl:576\u001b[22m\u001b[22m",
      " [7] \u001b[1minclude\u001b[22m\u001b[22m\u001b[1m(\u001b[22m\u001b[22m::String\u001b[1m)\u001b[22m\u001b[22m at \u001b[1m.\\sysimg.jl:14\u001b[22m\u001b[22m"
     ]
    }
   ],
   "source": [
    "unshift!(PyVector(pyimport(\"sys\")[\"path\"]), \"\");\n",
    "include(\"Julia_files/initia_data.jl\");\n",
    "include(\"prepare_data.jl\");\n",
    "include(\"extract_data.jl\");\n",
    "include(\"extract_data_Apr_weekend_MA_journal.jl\");"
   ]
  },
  {
   "cell_type": "code",
   "execution_count": null,
   "metadata": {},
   "outputs": [],
   "source": []
  }
 ],
 "metadata": {
  "kernelspec": {
   "display_name": "Julia 0.6.4",
   "language": "julia",
   "name": "julia-0.6"
  },
  "language_info": {
   "file_extension": ".jl",
   "mimetype": "application/julia",
   "name": "julia",
   "version": "0.6.4"
  }
 },
 "nbformat": 4,
 "nbformat_minor": 2
}
