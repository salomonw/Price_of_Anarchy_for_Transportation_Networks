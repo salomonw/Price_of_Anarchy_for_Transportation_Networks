{
 "cells": [
  {
   "cell_type": "code",
   "execution_count": null,
   "metadata": {},
   "outputs": [],
   "source": [
    "## Load Observed Link Flows"
   ]
  },
  {
   "cell_type": "code",
   "execution_count": 7,
   "metadata": {},
   "outputs": [],
   "source": [
    "out_dir = \"../results/\"\n",
    "files_ID =\"_cdc_all_comp_apr_2012\"\n",
    "month_w = \"Apr\"\n",
    "year = 2012\n",
    "instances_ = \"AM\", \"MD\", \"PM\", \"NT\"\n",
    "\n",
    "instance_ = instances_[3];"
   ]
  },
  {
   "cell_type": "code",
   "execution_count": 8,
   "metadata": {},
   "outputs": [],
   "source": [
    "#using JSON\n",
    "using PyCall\n",
    "unshift!(PyVector(pyimport(\"sys\")[\"path\"]), \"\");\n",
    "@pyimport matplotlib.pyplot as plt\n",
    "@pyimport numpy as np\n",
    "@pyimport json\n",
    "@pyimport os\n",
    "@pyimport pickle\n",
    "@pyimport pandas as pd\n",
    "@pyimport collections\n",
    "@pyimport utils_julia\n",
    "@pyimport parameters_julia"
   ]
  },
  {
   "cell_type": "code",
   "execution_count": 12,
   "metadata": {},
   "outputs": [],
   "source": [
    "using PyCall\n",
    "unshift!(PyVector(pyimport(\"sys\")[\"path\"]), \"\");\n",
    "@pyimport parameters_julia\n",
    "@pyimport utils_julia\n",
    "@pyimport GLS_julia\n",
    "@pyimport Compute_Jacobian"
   ]
  },
  {
   "cell_type": "code",
   "execution_count": 13,
   "metadata": {},
   "outputs": [],
   "source": [
    "unshift!(PyVector(pyimport(\"sys\")[\"path\"]), \"\");\n",
    "numNode  = Compute_Jacobian.numNodes;\n",
    "numLinks = Compute_Jacobian.numLinks;\n",
    "numODpairs = Compute_Jacobian.numODpairs;\n",
    "numZones = Compute_Jacobian.numZones\n",
    "od_pairs = Compute_Jacobian.od_pairs;\n",
    "link_list_js = Compute_Jacobian.link_list_js;\n",
    "link_length_list = Compute_Jacobian.link_length_list;"
   ]
  },
  {
   "cell_type": "code",
   "execution_count": 17,
   "metadata": {},
   "outputs": [],
   "source": [
    "unshift!(PyVector(pyimport(\"sys\")[\"path\"]), \"\");\n",
    "include(\"Julia_files/initia_data.jl\");\n",
    "include(\"prepare_data.jl\");\n",
    "include(\"extract_data.jl\");"
   ]
  },
  {
   "cell_type": "code",
   "execution_count": 18,
   "metadata": {},
   "outputs": [
    {
     "data": {
      "text/plain": [
       "24×21 Array{Float64,2}:\n",
       " 2457.32  2963.21  2865.32  2712.24  …  2283.9   2112.98  3176.2   1481.07\n",
       " 1754.55  2027.93  1857.32  2480.48     1733.52  2301.19  1775.89  2360.47\n",
       " 1536.14  1248.32  1522.17  1576.1      1226.37  1553.57  1373.53  1674.66\n",
       " 3644.99  5777.29  2825.64  6943.2      3974.39  3350.73  2518.98  2308.13\n",
       " 1438.08  2306.29  2457.99  3306.66     1986.73  1936.78  2322.32  2095.33\n",
       " 2546.51  2162.25  2438.16  1905.44  …  1714.21  2283.48  2244.97  1993.12\n",
       " 2031.57  1934.49  1855.14  4099.63     1541.83  3473.59  1558.5   1706.42\n",
       " 3271.06  6013.17  6513.84  6972.52     6883.16  6813.33  6237.52  5874.97\n",
       " 4820.06  7091.25  5241.35  6776.56     6230.99  6931.26  6027.08  6549.82\n",
       " 1299.84  1561.95  1300.45  1249.53     1183.06  1087.46  1298.76  1140.65\n",
       " 1820.8   1742.34  1806.53  1792.1   …  1672.59  2142.67  1447.7   2533.75\n",
       " 1494.86  1333.68  1645.49  1523.98     1289.5   3770.6   1235.53  1346.45\n",
       " 3575.93  3645.11  4399.74  5987.78     5565.21  6531.33  3948.94  4149.07\n",
       " 1946.16  3475.19  2147.81  4386.7      1845.59  2313.13  4537.27  2267.11\n",
       " 2118.84  4468.39  3884.44  4201.18     5101.62  3467.4   3738.67  3392.91\n",
       " 2467.4   2113.38  1967.52  2535.08  …  2387.66  2509.94  2271.53  2043.83\n",
       " 3262.54  3925.07  4021.77  3733.92     4791.88  4383.12  4300.01  3061.89\n",
       " 4690.49  4816.52  4893.18  5313.59     4364.8   5008.18  5264.25  3430.48\n",
       " 3609.34  4660.05  5488.26  5702.73     5731.97  6044.02  4490.74  4268.99\n",
       " 1604.44  1696.88  1271.75  1859.17     1243.79  1611.46  1486.57  1389.0 \n",
       " 3333.11  4321.49  4647.17  6686.04  …  5089.86  5303.81  6519.2   5290.58\n",
       " 4531.42  4878.61  5464.26  5670.8      4451.69  5928.58  5877.59  3994.74\n",
       " 1035.67  1776.26  1279.19  1456.98     1028.27  1551.99  1199.79  1194.77\n",
       " 2217.48  4445.91  3522.38  2280.84     2183.41  2424.95  2770.48  2333.92"
      ]
     },
     "execution_count": 18,
     "metadata": {},
     "output_type": "execute_result"
    }
   ],
   "source": [
    "flow_observflow_ob  = GLS_julia.x_"
   ]
  },
  {
   "cell_type": "code",
   "execution_count": 19,
   "metadata": {},
   "outputs": [],
   "source": [
    "## Load pre-calculated socially optimal link flows"
   ]
  },
  {
   "cell_type": "code",
   "execution_count": null,
   "metadata": {},
   "outputs": [],
   "source": [
    "tapSocialFlowVecDictAprPM = readstring(\"../temp_files/tapSocialFlowVecDict_Apr_PM_journal.json\");\n",
    "tapSocialFlowVecDictAprPM = JSON.parse(tapSocialFlowVecDictAprPM);"
   ]
  }
 ],
 "metadata": {
  "kernelspec": {
   "display_name": "Julia 0.6.4",
   "language": "julia",
   "name": "julia-0.6"
  },
  "language_info": {
   "file_extension": ".jl",
   "mimetype": "application/julia",
   "name": "julia",
   "version": "0.6.4"
  }
 },
 "nbformat": 4,
 "nbformat_minor": 2
}
