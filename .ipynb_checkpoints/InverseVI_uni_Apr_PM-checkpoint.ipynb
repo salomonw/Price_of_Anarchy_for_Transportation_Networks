{
 "cells": [
  {
   "cell_type": "code",
   "execution_count": null,
   "metadata": {},
   "outputs": [],
   "source": [
    "\n"
   ]
  },
  {
   "cell_type": "code",
   "execution_count": 28,
   "metadata": {},
   "outputs": [
    {
     "data": {
      "text/plain": [
       "4"
      ]
     },
     "execution_count": 28,
     "metadata": {},
     "output_type": "execute_result"
    }
   ],
   "source": [
    "file_path = \"../results/_cdc_all_comp_apr_2012/OD_demand_matrix_Apr_weekday_PM_cdc_all_comp_apr_2012.txt\"\n",
    "n_nodes = 8\n",
    "\n",
    "# week_day_Apr_list = [2, 3, 4, 5, 6, 9, 10, 11, 12, 13, 16, 17, 18, 19, 20, 23, 24, 25, 26, 27, 30]\n",
    "# training set 1\n",
    "week_day_Apr_list_1 = [2, 3, 4, 5, 6, 9, 10, 11, 12, 13, 16, 17, 18, 19]\n",
    "# training set 2\n",
    "week_day_Apr_list_2 = [2, 3, 4, 5, 6, 9, 10, 20, 23, 24, 25, 26, 27, 30]\n",
    "# training set 3\n",
    "week_day_Apr_list_3 = [11, 12, 13, 16, 17, 18, 19, 20, 23, 24, 25, 26, 27, 30]\n",
    "\n",
    "month = 4\n",
    "\n",
    "year = 2012"
   ]
  },
  {
   "cell_type": "code",
   "execution_count": 3,
   "metadata": {},
   "outputs": [
    {
     "data": {
      "text/plain": [
       "Arc"
      ]
     },
     "execution_count": 3,
     "metadata": {},
     "output_type": "execute_result"
    }
   ],
   "source": [
    "#include(\"defArc.jl\")\n",
    "\n",
    "type Arc\n",
    "    initNode::Int \n",
    "    termNode::Int \n",
    "    capacity::Float64\n",
    "    freeflowtime::Float64\n",
    "    flow::Float64\n",
    "end\n",
    "\n",
    "Arc(initNode::Int, termNode::Int, capacity::Float64, freeflowtime::Float64) = \n",
    "    Arc(initNode, termNode, capacity, freeflowtime, 0.)"
   ]
  },
  {
   "cell_type": "code",
   "execution_count": 4,
   "metadata": {},
   "outputs": [
    {
     "data": {
      "text/plain": [
       "bpacost (generic function with 3 methods)"
      ]
     },
     "execution_count": 4,
     "metadata": {},
     "output_type": "execute_result"
    }
   ],
   "source": [
    "#include(\"fitTraffic.jl\")\n",
    "\n",
    "## Solve an inverse tarffic problem over polynomials \n",
    "## of degree at most d\n",
    "## optionally use a regularizer from the poly kernel\n",
    "\n",
    "using JuMP\n",
    "using Gurobi\n",
    "\n",
    "\n",
    "polyEval(coeffs, pt) = sum([coeffs[i] * pt^(i-1) for i = 1:length(coeffs)])  \n",
    "\n",
    "polyEval(coeffs::Array{Float64, 1}, pt) = sum([coeffs[i] * pt^(i-1) for i = 1:length(coeffs)]) \n",
    "\n",
    "bpacost(flow::Float64, capacity::Float64, freeflowtime::Float64) = freeflowtime*(1 + .15 * (flow/capacity)^4)\n",
    "bpacost(flow::Float64, arc) = bpacost(flow, arc.capacity, arc.freeflowtime)\n",
    "bpacost(arc::Arc) = bpacost(arc.flow, arc)"
   ]
  },
  {
   "cell_type": "code",
   "execution_count": 5,
   "metadata": {},
   "outputs": [
    {
     "data": {
      "text/plain": [
       "setUpFitting (generic function with 1 method)"
      ]
     },
     "execution_count": 5,
     "metadata": {},
     "output_type": "execute_result"
    }
   ],
   "source": [
    "function setUpFitting(deg::Int, c::Float64)\n",
    "\n",
    "\tm = Model(solver=GurobiSolver(OutputFlag=false))\n",
    "    \n",
    "\t@variable(m, coeffs[1:deg+1])\n",
    "\t@variable(m, Calphas[1:deg+1])\n",
    "\n",
    "\t#build the graham matrix; cf. Ref. [21] (Regularization Networks and Support Vector Machines), page 47\n",
    "\tsamples = linspace(0, 1, deg + 1)\n",
    "\tk(x,y) = (c + x*y)^deg\n",
    "\tK = [ k(x,y) for x = samples, y=samples]\n",
    "\tK = convert(Array{Float64, 2}, K)\n",
    "\t#assert(rank(K) == deg+1)\n",
    "    \n",
    "\tC = chol(K + 1e-6* eye(deg+1))\n",
    "\tfor i=1:deg + 1\n",
    "\t\t@constraint(m, polyEval(coeffs, samples[i]) == sum(C[j, i] * Calphas[j], j=1:deg+1))\n",
    "\tend\n",
    "    \n",
    "\t@variable(m, reg_term >= 0)\n",
    "\treg_term_ = QuadExpr(Calphas[:], Calphas[:], ones(deg+1), AffExpr())\n",
    "    \n",
    "\t@constraint(m, reg_term >= reg_term_)\n",
    "    \n",
    "\treturn m, coeffs, reg_term\n",
    "\n",
    "end"
   ]
  },
  {
   "cell_type": "code",
   "execution_count": 6,
   "metadata": {},
   "outputs": [
    {
     "data": {
      "text/plain": [
       "fixCoeffs (generic function with 1 method)"
      ]
     },
     "execution_count": 6,
     "metadata": {},
     "output_type": "execute_result"
    }
   ],
   "source": [
    "function fixCoeffs(m, fcoeffs, coeffs)\n",
    "\tfor (fc, c) in zip(fcoeffs, coeffs[:])\n",
    "\t\t@constraint(m, fc == c)\n",
    "\tend\n",
    "end"
   ]
  },
  {
   "cell_type": "code",
   "execution_count": 7,
   "metadata": {},
   "outputs": [
    {
     "data": {
      "text/plain": [
       "addResid (generic function with 1 method)"
      ]
     },
     "execution_count": 7,
     "metadata": {},
     "output_type": "execute_result"
    }
   ],
   "source": [
    "function addResid(m, coeffs, ys, demands, arcs, scaling)\n",
    "\t@variable(m, resid)\n",
    "\t@variable(m, dual_cost)\n",
    "\t@variable(m, primal_cost)\n",
    "\n",
    "\t@constraint(m, dual_cost == sum{demands[(s,t)] * (ys[(s,t), t] - ys[(s,t), s]), (s,t)=keys(demands)})  \n",
    "\t@constraint(m, primal_cost == sum(a.flow * a.freeflowtime * polyEval(coeffs, a.flow/a.capacity), a=values(arcs)))\n",
    "\n",
    "\t@constraint(m, resid >= (dual_cost - primal_cost) / scaling )\n",
    "\t@constraint(m, resid >= (primal_cost - dual_cost) / scaling )\n",
    "\treturn resid\n",
    "end"
   ]
  },
  {
   "cell_type": "code",
   "execution_count": 8,
   "metadata": {},
   "outputs": [
    {
     "data": {
      "text/plain": [
       "addIncreasingCnsts (generic function with 1 method)"
      ]
     },
     "execution_count": 8,
     "metadata": {},
     "output_type": "execute_result"
    },
    {
     "name": "stderr",
     "output_type": "stream",
     "text": [
      "\u001b[1m\u001b[33mWARNING: \u001b[39m\u001b[22m\u001b[33mThe curly syntax (sum{},prod{},norm2{}) is deprecated in favor of the new generator syntax (sum(),prod(),norm()).\u001b[39m\n",
      "\u001b[1m\u001b[33mWARNING: \u001b[39m\u001b[22m\u001b[33mReplace sum{demands[(s, t)] * (ys[(s, t), t] - ys[(s, t), s]), (s, t) = keys(demands)} with sum(demands[(s, t)] * (ys[(s, t), t] - ys[(s, t), s]) for (s, t) = keys(demands)).\u001b[39m\n"
     ]
    }
   ],
   "source": [
    "function addIncreasingCnsts(m, coeffs, arcs; TOL=0.)\n",
    "\tsorted_flows = sort([a.flow / a.capacity for a in values(arcs)])\n",
    "\t@constraint(m, polyEval(coeffs, 0) <= polyEval(coeffs, sorted_flows[1]))\n",
    "\tfor i = 2:length(sorted_flows)\n",
    "\t\t@constraint(m, polyEval(coeffs, sorted_flows[i-1]) <= polyEval(coeffs, sorted_flows[i]) + TOL)\n",
    "\tend\n",
    "    @constraint(m, coeffs[1] == 1)  # enforce g(0) = 1\n",
    "end"
   ]
  },
  {
   "cell_type": "code",
   "execution_count": 9,
   "metadata": {},
   "outputs": [
    {
     "data": {
      "text/plain": [
       "normalize (generic function with 3 methods)"
      ]
     },
     "execution_count": 9,
     "metadata": {},
     "output_type": "execute_result"
    }
   ],
   "source": [
    "#equates the total cost of the network to the true total cost\n",
    "function normalize(m, coeffs, tot_true_cost::Float64, arcs)\n",
    "\t@constraint(m, \n",
    "\t\tsum(a.freeflowtime * a.flow * polyEval(coeffs, a.flow / a.capacity), a=values(arcs)) == tot_true_cost)\n",
    "end\n",
    "\n",
    "function normalize(m, coeffs, scaled_flow::Float64, cost::Float64)\n",
    "\t@constraint(m, polyEval(coeffs, scaled_flow) == cost)\n",
    "end\n",
    "\n",
    "function normalize(m, coeffs, scaled_flows::Array{Float64, 1}, avgCost::Float64)\n",
    "    @constraint(m, sum(polyEval(coeffs, f), f=scaled_flows) == avgCost * length(scaled_flows))\n",
    "end"
   ]
  },
  {
   "cell_type": "code",
   "execution_count": 10,
   "metadata": {},
   "outputs": [
    {
     "data": {
      "text/plain": [
       "addNetworkCnsts (generic function with 1 method)"
      ]
     },
     "execution_count": 10,
     "metadata": {},
     "output_type": "execute_result"
    }
   ],
   "source": [
    "function addNetworkCnsts(m, coeffs, demands, arcs, numNodes)\n",
    "\t@variable(m, ys[keys(demands), 1:numNodes])\n",
    "\tfor k = keys(arcs)\n",
    "\t\ta = arcs[k]\n",
    "\t\trhs = a.freeflowtime * polyEval(coeffs, a.flow/a.capacity)\n",
    "\t\tfor od in keys(demands)\n",
    "\t\t\t@constraint(m, ys[od, k[2]] - ys[od, k[1]] <= rhs)\n",
    "\t\tend\n",
    "\tend\n",
    "\treturn ys\n",
    "end"
   ]
  },
  {
   "cell_type": "code",
   "execution_count": 11,
   "metadata": {},
   "outputs": [],
   "source": [
    "############\n",
    "#Read in demand data\n",
    "file = open(file_path)\n",
    "demands = Dict()\n",
    "n = n_nodes  # number of nodes\n",
    "for i = 1:n\n",
    "    demands[(i,i)] = 0.0\n",
    "end\n",
    "for line in eachline(file)\n",
    "    OD_demand = split(line, \",\")\n",
    "    key, value = (parse(Int, OD_demand[1]), parse(Int, OD_demand[2])), parse(Float64, split(OD_demand[3], \"\\n\")[1])\n",
    "    demands[key] = value\n",
    "end\n",
    "close(file)"
   ]
  },
  {
   "cell_type": "code",
   "execution_count": 12,
   "metadata": {},
   "outputs": [
    {
     "data": {
      "text/plain": [
       "Dict{Any,Any} with 64 entries:\n",
       "  (3, 6) => 1623.86\n",
       "  (4, 4) => 0.0\n",
       "  (3, 1) => 962.706\n",
       "  (4, 5) => 1433.65\n",
       "  (2, 4) => 1379.43\n",
       "  (6, 5) => 1398.65\n",
       "  (8, 4) => 1713.19\n",
       "  (1, 2) => 4.0e-6\n",
       "  (5, 1) => 412.337\n",
       "  (3, 4) => 405.612\n",
       "  (8, 2) => 185.556\n",
       "  (2, 3) => 3.66299\n",
       "  (2, 6) => 3.62174\n",
       "  (5, 4) => 517.929\n",
       "  (2, 1) => 1599.84\n",
       "  (2, 5) => 2.94915\n",
       "  (8, 5) => 239.743\n",
       "  (1, 4) => 4.0e-6\n",
       "  (2, 8) => 3.9189\n",
       "  (5, 8) => 507.67\n",
       "  (4, 8) => 4791.21\n",
       "  (7, 8) => 1819.99\n",
       "  (1, 1) => 0.0\n",
       "  (7, 7) => 0.0\n",
       "  (5, 7) => 723.999\n",
       "  ⋮      => ⋮"
      ]
     },
     "execution_count": 12,
     "metadata": {},
     "output_type": "execute_result"
    }
   ],
   "source": [
    "demands"
   ]
  },
  {
   "cell_type": "code",
   "execution_count": 13,
   "metadata": {},
   "outputs": [
    {
     "data": {
      "text/plain": [
       "Dict{String,Any} with 2541 entries:\n",
       "  \"2012-04-11-08-19-00\" => Dict{String,Any}(Pair{String,Any}(\"(6, 5)\", 4183.6),…\n",
       "  \"2012-04-09-07-22-00\" => Dict{String,Any}(Pair{String,Any}(\"(6, 5)\", 1936.21)…\n",
       "  \"2012-04-27-08-10-00\" => Dict{String,Any}(Pair{String,Any}(\"(6, 5)\", 2454.08)…\n",
       "  \"2012-04-16-08-38-00\" => Dict{String,Any}(Pair{String,Any}(\"(6, 5)\", 2348.8),…\n",
       "  \"2012-04-16-08-27-00\" => Dict{String,Any}(Pair{String,Any}(\"(6, 5)\", 4113.79)…\n",
       "  \"2012-04-27-07-40-00\" => Dict{String,Any}(Pair{String,Any}(\"(6, 5)\", 2184.15)…\n",
       "  \"2012-04-16-08-32-00\" => Dict{String,Any}(Pair{String,Any}(\"(6, 5)\", 3411.47)…\n",
       "  \"2012-04-23-08-20-00\" => Dict{String,Any}(Pair{String,Any}(\"(6, 5)\", 4036.95)…\n",
       "  \"2012-04-30-07-57-00\" => Dict{String,Any}(Pair{String,Any}(\"(6, 5)\", 2289.75)…\n",
       "  \"2012-04-12-07-32-00\" => Dict{String,Any}(Pair{String,Any}(\"(6, 5)\", 2309.43)…\n",
       "  \"2012-04-20-08-53-00\" => Dict{String,Any}(Pair{String,Any}(\"(6, 5)\", 988.823)…\n",
       "  \"2012-04-19-08-33-00\" => Dict{String,Any}(Pair{String,Any}(\"(6, 5)\", 2003.94)…\n",
       "  \"2012-04-24-08-36-00\" => Dict{String,Any}(Pair{String,Any}(\"(6, 5)\", 3602.66)…\n",
       "  \"2012-04-18-07-50-00\" => Dict{String,Any}(Pair{String,Any}(\"(6, 5)\", 1570.09)…\n",
       "  \"2012-04-10-08-13-00\" => Dict{String,Any}(Pair{String,Any}(\"(6, 5)\", 2113.37)…\n",
       "  \"2012-04-27-07-33-00\" => Dict{String,Any}(Pair{String,Any}(\"(6, 5)\", 2264.83)…\n",
       "  \"2012-04-02-08-03-00\" => Dict{String,Any}(Pair{String,Any}(\"(6, 5)\", 2588.47)…\n",
       "  \"2012-04-17-08-38-00\" => Dict{String,Any}(Pair{String,Any}(\"(6, 5)\", 3931.52)…\n",
       "  \"2012-04-11-08-32-00\" => Dict{String,Any}(Pair{String,Any}(\"(6, 5)\", 4225.7),…\n",
       "  \"2012-04-11-07-10-00\" => Dict{String,Any}(Pair{String,Any}(\"(6, 5)\", 1961.8),…\n",
       "  \"2012-04-11-07-27-00\" => Dict{String,Any}(Pair{String,Any}(\"(6, 5)\", 2476.34)…\n",
       "  \"2012-04-25-07-08-00\" => Dict{String,Any}(Pair{String,Any}(\"(6, 5)\", 2257.48)…\n",
       "  \"2012-04-06-07-30-00\" => Dict{String,Any}(Pair{String,Any}(\"(6, 5)\", 2101.87)…\n",
       "  \"2012-04-23-08-38-00\" => Dict{String,Any}(Pair{String,Any}(\"(6, 5)\", 3267.17)…\n",
       "  \"2012-04-09-08-28-00\" => Dict{String,Any}(Pair{String,Any}(\"(6, 5)\", 4113.79)…\n",
       "  ⋮                     => ⋮"
      ]
     },
     "execution_count": 13,
     "metadata": {},
     "output_type": "execute_result"
    }
   ],
   "source": [
    "using JSON\n",
    "\n",
    "flow_after_conservation = readstring(\"../results/_cdc_all_comp_apr_2012/flows_after_QP_cdc_all_comp_apr_2012_AM.json\");\n",
    "flow_after_conservation = replace(flow_after_conservation, \"NaN\", 0);\n",
    "\n",
    "flow_after_conservation = JSON.parse(flow_after_conservation);\n",
    "flow_after_conservation"
   ]
  },
  {
   "cell_type": "code",
   "execution_count": 46,
   "metadata": {},
   "outputs": [
    {
     "data": {
      "text/plain": [
       "2184.147495870939"
      ]
     },
     "execution_count": 46,
     "metadata": {},
     "output_type": "execute_result"
    }
   ],
   "source": [
    "flow_after_conservation[\"2012-04-27-07-40-00\"][\"(6, 5)\"]\n",
    "#keys(flow_after_conservation)\n",
    "#key = Set(keys(flow_after_conservation))\n",
    "#values = values(flow_after_conservation)[]\n",
    "#values[5]\n",
    "\n",
    "#for (k,v) in flow_after_conservation\n",
    "#    k\n",
    "#  println(\"key: $k, value: $v\")\n",
    "#end"
   ]
  },
  {
   "cell_type": "code",
   "execution_count": 25,
   "metadata": {},
   "outputs": [
    {
     "data": {
      "text/plain": [
       "24-element Array{String,1}:\n",
       " \"(6, 5)\"\n",
       " \"(6, 3)\"\n",
       " \"(5, 6)\"\n",
       " \"(7, 6)\"\n",
       " \"(2, 3)\"\n",
       " \"(8, 4)\"\n",
       " \"(1, 2)\"\n",
       " \"(5, 3)\"\n",
       " \"(7, 8)\"\n",
       " \"(5, 4)\"\n",
       " \"(3, 2)\"\n",
       " \"(2, 4)\"\n",
       " \"(4, 5)\"\n",
       " \"(4, 8)\"\n",
       " \"(3, 5)\"\n",
       " \"(2, 1)\"\n",
       " \"(4, 2)\"\n",
       " \"(5, 7)\"\n",
       " \"(3, 1)\"\n",
       " \"(3, 6)\"\n",
       " \"(6, 7)\"\n",
       " \"(8, 7)\"\n",
       " \"(7, 5)\"\n",
       " \"(1, 3)\""
      ]
     },
     "execution_count": 25,
     "metadata": {},
     "output_type": "execute_result"
    }
   ],
   "source": [
    "key1 = [uppercase(key1) for key1 in keys(flow_after_conservation)]\n",
    "key2 = key1[1]\n",
    "arc_ids = [uppercase(ids) for ids in keys(flow_after_conservation[key2])] "
   ]
  },
  {
   "cell_type": "code",
   "execution_count": null,
   "metadata": {},
   "outputs": [],
   "source": [
    "arcs_1 = Dict[]\n",
    "for j in week_day_Apr_list_1\n",
    "    arcs_1_ = Dict()\n",
    "    for i = 0:23\n",
    "        key = \"link_$(i)_$(j)\"\n",
    "        initNode = link_day_minute_Apr_dict[key][\"init_node\"]\n",
    "        termNode = link_day_minute_Apr_dict[key][\"term_node\"]\n",
    "        capacity = link_day_minute_Apr_dict[key][\"PM_capac\"]\n",
    "        freeflowtime = link_day_minute_Apr_dict[key][\"free_flow_time\"]\n",
    "        flow = link_day_minute_Apr_dict[key][\"PM_flow\"]\n",
    "        arcs_1_[(initNode, termNode)] = Arc(initNode, termNode, capacity, freeflowtime, flow)\n",
    "    end\n",
    "    push!(arcs_1, arcs_1_)\n",
    "end\n",
    "\n",
    "arcs_2 = Dict[]\n",
    "for j in week_day_Apr_list_2\n",
    "    arcs_2_ = Dict()\n",
    "    for i = 0:23\n",
    "        key = \"link_$(i)_$(j)\"\n",
    "        initNode = link_day_minute_Apr_dict[key][\"init_node\"]\n",
    "        termNode = link_day_minute_Apr_dict[key][\"term_node\"]\n",
    "        capacity = link_day_minute_Apr_dict[key][\"PM_capac\"]\n",
    "        freeflowtime = link_day_minute_Apr_dict[key][\"free_flow_time\"]\n",
    "        flow = link_day_minute_Apr_dict[key][\"PM_flow\"]\n",
    "        arcs_2_[(initNode, termNode)] = Arc(initNode, termNode, capacity, freeflowtime, flow)\n",
    "    end\n",
    "    push!(arcs_2, arcs_2_)\n",
    "end\n",
    "\n",
    "arcs_3 = Dict[]\n",
    "for j in week_day_Apr_list_3\n",
    "    arcs_3_ = Dict()\n",
    "    for i = 0:23\n",
    "        key = \"link_$(i)_$(j)\"\n",
    "        initNode = link_day_minute_Apr_dict[key][\"init_node\"]\n",
    "        termNode = link_day_minute_Apr_dict[key][\"term_node\"]\n",
    "        capacity = link_day_minute_Apr_dict[key][\"PM_capac\"]\n",
    "        freeflowtime = link_day_minute_Apr_dict[key][\"free_flow_time\"]\n",
    "        flow = link_day_minute_Apr_dict[key][\"PM_flow\"]\n",
    "        arcs_3_[(initNode, termNode)] = Arc(initNode, termNode, capacity, freeflowtime, flow)\n",
    "    end\n",
    "    push!(arcs_3, arcs_3_)\n",
    "end"
   ]
  },
  {
   "cell_type": "code",
   "execution_count": 34,
   "metadata": {},
   "outputs": [
    {
     "data": {
      "text/plain": [
       "Dict{String,Any} with 720 entries:\n",
       "  \"link_11_29\" => Dict{String,Any}(Pair{String,Any}(\"MD_capac\", 6560.51),Pair{S…\n",
       "  \"link_5_10\"  => Dict{String,Any}(Pair{String,Any}(\"MD_capac\", 6877.15),Pair{S…\n",
       "  \"link_21_14\" => Dict{String,Any}(Pair{String,Any}(\"MD_capac\", 6452.86),Pair{S…\n",
       "  \"link_12_30\" => Dict{String,Any}(Pair{String,Any}(\"MD_capac\", 5758.19),Pair{S…\n",
       "  \"link_8_19\"  => Dict{String,Any}(Pair{String,Any}(\"MD_capac\", 7977.67),Pair{S…\n",
       "  \"link_14_14\" => Dict{String,Any}(Pair{String,Any}(\"MD_capac\", 5930.99),Pair{S…\n",
       "  \"link_8_4\"   => Dict{String,Any}(Pair{String,Any}(\"MD_capac\", 7977.67),Pair{S…\n",
       "  \"link_11_6\"  => Dict{String,Any}(Pair{String,Any}(\"MD_capac\", 6560.51),Pair{S…\n",
       "  \"link_14_5\"  => Dict{String,Any}(Pair{String,Any}(\"MD_capac\", 5930.99),Pair{S…\n",
       "  \"link_12_7\"  => Dict{String,Any}(Pair{String,Any}(\"MD_capac\", 5758.19),Pair{S…\n",
       "  \"link_3_28\"  => Dict{String,Any}(Pair{String,Any}(\"MD_capac\", 7352.89),Pair{S…\n",
       "  \"link_18_8\"  => Dict{String,Any}(Pair{String,Any}(\"MD_capac\", 6480.37),Pair{S…\n",
       "  \"link_16_3\"  => Dict{String,Any}(Pair{String,Any}(\"MD_capac\", 6000.0),Pair{St…\n",
       "  \"link_11_26\" => Dict{String,Any}(Pair{String,Any}(\"MD_capac\", 6560.51),Pair{S…\n",
       "  \"link_2_15\"  => Dict{String,Any}(Pair{String,Any}(\"MD_capac\", 7257.79),Pair{S…\n",
       "  \"link_7_20\"  => Dict{String,Any}(Pair{String,Any}(\"MD_capac\", 6141.05),Pair{S…\n",
       "  \"link_3_12\"  => Dict{String,Any}(Pair{String,Any}(\"MD_capac\", 7352.89),Pair{S…\n",
       "  \"link_11_11\" => Dict{String,Any}(Pair{String,Any}(\"MD_capac\", 6560.51),Pair{S…\n",
       "  \"link_21_28\" => Dict{String,Any}(Pair{String,Any}(\"MD_capac\", 6452.86),Pair{S…\n",
       "  \"link_14_2\"  => Dict{String,Any}(Pair{String,Any}(\"MD_capac\", 5930.99),Pair{S…\n",
       "  \"link_23_25\" => Dict{String,Any}(Pair{String,Any}(\"MD_capac\", 6000.0),Pair{St…\n",
       "  \"link_8_30\"  => Dict{String,Any}(Pair{String,Any}(\"MD_capac\", 7977.67),Pair{S…\n",
       "  \"link_8_8\"   => Dict{String,Any}(Pair{String,Any}(\"MD_capac\", 7977.67),Pair{S…\n",
       "  \"link_13_21\" => Dict{String,Any}(Pair{String,Any}(\"MD_capac\", 6409.61),Pair{S…\n",
       "  \"link_5_11\"  => Dict{String,Any}(Pair{String,Any}(\"MD_capac\", 6877.15),Pair{S…\n",
       "  ⋮            => ⋮"
      ]
     },
     "execution_count": 34,
     "metadata": {},
     "output_type": "execute_result"
    }
   ],
   "source": [
    "using JSON\n",
    "\n",
    "link_day_minute_Apr_dict = readstring(\"G:/My Drive/Github/InverseVIsTraffic/temp_files/link_day_minute_Apr_dict_JSON_adjusted.json\");\n",
    "link_day_minute_Apr_dict = replace(link_day_minute_Apr_dict, \"NaN\", 0);\n",
    "\n",
    "link_day_minute_Apr_dict = JSON.parse(link_day_minute_Apr_dict);\n",
    "link_day_minute_Apr_dict"
   ]
  },
  {
   "cell_type": "code",
   "execution_count": 35,
   "metadata": {},
   "outputs": [],
   "source": [
    "\n",
    "arcs_1 = Dict[]\n",
    "for j in week_day_Apr_list_1\n",
    "    arcs_1_ = Dict()\n",
    "    for i = 0:23\n",
    "        key = \"link_$(i)_$(j)\"\n",
    "        initNode = link_day_minute_Apr_dict[key][\"init_node\"]\n",
    "        termNode = link_day_minute_Apr_dict[key][\"term_node\"]\n",
    "        capacity = link_day_minute_Apr_dict[key][\"PM_capac\"]\n",
    "        freeflowtime = link_day_minute_Apr_dict[key][\"free_flow_time\"]\n",
    "        flow = link_day_minute_Apr_dict[key][\"PM_flow\"]\n",
    "        arcs_1_[(initNode, termNode)] = Arc(initNode, termNode, capacity, freeflowtime, flow)\n",
    "    end\n",
    "    push!(arcs_1, arcs_1_)\n",
    "end\n",
    "\n",
    "arcs_2 = Dict[]\n",
    "for j in week_day_Apr_list_2\n",
    "    arcs_2_ = Dict()\n",
    "    for i = 0:23\n",
    "        key = \"link_$(i)_$(j)\"\n",
    "        initNode = link_day_minute_Apr_dict[key][\"init_node\"]\n",
    "        termNode = link_day_minute_Apr_dict[key][\"term_node\"]\n",
    "        capacity = link_day_minute_Apr_dict[key][\"PM_capac\"]\n",
    "        freeflowtime = link_day_minute_Apr_dict[key][\"free_flow_time\"]\n",
    "        flow = link_day_minute_Apr_dict[key][\"PM_flow\"]\n",
    "        arcs_2_[(initNode, termNode)] = Arc(initNode, termNode, capacity, freeflowtime, flow)\n",
    "    end\n",
    "    push!(arcs_2, arcs_2_)\n",
    "end\n",
    "\n",
    "arcs_3 = Dict[]\n",
    "for j in week_day_Apr_list_3\n",
    "    arcs_3_ = Dict()\n",
    "    for i = 0:23\n",
    "        key = \"link_$(i)_$(j)\"\n",
    "        initNode = link_day_minute_Apr_dict[key][\"init_node\"]\n",
    "        termNode = link_day_minute_Apr_dict[key][\"term_node\"]\n",
    "        capacity = link_day_minute_Apr_dict[key][\"PM_capac\"]\n",
    "        freeflowtime = link_day_minute_Apr_dict[key][\"free_flow_time\"]\n",
    "        flow = link_day_minute_Apr_dict[key][\"PM_flow\"]\n",
    "        arcs_3_[(initNode, termNode)] = Arc(initNode, termNode, capacity, freeflowtime, flow)\n",
    "    end\n",
    "    push!(arcs_3, arcs_3_)\n",
    "end"
   ]
  },
  {
   "cell_type": "code",
   "execution_count": null,
   "metadata": {},
   "outputs": [],
   "source": []
  },
  {
   "cell_type": "code",
   "execution_count": 13,
   "metadata": {},
   "outputs": [
    {
     "name": "stderr",
     "output_type": "stream",
     "text": [
      "WARNING: Method definition (::Type{Graphs.KeyVertex})(Int64, #K<:Any) in module Graphs at /home/jzh/.julia/v0.5/Graphs/src/common.jl:12 overwritten at /home/jzh/.julia/v0.5/Graphs/src/common.jl:16.\n",
      "WARNING: Method definition (::Type{Graphs.Edge})(Int64, #V<:Any, #V<:Any) in module Graphs at /home/jzh/.julia/v0.5/Graphs/src/common.jl:54 overwritten at /home/jzh/.julia/v0.5/Graphs/src/common.jl:60.\n",
      "WARNING: Method definition (::Type{Graphs.ExEdge})(Int64, #V<:Any, #V<:Any, Base.Dict{String, Any}) in module Graphs at /home/jzh/.julia/v0.5/Graphs/src/common.jl:72 overwritten at /home/jzh/.julia/v0.5/Graphs/src/common.jl:83.\n",
      "WARNING: Method definition (::Type{Graphs.TargetIterator})(#G<:Graphs.AbstractGraph, #EList<:Any) in module Graphs at /home/jzh/.julia/v0.5/Graphs/src/common.jl:123 overwritten at /home/jzh/.julia/v0.5/Graphs/src/common.jl:127.\n",
      "WARNING: Method definition (::Type{Graphs.SourceIterator})(#G<:Graphs.AbstractGraph, #EList<:Any) in module Graphs at /home/jzh/.julia/v0.5/Graphs/src/common.jl:141 overwritten at /home/jzh/.julia/v0.5/Graphs/src/common.jl:145.\n",
      "WARNING: Method definition edge_property_requirement(Graphs.AbstractEdgePropertyInspector{#T<:Any}, Graphs.AbstractGraph{#V<:Any, E<:Any}) in module Graphs at /home/jzh/.julia/v0.5/Graphs/src/common.jl:164 overwritten at /home/jzh/.julia/v0.5/Graphs/src/common.jl:179.\n",
      "WARNING: Method definition vertex_index(#V<:Union{Graphs.KeyVertex, Graphs.ExVertex}, Graphs.GenericGraph{#V<:Union{Graphs.KeyVertex, Graphs.ExVertex}, E<:Any, VList<:Any, EList<:Any, IncList<:Any}) in module Graphs at /home/jzh/.julia/v0.5/Graphs/src/graph.jl:65 overwritten at /home/jzh/.julia/v0.5/Graphs/src/graph.jl:67.\n",
      "WARNING: Method definition (::Type{Graphs.GDistanceVisitor})(#G<:Graphs.AbstractGraph, #DMap<:Any) in module Graphs at /home/jzh/.julia/v0.5/Graphs/src/breadth_first_visit.jl:107 overwritten at /home/jzh/.julia/v0.5/Graphs/src/breadth_first_visit.jl:111.\n"
     ]
    }
   ],
   "source": [
    "using Graphs\n",
    "\n",
    "##########\n",
    "# Set up demand data and flow data\n",
    "##########\n",
    "numData = length(arcs_1); \n",
    "sigma = .0\n",
    "\n",
    "flow_data_1 = Array(Float64, length(arcs_1[1]), numData)\n",
    "flow_data_2 = Array(Float64, length(arcs_2[1]), numData)\n",
    "flow_data_3 = Array(Float64, length(arcs_3[1]), numData)\n",
    "\n",
    "demand_data = Dict()\n",
    "\n",
    "numNodes = maximum(map(pair->pair[1], keys(demands)))\n",
    "g = simple_inclist(numNodes, is_directed=true)\n",
    "vArcs = Arc[]\n",
    "for arc in values(arcs_1[1])\n",
    "    add_edge!(g, arc.initNode, arc.termNode) \n",
    "    push!(vArcs, arc)\n",
    "end\n",
    "\n",
    "\n",
    "for iRun = 1:numData\n",
    "    for odpair in keys(demands)\n",
    "        if ! haskey(demand_data, odpair)\n",
    "            demand_data[odpair] = [demands[odpair], ]\n",
    "        else\n",
    "            push!(demand_data[odpair], demands[odpair])\n",
    "        end\n",
    "    end\n",
    "\n",
    "    #flow_data[:, iRun] = [a.flow::Float64 for a in vArcs]\n",
    "    flow_data_1[:, iRun] = [a.flow::Float64 for a in values(arcs_1[iRun])]\n",
    "    flow_data_2[:, iRun] = [a.flow::Float64 for a in values(arcs_2[iRun])]\n",
    "    flow_data_3[:, iRun] = [a.flow::Float64 for a in values(arcs_3[iRun])]\n",
    "end"
   ]
  },
  {
   "cell_type": "code",
   "execution_count": 14,
   "metadata": {},
   "outputs": [
    {
     "data": {
      "text/plain": [
       "Dict{Any,Any} with 64 entries:\n",
       "  (3,6) => [1135.61,1135.61,1135.61,1135.61,1135.61,1135.61,1135.61,1135.61,113…\n",
       "  (4,4) => [0.0,0.0,0.0,0.0,0.0,0.0,0.0,0.0,0.0,0.0,0.0,0.0,0.0,0.0]\n",
       "  (3,1) => [507.825,507.825,507.825,507.825,507.825,507.825,507.825,507.825,507…\n",
       "  (4,5) => [286.798,286.798,286.798,286.798,286.798,286.798,286.798,286.798,286…\n",
       "  (2,4) => [1855.39,1855.39,1855.39,1855.39,1855.39,1855.39,1855.39,1855.39,185…\n",
       "  (6,5) => [478.978,478.978,478.978,478.978,478.978,478.978,478.978,478.978,478…\n",
       "  (8,4) => [1348.06,1348.06,1348.06,1348.06,1348.06,1348.06,1348.06,1348.06,134…\n",
       "  (1,2) => [498.633,498.633,498.633,498.633,498.633,498.633,498.633,498.633,498…\n",
       "  (5,1) => [580.378,580.378,580.378,580.378,580.378,580.378,580.378,580.378,580…\n",
       "  (3,4) => [946.485,946.485,946.485,946.485,946.485,946.485,946.485,946.485,946…\n",
       "  (8,2) => [250.792,250.792,250.792,250.792,250.792,250.792,250.792,250.792,250…\n",
       "  (2,3) => [252.181,252.181,252.181,252.181,252.181,252.181,252.181,252.181,252…\n",
       "  (2,6) => [220.882,220.882,220.882,220.882,220.882,220.882,220.882,220.882,220…\n",
       "  (5,4) => [706.592,706.592,706.592,706.592,706.592,706.592,706.592,706.592,706…\n",
       "  (2,1) => [596.665,596.665,596.665,596.665,596.665,596.665,596.665,596.665,596…\n",
       "  (2,5) => [371.634,371.634,371.634,371.634,371.634,371.634,371.634,371.634,371…\n",
       "  (8,5) => [216.492,216.492,216.492,216.492,216.492,216.492,216.492,216.492,216…\n",
       "  (1,4) => [879.942,879.942,879.942,879.942,879.942,879.942,879.942,879.942,879…\n",
       "  (2,8) => [230.11,230.11,230.11,230.11,230.11,230.11,230.11,230.11,230.11,230.…\n",
       "  (5,8) => [92.3052,92.3052,92.3052,92.3052,92.3052,92.3052,92.3052,92.3052,92.…\n",
       "  (4,8) => [1130.33,1130.33,1130.33,1130.33,1130.33,1130.33,1130.33,1130.33,113…\n",
       "  (7,8) => [166.861,166.861,166.861,166.861,166.861,166.861,166.861,166.861,166…\n",
       "  (1,1) => [0.0,0.0,0.0,0.0,0.0,0.0,0.0,0.0,0.0,0.0,0.0,0.0,0.0,0.0]\n",
       "  (7,7) => [0.0,0.0,0.0,0.0,0.0,0.0,0.0,0.0,0.0,0.0,0.0,0.0,0.0,0.0]\n",
       "  (5,7) => [277.641,277.641,277.641,277.641,277.641,277.641,277.641,277.641,277…\n",
       "  ⋮     => ⋮"
      ]
     },
     "execution_count": 14,
     "metadata": {},
     "output_type": "execute_result"
    }
   ],
   "source": [
    "demand_data"
   ]
  },
  {
   "cell_type": "code",
   "execution_count": 15,
   "metadata": {},
   "outputs": [
    {
     "data": {
      "text/plain": [
       "24×14 Array{Float64,2}:\n",
       " 4809.79  4300.33  4308.33  4120.52  5008.62  …  4812.05  3545.34  4282.23 \n",
       " 2384.89  3131.51  2642.63  2099.27  3193.84     3082.46  2167.14  2743.69 \n",
       " 4106.47  3571.61  3850.44  3582.26  3328.58     3215.12  2980.0   3085.13 \n",
       " 1590.37  1843.5   1892.91  2003.34  1581.72     1729.59  1197.76  1615.95 \n",
       " 2868.51  2366.83  1842.96  1480.77  3048.18     2428.02  2089.69  2396.72 \n",
       " 5405.72  4969.03  4791.13  4313.94  5553.32  …  5441.69  4492.07  5272.96 \n",
       " 2333.45  2856.29  3123.7   2497.82  2055.75     1732.93  1641.82  2134.98 \n",
       " 2973.61  3144.45  2786.65  2311.69  3190.74     2735.26  2059.58  2702.44 \n",
       " 4291.04  4722.17  3498.75  2898.73  4540.75     4763.92  1707.62  4728.43 \n",
       " 1313.96  2002.14  1771.15  2001.7   1029.42     1161.15  1278.88   897.536\n",
       " 4406.11  4352.72  4123.65  3382.39  4048.33  …  3795.38  3931.86  3675.75 \n",
       " 1400.25  2413.67  2003.63  1697.69  1209.0      1819.77  1327.02   911.277\n",
       " 4615.01  5206.05  3121.76  2490.09  6038.58     5933.95  2433.38  5080.04 \n",
       " 4460.61  5039.64  4508.27  3614.5   4057.9      4801.43  3854.81  5078.82 \n",
       " 2925.79  3448.32  2929.42  2474.9   2969.88     3037.65  1720.52  3629.65 \n",
       " 2510.96  3505.97  2793.3   2016.12  2458.28  …  3004.94  1988.39  2254.86 \n",
       " 3425.85  2955.29  3142.75  3271.62  2334.55     2993.59  1961.08  2874.87 \n",
       " 4545.3   4987.26  4733.16  3731.72  4507.22     4393.31  3927.0   4298.35 \n",
       " 2424.67  3094.44  2560.82  2320.13  2278.69     2346.33  1940.25  2241.12 \n",
       " 2228.35  2078.66  2180.01  1666.9   1913.2      1425.69  1671.94  1829.27 \n",
       " 5400.21  6188.74  5094.45  3868.53  5199.55  …  5304.78  3308.48  5580.04 \n",
       " 1335.82  1661.95  2113.24  1897.94  1260.12     1188.49  1872.03  1860.75 \n",
       " 4406.17  5071.06  4761.07  3484.99  4034.49     4085.27  4406.71  4801.87 \n",
       " 5432.12  5497.41  4688.43  3583.6   4848.27     5388.67  4521.04  5799.8  "
      ]
     },
     "execution_count": 15,
     "metadata": {},
     "output_type": "execute_result"
    }
   ],
   "source": [
    "flow_data_3"
   ]
  },
  {
   "cell_type": "code",
   "execution_count": 16,
   "metadata": {},
   "outputs": [
    {
     "data": {
      "text/plain": [
       "train (generic function with 1 method)"
      ]
     },
     "execution_count": 16,
     "metadata": {},
     "output_type": "execute_result"
    }
   ],
   "source": [
    "##########\n",
    "#Fitting Funcs\n",
    "##########\n",
    "\n",
    "function train(indices, lam::Float64, deg::Int, c::Float64, demand_data, flow_data, arcs; fcoeffs=nothing)\n",
    "    numNodes = maximum(map(pair->pair[1], keys(arcs)))\n",
    "    m, coeffs, reg_term = setUpFitting(deg, c)\n",
    "    \n",
    "    addIncreasingCnsts(m, coeffs, arcs, TOL=1e-8)  #uses the original obs flows\n",
    "\n",
    "    avgCost = mean( [bpacost(a.flow, a.capacity, 1.0) for a in values(arcs)] )\n",
    "    normalize(m, coeffs, [a.flow / a.capacity for a in values(arcs)], avgCost)\n",
    "\n",
    "\n",
    "    resids = Variable[]\n",
    "    \n",
    "    for i = indices\n",
    "        #copy the flow data over to the arcs, demand data to demands (slow)\n",
    "        for (ix, a) in enumerate(vArcs)\n",
    "            a.flow = flow_data[ix, i]\n",
    "        end\n",
    "        for odpair in keys(demands)\n",
    "            demands[odpair] = demand_data[odpair][i]\n",
    "        end\n",
    "    \n",
    "        #Dual Feasibility\n",
    "        ys = addNetworkCnsts(m, coeffs, demands, arcs, numNodes)\n",
    "        \n",
    "        #add the residual for this data point\n",
    "        push!(resids, addResid(m, coeffs, ys, demands, arcs, 1e6))\n",
    "    end\n",
    "\n",
    "    if fcoeffs != nothing\n",
    "        fixCoeffs(m, fcoeffs, coeffs)\n",
    "    end\n",
    "    @objective(m, Min, sum{resids[i], i = 1:length(resids)} + lam*reg_term)\n",
    "    solve(m)\n",
    "    #println(getObjectiveValue(m) - lam * getValue(reg_term) )\n",
    "    return [getvalue(coeffs[i]) for i =1:length(coeffs)]\n",
    "end"
   ]
  },
  {
   "cell_type": "code",
   "execution_count": 17,
   "metadata": {
    "collapsed": true
   },
   "outputs": [],
   "source": [
    "#include(\"trafficCval.jl\")\n",
    "\n",
    "coeffs_dict_Apr_PM = Dict()\n",
    "\n",
    "deg_grid = 4:8\n",
    "c_grid = .5:.5:3.\n",
    "lamb_grid = 10. .^(-3:4)\n",
    "\n",
    "# deg_grid = 8\n",
    "# c_grid = .5\n",
    "# lamb_grid = 10. .^(4)\n",
    "\n",
    "for deg in deg_grid\n",
    "    for c in c_grid\n",
    "        for lam in lamb_grid\n",
    "            coeffs_dict_Apr_PM[(deg, c, lam, 1)] = train(1:numData, lam, deg, c, demand_data, flow_data_1, arcs_1[1])\n",
    "            coeffs_dict_Apr_PM[(deg, c, lam, 2)] = train(1:numData, lam, deg, c, demand_data, flow_data_2, arcs_2[1])\n",
    "            coeffs_dict_Apr_PM[(deg, c, lam, 3)] = train(1:numData, lam, deg, c, demand_data, flow_data_3, arcs_3[1])\n",
    "        end\n",
    "    end\n",
    "end"
   ]
  },
  {
   "cell_type": "code",
   "execution_count": 18,
   "metadata": {
    "collapsed": true
   },
   "outputs": [],
   "source": [
    "outfile = open(\"../temp_files/coeffs_dict_Apr_PM.json\", \"w\")\n",
    "\n",
    "JSON.print(outfile, coeffs_dict_Apr_PM)\n",
    "\n",
    "close(outfile)"
   ]
  },
  {
   "cell_type": "code",
   "execution_count": 19,
   "metadata": {},
   "outputs": [
    {
     "data": {
      "text/plain": [
       "Dict{String,Any} with 720 entries:\n",
       "  \"(7,2.5,10000.0,3)\" => Any[1.0,0.0243236,0.0164409,0.00674963,0.00176122,0.00…\n",
       "  \"(5,0.5,100.0,3)\"   => Any[1.0,0.00881335,0.0229086,0.024267,0.0205142,0.0041…\n",
       "  \"(6,1.5,10.0,3)\"    => Any[1.0,0.0334428,0.00993967,-0.0035245,-0.00347561,-0…\n",
       "  \"(6,2.0,0.1,2)\"     => Any[1.0,0.0808469,-0.139378,0.077445,0.0124531,-0.0115…\n",
       "  \"(4,0.5,1000.0,1)\"  => Any[1.0,0.0140538,0.0252053,0.0208678,0.00745212]\n",
       "  \"(6,2.0,0.01,1)\"    => Any[1.0,0.13906,-0.348403,0.341531,-0.0614036,-0.04920…\n",
       "  \"(8,1.5,0.01,1)\"    => Any[1.0,0.153929,-0.433993,0.467465,0.0565638,-0.49912…\n",
       "  \"(5,1.5,1.0,1)\"     => Any[1.0,0.0498222,-0.00901357,-0.0135223,-0.00360416,-…\n",
       "  \"(8,2.5,0.001,2)\"   => Any[1.0,0.155812,-0.590486,0.764676,1.02359,-4.73466,6…\n",
       "  \"(4,2.0,0.1,1)\"     => Any[1.0,0.0757237,-0.0786957,0.0178372,0.00784267]\n",
       "  \"(5,1.0,1000.0,2)\"  => Any[1.0,0.016692,0.0180452,0.0105921,0.00348944,0.0004…\n",
       "  \"(4,2.0,0.1,2)\"     => Any[1.0,0.0602808,-0.0666849,0.0169942,0.00669008]\n",
       "  \"(5,2.0,0.001,1)\"   => Any[1.0,0.144095,-0.384941,0.438247,-0.169387,-0.01058…\n",
       "  \"(7,1.5,0.01,3)\"    => Any[1.0,0.133347,-0.321558,0.257865,0.156868,-0.393215…\n",
       "  \"(6,2.0,1000.0,3)\"  => Any[1.0,0.0241091,0.0167923,0.00686362,0.0016779,0.000…\n",
       "  \"(4,0.5,0.1,3)\"     => Any[1.0,0.0346339,0.0169905,-0.0133233,-0.0110871]\n",
       "  \"(6,2.0,0.1,3)\"     => Any[1.0,0.106254,-0.193227,0.118967,0.0131435,-0.02051…\n",
       "  \"(4,1.5,1.0,1)\"     => Any[1.0,0.0402288,0.000108226,-0.0042032,-0.000807399]\n",
       "  \"(8,2.0,10000.0,1)\" => Any[1.0,0.0200848,0.0202528,0.0129398,0.00552972,0.001…\n",
       "  \"(7,0.5,0.001,2)\"   => Any[1.0,0.0634684,-0.0187636,-0.241208,0.447111,-0.396…\n",
       "  \"(5,1.0,10000.0,2)\" => Any[1.0,0.0165975,0.0181694,0.0106848,0.00347922,0.000…\n",
       "  \"(8,3.0,0.01,1)\"    => Any[1.0,0.184905,-0.664499,1.05167,-0.387023,-1.01701,…\n",
       "  \"(8,2.0,0.01,3)\"    => Any[1.0,0.169023,-0.541224,0.613736,0.487236,-2.11062,…\n",
       "  \"(5,3.0,100.0,3)\"   => Any[1.0,0.0339407,0.00519647,-0.000115295,-0.000114819…\n",
       "  \"(5,3.0,10000.0,3)\" => Any[1.0,0.0293364,0.0113364,0.00238118,0.000263222,1.1…\n",
       "  ⋮                   => ⋮"
      ]
     },
     "execution_count": 19,
     "metadata": {},
     "output_type": "execute_result"
    }
   ],
   "source": [
    "coeffs_dict_Apr_PM_ = readstring(\"../temp_files/coeffs_dict_Apr_PM.json\")\n",
    "coeffs_dict_Apr_PM_ = JSON.parse(coeffs_dict_Apr_PM_)"
   ]
  },
  {
   "cell_type": "code",
   "execution_count": 20,
   "metadata": {},
   "outputs": [
    {
     "data": {
      "text/plain": [
       "9-element Array{Any,1}:\n",
       "  1.0       \n",
       " -0.00344611\n",
       "  0.0566477 \n",
       " -0.196517  \n",
       "  0.622162  \n",
       " -0.901112  \n",
       "  0.941538  \n",
       " -0.466491  \n",
       "  0.109274  "
      ]
     },
     "execution_count": 20,
     "metadata": {},
     "output_type": "execute_result"
    }
   ],
   "source": [
    "coeffs_dict_Apr_PM_[\"(8,0.5,10000.0,1)\"]"
   ]
  },
  {
   "cell_type": "code",
   "execution_count": 21,
   "metadata": {},
   "outputs": [
    {
     "data": {
      "image/png": "[encoded data removed]",
      "text/plain": [
       "PyPlot.Figure(PyObject <matplotlib.figure.Figure object at 0x7fac0698b090>)"
      ]
     },
     "metadata": {},
     "output_type": "display_data"
    }
   ],
   "source": [
    "using PyPlot\n",
    "\n",
    "fcoeffs = coeffs_dict_Apr_PM_[\"(8,0.5,10000.0,1)\"]\n",
    "\n",
    "\n",
    "xs = linspace(0, 1.1, 30)\n",
    "ys = map(x->polyEval(fcoeffs, x), xs)\n",
    "\n",
    "PyPlot.plot(xs, ys, \"o-m\", label=\"Apr_PM\")\n",
    "\n",
    "#legend(loc=\"upper left\",fancybox=\"true\") \n",
    "\n",
    "grid(\"on\")\n",
    "xlim(-0.1, 1.05);\n",
    "ylim(0.99, 1.2);\n",
    "\n",
    "font1 = Dict(\"family\"=>\"serif\",\"color\"=>\"darkred\",\"weight\"=>\"normal\",\"size\"=>14)\n",
    "xlabel(\"Scaled Flow\", fontdict=font1)\n",
    "ylabel(\"Scaled Cost\", fontdict=font1)\n",
    "\n",
    "savefig(\"../temp_files/fitting_Apr_PM.pdf\")"
   ]
  },
  {
   "cell_type": "code",
   "execution_count": null,
   "metadata": {
    "collapsed": true
   },
   "outputs": [],
   "source": []
  }
 ],
 "metadata": {
  "kernelspec": {
   "display_name": "Julia 0.6.4",
   "language": "julia",
   "name": "julia-0.6"
  },
  "language_info": {
   "file_extension": ".jl",
   "mimetype": "application/julia",
   "name": "julia",
   "version": "0.6.4"
  }
 },
 "nbformat": 4,
 "nbformat_minor": 1
}
