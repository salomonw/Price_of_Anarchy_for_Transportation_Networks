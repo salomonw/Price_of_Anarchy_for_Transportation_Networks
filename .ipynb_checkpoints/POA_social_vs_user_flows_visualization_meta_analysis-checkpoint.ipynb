{
 "cells": [
  {
   "cell_type": "markdown",
   "metadata": {},
   "source": [
    "# Load observed link flows"
   ]
  },
  {
   "cell_type": "code",
   "execution_count": 1,
   "metadata": {},
   "outputs": [],
   "source": [
    "using JSON\n",
    "using PyCall\n",
    "unshift!(PyVector(pyimport(\"sys\")[\"path\"]), \"\");\n",
    "#pyimport_conda(\"Compute_Jacobian\", \"Anaconda\")\n",
    "@pyimport parameters_julia\n",
    "@pyimport Compute_Jacobian\n",
    "@pyimport GLS_julia"
   ]
  },
  {
   "cell_type": "code",
   "execution_count": 2,
   "metadata": {},
   "outputs": [],
   "source": [
    "numNodes = Compute_Jacobian.numNodes;\n",
    "numLinks = Compute_Jacobian.numLinks;\n",
    "numODpairs = Compute_Jacobian.numODpairs;\n",
    "numZones = Compute_Jacobian.numZones\n",
    "od_pairs = Compute_Jacobian.od_pairs;\n",
    "link_list_js = Compute_Jacobian.link_list_js;\n",
    "link_length_list = Compute_Jacobian.link_length_list;"
   ]
  },
  {
   "cell_type": "code",
   "execution_count": 3,
   "metadata": {},
   "outputs": [],
   "source": [
    "include(\"Julia_files/initia_data.jl\");\n",
    "include(\"prepare_data.jl\");\n",
    "include(\"extract_data.jl\");"
   ]
  },
  {
   "cell_type": "code",
   "execution_count": 4,
   "metadata": {},
   "outputs": [
    {
     "data": {
      "text/plain": [
       "\"Apr\""
      ]
     },
     "execution_count": 4,
     "metadata": {},
     "output_type": "execute_result"
    }
   ],
   "source": [
    "flow_observ = GLS_julia.x_;\n",
    "month_w  = parameters_julia.month_w"
   ]
  },
  {
   "cell_type": "markdown",
   "metadata": {},
   "source": [
    "# Load pre-calculated socially-optimal link flows"
   ]
  },
  {
   "cell_type": "code",
   "execution_count": 5,
   "metadata": {},
   "outputs": [
    {
     "data": {
      "text/plain": [
       "\"PM\""
      ]
     },
     "execution_count": 5,
     "metadata": {},
     "output_type": "execute_result"
    }
   ],
   "source": [
    "instance = \"PM\""
   ]
  },
  {
   "cell_type": "code",
   "execution_count": 6,
   "metadata": {},
   "outputs": [],
   "source": [
    "tapSocialFlowVecDictAprPM = readstring(out_dir * \"tapSocialFlowVecDict_\" * month_w * \"_\" * instance * \".json\");\n",
    "tapSocialFlowVecDictAprPM = JSON.parse(tapSocialFlowVecDictAprPM);"
   ]
  },
  {
   "cell_type": "code",
   "execution_count": 7,
   "metadata": {},
   "outputs": [],
   "source": [
    "#tapSocialFlowVecDictAprWeekend = readstring(out_dir * \"tapSocialFlowVecDict_\" * month_w * \"_\" * instance \".json\");\n",
    "#tapSocialFlowVecDictAprWeekend = JSON.parse(tapSocialFlowVecDictAprWeekend);"
   ]
  },
  {
   "cell_type": "code",
   "execution_count": 8,
   "metadata": {},
   "outputs": [],
   "source": [
    "tapSocialFlowVecDictApr = Dict{}()\n",
    "\n",
    "for key in keys(tapSocialFlowVecDictAprPM)\n",
    "    tapSocialFlowVecDictApr[key] = tapSocialFlowVecDictAprPM[key]\n",
    "end\n",
    "\n",
    "#for key in keys(tapSocialFlowVecDictAprWeekend)\n",
    "#    tapSocialFlowVecDictApr[key] = tapSocialFlowVecDictAprWeekend[key]\n",
    "#end"
   ]
  },
  {
   "cell_type": "code",
   "execution_count": 9,
   "metadata": {},
   "outputs": [],
   "source": [
    "tapSocialFlowVecDictApr[\"1\"];"
   ]
  },
  {
   "cell_type": "code",
   "execution_count": 10,
   "metadata": {},
   "outputs": [],
   "source": [
    "flow_observ[:, 1];"
   ]
  },
  {
   "cell_type": "markdown",
   "metadata": {},
   "source": [
    "# Meta analysis for zone costs"
   ]
  },
  {
   "cell_type": "code",
   "execution_count": 11,
   "metadata": {},
   "outputs": [],
   "source": [
    "link_label_dict;"
   ]
  },
  {
   "cell_type": "code",
   "execution_count": 12,
   "metadata": {},
   "outputs": [],
   "source": [
    "link_label_dict_converted = Dict()\n",
    "\n",
    "for key in keys(link_label_dict)\n",
    "    link_label_dict_converted[parse(Int, key) + 1] = [parse(Int, split(link_label_dict[key], ',')[1]), \n",
    "        parse(Int, split(link_label_dict[key], ',')[2])]\n",
    "end"
   ]
  },
  {
   "cell_type": "code",
   "execution_count": 13,
   "metadata": {},
   "outputs": [],
   "source": [
    "link_label_dict_converted;"
   ]
  },
  {
   "cell_type": "code",
   "execution_count": 14,
   "metadata": {},
   "outputs": [],
   "source": [
    "od_nodesList_dict = Dict()\n",
    "od_nodesList_dict = GLS_julia.od_nodesList_dict;"
   ]
  },
  {
   "cell_type": "code",
   "execution_count": 15,
   "metadata": {},
   "outputs": [],
   "source": [
    "od_nodesList_dict_converted = Dict()\n",
    "\n",
    "for key in keys(od_nodesList_dict)\n",
    "    od_nodesList_dict_converted[key + 1] = od_nodesList_dict[key]\n",
    "end"
   ]
  },
  {
   "cell_type": "code",
   "execution_count": 16,
   "metadata": {},
   "outputs": [
    {
     "data": {
      "text/plain": [
       "Dict{Any,Any} with 8 entries:\n",
       "  7 => [6]\n",
       "  4 => [3]\n",
       "  9 => [8]\n",
       "  2 => [1]\n",
       "  3 => [2]\n",
       "  8 => [7]\n",
       "  5 => [4]\n",
       "  6 => [5]"
      ]
     },
     "execution_count": 16,
     "metadata": {},
     "output_type": "execute_result"
    }
   ],
   "source": [
    "od_nodesList_dict_converted"
   ]
  },
  {
   "cell_type": "code",
   "execution_count": 17,
   "metadata": {},
   "outputs": [],
   "source": [
    "zone_links_dict = Dict()\n",
    "\n",
    "for key in keys(od_nodesList_dict_converted)\n",
    "    link_list = []\n",
    "    for link_idx in keys(link_label_dict_converted)\n",
    "        if link_label_dict_converted[link_idx][1] in od_nodesList_dict_converted[key] ||\n",
    "            link_label_dict_converted[link_idx][2] in od_nodesList_dict_converted[key]\n",
    "            push!(link_list, link_idx)\n",
    "        end\n",
    "    end\n",
    "    zone_links_dict[key] = link_list\n",
    "end"
   ]
  },
  {
   "cell_type": "code",
   "execution_count": 18,
   "metadata": {},
   "outputs": [
    {
     "data": {
      "text/plain": [
       "Dict{Any,Any} with 24 entries:\n",
       "  1  => [1, 2]\n",
       "  2  => [1, 3]\n",
       "  16 => [5, 7]\n",
       "  11 => [4, 2]\n",
       "  21 => [7, 5]\n",
       "  7  => [3, 2]\n",
       "  9  => [3, 6]\n",
       "  10 => [4, 8]\n",
       "  19 => [6, 7]\n",
       "  17 => [6, 3]\n",
       "  8  => [3, 5]\n",
       "  22 => [7, 6]\n",
       "  6  => [3, 1]\n",
       "  24 => [8, 7]\n",
       "  4  => [2, 3]\n",
       "  3  => [2, 1]\n",
       "  5  => [2, 4]\n",
       "  20 => [7, 8]\n",
       "  23 => [8, 4]\n",
       "  13 => [5, 3]\n",
       "  14 => [5, 4]\n",
       "  15 => [5, 6]\n",
       "  12 => [4, 5]\n",
       "  18 => [6, 5]"
      ]
     },
     "execution_count": 18,
     "metadata": {},
     "output_type": "execute_result"
    }
   ],
   "source": [
    "link_label_dict_converted"
   ]
  },
  {
   "cell_type": "code",
   "execution_count": 19,
   "metadata": {},
   "outputs": [
    {
     "data": {
      "text/plain": [
       "Dict{Any,Any} with 8 entries:\n",
       "  7 => Any[9, 19, 17, 22, 15, 18]\n",
       "  4 => Any[2, 7, 9, 17, 8, 6, 4, 13]\n",
       "  9 => Any[10, 24, 20, 23]\n",
       "  2 => Any[1, 2, 6, 3]\n",
       "  3 => Any[1, 11, 7, 4, 3, 5]\n",
       "  8 => Any[16, 21, 19, 22, 24, 20]\n",
       "  5 => Any[11, 10, 5, 23, 14, 12]\n",
       "  6 => Any[16, 21, 8, 13, 14, 15, 12, 18]"
      ]
     },
     "execution_count": 19,
     "metadata": {},
     "output_type": "execute_result"
    }
   ],
   "source": [
    "zone_links_dict"
   ]
  },
  {
   "cell_type": "markdown",
   "metadata": {},
   "source": [
    "## Zone cost definition:\n",
    "Let $\\mathcal{A}_i$ denote the link set related to zone $i$ (each link in $\\mathcal{A}_i$ has at least one node contained in zone $i$). Then the total users' cost for zone $i$ is\n",
    "$${C_i} = \\sum\\limits_{a \\in {\\mathcal{A}_i}} {{{x_a}} {{t_a}\\left( x_a \\right)} } $$"
   ]
  },
  {
   "cell_type": "code",
   "execution_count": 20,
   "metadata": {},
   "outputs": [
    {
     "data": {
      "text/plain": [
       "usersObj (generic function with 1 method)"
      ]
     },
     "execution_count": 20,
     "metadata": {},
     "output_type": "execute_result"
    }
   ],
   "source": [
    "function usersObj(fcoeffs, free_flow_time, capacity, linkFlowVec, linkIndices)\n",
    "    objVal = sum([sum([free_flow_time[a] * fcoeffs[j] * linkFlowVec[a]^j / capacity[a]^(j-1) \n",
    "            for j = 1:length(fcoeffs)]) for a in linkIndices])\n",
    "    return objVal\n",
    "end"
   ]
  },
  {
   "cell_type": "markdown",
   "metadata": {},
   "source": [
    "## Scenario 1: weekdays of April 2012, PM period"
   ]
  },
  {
   "cell_type": "code",
   "execution_count": 21,
   "metadata": {},
   "outputs": [],
   "source": [
    "key_ = \"(5, 1.5, 1000.0, 1)\"\n",
    "\n",
    "coeffs_dict_Apr_PM_ = readstring(out_dir * \"coeffs_dict_\" * month_w * \"_\" * instance * \".json\");\n",
    "coeffs_dict_Apr_PM_ = JSON.parse(coeffs_dict_Apr_PM_);\n",
    "fcoeffs_Apr_PM = coeffs_dict_Apr_PM_[key_];"
   ]
  },
  {
   "cell_type": "code",
   "execution_count": 22,
   "metadata": {},
   "outputs": [],
   "source": [
    "free_flow_time_Apr_PM = ta_data_Apr_PM.free_flow_time;\n",
    "capacity_Apr_PM = ta_data_Apr_PM.capacity;"
   ]
  },
  {
   "cell_type": "code",
   "execution_count": 24,
   "metadata": {},
   "outputs": [],
   "source": [
    "# calculate costs for zones, weekdays of April 2012, PM period\n",
    "\n",
    "zone_cost_dict_Apr_PM_user = Dict();\n",
    "zone_cost_dict_Apr_PM_social = Dict();\n",
    "\n",
    "week_day_Apr_list = parameters_julia.week_day_list\n",
    "\n",
    "for day = 1:length(week_day_Apr_list)\n",
    "    for zone = 2:length(zone_links_dict)+1\n",
    "        # user-centric policy\n",
    "        zone_cost_dict_Apr_PM_user[(day, zone)] = usersObj(fcoeffs_Apr_PM, free_flow_time_Apr_PM, \n",
    "        capacity_Apr_PM, flow_observ[:, day], zone_links_dict[zone])\n",
    "\n",
    "        # system-centric policy\n",
    "        zone_cost_dict_Apr_PM_social[(day, zone)] = usersObj(fcoeffs_Apr_PM, free_flow_time_Apr_PM, \n",
    "        capacity_Apr_PM, tapSocialFlowVecDictApr[\"$(day)\"], zone_links_dict[zone])\n",
    "    end\n",
    "end"
   ]
  },
  {
   "cell_type": "code",
   "execution_count": 25,
   "metadata": {},
   "outputs": [
    {
     "data": {
      "text/plain": [
       "Dict{Any,Any} with 8 entries:\n",
       "  7 => Any[9, 19, 17, 22, 15, 18]\n",
       "  4 => Any[2, 7, 9, 17, 8, 6, 4, 13]\n",
       "  9 => Any[10, 24, 20, 23]\n",
       "  2 => Any[1, 2, 6, 3]\n",
       "  3 => Any[1, 11, 7, 4, 3, 5]\n",
       "  8 => Any[16, 21, 19, 22, 24, 20]\n",
       "  5 => Any[11, 10, 5, 23, 14, 12]\n",
       "  6 => Any[16, 21, 8, 13, 14, 15, 12, 18]"
      ]
     },
     "execution_count": 25,
     "metadata": {},
     "output_type": "execute_result"
    }
   ],
   "source": [
    "zone_links_dict"
   ]
  },
  {
   "cell_type": "code",
   "execution_count": 27,
   "metadata": {},
   "outputs": [
    {
     "name": "stdout",
     "output_type": "stream",
     "text": [
      "[3637.62, 3146.86]\n",
      "[4199.59, 3974.29]\n",
      "[6463.79, 5666.36]\n",
      "[4506.1, 4209.71]\n",
      "[4445.14, 4617.89]\n",
      "[3133.74, 3980.33]\n",
      "[3050.36, 3498.06]\n"
     ]
    }
   ],
   "source": [
    "day = 2\n",
    "\n",
    "for zone = 2:length(zone_links_dict)\n",
    "    println([zone_cost_dict_Apr_PM_user[(day, zone)], zone_cost_dict_Apr_PM_social[(day, zone)]])\n",
    "end"
   ]
  },
  {
   "cell_type": "markdown",
   "metadata": {},
   "source": []
  },
  {
   "cell_type": "code",
   "execution_count": null,
   "metadata": {},
   "outputs": [],
   "source": []
  },
  {
   "cell_type": "code",
   "execution_count": null,
   "metadata": {},
   "outputs": [],
   "source": []
  },
  {
   "cell_type": "code",
   "execution_count": null,
   "metadata": {},
   "outputs": [],
   "source": []
  },
  {
   "cell_type": "code",
   "execution_count": null,
   "metadata": {},
   "outputs": [],
   "source": []
  },
  {
   "cell_type": "markdown",
   "metadata": {},
   "source": [
    "## Visualization of zone costs (user-centric vs. system-centric)\n",
    "\n",
    "### Three observations can be made: \n",
    "\n",
    "#### (1) Overall, most zone costs would be reduced when switching from user-centric policy to system-centric policy.\n",
    "\n",
    "#### (2) In general, the zone costs for weekends are less than their counterparts for weekdays; this is consistent with intuition.\n",
    "\n",
    "#### (3) The decrease seems more constant for all zones in weekends than in weekdays, meaning it is easier to optimize the network for weekends than for weekdays; this is again consistent with intuition. "
   ]
  },
  {
   "cell_type": "code",
   "execution_count": 28,
   "metadata": {},
   "outputs": [],
   "source": [
    "using PyPlot"
   ]
  },
  {
   "cell_type": "markdown",
   "metadata": {},
   "source": [
    "## Plots for weekdays"
   ]
  },
  {
   "cell_type": "code",
   "execution_count": 72,
   "metadata": {},
   "outputs": [
    {
     "data": {
      "image/png": "[encoded data removed]",
      "text/plain": [
       "PyPlot.Figure(PyObject <Figure size 700x200 with 1 Axes>)"
      ]
     },
     "metadata": {},
     "output_type": "display_data"
    }
   ],
   "source": [
    "using PyPlot;\n",
    "plt = PyPlot;\n",
    "\n",
    "dire = out_dir\n",
    "\n",
    "# for day in week_day_Apr_list \n",
    "for day in [18]\n",
    "\n",
    "    fig = figure(figsize=(7,2))\n",
    "\n",
    "    zone = 2:length(zone_links_dict)\n",
    "\n",
    "    zone_cost_vec_Apr_PM_user = [zone_cost_dict_Apr_PM_user[(day, zone_idx)] for zone_idx in zone]\n",
    "    zone_cost_vec_Apr_PM_social = [zone_cost_dict_Apr_PM_social[(day, zone_idx)] for zone_idx in zone]\n",
    "\n",
    "    plot(zone, zone_cost_vec_Apr_PM_user, \"o-r\", linewidth=1, label=\"user-centric\",\n",
    "    markerfacecolor=\"None\", markeredgecolor=\"r\", markeredgewidth=1)\n",
    "    \n",
    "    plot(zone, zone_cost_vec_Apr_PM_social, \"s-b\", linewidth=1, label=\"system-centric\",\n",
    "    markerfacecolor=\"None\", markeredgecolor=\"b\", markeredgewidth=1)\n",
    "\n",
    "    # legend(loc=0, fancybox=\"true\", bbox_to_anchor=(0.1, 0)) \n",
    "#     legend(loc=0, fancybox=\"true\", numpoints=1) \n",
    "    plt.legend(frameon=false, ncol=2, bbox_to_anchor=(0., 1.02, 1., .102), loc=3, mode=\"expand\", \n",
    "    borderaxespad=0.2, numpoints=1)\n",
    "    \n",
    "#     grid(\"on\")\n",
    "\n",
    "    xlim(0, 8)\n",
    "    xticks(1:1:8)\n",
    "    ylim(-400, maximum([maximum(zone_cost_vec_Apr_PM_user), maximum(zone_cost_vec_Apr_PM_social)])+600)\n",
    "\n",
    "    font1 = Dict(\"family\"=>\"serif\", \"color\"=>\"k\", \"weight\"=>\"normal\", \"size\"=>14)\n",
    "\n",
    "    xlabel(\"zone index\", fontdict=font1)\n",
    "    ylabel(\"cost\", fontdict=font1)\n",
    "\n",
    "#     savefig(\"./results/Zone_costs_Apr_$(day)_journal.pdf\")\n",
    "    \n",
    "    savefig(dire * \"Zone_costs_Apr_$(day)_journal.pdf\", dpi=300, bbox_inches=\"tight\")\n",
    "    \n",
    "end"
   ]
  },
  {
   "cell_type": "markdown",
   "metadata": {},
   "source": [
    "## Plots for weekends"
   ]
  },
  {
   "cell_type": "code",
   "execution_count": null,
   "metadata": {},
   "outputs": [],
   "source": []
  },
  {
   "cell_type": "markdown",
   "metadata": {
    "collapsed": true
   },
   "source": [
    "# Meta analysis for link flows"
   ]
  },
  {
   "cell_type": "markdown",
   "metadata": {},
   "source": [
    "## maximum and minimum link flows"
   ]
  },
  {
   "cell_type": "code",
   "execution_count": 73,
   "metadata": {},
   "outputs": [],
   "source": [
    "max_link_flow_social_dict = Dict()\n",
    "min_link_flow_social_dict = Dict()\n",
    "\n",
    "for day = 1:length(week_day_Apr_list)\n",
    "    # maximum link flow (social)\n",
    "    max_link_flow_social_dict[day] = findmax(tapSocialFlowVecDictApr[\"$(day)\"])\n",
    "\n",
    "    # minimum link flow (social)\n",
    "    min_link_flow_social_dict[day] = findmin(tapSocialFlowVecDictApr[\"$(day)\"])\n",
    "end"
   ]
  },
  {
   "cell_type": "code",
   "execution_count": 74,
   "metadata": {},
   "outputs": [],
   "source": [
    "max_link_flow_user_dict = Dict()\n",
    "min_link_flow_user_dict = Dict()\n",
    "\n",
    "for day = 1:length(week_day_Apr_list)\n",
    "    # maximum link flow (user)\n",
    "    max_link_flow_user_dict[day] = findmax(flow_observ[:, day])\n",
    "\n",
    "    # minimum link flow (user)\n",
    "    min_link_flow_user_dict[day] = findmin(flow_observ[:, day])\n",
    "end"
   ]
  },
  {
   "cell_type": "code",
   "execution_count": 75,
   "metadata": {},
   "outputs": [
    {
     "data": {
      "text/plain": [
       "Dict{Any,Any} with 21 entries:\n",
       "  18 => (5930.93, 8)\n",
       "  2  => (4352.41, 9)\n",
       "  16 => (5930.93, 8)\n",
       "  11 => (6368.06, 8)\n",
       "  21 => (5930.93, 8)\n",
       "  7  => (4147.56, 9)\n",
       "  9  => (6368.06, 8)\n",
       "  10 => (6368.06, 8)\n",
       "  19 => (5930.93, 8)\n",
       "  17 => (5930.93, 8)\n",
       "  8  => (6368.06, 8)\n",
       "  6  => (4147.56, 9)\n",
       "  4  => (4352.41, 9)\n",
       "  3  => (4352.41, 9)\n",
       "  5  => (5319.61, 8)\n",
       "  20 => (5930.93, 8)\n",
       "  13 => (5644.97, 8)\n",
       "  14 => (5644.97, 8)\n",
       "  15 => (5930.93, 8)\n",
       "  12 => (5644.97, 8)\n",
       "  1  => (4352.41, 9)"
      ]
     },
     "execution_count": 75,
     "metadata": {},
     "output_type": "execute_result"
    }
   ],
   "source": [
    "max_link_flow_social_dict"
   ]
  },
  {
   "cell_type": "code",
   "execution_count": 76,
   "metadata": {},
   "outputs": [
    {
     "data": {
      "text/plain": [
       "Dict{Any,Any} with 21 entries:\n",
       "  18 => (4529.93, 8)\n",
       "  2  => (4144.46, 8)\n",
       "  16 => (4222.3, 8)\n",
       "  11 => (3690.95, 4)\n",
       "  21 => (3790.58, 8)\n",
       "  7  => (3823.43, 9)\n",
       "  9  => (4123.54, 8)\n",
       "  10 => (3814.65, 17)\n",
       "  19 => (4058.33, 8)\n",
       "  17 => (4201.94, 8)\n",
       "  8  => (3748.88, 8)\n",
       "  6  => (3620.63, 8)\n",
       "  4  => (4245.26, 9)\n",
       "  3  => (4236.33, 8)\n",
       "  5  => (3522.5, 9)\n",
       "  20 => (3347.9, 13)\n",
       "  13 => (3823.7, 8)\n",
       "  14 => (4509.55, 8)\n",
       "  15 => (3770.39, 21)\n",
       "  12 => (4100.51, 8)\n",
       "  1  => (3670.8, 8)"
      ]
     },
     "execution_count": 76,
     "metadata": {},
     "output_type": "execute_result"
    }
   ],
   "source": [
    "max_link_flow_user_dict"
   ]
  },
  {
   "cell_type": "code",
   "execution_count": 77,
   "metadata": {},
   "outputs": [
    {
     "data": {
      "image/png": "[encoded data removed]",
      "text/plain": [
       "PyPlot.Figure(PyObject <Figure size 700x200 with 1 Axes>)"
      ]
     },
     "metadata": {},
     "output_type": "display_data"
    }
   ],
   "source": [
    "fig = figure(figsize=(7,2))\n",
    "\n",
    "day = 1:length(max_link_flow_social_dict)\n",
    "\n",
    "max_link_flow_social_vec = [max_link_flow_social_dict[idx][1] for idx in day]\n",
    "min_link_flow_social_vec = [min_link_flow_social_dict[idx][1] for idx in day]\n",
    "\n",
    "max_link_flow_user_vec = [max_link_flow_user_dict[idx][1] for idx in day]\n",
    "min_link_flow_user_vec = [min_link_flow_user_dict[idx][1] for idx in day]\n",
    "\n",
    "plot(day, max_link_flow_social_vec, \"s-b\", linewidth=1, label=\"max system-centric\", \n",
    "markerfacecolor=\"None\", markeredgecolor=\"b\", markeredgewidth=1)\n",
    "\n",
    "plot(day, max_link_flow_user_vec, \"o-r\", linewidth=1, label=\"max user-centric\", \n",
    "markerfacecolor=\"None\", markeredgecolor=\"r\", markeredgewidth=1)\n",
    "\n",
    "plot(day, min_link_flow_social_vec, \"v-m\", linewidth=1, label=\"min system-centric\",\n",
    "markerfacecolor=\"None\", markeredgecolor=\"m\", markeredgewidth=1)\n",
    "\n",
    "plot(day, min_link_flow_user_vec, \"*-g\", linewidth=1, label=\"min user-centric\",\n",
    "markerfacecolor=\"None\", markeredgecolor=\"g\", markeredgewidth=1)\n",
    "\n",
    "# legend(loc=0, fancybox=\"true\", bbox_to_anchor=(0.1, 0)) \n",
    "legend(bbox_to_anchor=(0., 1.02, 1., .102), loc=3, fancybox=\"true\", ncol=2, mode=\"expand\", \n",
    "borderaxespad=0.2, numpoints=1, frameon=false)  \n",
    "\n",
    "# grid(\"on\")\n",
    "\n",
    "xlim(0, 24)\n",
    "xticks(1:2:24)\n",
    "ylim(-300, maximum([maximum(max_link_flow_social_vec), maximum(max_link_flow_user_vec)])+500)\n",
    "\n",
    "font1 = Dict(\"family\"=>\"serif\", \"color\"=>\"k\", \"weight\"=>\"normal\", \"size\"=>14)\n",
    "\n",
    "xlabel(\"day of April 2012\", fontdict=font1)\n",
    "ylabel(\"link flow\", fontdict=font1)\n",
    "\n",
    "# savefig(\"./results/max_min_link_flow_Apr_journal.pdf\")\n",
    "\n",
    "savefig(dire * \"max_min_link_flow_Apr_journal.pdf\", dpi=300, bbox_inches=\"tight\")"
   ]
  },
  {
   "cell_type": "code",
   "execution_count": 78,
   "metadata": {},
   "outputs": [
    {
     "data": {
      "image/png": "[encoded data removed]",
      "text/plain": [
       "PyPlot.Figure(PyObject <Figure size 700x200 with 1 Axes>)"
      ]
     },
     "metadata": {},
     "output_type": "display_data"
    }
   ],
   "source": [
    "fig = figure(figsize=(7,2))\n",
    "\n",
    "day = 1:length(max_link_flow_social_dict)\n",
    "\n",
    "max_link_flow_social_vec = [max_link_flow_social_dict[idx][2] for idx in day]\n",
    "min_link_flow_social_vec = [min_link_flow_social_dict[idx][2] for idx in day]\n",
    "\n",
    "max_link_flow_user_vec = [max_link_flow_user_dict[idx][2] for idx in day]\n",
    "min_link_flow_user_vec = [min_link_flow_user_dict[idx][2] for idx in day]\n",
    "\n",
    "plot(day, max_link_flow_social_vec, \"s-b\", linewidth=1, label=\"max system-centric\", \n",
    "markerfacecolor=\"None\", markeredgecolor=\"b\", markeredgewidth=1)\n",
    "\n",
    "plot(day, max_link_flow_user_vec, \"o-r\", linewidth=1, label=\"max user-centric\", \n",
    "markerfacecolor=\"None\", markeredgecolor=\"r\", markeredgewidth=1)\n",
    "\n",
    "plot(day, min_link_flow_social_vec, \"v-m\", linewidth=1, label=\"min system-centric\",\n",
    "markerfacecolor=\"None\", markeredgecolor=\"m\", markeredgewidth=1)\n",
    "\n",
    "plot(day, min_link_flow_user_vec, \"*-g\", linewidth=1, label=\"min user-centric\",\n",
    "markerfacecolor=\"None\", markeredgecolor=\"g\", markeredgewidth=1)\n",
    "\n",
    "# legend(loc=0, fancybox=\"true\", bbox_to_anchor=(0.1, 0)) \n",
    "# legend(loc=0, fancybox=\"true\", ncol=2, mode=\"expand\", borderaxespad=0.2, numpoints=1, frameon=false)  \n",
    "\n",
    "# grid(\"on\")\n",
    "\n",
    "xlim(0, 24)\n",
    "xticks(1:2:24)\n",
    "ylim(-2, maximum([maximum(max_link_flow_social_vec), maximum(max_link_flow_user_vec)]) + 15)\n",
    "# yticks(4:164)\n",
    "\n",
    "font1 = Dict(\"family\"=>\"serif\", \"color\"=>\"k\", \"weight\"=>\"normal\", \"size\"=>14)\n",
    "\n",
    "xlabel(\"day of April 2012\", fontdict=font1)\n",
    "ylabel(\"link index\", fontdict=font1)\n",
    "\n",
    "# savefig(\"./results/max_min_link_index_Apr_journal.pdf\")\n",
    "\n",
    "savefig(dire * \"max_min_link_index_Apr_journal.pdf\", dpi=300, bbox_inches=\"tight\")"
   ]
  },
  {
   "cell_type": "markdown",
   "metadata": {},
   "source": [
    "# Meta analysis for link congestion"
   ]
  },
  {
   "cell_type": "markdown",
   "metadata": {},
   "source": [
    "Based on Greenshield's model, we could define the $\\textbf{Congestion Metric}$ for link $a$ as \n",
    "$${\\text{CM}_a} = \\left\\{ \\begin{gathered}\n",
    "  1 - \\frac{{{x_a}}}{{{m_a}}} = 1 - 4\\left[ {\\frac{{{v_a}}}{{v_a^0}} - {{\\left( {\\frac{{{v_a}}}{{v_a^0}}} \\right)}^2}} \\right],{\\text{ if }}0 \\leq {v_a} < \\frac{{v_a^0}}{2}, \\hfill \\\\\n",
    "  0,{\\text{ if }}{v_a} \\geq \\frac{{v_a^0}}{2}, \\hfill \\\\ \n",
    "\\end{gathered}  \\right.$$\n",
    "where $x_a$ and $m_a$ are the $\\textbf{link flow}$ and $\\textbf{flow capacity}$ respectively, and $v_a$ (resp., $v_a^0$) is the $\\textbf{observed speed}$ (resp., $\\textbf{free-flow speed}$) on link $a$. Note that in our analysis, we always have $\\text{CM}_a \\in [0,1]$; in particular, when ${v_a} \\geq \\frac{{v_a^0}}{2}$, we define $\\text{CM}_a = 0$, meaning the congestion (if any) on link $a$ could be ignored. In our calculations, we take $v_a^0 = {s_a}\\big/{t_a^0},$ where $s_a$ is the $\\textbf{length}$ of link $a$ and $t_a^0$ is the $\\textbf{free-flow travel time}$ of link $a$.\n",
    "\n",
    "Note that this metric only works for the case where we have speed data. However, we actually do not have speed information for social flows. Thus, we need an alternative definition of link congestion metric. Here we want to use the ratio of $\\textbf{travel time}$ to $\\textbf{free-flow travel time}$:\n",
    "$${\\text{CM}_a} = \\frac{{{t_a}\\left( {{x_a}} \\right)}}{{t_a^0}} = f\\left( {\\frac{{{x_a}}}{{{m_a}}}} \\right),$$\n",
    "where $f(\\cdot)$ is the cost function that we have estimated. In this new definition, we always have $\\text{CM}_a \\geq 1$."
   ]
  },
  {
   "cell_type": "code",
   "execution_count": 79,
   "metadata": {},
   "outputs": [
    {
     "data": {
      "text/plain": [
       "congMetric (generic function with 1 method)"
      ]
     },
     "execution_count": 79,
     "metadata": {},
     "output_type": "execute_result"
    }
   ],
   "source": [
    "function congMetric(fcoeffs, capacity, linkFlow)\n",
    "    CM = sum([fcoeffs[j] * linkFlow^(j-1) / capacity^(j-1) for j = 1:length(fcoeffs)])\n",
    "    if CM < 1\n",
    "        return 1.0\n",
    "    end\n",
    "    return CM\n",
    "end"
   ]
  },
  {
   "cell_type": "markdown",
   "metadata": {
    "collapsed": true
   },
   "source": [
    "## Scenario 1: weekdays of April 2012, PM period"
   ]
  },
  {
   "cell_type": "code",
   "execution_count": 80,
   "metadata": {},
   "outputs": [],
   "source": [
    "# calculate congestion metric for links\n",
    "\n",
    "link_congestion_metric_dict_Apr_PM_user = Dict();\n",
    "link_congestion_metric_dict_Apr_PM_social = Dict();\n",
    "\n",
    "week_day_Apr_list = [2, 3, 4, 5, 6, 9, 10, 11, 12, 13, 16, 17, 18, 19, 20, 23, 24, 25, 26, 27, 30];\n",
    "\n",
    "for day = 1:length(week_day_Apr_list)\n",
    "    for link = 1:numLinks\n",
    "        # user-centric policy\n",
    "        link_congestion_metric_dict_Apr_PM_user[(day, link)] = congMetric(fcoeffs_Apr_PM, \n",
    "        capacity_Apr_PM[link], flow_observ[:, day][link])\n",
    "\n",
    "        # system-centric policy\n",
    "        link_congestion_metric_dict_Apr_PM_social[(day, link)] = congMetric(fcoeffs_Apr_PM, \n",
    "        capacity_Apr_PM[link], tapSocialFlowVecDictApr[\"$(day)\"][link])\n",
    "    end\n",
    "end"
   ]
  },
  {
   "cell_type": "code",
   "execution_count": null,
   "metadata": {},
   "outputs": [],
   "source": []
  },
  {
   "cell_type": "code",
   "execution_count": 93,
   "metadata": {},
   "outputs": [
    {
     "name": "stdout",
     "output_type": "stream",
     "text": [
      "[1.00917, 1.01069]\n",
      "[1.01134, 1.00392]\n",
      "[1.00937, 1.00842]\n",
      "[1.00888, 1.01363]\n",
      "[1.01134, 1.00534]\n",
      "[1.01211, 1.00987]\n",
      "[1.01065, 1.00918]\n",
      "[1.01462, 1.01189]\n",
      "[1.01653, 1.01711]\n",
      "[1.00936, 1.01458]\n",
      "[1.01079, 1.00725]\n",
      "[1.00948, 1.00797]\n",
      "[1.01182, 1.01149]\n",
      "[1.00933, 1.00874]\n",
      "[1.0107, 1.01087]\n",
      "[1.01318, 1.0091]\n",
      "[1.01402, 1.00948]\n",
      "[1.01115, 1.0181]\n",
      "[1.01244, 1.01272]\n",
      "[1.01133, 1.00936]\n",
      "[1.01491, 1.01432]\n",
      "[1.013, 1.01246]\n",
      "[1.00956, 1.00563]\n",
      "[1.00868, 1.01017]\n"
     ]
    }
   ],
   "source": [
    "day = 4\n",
    "\n",
    "for link = 1:numLinks\n",
    "    println([link_congestion_metric_dict_Apr_PM_user[(day, link)], \n",
    "        link_congestion_metric_dict_Apr_PM_social[(day, link)]]);\n",
    "end"
   ]
  },
  {
   "cell_type": "code",
   "execution_count": 94,
   "metadata": {},
   "outputs": [],
   "source": [
    "link_congestion_metric_dict_Apr_PM_user_day = Dict();\n",
    "for link = 1:numLinks\n",
    "    link_congestion_metric_dict_Apr_PM_user_day[link] = link_congestion_metric_dict_Apr_PM_user[(day, link)];\n",
    "end\n",
    "sorted_vec_user = sort(collect(link_congestion_metric_dict_Apr_PM_user_day), by=x->x[2]);"
   ]
  },
  {
   "cell_type": "code",
   "execution_count": 95,
   "metadata": {},
   "outputs": [],
   "source": [
    "link_congestion_metric_dict_Apr_PM_social_day = Dict();\n",
    "for link = 1:numLinks\n",
    "    link_congestion_metric_dict_Apr_PM_social_day[link] = \n",
    "    link_congestion_metric_dict_Apr_PM_social[(day, link)];\n",
    "end\n",
    "sort(collect(link_congestion_metric_dict_Apr_PM_social_day), by=x->x[2]);"
   ]
  },
  {
   "cell_type": "code",
   "execution_count": 96,
   "metadata": {},
   "outputs": [
    {
     "data": {
      "image/png": "[encoded data removed]",
      "text/plain": [
       "PyPlot.Figure(PyObject <Figure size 700x200 with 1 Axes>)"
      ]
     },
     "metadata": {},
     "output_type": "display_data"
    }
   ],
   "source": [
    "fig = figure(figsize=(7,2))\n",
    "\n",
    "link = 1:numLinks\n",
    "\n",
    "link_congestion_metric_vec_Apr_PM_user = [log2(link_congestion_metric_dict_Apr_PM_user[(day, link_idx)]) \n",
    "    for link_idx in link]\n",
    "link_congestion_metric_vec_Apr_PM_social = [log2(link_congestion_metric_dict_Apr_PM_social[(day, link_idx)]) \n",
    "    for link_idx in link]\n",
    "\n",
    "plot(link, link_congestion_metric_vec_Apr_PM_user, \"o-r\", linewidth=1, label=\"user-centric\",\n",
    "markerfacecolor=\"None\", markeredgecolor=\"r\", markeredgewidth=1)\n",
    "\n",
    "plot(link, link_congestion_metric_vec_Apr_PM_social, \"s-b\", linewidth=1, label=\"system-centric\",\n",
    "markerfacecolor=\"None\", markeredgecolor=\"b\", markeredgewidth=1)\n",
    "\n",
    "# legend(loc=0, fancybox=\"true\", bbox_to_anchor=(0.1, 0)) \n",
    "legend(loc=0, fancybox=\"True\", numpoints=1, frameon=false)   \n",
    "\n",
    "# grid(\"on\")\n",
    "\n",
    "xlim(0, 24)\n",
    "xticks(1:1:24)\n",
    "ylim(0, maximum([maximum(link_congestion_metric_vec_Apr_PM_user), \n",
    "    maximum(link_congestion_metric_vec_Apr_PM_social)])+1)\n",
    "yticks(-0.5:0.5:4)\n",
    "\n",
    "font1 = Dict(\"family\"=>\"serif\", \"color\"=>\"k\", \"weight\"=>\"normal\", \"size\"=>14)\n",
    "\n",
    "xlabel(\"link index\", fontdict=font1)\n",
    "ylabel(\"logarithmic CM\", fontdict=font1)\n",
    "\n",
    "savefig(out_dir * \"Link_congestion_metric_Apr_$(day)_journal.pdf\")\n",
    "\n",
    "savefig(dire * \"Link_congestion_metric_Apr_$(day)_journal.pdf\", dpi=300, bbox_inches=\"tight\")"
   ]
  },
  {
   "cell_type": "markdown",
   "metadata": {},
   "source": []
  },
  {
   "cell_type": "code",
   "execution_count": null,
   "metadata": {},
   "outputs": [],
   "source": []
  },
  {
   "cell_type": "code",
   "execution_count": null,
   "metadata": {},
   "outputs": [],
   "source": []
  },
  {
   "cell_type": "code",
   "execution_count": null,
   "metadata": {},
   "outputs": [],
   "source": []
  },
  {
   "cell_type": "code",
   "execution_count": null,
   "metadata": {},
   "outputs": [],
   "source": []
  },
  {
   "cell_type": "code",
   "execution_count": null,
   "metadata": {},
   "outputs": [],
   "source": []
  }
 ],
 "metadata": {
  "anaconda-cloud": {},
  "kernelspec": {
   "display_name": "Julia 0.6.4",
   "language": "julia",
   "name": "julia-0.6"
  },
  "language_info": {
   "file_extension": ".jl",
   "mimetype": "application/julia",
   "name": "julia",
   "version": "0.6.4"
  }
 },
 "nbformat": 4,
 "nbformat_minor": 1
}
