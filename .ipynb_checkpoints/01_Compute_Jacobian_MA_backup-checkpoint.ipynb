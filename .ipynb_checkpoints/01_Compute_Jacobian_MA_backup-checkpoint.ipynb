{
 "cells": [
  {
   "cell_type": "code",
   "execution_count": 1,
   "metadata": {},
   "outputs": [
    {
     "name": "stdout",
     "output_type": "stream",
     "text": [
      "No dicts found; please check load_dicts...\n"
     ]
    }
   ],
   "source": [
    "%run ../Python_files/util.py"
   ]
  },
  {
   "cell_type": "code",
   "execution_count": 2,
   "metadata": {},
   "outputs": [],
   "source": [
    "import json"
   ]
  },
  {
   "cell_type": "code",
   "execution_count": 15,
   "metadata": {
    "collapsed": true
   },
   "outputs": [],
   "source": [
    "with open('./benchmark_data/East_Massachusetts_net_Apr_PM_ext.txt') as MA_flow:\n",
    "    MA_flow_lines = MA_flow.readlines()\n",
    "MA_links = []\n",
    "i = -8\n",
    "for line in MA_flow_lines:\n",
    "    i += 1\n",
    "    if i > 0:\n",
    "        MA_links.append(line.split('  ')[1:3])\n",
    "numLinks = i"
   ]
  },
  {
   "cell_type": "code",
   "execution_count": 16,
   "metadata": {},
   "outputs": [
    {
     "data": {
      "text/plain": [
       "74"
      ]
     },
     "execution_count": 16,
     "metadata": {},
     "output_type": "execute_result"
    }
   ],
   "source": [
    "numLinks"
   ]
  },
  {
   "cell_type": "code",
   "execution_count": 17,
   "metadata": {},
   "outputs": [],
   "source": [
    "link_list_js = [str(int(MA_links[i][0])) + ',' + str(int(MA_links[i][1])) for \\\n",
    "                i in range(len(MA_links))]\n",
    "\n",
    "link_list_pk = [str(int(MA_links[i][0])) + '->' + str(int(MA_links[i][1])) for \\\n",
    "                i in range(len(MA_links))]"
   ]
  },
  {
   "cell_type": "code",
   "execution_count": 18,
   "metadata": {},
   "outputs": [],
   "source": [
    "numNodes = max([int(MA_links[i][1]) for i in range(numLinks)])"
   ]
  },
  {
   "cell_type": "code",
   "execution_count": 19,
   "metadata": {},
   "outputs": [
    {
     "data": {
      "text/plain": [
       "22"
      ]
     },
     "execution_count": 19,
     "metadata": {},
     "output_type": "execute_result"
    }
   ],
   "source": [
    "numNodes"
   ]
  },
  {
   "cell_type": "code",
   "execution_count": 20,
   "metadata": {},
   "outputs": [],
   "source": [
    "from collections import defaultdict\n",
    "\n",
    "node_neighbors_dict = defaultdict(list)\n",
    "\n",
    "for node in range(numNodes):\n",
    "    for link in MA_links:\n",
    "        if node == int(link[0]):\n",
    "            node_neighbors_dict[str(node)].append(int(link[1]))"
   ]
  },
  {
   "cell_type": "code",
   "execution_count": 21,
   "metadata": {
    "collapsed": true
   },
   "outputs": [],
   "source": [
    "with open('./benchmark_data/East_Massachusetts_trips_Apr_PM_ext.txt') as MA_trips:\n",
    "    MA_trips_lines = MA_trips.readlines()"
   ]
  },
  {
   "cell_type": "code",
   "execution_count": 22,
   "metadata": {},
   "outputs": [],
   "source": [
    "numZones = int(MA_trips_lines[0].split(' ')[3])"
   ]
  },
  {
   "cell_type": "code",
   "execution_count": 23,
   "metadata": {},
   "outputs": [
    {
     "data": {
      "text/plain": [
       "22"
      ]
     },
     "execution_count": 23,
     "metadata": {},
     "output_type": "execute_result"
    }
   ],
   "source": [
    "numZones"
   ]
  },
  {
   "cell_type": "code",
   "execution_count": 24,
   "metadata": {},
   "outputs": [],
   "source": [
    "od_pairs = []\n",
    "for i in range(numZones+1)[1:]:\n",
    "    for j in range(numZones+1)[1:]:\n",
    "        if i != j:\n",
    "            od_pairs.append([i, j])\n",
    "            \n",
    "numODpairs = len(od_pairs)"
   ]
  },
  {
   "cell_type": "code",
   "execution_count": 25,
   "metadata": {
    "collapsed": true
   },
   "outputs": [],
   "source": [
    "# create O-D pair labels\n",
    "# create a dictionary mapping O-D pairs to labels\n",
    "\n",
    "import json\n",
    "\n",
    "OD_pair_label_dict = {}\n",
    "OD_pair_label_dict_ = {}\n",
    "\n",
    "label = 1\n",
    "for i in range(numZones + 1)[1:]:\n",
    "    for j in range(numZones + 1)[1:]:\n",
    "        key = (i, j)\n",
    "        OD_pair_label_dict[str(key)] = label\n",
    "        OD_pair_label_dict_[str(label)] = key\n",
    "        label += 1\n",
    "        \n",
    "with open('od_pair_label_dict_MA_ext.json', 'w') as json_file:\n",
    "    json.dump(OD_pair_label_dict, json_file)\n",
    "    \n",
    "with open('od_pair_label_dict__MA_ext.json', 'w') as json_file:\n",
    "    json.dump(OD_pair_label_dict_, json_file)\n",
    "\n",
    "\n",
    "OD_pair_label_dict_refined = {}\n",
    "OD_pair_label_dict_refined_ = {}\n",
    "\n",
    "label = 1\n",
    "for i in range(numZones + 1)[1:]:\n",
    "    for j in range(numZones + 1)[1:]:\n",
    "        if i != j:\n",
    "            key = (i, j)\n",
    "            OD_pair_label_dict_refined[str(key)] = label\n",
    "            OD_pair_label_dict_refined_[str(label)] = key\n",
    "            label += 1\n",
    "        \n",
    "with open('od_pair_label_dict_MA_refined_ext.json', 'w') as json_file:\n",
    "    json.dump(OD_pair_label_dict_refined, json_file)\n",
    "    \n",
    "with open('od_pair_label_dict__MA_refined_ext.json', 'w') as json_file:\n",
    "    json.dump(OD_pair_label_dict_refined_, json_file)\n",
    "    \n",
    "    \n",
    "# create link labels\n",
    "# create a dictionary mapping directed links to labels\n",
    "link_label_dict = {}\n",
    "link_label_dict_ = {}\n",
    "\n",
    "for i in range(numLinks):\n",
    "    link_label_dict[str(i)] = link_list_js[i]\n",
    "\n",
    "for i in range(numLinks):\n",
    "    link_label_dict_[link_list_js[i]] = i\n",
    "\n",
    "with open('link_label_dict_MA_ext.json', 'w') as json_file:\n",
    "    json.dump(link_label_dict, json_file)\n",
    "    \n",
    "with open('link_label_dict_MA__ext.json', 'w') as json_file:\n",
    "    json.dump(link_label_dict_, json_file)\n",
    "    \n",
    "# create link labels\n",
    "# create a dictionary mapping directed links to labels\n",
    "link_label_dict = {}\n",
    "link_label_dict_ = {}\n",
    "\n",
    "for i in range(numLinks):\n",
    "    link_label_dict[str(i)] = link_list_pk[i]\n",
    "\n",
    "for i in range(numLinks):\n",
    "    link_label_dict_[link_list_pk[i]] = i\n",
    "\n",
    "zdump(link_label_dict, 'link_label_dict_MA_network_ext.pkz')\n",
    "zdump(link_label_dict_, 'link_label_dict_MA_network__ext.pkz')"
   ]
  },
  {
   "cell_type": "code",
   "execution_count": 28,
   "metadata": {
    "collapsed": true
   },
   "outputs": [],
   "source": [
    "link_length_list = []\n",
    "with open('./benchmark_data/East_Massachusetts_net_Apr_PM_ext.txt', 'r') as f:\n",
    "    read_data = f.readlines()\n",
    "    flag = 0\n",
    "    for row in read_data:\n",
    "        if ';' in row:\n",
    "            flag += 1\n",
    "            if flag > 1:\n",
    "                link_length_list.append(float(row.split('  ')[5]))"
   ]
  },
  {
   "cell_type": "code",
   "execution_count": 31,
   "metadata": {},
   "outputs": [
    {
     "data": {
      "text/plain": [
       "[0.161995,\n",
       " 0.183317,\n",
       " 0.181959,\n",
       " 0.179745,\n",
       " 0.34941,\n",
       " 0.348965,\n",
       " 0.109833,\n",
       " 0.107958,\n",
       " 0.117963,\n",
       " 0.12994,\n",
       " 0.282064,\n",
       " 0.284951,\n",
       " 0.364935,\n",
       " 0.362124,\n",
       " 0.06363,\n",
       " 0.095444,\n",
       " 0.071077,\n",
       " 0.106616,\n",
       " 0.043136,\n",
       " 0.045919,\n",
       " 0.173468,\n",
       " 0.163501,\n",
       " 0.177869,\n",
       " 0.19188,\n",
       " 0.325329,\n",
       " 0.332162,\n",
       " 0.068599,\n",
       " 0.068377,\n",
       " 0.09917,\n",
       " 0.103701,\n",
       " 0.101832,\n",
       " 0.102047,\n",
       " 0.291648,\n",
       " 0.289254,\n",
       " 0.211194,\n",
       " 0.202784,\n",
       " 0.209099,\n",
       " 0.212578,\n",
       " 0.06683,\n",
       " 0.066264,\n",
       " 0.11861,\n",
       " 0.119511,\n",
       " 0.467869,\n",
       " 0.474671,\n",
       " 0.069387,\n",
       " 0.104081,\n",
       " 0.069605,\n",
       " 0.104407,\n",
       " 0.091506,\n",
       " 0.137259,\n",
       " 0.096101,\n",
       " 0.144152,\n",
       " 0.157933,\n",
       " 0.15808,\n",
       " 0.104414,\n",
       " 0.156622,\n",
       " 0.103075,\n",
       " 0.154612,\n",
       " 0.131017,\n",
       " 0.130002,\n",
       " 0.414111,\n",
       " 0.465782,\n",
       " 0.158994,\n",
       " 0.169855,\n",
       " 0.376906,\n",
       " 0.384494,\n",
       " 0.079154,\n",
       " 0.118731,\n",
       " 0.079134,\n",
       " 0.118701,\n",
       " 0.245197,\n",
       " 0.243392,\n",
       " 0.194284,\n",
       " 0.208304]"
      ]
     },
     "execution_count": 31,
     "metadata": {},
     "output_type": "execute_result"
    }
   ],
   "source": [
    "link_length_list"
   ]
  },
  {
   "cell_type": "code",
   "execution_count": 32,
   "metadata": {},
   "outputs": [],
   "source": [
    "link_label_dict = zload('link_label_dict_MA_network_ext.pkz')\n",
    "link_label_dict_ = zload('link_label_dict_MA_network__ext.pkz')"
   ]
  },
  {
   "cell_type": "code",
   "execution_count": 33,
   "metadata": {},
   "outputs": [],
   "source": [
    "import networkx as nx\n",
    "\n",
    "def jacobianSpiess(numNodes, numLinks, numODpairs, od_pairs, link_list_js, link_length_list):\n",
    "    MA = nx.DiGraph()\n",
    "\n",
    "    MA.add_nodes_from(range(numNodes+1)[1:])\n",
    "\n",
    "    MA_weighted_edges = [(int(link_list_js[i].split(',')[0]), int(link_list_js[i].split(',')[1]), \\\n",
    "                             link_length_list[i]) for i in range(len(link_list_js))]\n",
    "\n",
    "    MA.add_weighted_edges_from(MA_weighted_edges)\n",
    "\n",
    "    path = nx.all_pairs_dijkstra_path(MA)\n",
    "\n",
    "    od_route_dict = {}\n",
    "    for od in od_pairs:\n",
    "        origi = od[0]\n",
    "        desti = od[1]\n",
    "        key = OD_pair_label_dict_refined[str((origi, desti))]\n",
    "        route = str(path[origi][desti]).replace(\"[\", \"\").replace(\", \", \"->\").replace(\"]\", \"\")\n",
    "        od_route_dict[key] = route\n",
    "\n",
    "    od_link_dict = {}\n",
    "    for idx in range(len(od_route_dict)):\n",
    "        od_link_list = []\n",
    "        od_node_list = od_route_dict[idx+1].split('->')\n",
    "        for i in range(len(od_node_list)):\n",
    "            if i < len(od_node_list) - 1:\n",
    "                od_link_list.append(link_label_dict_[od_node_list[i] + '->' + od_node_list[i+1]])\n",
    "        od_link_dict[idx] = od_link_list\n",
    "\n",
    "    jacob = np.zeros((numODpairs, numLinks))\n",
    "\n",
    "    for i in range(numODpairs):\n",
    "        for j in range(numLinks):\n",
    "            if j in od_link_dict[i]:\n",
    "                jacob[i, j] = 1\n",
    "\n",
    "    return jacob"
   ]
  },
  {
   "cell_type": "code",
   "execution_count": 34,
   "metadata": {},
   "outputs": [],
   "source": [
    "jacob = jacobianSpiess(numNodes, numLinks, numODpairs, od_pairs, link_list_js, link_length_list)"
   ]
  },
  {
   "cell_type": "code",
   "execution_count": 36,
   "metadata": {},
   "outputs": [
    {
     "data": {
      "text/plain": [
       "(462, 74)"
      ]
     },
     "execution_count": 36,
     "metadata": {},
     "output_type": "execute_result"
    }
   ],
   "source": [
    "jacob.shape"
   ]
  },
  {
   "cell_type": "code",
   "execution_count": 37,
   "metadata": {},
   "outputs": [
    {
     "data": {
      "text/plain": [
       "array([[ 1.,  0.,  0., ...,  0.,  0.,  0.],\n",
       "       [ 0.,  0.,  1., ...,  0.,  0.,  0.],\n",
       "       [ 1.,  0.,  0., ...,  0.,  0.,  0.],\n",
       "       ..., \n",
       "       [ 0.,  0.,  0., ...,  0.,  0.,  0.],\n",
       "       [ 0.,  0.,  0., ...,  0.,  0.,  0.],\n",
       "       [ 0.,  0.,  0., ...,  0.,  0.,  0.]])"
      ]
     },
     "execution_count": 37,
     "metadata": {},
     "output_type": "execute_result"
    }
   ],
   "source": [
    "jacob"
   ]
  },
  {
   "cell_type": "code",
   "execution_count": null,
   "metadata": {
    "collapsed": true
   },
   "outputs": [],
   "source": []
  }
 ],
 "metadata": {
  "kernelspec": {
   "display_name": "Python 2",
   "language": "python",
   "name": "python2"
  },
  "language_info": {
   "codemirror_mode": {
    "name": "ipython",
    "version": 2
   },
   "file_extension": ".py",
   "mimetype": "text/x-python",
   "name": "python",
   "nbconvert_exporter": "python",
   "pygments_lexer": "ipython2",
   "version": "2.7.14"
  }
 },
 "nbformat": 4,
 "nbformat_minor": 1
}
