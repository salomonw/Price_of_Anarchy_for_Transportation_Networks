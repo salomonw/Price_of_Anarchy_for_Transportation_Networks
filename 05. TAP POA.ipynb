{
 "cells": [
  {
   "cell_type": "code",
   "execution_count": 1,
   "metadata": {},
   "outputs": [],
   "source": [
    "#Importing parameters\n",
    "using PyCall\n",
    "unshift!(PyVector(pyimport(\"sys\")[\"path\"]), \"\");\n",
    "@pyimport parameters_julia\n",
    "\n",
    "out_dir = parameters_julia.out_dir\n",
    "files_ID = parameters_julia.files_ID\n",
    "month_w = parameters_julia.month_w\n",
    "year = parameters_julia.year\n",
    "instances_ = parameters_julia.instances_ID\n",
    "\n",
    "\n",
    "instance_ = instances_[3];"
   ]
  },
  {
   "cell_type": "code",
   "execution_count": 2,
   "metadata": {},
   "outputs": [],
   "source": [
    "using JSON\n",
    "\n",
    "instance1 = instance_\n",
    "\n",
    "open(out_dir * \"instance_comm.txt\", \"w\") do f\n",
    "    write(f, instance1)\n",
    "end\n",
    "\n",
    "\n",
    "\n",
    "#load OD pair-route incidence\n",
    "odPairRoute = readstring(out_dir * \"od_pair_route_incidence_\" * instance1 *  files_ID * \".json\");\n",
    "odPairRoute = JSON.parse(odPairRoute);\n",
    "\n",
    "#load link-route incidence\n",
    "linkRoute = readstring(out_dir * \"link_route_incidence_\" * instance1 *  files_ID * \".json\");\n",
    "linkRoute = JSON.parse(linkRoute);\n",
    "\n",
    "#load OD pair labels\n",
    "odPairLabel = readstring(out_dir *  \"od_pair_label_dict_refined.json\");\n",
    "odPairLabel = JSON.parse(odPairLabel);\n",
    "\n",
    "odPairLabel_ = readstring(out_dir  *\"od_pair_label_dict__refined.json\");\n",
    "odPairLabel_ = JSON.parse(odPairLabel_);\n",
    "\n",
    "#load link labels\n",
    "linkLabel = readstring(out_dir * \"link_label_dict.json\");\n",
    "linkLabel = JSON.parse(linkLabel);\n",
    "\n",
    "linkLabel_ = readstring(out_dir * \"link_label_dict_.json\");\n",
    "linkLabel_ = JSON.parse(linkLabel_);\n",
    "\n",
    "#load node-link incidence\n",
    "nodeLink = readstring(out_dir * \"node_link_incidence.json\");\n",
    "nodeLink = JSON.parse(nodeLink);"
   ]
  },
  {
   "cell_type": "code",
   "execution_count": null,
   "metadata": {},
   "outputs": [],
   "source": []
  },
  {
   "cell_type": "code",
   "execution_count": 3,
   "metadata": {},
   "outputs": [],
   "source": [
    "include(\"Julia_files/load_network_uni_class.jl\");"
   ]
  },
  {
   "cell_type": "code",
   "execution_count": 4,
   "metadata": {},
   "outputs": [],
   "source": [
    "ta_data = load_ta_network_(out_dir, files_ID, month_w, instance1);"
   ]
  },
  {
   "cell_type": "code",
   "execution_count": 5,
   "metadata": {},
   "outputs": [],
   "source": [
    "capacity = ta_data.capacity;\n",
    "free_flow_time = ta_data.free_flow_time;"
   ]
  },
  {
   "cell_type": "code",
   "execution_count": 6,
   "metadata": {},
   "outputs": [],
   "source": [
    "############\n",
    "#Read in the demand file\n",
    "file = open(out_dir * \"data_traffic_assignment_uni-class/\" * files_ID * \"_trips_\" * month_w * \"_\" * instance1 * \".txt\")\n",
    "demands = Dict()\n",
    "s = 0\n",
    "for line in eachline(file)\n",
    "    if contains(line, \"Origin\")\n",
    "        s = Int(parse(Float64,(split(line)[2])))\n",
    "    elseif contains(line, \";\")\n",
    "        pairs = split(line, \";\")\n",
    "        for pair in pairs[1:end-1]\n",
    "            if !contains(pair, \"\\n\")\n",
    "                pair_vals = split(pair, \":\")\n",
    "                t, demand = Int(parse(Float64,pair_vals[1])), parse(Float64,pair_vals[2])\n",
    "                demands[(s,t)] = demand \n",
    "            end\n",
    "        end\n",
    "    end\n",
    "end                \n",
    "close(file);"
   ]
  },
  {
   "cell_type": "code",
   "execution_count": 7,
   "metadata": {},
   "outputs": [
    {
     "data": {
      "text/plain": [
       "Dict{Any,Any} with 64 entries:\n",
       "  (3, 6) => 1824.91\n",
       "  (4, 4) => 0.0\n",
       "  (3, 1) => 1026.72\n",
       "  (4, 5) => 1152.71\n",
       "  (2, 4) => 1352.56\n",
       "  (6, 5) => 1438.48\n",
       "  (8, 4) => 1846.1\n",
       "  (1, 2) => 30.5014\n",
       "  (5, 1) => 422.279\n",
       "  (3, 4) => 425.322\n",
       "  (8, 2) => 187.473\n",
       "  (2, 3) => 6.88617\n",
       "  (2, 6) => 7.80625\n",
       "  (5, 4) => 598.79\n",
       "  (2, 1) => 1723.62\n",
       "  (2, 5) => 7.52821\n",
       "  (8, 5) => 234.213\n",
       "  (1, 4) => 30.372\n",
       "  (2, 8) => 8.1608\n",
       "  (5, 8) => 530.366\n",
       "  (4, 8) => 4845.33\n",
       "  (7, 8) => 1894.53\n",
       "  (1, 1) => 0.0\n",
       "  (7, 7) => 0.0\n",
       "  (5, 7) => 503.606\n",
       "  ⋮      => ⋮"
      ]
     },
     "execution_count": 7,
     "metadata": {},
     "output_type": "execute_result"
    }
   ],
   "source": [
    "demands"
   ]
  },
  {
   "cell_type": "code",
   "execution_count": 8,
   "metadata": {},
   "outputs": [],
   "source": [
    "demandsVec = zeros(length(odPairLabel_))\n",
    "\n",
    "for i = 1:length(demandsVec)\n",
    "    demandsVec[i] = demands[odPairLabel_[\"$i\"][1], odPairLabel_[\"$i\"][2]]\n",
    "end"
   ]
  },
  {
   "cell_type": "code",
   "execution_count": 9,
   "metadata": {},
   "outputs": [
    {
     "data": {
      "text/plain": [
       "56-element Array{Float64,1}:\n",
       "   30.5014 \n",
       "  984.779  \n",
       "   30.372  \n",
       "  667.846  \n",
       "  670.645  \n",
       "  411.881  \n",
       "  436.342  \n",
       " 1723.62   \n",
       "    6.88617\n",
       " 1352.56   \n",
       "    7.52821\n",
       "    7.80625\n",
       "    7.72761\n",
       "    ⋮      \n",
       "  325.357  \n",
       "  322.824  \n",
       "  816.791  \n",
       "  589.363  \n",
       " 1894.53   \n",
       "  175.974  \n",
       "  187.473  \n",
       "  185.953  \n",
       " 1846.1    \n",
       "  234.213  \n",
       "  227.518  \n",
       "  377.775  "
      ]
     },
     "execution_count": 9,
     "metadata": {},
     "output_type": "execute_result"
    }
   ],
   "source": [
    "demandsVec"
   ]
  },
  {
   "cell_type": "code",
   "execution_count": 10,
   "metadata": {},
   "outputs": [],
   "source": [
    "for key=keys(odPairRoute)\n",
    "    if contains(key, \"56-\")\n",
    "        println(key)\n",
    "    end\n",
    "end"
   ]
  },
  {
   "cell_type": "code",
   "execution_count": 11,
   "metadata": {},
   "outputs": [
    {
     "data": {
      "text/plain": [
       "Dict{String,Any} with 192 entries:\n",
       "  \"21-61\" => 1.0\n",
       "  \"22-81\" => 1.0\n",
       "  \"9-8\"   => 1.0\n",
       "  \"22-69\" => 1.0\n",
       "  \"7-62\"  => 1.0\n",
       "  \"7-64\"  => 1.0\n",
       "  \"8-5\"   => 1.0\n",
       "  \"13-63\" => 1.0\n",
       "  \"3-61\"  => 1.0\n",
       "  \"13-73\" => 1.0\n",
       "  \"1-11\"  => 1.0\n",
       "  \"15-48\" => 1.0\n",
       "  \"7-52\"  => 1.0\n",
       "  \"24-78\" => 1.0\n",
       "  \"17-53\" => 1.0\n",
       "  \"4-5\"   => 1.0\n",
       "  \"24-74\" => 1.0\n",
       "  \"21-75\" => 1.0\n",
       "  \"9-33\"  => 1.0\n",
       "  \"24-81\" => 1.0\n",
       "  \"1-5\"   => 1.0\n",
       "  \"2-6\"   => 1.0\n",
       "  \"20-50\" => 1.0\n",
       "  \"22-64\" => 1.0\n",
       "  \"3-62\"  => 1.0\n",
       "  ⋮       => ⋮"
      ]
     },
     "execution_count": 11,
     "metadata": {},
     "output_type": "execute_result"
    },
    {
     "name": "stdout",
     "output_type": "stream",
     "text": [
      "56-82\n"
     ]
    }
   ],
   "source": [
    "linkRoute\n"
   ]
  },
  {
   "cell_type": "code",
   "execution_count": 12,
   "metadata": {},
   "outputs": [
    {
     "data": {
      "text/plain": [
       "6"
      ]
     },
     "execution_count": 12,
     "metadata": {},
     "output_type": "execute_result"
    }
   ],
   "source": [
    "coeffs_dict_Apr_PM_ = readstring(out_dir * \"coeffs_dict_\" * month_w *  \"_\" * instance1 * \".json\")\n",
    "coeffs_dict_Apr_PM_ = JSON.parse(coeffs_dict_Apr_PM_)\n",
    "fcoeffs = coeffs_dict_Apr_PM_[\"(5, 1.5, 1000.0, 1)\"]\n",
    "polyDeg = length(fcoeffs)"
   ]
  },
  {
   "cell_type": "code",
   "execution_count": 13,
   "metadata": {
    "scrolled": false
   },
   "outputs": [
    {
     "name": "stdout",
     "output_type": "stream",
     "text": [
      "\n",
      "******************************************************************************\n",
      "This program contains Ipopt, a library for large-scale nonlinear optimization.\n",
      " Ipopt is released as open source code under the Eclipse Public License (EPL).\n",
      "         For more information visit http://projects.coin-or.org/Ipopt\n",
      "******************************************************************************\n",
      "\n",
      "This is Ipopt version 3.12.8, running with linear solver mumps.\n",
      "NOTE: Other linear solvers might be more efficient (see Ipopt documentation).\n",
      "\n",
      "Number of nonzeros in equality constraint Jacobian...:      294\n",
      "Number of nonzeros in inequality constraint Jacobian.:      192\n",
      "Number of nonzeros in Lagrangian Hessian.............:       24\n",
      "\n",
      "Total number of variables............................:      216\n",
      "                     variables with only lower bounds:        0\n",
      "                variables with lower and upper bounds:        0\n",
      "                     variables with only upper bounds:        0\n",
      "Total number of equality constraints.................:       80\n",
      "Total number of inequality constraints...............:      192\n",
      "        inequality constraints with only lower bounds:      192\n",
      "   inequality constraints with lower and upper bounds:        0\n",
      "        inequality constraints with only upper bounds:        0\n",
      "\n",
      "iter    objective    inf_pr   inf_du lg(mu)  ||d||  lg(rg) alpha_du alpha_pr  ls\n",
      "   0 0.0000000e+000 4.85e+003 5.00e-001  -1.0 0.00e+000    -  0.00e+000 0.00e+000   0\n",
      "WARNING: Problem in step computation; switching to emergency mode.\n",
      "   1r0.0000000e+000 4.85e+003 9.99e+002   3.7 0.00e+000  20.0 0.00e+000 0.00e+000R  1\n",
      "   2r2.4569096e+001 4.84e+003 9.96e+002   3.7 3.42e+003    -  3.43e-003 3.44e-003f  1\n",
      "   3r3.9568342e+001 4.84e+003 6.63e+002   1.6 1.63e+001    -  8.14e-001 5.14e-001f  1\n",
      "   4r1.0434261e+002 4.83e+003 5.26e+002   1.6 8.11e+001    -  2.32e-001 2.06e-001f  1\n",
      "   5r1.4772737e+002 4.83e+003 5.50e+002   0.9 9.56e+001    -  1.42e-001 1.70e-001f  1\n",
      "   6r2.5789159e+002 4.81e+003 4.43e+002   0.9 2.08e+002    -  1.07e-001 1.94e-001f  1\n",
      "   7r3.9711364e+002 4.78e+003 3.49e+002   0.9 2.10e+002    -  1.40e-001 2.13e-001f  1\n",
      "   8r5.3063201e+002 4.75e+003 2.74e+002   0.9 2.43e+002    -  2.20e-001 2.15e-001f  1\n",
      "   9r8.3806777e+002 4.70e+003 2.30e+002   0.9 2.23e+002    -  1.12e-001 5.94e-001f  1\n",
      "iter    objective    inf_pr   inf_du lg(mu)  ||d||  lg(rg) alpha_du alpha_pr  ls\n",
      "  10r1.0272095e+003 4.67e+003 1.45e+002   0.9 9.63e+001    -  4.74e-001 8.71e-001f  1\n",
      "  11r1.0613175e+003 4.67e+003 6.69e+001   0.9 3.49e+001    -  5.29e-001 1.00e+000f  1\n",
      "  12r1.0623968e+003 4.67e+003 4.64e+002   0.2 7.40e+000    -  7.92e-001 9.91e-001f  1\n",
      "  13r1.2344810e+003 4.64e+003 4.03e+002   0.2 4.37e+002    -  4.21e-001 1.32e-001f  1\n",
      "  14r1.5519372e+003 4.58e+003 2.89e+002   0.2 3.78e+002    -  4.97e-001 2.82e-001f  1\n",
      "  15r1.5563937e+003 4.58e+003 2.88e+002   0.2 2.69e+002    -  8.39e-001 5.53e-003f  1\n",
      "  16r1.8379465e+003 4.53e+003 2.03e+002   0.2 2.61e+002    -  1.00e+000 3.52e-001f  1\n",
      "  17r1.8462758e+003 4.53e+003 2.14e+002   0.2 1.66e+002    -  6.96e-001 1.62e-002f  1\n",
      "  18r1.9176634e+003 4.52e+003 1.82e+002   0.2 1.64e+002    -  6.39e-002 1.42e-001f  1\n",
      "  19r1.9362805e+003 4.52e+003 1.89e+002   0.2 1.39e+002    -  4.24e-001 4.35e-002f  1\n",
      "iter    objective    inf_pr   inf_du lg(mu)  ||d||  lg(rg) alpha_du alpha_pr  ls\n",
      "  20r2.3289892e+003 4.45e+003 7.41e+001   0.2 1.34e+002    -  5.03e-002 9.59e-001f  1\n",
      "  21r2.3380246e+003 4.45e+003 4.58e+002  -0.5 6.00e+000    -  1.00e+000 5.32e-001f  1\n",
      "  22r2.5377644e+003 4.41e+003 4.26e+002  -0.5 9.73e+002    -  6.49e-002 7.00e-002f  1\n",
      "  23r2.5408981e+003 4.41e+003 4.26e+002  -0.5 8.90e+002    -  3.37e-001 1.18e-003f  1\n",
      "  24r2.6427851e+003 4.39e+003 4.09e+002  -0.5 8.62e+002    -  1.92e-001 3.85e-002f  1\n",
      "  25r2.6485376e+003 4.39e+003 4.08e+002  -0.5 7.98e+002    -  3.69e-001 2.25e-003f  1\n",
      "  26r2.7592194e+003 4.37e+003 3.91e+002  -0.5 7.96e+002    -  2.42e-001 4.34e-002f  1\n",
      "  27r2.7952556e+003 4.37e+003 3.85e+002  -0.5 7.61e+002    -  4.29e-001 1.50e-002f  1\n",
      "  28r2.9310023e+003 4.34e+003 3.63e+002  -0.5 7.50e+002    -  4.00e-001 5.73e-002f  1\n",
      "  29r3.0705704e+003 4.32e+003 3.40e+002  -0.5 7.09e+002    -  1.98e-001 6.29e-002f  1\n",
      "iter    objective    inf_pr   inf_du lg(mu)  ||d||  lg(rg) alpha_du alpha_pr  ls\n",
      "  30r3.1034049e+003 4.31e+003 3.34e+002  -0.5 6.55e+002    -  5.15e-003 1.61e-002f  1\n",
      "  31r3.1682829e+003 4.30e+003 3.49e+002  -0.5 6.41e+002    -  8.84e-001 3.23e-002f  1\n",
      "  32r3.2668697e+003 4.28e+003 3.31e+002  -0.5 5.29e+002    -  4.18e-002 5.23e-002f  1\n",
      "  33r3.3347925e+003 4.27e+003 3.18e+002  -0.5 5.02e+002    -  6.63e-002 3.90e-002f  1\n",
      "  34r3.5061786e+003 4.23e+003 2.88e+002  -0.5 4.83e+002    -  3.78e-001 1.02e-001f  1\n",
      "  35r3.5199755e+003 4.23e+003 2.92e+002  -0.5 4.21e+002    -  4.42e-001 9.17e-003f  1\n",
      "  36r3.6588833e+003 4.21e+003 2.69e+002  -0.5 4.16e+002    -  4.92e-001 9.32e-002f  1\n",
      "  37r3.7014048e+003 4.20e+003 2.61e+002  -0.5 3.62e+002    -  5.90e-002 3.17e-002f  1\n",
      "  38r3.8275480e+003 4.17e+003 2.44e+002  -0.5 3.54e+002    -  6.24e-001 9.70e-002f  1\n",
      "  39r3.9891151e+003 4.14e+003 2.11e+002  -0.5 3.22e+002    -  2.76e-001 1.39e-001f  1\n",
      "iter    objective    inf_pr   inf_du lg(mu)  ||d||  lg(rg) alpha_du alpha_pr  ls\n",
      "  40r4.4467981e+003 4.05e+003 1.15e+002  -0.5 2.77e+002    -  1.00e+000 4.59e-001f  1\n",
      "  41r4.4535138e+003 4.05e+003 1.14e+002  -0.5 1.50e+002    -  8.43e-001 1.25e-002f  1\n",
      "  42r4.5622472e+003 4.03e+003 9.05e+001  -0.5 1.48e+002    -  1.00e+000 2.06e-001f  1\n",
      "  43r4.6658915e+003 4.01e+003 6.81e+001  -0.5 1.18e+002    -  1.00e+000 2.47e-001f  1\n",
      "  44r4.8988012e+003 3.96e+003 1.80e+001  -0.5 8.85e+001    -  1.00e+000 7.36e-001f  1\n",
      "  45r4.9023582e+003 3.96e+003 4.37e+002  -1.2 2.30e+001    -  1.00e+000 4.26e-002f  1\n",
      "  46r4.9112022e+003 3.96e+003 4.36e+002  -1.2 1.54e+003    -  5.47e-002 1.61e-003f  1\n",
      "  47r5.1873604e+003 3.90e+003 4.14e+002  -1.2 1.54e+003    -  1.75e-002 5.05e-002f  1\n",
      "  48r5.4084178e+003 3.86e+003 3.96e+002  -1.2 1.46e+003    -  7.09e-004 4.24e-002f  1\n",
      "  49r5.4114079e+003 3.86e+003 3.96e+002  -1.2 1.39e+003    -  5.13e-003 5.96e-004f  1\n",
      "iter    objective    inf_pr   inf_du lg(mu)  ||d||  lg(rg) alpha_du alpha_pr  ls\n",
      "  50r6.0662670e+003 3.73e+003 3.45e+002  -1.2 1.37e+003    -  1.18e-003 1.28e-001f  1\n",
      "  51r6.0728832e+003 3.73e+003 3.45e+002  -1.2 1.20e+003    -  3.23e-002 1.48e-003f  1\n",
      "  52r6.0742798e+003 3.73e+003 3.45e+002  -1.2 1.21e+003    -  1.14e-003 3.10e-004f  1\n",
      "  53r6.1923006e+003 3.70e+003 3.36e+002  -1.2 1.23e+003    -  1.60e-003 2.61e-002f  1\n",
      "  54r6.1934902e+003 3.70e+003 3.36e+002  -1.2 1.18e+003    -  1.52e-001 2.71e-004f  1\n",
      "  55r6.1992725e+003 3.70e+003 3.35e+002  -1.2 1.09e+003    -  3.59e-003 1.32e-003f  1\n",
      "  56r7.1672351e+003 3.51e+003 2.61e+002  -1.2 1.10e+003    -  2.02e-004 2.21e-001f  1\n",
      "  57r7.1769206e+003 3.51e+003 2.60e+002  -1.2 8.57e+002    -  7.50e-002 2.84e-003f  1\n",
      "  58r7.1772999e+003 3.51e+003 2.60e+002  -1.2 8.57e+002    -  1.43e-003 1.12e-004f  1\n",
      "  59r7.3334773e+003 3.48e+003 2.48e+002  -1.2 8.58e+002    -  8.87e-003 4.62e-002f  1\n",
      "iter    objective    inf_pr   inf_du lg(mu)  ||d||  lg(rg) alpha_du alpha_pr  ls\n",
      "  60r7.3350507e+003 3.48e+003 2.48e+002  -1.2 8.19e+002    -  1.50e-001 4.89e-004f  1\n",
      "  61r7.3387887e+003 3.48e+003 2.48e+002  -1.2 8.18e+002    -  1.89e-003 1.29e-003f  1\n",
      "  62r7.6168652e+003 3.42e+003 2.24e+002  -1.2 8.36e+002    -  3.23e-004 9.59e-002f  1\n",
      "  63r7.6198479e+003 3.41e+003 2.24e+002  -1.2 7.59e+002    -  1.87e-002 1.14e-003f  1\n",
      "  64r7.6286878e+003 3.41e+003 2.23e+002  -1.2 7.59e+002    -  1.94e-003 3.40e-003f  1\n",
      "  65r7.6942839e+003 3.40e+003 2.17e+002  -1.2 7.57e+002    -  2.68e-001 2.53e-002f  1\n",
      "  66r8.1454678e+003 3.30e+003 1.79e+002  -1.2 7.38e+002    -  3.25e-002 1.79e-001f  1\n",
      "  67r8.1500015e+003 3.30e+003 1.78e+002  -1.2 6.06e+002    -  3.83e-002 2.19e-003f  1\n",
      "  68r8.1504394e+003 3.30e+003 1.78e+002  -1.2 5.93e+002    -  1.24e-003 2.13e-004f  1\n",
      "  69r8.2677632e+003 3.27e+003 1.68e+002  -1.2 5.94e+002    -  5.35e-001 5.71e-002f  1\n",
      "iter    objective    inf_pr   inf_du lg(mu)  ||d||  lg(rg) alpha_du alpha_pr  ls\n",
      "  70r8.2742455e+003 3.27e+003 1.67e+002  -1.2 5.57e+002    -  9.36e-003 3.37e-003f  1\n",
      "  71r8.5943403e+003 3.20e+003 1.40e+002  -1.2 5.55e+002    -  1.95e-004 1.66e-001f  1\n",
      "  72r8.5978633e+003 3.20e+003 1.39e+002  -1.2 4.63e+002    -  1.90e-001 2.18e-003f  1\n",
      "  73r8.6110061e+003 3.19e+003 1.38e+002  -1.2 4.69e+002    -  9.58e-002 8.22e-003f  1\n",
      "  74r8.8336674e+003 3.14e+003 1.19e+002  -1.2 4.65e+002    -  3.37e-001 1.40e-001f  1\n",
      "  75r8.8361688e+003 3.14e+003 1.19e+002  -1.2 3.91e+002    -  1.69e-001 1.84e-003f  1\n",
      "  76r8.8683094e+003 3.14e+003 1.16e+002  -1.2 3.90e+002    -  2.33e-003 2.46e-002f  1\n",
      "  77r9.0414232e+003 3.10e+003 1.00e+002  -1.2 3.81e+002    -  2.50e-001 1.35e-001f  1\n",
      "  78r9.0458101e+003 3.09e+003 9.96e+001  -1.2 3.29e+002    -  5.43e-003 3.96e-003f  1\n",
      "  79r9.1154342e+003 3.08e+003 9.45e+001  -1.2 3.28e+002    -  1.36e-001 6.31e-002f  1\n",
      "iter    objective    inf_pr   inf_du lg(mu)  ||d||  lg(rg) alpha_du alpha_pr  ls\n",
      "  80r9.1165279e+003 3.08e+003 9.70e+001  -1.2 3.14e+002    -  1.03e-001 1.08e-003f  1\n",
      "  81r9.1732020e+003 3.06e+003 1.13e+002  -1.2 3.25e+002    -  1.00e+000 5.77e-002f  1\n",
      "  82r9.4359535e+003 3.00e+003 8.08e+001  -1.2 3.07e+002    -  3.13e-001 2.84e-001f  1\n",
      "  83r9.4386969e+003 3.00e+003 8.05e+001  -1.2 2.20e+002    -  1.00e+000 4.15e-003f  1\n",
      "  84r9.4701833e+003 2.99e+003 7.63e+001  -1.2 2.19e+002    -  3.61e-001 5.20e-002f  1\n",
      "  85r9.6002237e+003 2.96e+003 5.89e+001  -1.2 2.07e+002    -  1.00e+000 2.27e-001f  1\n",
      "  86r9.7573469e+003 2.91e+003 3.80e+001  -1.2 1.60e+002    -  5.57e-001 3.55e-001f  1\n",
      "  87r9.7591438e+003 2.91e+003 3.78e+001  -1.2 1.03e+002    -  1.00e+000 6.43e-003f  1\n",
      "  88r9.8276364e+003 2.89e+003 2.72e+001  -1.2 1.03e+002    -  1.00e+000 2.82e-001f  1\n",
      "  89r1.0002223e+004 2.84e+003 6.20e-007  -1.2 7.37e+001    -  1.00e+000 1.00e+000f  1\n",
      "iter    objective    inf_pr   inf_du lg(mu)  ||d||  lg(rg) alpha_du alpha_pr  ls\n",
      "  90r1.0002228e+004 2.84e+003 5.79e+002  -4.3 2.49e-001    -  1.00e+000 1.00e+000f  1\n",
      "  91r1.0247996e+004 2.76e+003 5.78e+002  -4.3 8.96e+004    -  2.98e-003 1.13e-003f  1\n",
      "  92r1.0248010e+004 2.76e+003 5.78e+002  -4.3 8.94e+004    -  4.77e-003 6.19e-008f  1\n",
      "  93r1.0353712e+004 2.73e+003 5.78e+002  -4.3 8.72e+004    -  8.27e-003 4.99e-004f  1\n",
      "  94r1.0398571e+004 2.71e+003 5.78e+002  -4.3 8.72e+004    -  9.66e-003 2.12e-004f  1\n",
      "  95r1.0403003e+004 2.71e+003 5.78e+002  -4.3 8.60e+004    -  1.41e-002 2.13e-005f  1\n",
      "  96r1.0469707e+004 2.69e+003 5.78e+002  -4.3 8.65e+004    -  6.07e-003 3.24e-004f  1\n",
      "  97r1.0531594e+004 2.67e+003 5.77e+002  -4.3 8.93e+004    -  2.13e-002 3.39e-004f  1\n",
      "  98r1.0717372e+004 2.59e+003 5.77e+002  -4.3 9.03e+004    -  8.54e-003 1.11e-003f  1\n",
      "  99r1.0957856e+004 2.49e+003 5.76e+002  -4.3 9.02e+004    -  1.84e-002 1.48e-003f  1\n",
      "iter    objective    inf_pr   inf_du lg(mu)  ||d||  lg(rg) alpha_du alpha_pr  ls\n",
      " 100r1.0969382e+004 2.49e+003 5.76e+002  -4.3 9.38e+004    -  9.65e-007 7.55e-005f  1\n",
      " 101r1.0994897e+004 2.48e+003 5.76e+002  -4.3 9.38e+004    -  8.98e-008 1.64e-004f  1\n",
      " 102r1.1249043e+004 2.36e+003 5.75e+002  -4.3 9.38e+004    -  4.44e-003 1.64e-003f  1\n",
      " 103r1.1249917e+004 2.36e+003 5.75e+002  -4.3 9.37e+004    -  2.29e-007 6.12e-006f  1\n",
      " 104r1.1251161e+004 2.36e+003 5.75e+002  -4.3 9.37e+004    -  1.22e-009 7.67e-006f  1\n",
      " 105r1.1262118e+004 2.36e+003 5.75e+002  -4.3 9.38e+004    -  1.89e-003 6.76e-005f  1\n",
      " 106r1.1278355e+004 2.35e+003 5.75e+002  -4.3 9.79e+004    -  7.55e-005 1.13e-004f  1\n",
      " 107r1.1311401e+004 2.34e+003 5.74e+002  -4.3 9.68e+004    -  5.44e-003 2.32e-004f  1\n",
      " 108r1.1359843e+004 2.31e+003 5.74e+002  -4.3 8.97e+004    -  4.35e-004 3.67e-004f  1\n",
      " 109r1.1371060e+004 2.31e+003 5.74e+002  -4.3 8.96e+004    -  5.74e-005 9.14e-005f  1\n",
      "iter    objective    inf_pr   inf_du lg(mu)  ||d||  lg(rg) alpha_du alpha_pr  ls\n",
      " 110r1.1629627e+004 2.17e+003 5.73e+002  -4.3 8.96e+004    -  3.19e-009 2.08e-003f  1\n",
      " 111r1.1652496e+004 2.15e+003 5.73e+002  -4.3 8.92e+004    -  3.74e-002 1.62e-004f  1\n",
      " 112r1.1726034e+004 2.12e+003 5.73e+002  -4.3 7.05e+004    -  1.99e-006 5.25e-004f  1\n",
      " 113r1.1789764e+004 2.09e+003 5.72e+002  -4.3 6.75e+004    -  7.10e-009 4.27e-004f  1\n",
      " 114r1.1801555e+004 2.09e+003 5.72e+002  -4.3 7.15e+004    -  1.28e-003 8.09e-005f  1\n",
      " 115r1.1873555e+004 2.05e+003 5.72e+002  -4.3 7.84e+004    -  7.48e-004 5.19e-004f  1\n",
      " 116r1.2431142e+004 1.78e+003 5.70e+002  -4.3 7.83e+004    -  7.04e-003 4.02e-003f  1\n",
      " 117r1.2431198e+004 1.78e+003 5.70e+002  -4.3 7.80e+004    -  5.89e-003 4.28e-007f  1\n",
      " 118r1.2675378e+004 1.65e+003 5.69e+002  -4.3 7.80e+004    -  2.91e-001 1.92e-003f  1\n",
      " 119r1.2675399e+004 1.65e+003 5.69e+002  -4.3 6.66e+004    -  1.20e-005 1.80e-007f  1\n",
      "iter    objective    inf_pr   inf_du lg(mu)  ||d||  lg(rg) alpha_du alpha_pr  ls\n",
      " 120r1.2676069e+004 1.65e+003 5.69e+002  -4.3 6.66e+004    -  4.18e-010 6.68e-006f  1\n",
      " 121r1.2699872e+004 1.64e+003 5.69e+002  -4.3 6.66e+004    -  9.89e-003 1.99e-004f  1\n",
      " 122r1.2699911e+004 1.64e+003 5.69e+002  -4.3 6.66e+004    -  7.53e-003 3.89e-007f  1\n",
      " 123r1.3741848e+004 9.47e+002 5.63e+002  -4.3 6.66e+004    -  8.96e-002 1.04e-002f  1\n",
      " 124r1.3746699e+004 9.44e+002 5.63e+002  -4.3 6.59e+004    -  5.05e-006 4.95e-005f  1\n",
      " 125r1.3767881e+004 9.31e+002 5.62e+002  -4.3 6.59e+004    -  3.36e-010 2.01e-004f  1\n",
      " 126r1.4131937e+004 7.46e+002 5.61e+002  -4.3 6.59e+004    -  2.57e-002 2.81e-003f  1\n",
      " 127r1.4139380e+004 7.42e+002 5.61e+002  -4.3 6.57e+004    -  2.86e-003 5.93e-005f  1\n",
      " 128r1.4644855e+004 6.03e+002 5.59e+002  -4.3 6.57e+004    -  5.68e-002 4.02e-003f  1\n",
      " 129r1.4645493e+004 6.03e+002 5.59e+002  -4.3 6.54e+004    -  2.77e-006 5.73e-006f  1\n",
      "iter    objective    inf_pr   inf_du lg(mu)  ||d||  lg(rg) alpha_du alpha_pr  ls\n",
      " 130r1.4646574e+004 6.03e+002 5.59e+002  -4.3 6.54e+004    -  1.88e-010 9.58e-006f  1\n",
      " 131r1.4974065e+004 6.03e+002 5.57e+002  -4.3 6.54e+004    -  1.02e-002 2.75e-003f  1\n",
      " 132r1.4974084e+004 6.03e+002 5.57e+002  -4.3 6.52e+004    -  3.22e-003 1.66e-007f  1\n",
      " 133r1.5014255e+004 6.03e+002 7.35e+002  -4.3 6.52e+004    -  1.72e-001 5.47e-004f  1\n",
      " 134r1.5140991e+004 6.03e+002 7.31e+002  -4.3 6.20e+004    -  1.07e-005 1.85e-003f  1\n",
      " 135r1.5169529e+004 5.93e+002 7.31e+002  -4.3 5.96e+004    -  1.30e-009 4.23e-004f  1\n",
      " 136r1.5218521e+004 5.69e+002 7.43e+002  -4.3 5.85e+004    -  2.06e-002 6.34e-004f  1\n",
      " 137r1.5449252e+004 4.36e+002 7.39e+002  -4.3 3.88e+004    -  8.89e-004 3.56e-003f  1\n",
      " 138r1.5609203e+004 4.36e+002 7.54e+002  -4.3 3.87e+004    -  2.91e-002 2.84e-003f  1\n",
      " 139r1.6077412e+004 4.36e+002 7.42e+002  -4.3 3.85e+004    -  1.54e-006 8.32e-003f  1\n",
      "iter    objective    inf_pr   inf_du lg(mu)  ||d||  lg(rg) alpha_du alpha_pr  ls\n",
      " 140r1.6077435e+004 4.36e+002 7.42e+002  -4.3 4.00e+004    -  5.37e-007 4.12e-007f  1\n",
      " 141r1.6077435e+004 4.36e+002 8.23e+002  -4.3 2.85e+004    -  7.45e-002 2.08e-009f  1\n",
      " 142r1.6195833e+004 4.36e+002 8.16e+002  -4.3 2.84e+004    -  4.11e-006 3.71e-003f  1\n",
      " 143r1.6198322e+004 4.36e+002 8.16e+002  -4.3 3.12e+004    -  4.52e-009 4.77e-005f  1\n",
      " 144r1.6209171e+004 4.36e+002 8.16e+002  -4.3 3.29e+004    -  6.49e-005 2.03e-004f  1\n",
      " 145r1.6209171e+004 4.36e+002 8.16e+002  -4.3 2.51e+004    -  7.94e-004 1.97e-008f  1\n",
      " 146r1.6252373e+004 4.36e+002 8.81e+002  -4.3 2.51e+004    -  6.69e-002 1.53e-003f  1\n",
      " 147r1.6283796e+004 4.36e+002 8.79e+002  -4.3 2.38e+004    -  3.68e-006 1.17e-003f  1\n",
      " 148r1.6285601e+004 4.35e+002 8.79e+002  -4.3 2.84e+004    -  1.60e-009 5.94e-005f  1\n",
      " 149r1.6294267e+004 4.27e+002 8.79e+002  -4.3 3.22e+004    -  4.68e-004 2.52e-004f  1\n",
      "iter    objective    inf_pr   inf_du lg(mu)  ||d||  lg(rg) alpha_du alpha_pr  ls\n",
      " 150r1.6751273e+004 1.55e+000 8.62e+002  -4.3 3.22e+004    -  3.43e-004 1.33e-002f  1\n",
      " 151r1.6751297e+004 1.55e+000 8.80e+002  -4.3 3.17e+004    -  4.62e-002 6.90e-007f  1\n",
      " 152r1.6751297e+004 1.55e+000 8.80e+002  -4.3 2.25e+002    -  3.99e-005 1.01e-005f  1\n",
      " 153r1.6751784e+004 1.42e+000 8.42e+002  -4.3 9.94e+002    -  4.05e-001 4.90e-002f  1\n",
      " 154r1.6753998e+004 6.61e-001 4.96e+002  -4.3 1.97e+002    -  1.99e-001 4.07e-001f  1\n",
      " 155r1.6756081e+004 1.44e-001 2.39e+002  -4.3 1.10e+002    -  1.36e-005 6.33e-001f  1\n",
      " 156r1.6757750e+004 7.95e-003 3.20e+002  -4.3 2.02e+002    -  1.47e-001 7.65e-001f  1\n",
      " 157r1.6758197e+004 3.53e-005 3.57e+002  -4.3 6.93e+001    -  6.51e-005 8.37e-001f  1\n",
      " 158r1.6758335e+004 4.75e-008 6.03e+001  -4.3 3.95e+001    -  8.31e-001 8.47e-001f  1\n",
      " 159r1.6758456e+004 1.09e-008 8.42e+000  -4.3 3.67e+001    -  8.63e-001 1.00e+000f  1\n",
      "iter    objective    inf_pr   inf_du lg(mu)  ||d||  lg(rg) alpha_du alpha_pr  ls\n",
      " 160r1.6758456e+004 1.08e-008 5.14e-010  -4.3 3.20e-002    -  1.00e+000 1.00e+000f  1\n",
      " 161r1.6758456e+004 7.74e-011 3.18e+001  -6.4 4.77e-002    -  1.00e+000 1.00e+000f  1\n",
      " 162r1.6758456e+004 5.00e-012 3.87e-012  -6.4 2.78e-003    -  1.00e+000 1.00e+000f  1\n",
      " 163r1.6758456e+004 1.14e-012 2.79e+000  -9.0 2.27e-002    -  1.00e+000 1.00e+000f  1\n",
      " 164r1.6758456e+004 1.59e-012 1.14e-013  -9.0 1.01e-003    -  1.00e+000 1.00e+000h  1\n",
      " 165r1.6758456e+004 2.05e-012 1.31e-001 -11.0 1.09e-002    -  1.00e+000 1.00e+000h  1\n",
      "Restoration phase converged to a feasible point that is\n",
      "unacceptable to the filter for the original problem.\n",
      "Restoration phase in the restoration phase failed.\n",
      "\n",
      "Number of Iterations....: 165\n",
      "\n",
      "                                   (scaled)                 (unscaled)\n",
      "Objective...............:  1.6758456464125597e+004   1.6758456464125597e+004\n",
      "Dual infeasibility......:  5.3494536554050309e-001   5.3494536554050309e-001\n",
      "Constraint violation....:  9.0949470177292824e-013   9.0949470177292824e-013\n",
      "Complementarity.........:  2.9595360561828130e-010   2.9595360561828130e-010\n",
      "Overall NLP error.......:  5.3494536554050309e-001   5.3494536554050309e-001\n",
      "\n",
      "\n",
      "Number of objective function evaluations             = 167\n",
      "Number of objective gradient evaluations             = 2\n",
      "Number of equality constraint evaluations            = 167\n",
      "Number of inequality constraint evaluations          = 167\n",
      "Number of equality constraint Jacobian evaluations   = 167\n",
      "Number of inequality constraint Jacobian evaluations = 167\n",
      "Number of Lagrangian Hessian evaluations             = 166\n",
      "Total CPU secs in IPOPT (w/o function evaluations)   =      0.255\n",
      "Total CPU secs in NLP function evaluations           =      0.049\n",
      "\n",
      "EXIT: Restoration Failed!\n"
     ]
    },
    {
     "name": "stderr",
     "output_type": "stream",
     "text": [
      "\u001b[1m\u001b[33mWARNING: \u001b[39m\u001b[22m\u001b[33mIpopt finished with status Restoration_Failed\u001b[39m\n"
     ]
    }
   ],
   "source": [
    "using JuMP, Ipopt\n",
    "\n",
    "# m = Model(solver=GurobiSolver(OutputFlag=false))\n",
    "m = Model(solver=IpoptSolver())\n",
    "\n",
    "numLinks = length(linkLabel_)\n",
    "numRoute = length(linkRoute)\n",
    "#numRoute = 400\n",
    "\n",
    "numOD = length(demandsVec)\n",
    "\n",
    "@variable(m, linkFlow[1:numLinks])\n",
    "@variable(m, pathFlow[1:numRoute])\n",
    "\n",
    "pathFlowSum = Dict()\n",
    "\n",
    "for i=1:numOD\n",
    "    pathFlowSum[i] = 0\n",
    "    for j=1:numRoute\n",
    "        if \"$(i)-$(j)\" in keys(odPairRoute)\n",
    "            pathFlowSum[i] += pathFlow[j]\n",
    "        end\n",
    "    end\n",
    "    @constraint(m, pathFlowSum[i] == demandsVec[i])\n",
    "end\n",
    "\n",
    "pathFlowLinkSum = Dict()\n",
    "\n",
    "\n",
    "\n",
    "for a=1:numLinks\n",
    "    pathFlowLinkSum[a] = 0\n",
    "    for j=1:numRoute\n",
    "        if \"$(a)-$(j)\" in keys(linkRoute)\n",
    "            pathFlowLinkSum[a] += pathFlow[j]\n",
    "        end\n",
    "    end\n",
    "    @constraint(m, pathFlowLinkSum[a] == linkFlow[a])\n",
    "end\n",
    "\n",
    "\n",
    "\n",
    "for j=1:numRoute\n",
    "    @NLconstraint(m, pathFlow[j] >= 0)\n",
    "end\n",
    "\n",
    "\n",
    "#@NLexpression(f, sum{free_flow_time[a]*linkFlow[a] + .03*free_flow_time[a]*((linkFlow[a])^5)/((capacity[a])^4), a = 1:numLinks})\n",
    "\n",
    "@NLexpression(m, f, sum(sum(free_flow_time[a] * fcoeffs[i] * linkFlow[a]^i / capacity[a]^(i-1) for i = 1:polyDeg) \n",
    "        for a = 1:numLinks))\n",
    "\n",
    "#@NLexpression(m, f, sum{free_flow_time[a] * fcoeffs[1] * linkFlow[a] +\n",
    "#        free_flow_time[a] * fcoeffs[2] * linkFlow[a]^2 / capacity[a] +\n",
    "#        free_flow_time[a] * fcoeffs[3] * linkFlow[a]^3 / capacity[a]^2 +\n",
    "#        free_flow_time[a] * fcoeffs[4] * linkFlow[a]^4 / capacity[a]^3 +\n",
    "#        free_flow_time[a] * fcoeffs[5] * linkFlow[a]^5 / capacity[a]^4 +\n",
    "#        free_flow_time[a] * fcoeffs[6] * linkFlow[a]^6 / capacity[a]^5 , a = 1:numLinks})\n",
    "\n",
    "@NLobjective(m, Min, f)\n",
    "#print(m) \n",
    "\n",
    "solve(m);"
   ]
  },
  {
   "cell_type": "code",
   "execution_count": 14,
   "metadata": {},
   "outputs": [
    {
     "name": "stderr",
     "output_type": "stream",
     "text": [
      "\u001b[1m\u001b[33mWARNING: \u001b[39m\u001b[22m\u001b[33mNot solved to optimality, status: Error\u001b[39m\n"
     ]
    }
   ],
   "source": [
    "getvalue(linkFlow);"
   ]
  },
  {
   "cell_type": "code",
   "execution_count": 15,
   "metadata": {},
   "outputs": [
    {
     "data": {
      "text/plain": [
       "16758.456464125597"
      ]
     },
     "execution_count": 15,
     "metadata": {},
     "output_type": "execute_result"
    }
   ],
   "source": [
    "getobjectivevalue(m)"
   ]
  },
  {
   "cell_type": "code",
   "execution_count": 16,
   "metadata": {},
   "outputs": [
    {
     "data": {
      "text/plain": [
       "Dict{Any,Any} with 24 entries:\n",
       "  (3, 6) => 3379.35\n",
       "  (2, 3) => 1111.59\n",
       "  (5, 6) => 3823.52\n",
       "  (5, 4) => 1708.89\n",
       "  (2, 1) => 2620.48\n",
       "  (6, 3) => 2537.02\n",
       "  (3, 1) => 2411.31\n",
       "  (1, 3) => 2098.01\n",
       "  (4, 5) => 3775.97\n",
       "  (4, 8) => 4845.33\n",
       "  (7, 5) => 1842.72\n",
       "  (8, 7) => 1388.91\n",
       "  (3, 2) => 3831.03\n",
       "  (7, 8) => 4668.87\n",
       "  (2, 4) => 1382.93\n",
       "  (7, 6) => 1831.93\n",
       "  (6, 5) => 1800.43\n",
       "  (6, 7) => 4236.22\n",
       "  (8, 4) => 1846.1\n",
       "  (1, 2) => 1134.36\n",
       "  (5, 3) => 2617.26\n",
       "  (4, 2) => 2247.91\n",
       "  (3, 5) => 4492.15\n",
       "  (5, 7) => 3050.98"
      ]
     },
     "execution_count": 16,
     "metadata": {},
     "output_type": "execute_result"
    }
   ],
   "source": [
    "flows = Dict()\n",
    "\n",
    "for i = 1:length(ta_data.start_node)\n",
    "    key = (ta_data.start_node[i], ta_data.end_node[i])\n",
    "    flows[key] = getvalue(linkFlow)[i]\n",
    "end\n",
    "\n",
    "flows"
   ]
  },
  {
   "cell_type": "code",
   "execution_count": 17,
   "metadata": {},
   "outputs": [
    {
     "ename": "LoadError",
     "evalue": "\u001b[91m@pyimport: json already defined\u001b[39m",
     "output_type": "error",
     "traceback": [
      "\u001b[91m@pyimport: json already defined\u001b[39m",
      "",
      "Stacktrace:",
      " [1] \u001b[1merror\u001b[22m\u001b[22m\u001b[1m(\u001b[22m\u001b[22m::String, ::Symbol, ::Vararg{Any,N} where N\u001b[1m)\u001b[22m\u001b[22m at \u001b[1m.\\error.jl:30\u001b[22m\u001b[22m"
     ]
    }
   ],
   "source": [
    "using PyCall\n",
    "unshift!(PyVector(pyimport(\"sys\")[\"path\"]), \"\");\n",
    "#using Conda\n",
    "#using Pandas\n",
    "\n",
    "@pyimport matplotlib.pyplot as plt\n",
    "@pyimport numpy as np\n",
    "@pyimport json\n",
    "@pyimport os\n",
    "@pyimport pickle\n",
    "@pyimport pandas as pd\n",
    "@pyimport collections\n",
    "\n",
    "\n",
    "#@pyimport pandas\n",
    "#@pyimport parameters_julia\n",
    "#@pyimport utils_julia\n",
    "#@pyimport GLS_julia"
   ]
  },
  {
   "cell_type": "code",
   "execution_count": 18,
   "metadata": {},
   "outputs": [],
   "source": [
    "@pyimport parameters_julia\n",
    "@pyimport utils_julia\n",
    "@pyimport GLS_julia"
   ]
  },
  {
   "cell_type": "code",
   "execution_count": 19,
   "metadata": {},
   "outputs": [],
   "source": [
    "flow_user  = GLS_julia.x_;"
   ]
  },
  {
   "cell_type": "code",
   "execution_count": 20,
   "metadata": {},
   "outputs": [
    {
     "data": {
      "text/plain": [
       "socialObj (generic function with 1 method)"
      ]
     },
     "execution_count": 20,
     "metadata": {},
     "output_type": "execute_result"
    }
   ],
   "source": [
    "function socialObj(linkFlowVec)\n",
    "    objVal =  sum(sum(free_flow_time[a] * fcoeffs[i] * linkFlowVec[a]^i / capacity[a]^(i-1) for i=1:polyDeg) \n",
    "        for a = 1:numLinks)\n",
    "    return objVal\n",
    "end"
   ]
  },
  {
   "cell_type": "code",
   "execution_count": 21,
   "metadata": {},
   "outputs": [],
   "source": [
    "PoA_dict = Dict();\n",
    "tapSocialFlowDicDict = Dict();\n",
    "tapSocialFlowVecDict = Dict();\n",
    "\n",
    "week_day_Apr_list = parameters_julia.week_day_list\n",
    "\n",
    "poaDictAprPM = Dict{}()\n",
    "cnt = 0\n",
    "for i = 1:length(week_day_Apr_list)\n",
    "    cnt +=1\n",
    "    poaDictAprPM[i] = socialObj(flow_user[:, cnt])/getobjectivevalue(m)\n",
    "    println(poaDictAprPM[i])\n",
    "end\n"
   ]
  },
  {
   "cell_type": "code",
   "execution_count": 22,
   "metadata": {},
   "outputs": [
    {
     "name": "stdout",
     "output_type": "stream",
     "text": [
      "0.9188439105942923\n",
      "1.1575713971524637\n",
      "1.1142548060212956\n",
      "1.3134070407163552\n",
      "0.997083189838148\n",
      "0.8807960444032634\n",
      "0.9497290479918148\n",
      "1.0847012508031997\n",
      "1.3928057523344273\n",
      "1.1241800105073623\n",
      "0.791724552316438\n",
      "1.0820442263947845\n",
      "1.2452271459754878\n",
      "1.1906925037345737\n",
      "1.0663961068573857\n",
      "0.8903414916307917\n",
      "1.0186507922523986\n",
      "1.0781227314474593\n",
      "1.2348637063723464\n",
      "1.1298925103741024\n",
      "1.0179726471533812\n"
     ]
    }
   ],
   "source": [
    "#=\n",
    "outfile = open(out_dir * \"poaDict\" * month_w * instance1 * \"$(day).json\", \"w\")\n",
    "\n",
    "JSON.print(outfile, poaDictAprPM)\n",
    "\n",
    "close(outfile)\n",
    "=#"
   ]
  },
  {
   "cell_type": "code",
   "execution_count": 23,
   "metadata": {},
   "outputs": [
    {
     "data": {
      "text/plain": [
       "24×21 Array{Float64,2}:\n",
       " 2457.32  2963.21  2865.32  2712.24  …  2283.9   2112.98  3176.2   1481.07\n",
       " 1754.55  2027.93  1857.32  2480.48     1733.52  2301.19  1775.89  2360.47\n",
       " 1536.14  1248.32  1522.17  1576.1      1226.37  1553.57  1373.53  1674.66\n",
       " 3644.99  5777.29  2825.64  6943.2      3974.39  3350.73  2518.98  2308.13\n",
       " 1438.08  2306.29  2457.99  3306.66     1986.73  1936.78  2322.32  2095.33\n",
       " 2546.51  2162.25  2438.16  1905.44  …  1714.21  2283.48  2244.97  1993.12\n",
       " 2031.57  1934.49  1855.14  4099.63     1541.83  3473.59  1558.5   1706.42\n",
       " 3271.06  6013.17  6513.84  6972.52     6883.16  6813.33  6237.52  5874.97\n",
       " 4820.06  7091.25  5241.35  6776.56     6230.99  6931.26  6027.08  6549.82\n",
       " 1299.84  1561.95  1300.45  1249.53     1183.06  1087.46  1298.76  1140.65\n",
       " 1820.8   1742.34  1806.53  1792.1   …  1672.59  2142.67  1447.7   2533.75\n",
       " 1494.86  1333.68  1645.49  1523.98     1289.5   3770.6   1235.53  1346.45\n",
       " 3575.93  3645.11  4399.74  5987.78     5565.21  6531.33  3948.94  4149.07\n",
       " 1946.16  3475.19  2147.81  4386.7      1845.59  2313.13  4537.27  2267.11\n",
       " 2118.84  4468.39  3884.44  4201.18     5101.62  3467.4   3738.67  3392.91\n",
       " 2467.4   2113.38  1967.52  2535.08  …  2387.66  2509.94  2271.53  2043.83\n",
       " 3262.54  3925.07  4021.77  3733.92     4791.88  4383.12  4300.01  3061.89\n",
       " 4690.49  4816.52  4893.18  5313.59     4364.8   5008.18  5264.25  3430.48\n",
       " 3609.34  4660.05  5488.26  5702.73     5731.97  6044.02  4490.74  4268.99\n",
       " 1604.44  1696.88  1271.75  1859.17     1243.79  1611.46  1486.57  1389.0 \n",
       " 3333.11  4321.49  4647.17  6686.04  …  5089.86  5303.81  6519.2   5290.58\n",
       " 4531.42  4878.61  5464.26  5670.8      4451.69  5928.58  5877.59  3994.74\n",
       " 1035.67  1776.26  1279.19  1456.98     1028.27  1551.99  1199.79  1194.77\n",
       " 2217.48  4445.91  3522.38  2280.84     2183.41  2424.95  2770.48  2333.92"
      ]
     },
     "execution_count": 23,
     "metadata": {},
     "output_type": "execute_result"
    }
   ],
   "source": [
    "flow_user"
   ]
  },
  {
   "cell_type": "code",
   "execution_count": 24,
   "metadata": {},
   "outputs": [
    {
     "data": {
      "text/plain": [
       "Dict{Any,Any} with 24 entries:\n",
       "  (3, 6) => 3379.35\n",
       "  (2, 3) => 1111.59\n",
       "  (5, 6) => 3823.52\n",
       "  (5, 4) => 1708.89\n",
       "  (2, 1) => 2620.48\n",
       "  (6, 3) => 2537.02\n",
       "  (3, 1) => 2411.31\n",
       "  (1, 3) => 2098.01\n",
       "  (4, 5) => 3775.97\n",
       "  (4, 8) => 4845.33\n",
       "  (7, 5) => 1842.72\n",
       "  (8, 7) => 1388.91\n",
       "  (3, 2) => 3831.03\n",
       "  (7, 8) => 4668.87\n",
       "  (2, 4) => 1382.93\n",
       "  (7, 6) => 1831.93\n",
       "  (6, 5) => 1800.43\n",
       "  (6, 7) => 4236.22\n",
       "  (8, 4) => 1846.1\n",
       "  (1, 2) => 1134.36\n",
       "  (5, 3) => 2617.26\n",
       "  (4, 2) => 2247.91\n",
       "  (3, 5) => 4492.15\n",
       "  (5, 7) => 3050.98"
      ]
     },
     "execution_count": 24,
     "metadata": {},
     "output_type": "execute_result"
    }
   ],
   "source": [
    "flows"
   ]
  },
  {
   "cell_type": "code",
   "execution_count": null,
   "metadata": {},
   "outputs": [],
   "source": []
  }
 ],
 "metadata": {
  "kernelspec": {
   "display_name": "Julia 0.6.4",
   "language": "julia",
   "name": "julia-0.6"
  },
  "language_info": {
   "file_extension": ".jl",
   "mimetype": "application/julia",
   "name": "julia",
   "version": "0.6.4"
  }
 },
 "nbformat": 4,
 "nbformat_minor": 2
}
