{
 "cells": [
  {
   "cell_type": "code",
   "execution_count": 2,
   "metadata": {},
   "outputs": [],
   "source": [
    "#Importing parameters\n",
    "using PyCall\n",
    "unshift!(PyVector(pyimport(\"sys\")[\"path\"]), \"\");\n",
    "@pyimport parameters_julia\n",
    "\n",
    "out_dir = parameters_julia.out_dir\n",
    "files_ID = parameters_julia.files_ID\n",
    "month_w = parameters_julia.month_w\n",
    "year = parameters_julia.year\n",
    "instances_ = parameters_julia.instances_ID\n",
    "\n",
    "\n",
    "instance_ = instances_[3];"
   ]
  },
  {
   "cell_type": "code",
   "execution_count": 3,
   "metadata": {},
   "outputs": [],
   "source": [
    "using JSON\n",
    "\n",
    "instance1 = instance_\n",
    "\n",
    "open(out_dir * \"instance_comm.txt\", \"w\") do f\n",
    "    write(f, instance1)\n",
    "end\n",
    "\n",
    "\n",
    "\n",
    "#load OD pair-route incidence\n",
    "odPairRoute = readstring(out_dir * \"od_pair_route_incidence_\" * instance1 *  files_ID * \".json\");\n",
    "odPairRoute = JSON.parse(odPairRoute);\n",
    "\n",
    "#load link-route incidence\n",
    "linkRoute = readstring(out_dir * \"link_route_incidence_\" * instance1 *  files_ID * \".json\");\n",
    "linkRoute = JSON.parse(linkRoute);\n",
    "\n",
    "#load OD pair labels\n",
    "odPairLabel = readstring(out_dir *  \"od_pair_label_dict_refined.json\");\n",
    "odPairLabel = JSON.parse(odPairLabel);\n",
    "\n",
    "odPairLabel_ = readstring(out_dir  *\"od_pair_label_dict__refined.json\");\n",
    "odPairLabel_ = JSON.parse(odPairLabel_);\n",
    "\n",
    "#load link labels\n",
    "linkLabel = readstring(out_dir * \"link_label_dict.json\");\n",
    "linkLabel = JSON.parse(linkLabel);\n",
    "\n",
    "linkLabel_ = readstring(out_dir * \"link_label_dict_.json\");\n",
    "linkLabel_ = JSON.parse(linkLabel_);\n",
    "\n",
    "#load node-link incidence\n",
    "nodeLink = readstring(out_dir * \"node_link_incidence.json\");\n",
    "nodeLink = JSON.parse(nodeLink);"
   ]
  },
  {
   "cell_type": "code",
   "execution_count": null,
   "metadata": {},
   "outputs": [],
   "source": []
  },
  {
   "cell_type": "code",
   "execution_count": 4,
   "metadata": {},
   "outputs": [],
   "source": [
    "include(\"Julia_files/load_network_uni_class.jl\");"
   ]
  },
  {
   "cell_type": "code",
   "execution_count": 5,
   "metadata": {},
   "outputs": [],
   "source": [
    "ta_data = load_ta_network_(out_dir, files_ID, month_w, instance1);"
   ]
  },
  {
   "cell_type": "code",
   "execution_count": 6,
   "metadata": {},
   "outputs": [],
   "source": [
    "capacity = ta_data.capacity;\n",
    "free_flow_time = ta_data.free_flow_time;"
   ]
  },
  {
   "cell_type": "code",
   "execution_count": 7,
   "metadata": {},
   "outputs": [],
   "source": [
    "############\n",
    "#Read in the demand file\n",
    "file = open(out_dir * \"data_traffic_assignment_uni-class/\" * files_ID * \"_trips_\" * month_w * \"_\" * instance1 * \".txt\")\n",
    "demands = Dict()\n",
    "s = 0\n",
    "for line in eachline(file)\n",
    "    if contains(line, \"Origin\")\n",
    "        s = Int(parse(Float64,(split(line)[2])))\n",
    "    elseif contains(line, \";\")\n",
    "        pairs = split(line, \";\")\n",
    "        for pair in pairs[1:end-1]\n",
    "            if !contains(pair, \"\\n\")\n",
    "                pair_vals = split(pair, \":\")\n",
    "                t, demand = Int(parse(Float64,pair_vals[1])), parse(Float64,pair_vals[2])\n",
    "                demands[(s,t)] = demand \n",
    "            end\n",
    "        end\n",
    "    end\n",
    "end                \n",
    "close(file);"
   ]
  },
  {
   "cell_type": "code",
   "execution_count": 8,
   "metadata": {},
   "outputs": [
    {
     "data": {
      "text/plain": [
       "Dict{Any,Any} with 64 entries:\n",
       "  (3, 6) => 1824.91\n",
       "  (4, 4) => 0.0\n",
       "  (3, 1) => 1026.72\n",
       "  (4, 5) => 1152.71\n",
       "  (2, 4) => 1352.56\n",
       "  (6, 5) => 1438.48\n",
       "  (8, 4) => 1846.1\n",
       "  (1, 2) => 30.5014\n",
       "  (5, 1) => 422.279\n",
       "  (3, 4) => 425.322\n",
       "  (8, 2) => 187.473\n",
       "  (2, 3) => 6.88617\n",
       "  (2, 6) => 7.80625\n",
       "  (5, 4) => 598.79\n",
       "  (2, 1) => 1723.62\n",
       "  (2, 5) => 7.52821\n",
       "  (8, 5) => 234.213\n",
       "  (1, 4) => 30.372\n",
       "  (2, 8) => 8.1608\n",
       "  (5, 8) => 530.366\n",
       "  (4, 8) => 4845.33\n",
       "  (7, 8) => 1894.53\n",
       "  (1, 1) => 0.0\n",
       "  (7, 7) => 0.0\n",
       "  (5, 7) => 503.606\n",
       "  ⋮      => ⋮"
      ]
     },
     "execution_count": 8,
     "metadata": {},
     "output_type": "execute_result"
    }
   ],
   "source": [
    "demands"
   ]
  },
  {
   "cell_type": "code",
   "execution_count": 9,
   "metadata": {},
   "outputs": [],
   "source": [
    "demandsVec = zeros(length(odPairLabel_))\n",
    "\n",
    "for i = 1:length(demandsVec)\n",
    "    demandsVec[i] = demands[odPairLabel_[\"$i\"][1], odPairLabel_[\"$i\"][2]]\n",
    "end"
   ]
  },
  {
   "cell_type": "code",
   "execution_count": 10,
   "metadata": {},
   "outputs": [
    {
     "data": {
      "text/plain": [
       "56-element Array{Float64,1}:\n",
       "   30.5014 \n",
       "  984.779  \n",
       "   30.372  \n",
       "  667.846  \n",
       "  670.645  \n",
       "  411.881  \n",
       "  436.342  \n",
       " 1723.62   \n",
       "    6.88617\n",
       " 1352.56   \n",
       "    7.52821\n",
       "    7.80625\n",
       "    7.72761\n",
       "    ⋮      \n",
       "  325.357  \n",
       "  322.824  \n",
       "  816.791  \n",
       "  589.363  \n",
       " 1894.53   \n",
       "  175.974  \n",
       "  187.473  \n",
       "  185.953  \n",
       " 1846.1    \n",
       "  234.213  \n",
       "  227.518  \n",
       "  377.775  "
      ]
     },
     "execution_count": 10,
     "metadata": {},
     "output_type": "execute_result"
    }
   ],
   "source": [
    "demandsVec"
   ]
  },
  {
   "cell_type": "code",
   "execution_count": 11,
   "metadata": {},
   "outputs": [],
   "source": [
    "for key=keys(odPairRoute)\n",
    "    if contains(key, \"56-\")\n",
    "        println(key)\n",
    "    end\n",
    "end"
   ]
  },
  {
   "cell_type": "code",
   "execution_count": 12,
   "metadata": {},
   "outputs": [
    {
     "data": {
      "text/plain": [
       "Dict{String,Any} with 192 entries:\n",
       "  \"21-61\" => 1.0\n",
       "  \"22-81\" => 1.0\n",
       "  \"9-8\"   => 1.0\n",
       "  \"22-69\" => 1.0\n",
       "  \"7-62\"  => 1.0\n",
       "  \"7-64\"  => 1.0\n",
       "  \"8-5\"   => 1.0\n",
       "  \"13-63\" => 1.0\n",
       "  \"3-61\"  => 1.0\n",
       "  \"13-73\" => 1.0\n",
       "  \"1-11\"  => 1.0\n",
       "  \"15-48\" => 1.0\n",
       "  \"7-52\"  => 1.0\n",
       "  \"24-78\" => 1.0\n",
       "  \"17-53\" => 1.0\n",
       "  \"4-5\"   => 1.0\n",
       "  \"24-74\" => 1.0\n",
       "  \"21-75\" => 1.0\n",
       "  \"9-33\"  => 1.0\n",
       "  \"24-81\" => 1.0\n",
       "  \"1-5\"   => 1.0\n",
       "  \"2-6\"   => 1.0\n",
       "  \"20-50\" => 1.0\n",
       "  \"22-64\" => 1.0\n",
       "  \"3-62\"  => 1.0\n",
       "  ⋮       => ⋮"
      ]
     },
     "execution_count": 12,
     "metadata": {},
     "output_type": "execute_result"
    },
    {
     "name": "stdout",
     "output_type": "stream",
     "text": [
      "56-82\n"
     ]
    }
   ],
   "source": [
    "linkRoute\n"
   ]
  },
  {
   "cell_type": "code",
   "execution_count": 13,
   "metadata": {},
   "outputs": [
    {
     "data": {
      "text/plain": [
       "6"
      ]
     },
     "execution_count": 13,
     "metadata": {},
     "output_type": "execute_result"
    }
   ],
   "source": [
    "coeffs_dict_Apr_PM_ = readstring(out_dir * \"coeffs_dict_\" * month_w *  \"_\" * instance1 * \".json\")\n",
    "coeffs_dict_Apr_PM_ = JSON.parse(coeffs_dict_Apr_PM_)\n",
    "fcoeffs = coeffs_dict_Apr_PM_[\"(5, 1.5, 1000.0, 1)\"]\n",
    "polyDeg = length(fcoeffs)"
   ]
  },
  {
   "cell_type": "code",
   "execution_count": 14,
   "metadata": {
    "scrolled": false
   },
   "outputs": [],
   "source": [
    "using JuMP, Ipopt\n",
    "\n",
    "# m = Model(solver=GurobiSolver(OutputFlag=false))\n",
    "m = Model(solver=IpoptSolver())\n",
    "\n",
    "numLinks = length(linkLabel_)\n",
    "numRoute = length(linkRoute)\n",
    "#numRoute = 400\n",
    "\n",
    "numOD = length(demandsVec)\n",
    "\n",
    "@variable(m, linkFlow[1:numLinks])\n",
    "@variable(m, pathFlow[1:numRoute])\n",
    "\n",
    "pathFlowSum = Dict()\n",
    "\n",
    "for i=1:numOD\n",
    "    pathFlowSum[i] = 0\n",
    "    for j=1:numRoute\n",
    "        if \"$(i)-$(j)\" in keys(odPairRoute)\n",
    "            pathFlowSum[i] += pathFlow[j]\n",
    "        end\n",
    "    end\n",
    "    @constraint(m, pathFlowSum[i] == demandsVec[i])\n",
    "end\n",
    "\n",
    "pathFlowLinkSum = Dict()\n",
    "\n",
    "\n",
    "\n",
    "for a=1:numLinks\n",
    "    pathFlowLinkSum[a] = 0\n",
    "    for j=1:numRoute\n",
    "        if \"$(a)-$(j)\" in keys(linkRoute)\n",
    "            pathFlowLinkSum[a] += pathFlow[j]\n",
    "        end\n",
    "    end\n",
    "    @constraint(m, pathFlowLinkSum[a] == linkFlow[a])\n",
    "end\n",
    "\n",
    "\n",
    "\n",
    "for j=1:numRoute\n",
    "    @NLconstraint(m, pathFlow[j] >= 0)\n",
    "end\n",
    "\n",
    "\n",
    "#@NLexpression(f, sum{free_flow_time[a]*linkFlow[a] + .03*free_flow_time[a]*((linkFlow[a])^5)/((capacity[a])^4), a = 1:numLinks})\n",
    "\n",
    "#@NLexpression(m, f, sum(sum(free_flow_time[a] * fcoeffs[i] * linkFlow[a]^i / capacity[a]^(i-1) for i = 1:polyDeg) \n",
    "#        for a = 1:numLinks))\n",
    "\n",
    "@NLexpression(m, f, sum{free_flow_time[a] * fcoeffs[1] * linkFlow[a] +\n",
    "        free_flow_time[a] * fcoeffs[2] * linkFlow[a]^2 / capacity[a] +\n",
    "        free_flow_time[a] * fcoeffs[3] * linkFlow[a]^3 / capacity[a]^2 +\n",
    "        free_flow_time[a] * fcoeffs[4] * linkFlow[a]^4 / capacity[a]^3 +\n",
    "        free_flow_time[a] * fcoeffs[5] * linkFlow[a]^5 / capacity[a]^4 +\n",
    "        free_flow_time[a] * fcoeffs[6] * linkFlow[a]^6 / capacity[a]^5 , a = 1:numLinks})\n",
    "\n",
    "@NLobjective(m, Min, f)\n",
    "#print(m) \n",
    "\n",
    "solve(m);"
   ]
  },
  {
   "cell_type": "code",
   "execution_count": 15,
   "metadata": {},
   "outputs": [
    {
     "name": "stderr",
     "output_type": "stream",
     "text": [
      "\u001b[1m\u001b[33mWARNING: \u001b[39m\u001b[22m\u001b[33mThe curly syntax (sum{},prod{},norm2{}) is deprecated in favor of the new generator syntax (sum(),prod(),norm()).\u001b[39m\n",
      "\u001b[1m\u001b[33mWARNING: \u001b[39m\u001b[22m\u001b[33mReplace sum{free_flow_time[a] * fcoeffs[1] * linkFlow[a] + (free_flow_time[a] * fcoeffs[2] * linkFlow[a] ^ 2) / capacity[a] + (free_flow_time[a] * fcoeffs[3] * linkFlow[a] ^ 3) / capacity[a] ^ 2 + (free_flow_time[a] * fcoeffs[4] * linkFlow[a] ^ 4) / capacity[a] ^ 3 + (free_flow_time[a] * fcoeffs[5] * linkFlow[a] ^ 5) / capacity[a] ^ 4 + (free_flow_time[a] * fcoeffs[6] * linkFlow[a] ^ 6) / capacity[a] ^ 5, a = 1:numLinks} with sum(free_flow_time[a] * fcoeffs[1] * linkFlow[a] + (free_flow_time[a] * fcoeffs[2] * linkFlow[a] ^ 2) / capacity[a] + (free_flow_time[a] * fcoeffs[3] * linkFlow[a] ^ 3) / capacity[a] ^ 2 + (free_flow_time[a] * fcoeffs[4] * linkFlow[a] ^ 4) / capacity[a] ^ 3 + (free_flow_time[a] * fcoeffs[5] * linkFlow[a] ^ 5) / capacity[a] ^ 4 + (free_flow_time[a] * fcoeffs[6] * linkFlow[a] ^ 6) / capacity[a] ^ 5 for a = 1:numLinks).\u001b[39m\n"
     ]
    },
    {
     "name": "stdout",
     "output_type": "stream",
     "text": [
      "\n",
      "******************************************************************************\n",
      "This program contains Ipopt, a library for large-scale nonlinear optimization.\n",
      " Ipopt is released as open source code under the Eclipse Public License (EPL).\n",
      "         For more information visit http://projects.coin-or.org/Ipopt\n",
      "******************************************************************************\n",
      "\n",
      "This is Ipopt version 3.12.8, running with linear solver mumps.\n",
      "NOTE: Other linear solvers might be more efficient (see Ipopt documentation).\n",
      "\n",
      "Number of nonzeros in equality constraint Jacobian...:      294\n",
      "Number of nonzeros in inequality constraint Jacobian.:      192\n",
      "Number of nonzeros in Lagrangian Hessian.............:       24\n",
      "\n",
      "Total number of variables............................:      216\n",
      "                     variables with only lower bounds:        0\n",
      "                variables with lower and upper bounds:        0\n",
      "                     variables with only upper bounds:        0\n",
      "Total number of equality constraints.................:       80\n",
      "Total number of inequality constraints...............:      192\n",
      "        inequality constraints with only lower bounds:      192\n",
      "   inequality constraints with lower and upper bounds:        0\n",
      "        inequality constraints with only upper bounds:        0\n",
      "\n",
      "iter    objective    inf_pr   inf_du lg(mu)  ||d||  lg(rg) alpha_du alpha_pr  ls\n",
      "   0 0.0000000e+000 4.85e+003 5.00e-001  -1.0 0.00e+000    -  0.00e+000 0.00e+000   0\n",
      "   1 1.6805545e+004 1.14e-012 4.85e+005  -1.0 4.85e+003    -  2.04e-006 1.00e+000h  1\n",
      "   2 1.6803377e+004 1.82e-012 3.92e-002  -1.0 2.89e+001    -  9.61e-001 1.00e+000f  1\n",
      "   3 1.6760936e+004 2.05e-012 1.50e-002  -1.0 6.09e+002    -  6.17e-001 1.00e+000f  1\n",
      "   4 1.6734919e+004 6.82e-013 3.67e-003  -1.0 4.28e+002    -  7.69e-001 1.00e+000f  1\n",
      "   5 1.6726466e+004 1.14e-012 5.33e-005  -1.0 2.39e+002    -  9.90e-001 1.00e+000f  1\n",
      "   6 1.6723745e+004 1.14e-012 8.33e-005  -1.7 5.77e+002    -  9.96e-001 1.00e+000f  1\n",
      "   7 1.6723201e+004 1.14e-012 1.07e-007  -2.5 8.12e+003    -  1.00e+000 1.00e+000f  1\n",
      "   8 1.6723135e+004 5.68e-013 1.50e-009  -3.8 4.85e+003    -  1.00e+000 1.00e+000f  1\n",
      "   9 1.6723132e+004 1.36e-012 1.84e-011  -5.7 1.06e+003    -  1.00e+000 1.00e+000f  1\n",
      "iter    objective    inf_pr   inf_du lg(mu)  ||d||  lg(rg) alpha_du alpha_pr  ls\n",
      "  10 1.6723131e+004 8.24e-013 2.51e-014  -8.6 1.16e+002    -  1.00e+000 1.00e+000f  1\n",
      "\n",
      "Number of Iterations....: 10\n",
      "\n",
      "                                   (scaled)                 (unscaled)\n",
      "Objective...............:  1.6723131483989535e+004   1.6723131483989535e+004\n",
      "Dual infeasibility......:  2.5091040356528538e-014   2.5091040356528538e-014\n",
      "Constraint violation....:  8.2422957348171622e-013   8.2422957348171622e-013\n",
      "Complementarity.........:  2.8225740221985404e-009   2.8225740221985404e-009\n",
      "Overall NLP error.......:  2.8225740221985404e-009   2.8225740221985404e-009\n",
      "\n",
      "\n",
      "Number of objective function evaluations             = 11\n",
      "Number of objective gradient evaluations             = 11\n",
      "Number of equality constraint evaluations            = 11\n",
      "Number of inequality constraint evaluations          = 11\n",
      "Number of equality constraint Jacobian evaluations   = 11\n",
      "Number of inequality constraint Jacobian evaluations = 11\n",
      "Number of Lagrangian Hessian evaluations             = 10\n",
      "Total CPU secs in IPOPT (w/o function evaluations)   =      0.126\n",
      "Total CPU secs in NLP function evaluations           =      0.022\n",
      "\n",
      "EXIT: Optimal Solution Found.\n"
     ]
    }
   ],
   "source": [
    "getvalue(linkFlow);"
   ]
  },
  {
   "cell_type": "code",
   "execution_count": 16,
   "metadata": {},
   "outputs": [
    {
     "data": {
      "text/plain": [
       "16723.131483989535"
      ]
     },
     "execution_count": 16,
     "metadata": {},
     "output_type": "execute_result"
    }
   ],
   "source": [
    "getobjectivevalue(m)"
   ]
  },
  {
   "cell_type": "code",
   "execution_count": 17,
   "metadata": {},
   "outputs": [
    {
     "data": {
      "text/plain": [
       "Dict{Any,Any} with 24 entries:\n",
       "  (3, 6) => 2503.36\n",
       "  (2, 3) => 1900.38\n",
       "  (5, 6) => 3823.52\n",
       "  (5, 4) => 1708.89\n",
       "  (2, 1) => 2620.48\n",
       "  (6, 3) => 1521.97\n",
       "  (3, 1) => 2411.31\n",
       "  (1, 3) => 1309.22\n",
       "  (4, 5) => 3775.97\n",
       "  (4, 8) => 4845.33\n",
       "  (7, 5) => 2857.77\n",
       "  (8, 7) => 1388.91\n",
       "  (3, 2) => 3831.03\n",
       "  (7, 8) => 4668.87\n",
       "  (2, 4) => 1382.93\n",
       "  (7, 6) => 816.88\n",
       "  (6, 5) => 1800.43\n",
       "  (6, 7) => 3360.23\n",
       "  (8, 4) => 1846.1\n",
       "  (1, 2) => 1923.14\n",
       "  (5, 3) => 3632.31\n",
       "  (4, 2) => 2247.91\n",
       "  (3, 5) => 5368.14\n",
       "  (5, 7) => 3926.97"
      ]
     },
     "execution_count": 17,
     "metadata": {},
     "output_type": "execute_result"
    }
   ],
   "source": [
    "flows = Dict()\n",
    "\n",
    "for i = 1:length(ta_data.start_node)\n",
    "    key = (ta_data.start_node[i], ta_data.end_node[i])\n",
    "    flows[key] = getvalue(linkFlow)[i]\n",
    "end\n",
    "\n",
    "flows"
   ]
  },
  {
   "cell_type": "code",
   "execution_count": 18,
   "metadata": {},
   "outputs": [
    {
     "ename": "LoadError",
     "evalue": "\u001b[91m@pyimport: json already defined\u001b[39m",
     "output_type": "error",
     "traceback": [
      "\u001b[91m@pyimport: json already defined\u001b[39m",
      "",
      "Stacktrace:",
      " [1] \u001b[1merror\u001b[22m\u001b[22m\u001b[1m(\u001b[22m\u001b[22m::String, ::Symbol, ::Vararg{Any,N} where N\u001b[1m)\u001b[22m\u001b[22m at \u001b[1m.\\error.jl:30\u001b[22m\u001b[22m"
     ]
    }
   ],
   "source": [
    "using PyCall\n",
    "unshift!(PyVector(pyimport(\"sys\")[\"path\"]), \"\");\n",
    "#using Conda\n",
    "#using Pandas\n",
    "\n",
    "@pyimport matplotlib.pyplot as plt\n",
    "@pyimport numpy as np\n",
    "@pyimport json\n",
    "@pyimport os\n",
    "@pyimport pickle\n",
    "@pyimport pandas as pd\n",
    "@pyimport collections\n",
    "\n",
    "\n",
    "#@pyimport pandas\n",
    "#@pyimport parameters_julia\n",
    "#@pyimport utils_julia\n",
    "#@pyimport GLS_julia"
   ]
  },
  {
   "cell_type": "code",
   "execution_count": 19,
   "metadata": {},
   "outputs": [],
   "source": [
    "@pyimport parameters_julia\n",
    "@pyimport utils_julia\n",
    "@pyimport GLS_julia"
   ]
  },
  {
   "cell_type": "code",
   "execution_count": 20,
   "metadata": {},
   "outputs": [],
   "source": [
    "flow_user  = GLS_julia.x_;"
   ]
  },
  {
   "cell_type": "code",
   "execution_count": 21,
   "metadata": {},
   "outputs": [
    {
     "data": {
      "text/plain": [
       "socialObj (generic function with 1 method)"
      ]
     },
     "execution_count": 21,
     "metadata": {},
     "output_type": "execute_result"
    }
   ],
   "source": [
    "function socialObj(linkFlowVec)\n",
    "    objVal =  sum(sum(free_flow_time[a] * fcoeffs[i] * linkFlowVec[a]^i / capacity[a]^(i-1) for i=1:polyDeg) \n",
    "        for a = 1:numLinks)\n",
    "    return objVal\n",
    "end"
   ]
  },
  {
   "cell_type": "code",
   "execution_count": 28,
   "metadata": {
    "scrolled": true
   },
   "outputs": [
    {
     "name": "stdout",
     "output_type": "stream",
     "text": [
      "15398.40567302136\n",
      "19399.109863296602\n",
      "18673.190656650593\n",
      "22010.674711521075\n",
      "16709.57522801408\n",
      "14760.782163906126\n",
      "15915.992903486278\n",
      "18177.918688168\n",
      "23341.274563480198\n",
      "18839.521763927885\n",
      "13268.081441574355\n",
      "18133.391060295457\n",
      "20868.08491377758\n",
      "19954.168485996557\n",
      "17871.152730282527\n",
      "14920.749125699267\n",
      "17071.01495410887\n",
      "18067.672857946418\n",
      "20694.40966236974\n",
      "18935.254444245973\n",
      "17059.650288990626\n"
     ]
    }
   ],
   "source": [
    "PoA_dict = Dict();\n",
    "tapSocialFlowDicDict = Dict();\n",
    "tapSocialFlowVecDict = Dict();\n",
    "\n",
    "week_day_Apr_list = parameters_julia.week_day_list\n",
    "\n",
    "poaDictAprPM = Dict{}()\n",
    "cnt = 0\n",
    "for i = 1:length(week_day_Apr_list)\n",
    "    cnt +=1\n",
    "    poaDictAprPM[i] = socialObj(flow_user[:, cnt])/getobjectivevalue(m)\n",
    "    println(socialObj(flow_user[:, cnt]))\n",
    "end\n"
   ]
  },
  {
   "cell_type": "code",
   "execution_count": 23,
   "metadata": {},
   "outputs": [],
   "source": [
    "#=\n",
    "outfile = open(out_dir * \"poaDict\" * month_w * instance1 * \"$(day).json\", \"w\")\n",
    "\n",
    "JSON.print(outfile, poaDictAprPM)\n",
    "\n",
    "close(outfile)\n",
    "=#"
   ]
  },
  {
   "cell_type": "code",
   "execution_count": 24,
   "metadata": {},
   "outputs": [
    {
     "data": {
      "text/plain": [
       "24×21 Array{Float64,2}:\n",
       " 2457.32  2963.21  2865.32  2712.24  …  2283.9   2112.98  3176.2   1481.07\n",
       " 1754.55  2027.93  1857.32  2480.48     1733.52  2301.19  1775.89  2360.47\n",
       " 1536.14  1248.32  1522.17  1576.1      1226.37  1553.57  1373.53  1674.66\n",
       " 3644.99  5777.29  2825.64  6943.2      3974.39  3350.73  2518.98  2308.13\n",
       " 1438.08  2306.29  2457.99  3306.66     1986.73  1936.78  2322.32  2095.33\n",
       " 2546.51  2162.25  2438.16  1905.44  …  1714.21  2283.48  2244.97  1993.12\n",
       " 2031.57  1934.49  1855.14  4099.63     1541.83  3473.59  1558.5   1706.42\n",
       " 3271.06  6013.17  6513.84  6972.52     6883.16  6813.33  6237.52  5874.97\n",
       " 4820.06  7091.25  5241.35  6776.56     6230.99  6931.26  6027.08  6549.82\n",
       " 1299.84  1561.95  1300.45  1249.53     1183.06  1087.46  1298.76  1140.65\n",
       " 1820.8   1742.34  1806.53  1792.1   …  1672.59  2142.67  1447.7   2533.75\n",
       " 1494.86  1333.68  1645.49  1523.98     1289.5   3770.6   1235.53  1346.45\n",
       " 3575.93  3645.11  4399.74  5987.78     5565.21  6531.33  3948.94  4149.07\n",
       " 1946.16  3475.19  2147.81  4386.7      1845.59  2313.13  4537.27  2267.11\n",
       " 2118.84  4468.39  3884.44  4201.18     5101.62  3467.4   3738.67  3392.91\n",
       " 2467.4   2113.38  1967.52  2535.08  …  2387.66  2509.94  2271.53  2043.83\n",
       " 3262.54  3925.07  4021.77  3733.92     4791.88  4383.12  4300.01  3061.89\n",
       " 4690.49  4816.52  4893.18  5313.59     4364.8   5008.18  5264.25  3430.48\n",
       " 3609.34  4660.05  5488.26  5702.73     5731.97  6044.02  4490.74  4268.99\n",
       " 1604.44  1696.88  1271.75  1859.17     1243.79  1611.46  1486.57  1389.0 \n",
       " 3333.11  4321.49  4647.17  6686.04  …  5089.86  5303.81  6519.2   5290.58\n",
       " 4531.42  4878.61  5464.26  5670.8      4451.69  5928.58  5877.59  3994.74\n",
       " 1035.67  1776.26  1279.19  1456.98     1028.27  1551.99  1199.79  1194.77\n",
       " 2217.48  4445.91  3522.38  2280.84     2183.41  2424.95  2770.48  2333.92"
      ]
     },
     "execution_count": 24,
     "metadata": {},
     "output_type": "execute_result"
    }
   ],
   "source": [
    "flow_user"
   ]
  },
  {
   "cell_type": "code",
   "execution_count": 25,
   "metadata": {},
   "outputs": [
    {
     "data": {
      "text/plain": [
       "Dict{Any,Any} with 24 entries:\n",
       "  (3, 6) => 2503.36\n",
       "  (2, 3) => 1900.38\n",
       "  (5, 6) => 3823.52\n",
       "  (5, 4) => 1708.89\n",
       "  (2, 1) => 2620.48\n",
       "  (6, 3) => 1521.97\n",
       "  (3, 1) => 2411.31\n",
       "  (1, 3) => 1309.22\n",
       "  (4, 5) => 3775.97\n",
       "  (4, 8) => 4845.33\n",
       "  (7, 5) => 2857.77\n",
       "  (8, 7) => 1388.91\n",
       "  (3, 2) => 3831.03\n",
       "  (7, 8) => 4668.87\n",
       "  (2, 4) => 1382.93\n",
       "  (7, 6) => 816.88\n",
       "  (6, 5) => 1800.43\n",
       "  (6, 7) => 3360.23\n",
       "  (8, 4) => 1846.1\n",
       "  (1, 2) => 1923.14\n",
       "  (5, 3) => 3632.31\n",
       "  (4, 2) => 2247.91\n",
       "  (3, 5) => 5368.14\n",
       "  (5, 7) => 3926.97"
      ]
     },
     "execution_count": 25,
     "metadata": {},
     "output_type": "execute_result"
    }
   ],
   "source": [
    "flows"
   ]
  },
  {
   "cell_type": "code",
   "execution_count": null,
   "metadata": {},
   "outputs": [],
   "source": []
  }
 ],
 "metadata": {
  "kernelspec": {
   "display_name": "Julia 0.6.4",
   "language": "julia",
   "name": "julia-0.6"
  },
  "language_info": {
   "file_extension": ".jl",
   "mimetype": "application/julia",
   "name": "julia",
   "version": "0.6.4"
  }
 },
 "nbformat": 4,
 "nbformat_minor": 2
}
