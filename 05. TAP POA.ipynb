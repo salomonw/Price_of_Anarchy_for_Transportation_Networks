{
 "cells": [
  {
   "cell_type": "code",
   "execution_count": 6,
   "metadata": {},
   "outputs": [],
   "source": []
  },
  {
   "cell_type": "code",
   "execution_count": 7,
   "metadata": {},
   "outputs": [
    {
     "ename": "LoadError",
     "evalue": "\u001b[91mUndefVarError: instances_ID not defined\u001b[39m",
     "output_type": "error",
     "traceback": [
      "\u001b[91mUndefVarError: instances_ID not defined\u001b[39m",
      ""
     ]
    }
   ],
   "source": [
    "parameters_julia.instances_ID"
   ]
  },
  {
   "cell_type": "code",
   "execution_count": 1,
   "metadata": {},
   "outputs": [],
   "source": [
    "#Importing parameters\n",
    "using PyCall\n",
    "unshift!(PyVector(pyimport(\"sys\")[\"path\"]), \"\");\n",
    "@pyimport parameters_julia\n",
    "\n",
    "out_dir = parameters_julia.out_dir\n",
    "files_ID = parameters_julia.files_ID\n",
    "month_w = parameters_julia.month_w\n",
    "year = parameters_julia.year\n",
    "instances_ = parameters_julia.instances_ID\n",
    "\n",
    "\n",
    "instance_ = instances_[3];"
   ]
  },
  {
   "cell_type": "code",
   "execution_count": 2,
   "metadata": {},
   "outputs": [],
   "source": [
    "using JSON\n",
    "\n",
    "instance1 = instance_\n",
    "\n",
    "#load OD pair-route incidence\n",
    "odPairRoute = readstring(out_dir * \"od_pair_route_incidence_\" * instance1 *  files_ID * \".json\");\n",
    "odPairRoute = JSON.parse(odPairRoute);\n",
    "\n",
    "#load link-route incidence\n",
    "linkRoute = readstring(out_dir * \"link_route_incidence_\" * instance1 *  files_ID * \".json\");\n",
    "linkRoute = JSON.parse(linkRoute);\n",
    "\n",
    "#load OD pair labels\n",
    "odPairLabel = readstring(out_dir *  \"od_pair_label_dict_refined.json\");\n",
    "odPairLabel = JSON.parse(odPairLabel);\n",
    "\n",
    "odPairLabel_ = readstring(out_dir  *\"od_pair_label_dict__refined.json\");\n",
    "odPairLabel_ = JSON.parse(odPairLabel_);\n",
    "\n",
    "#load link labels\n",
    "linkLabel = readstring(out_dir * \"link_label_dict.json\");\n",
    "linkLabel = JSON.parse(linkLabel);\n",
    "\n",
    "linkLabel_ = readstring(out_dir * \"link_label_dict_.json\");\n",
    "linkLabel_ = JSON.parse(linkLabel_);\n",
    "\n",
    "#load node-link incidence\n",
    "nodeLink = readstring(out_dir * \"node_link_incidence.json\");\n",
    "nodeLink = JSON.parse(nodeLink);"
   ]
  },
  {
   "cell_type": "code",
   "execution_count": null,
   "metadata": {},
   "outputs": [],
   "source": []
  },
  {
   "cell_type": "code",
   "execution_count": 3,
   "metadata": {},
   "outputs": [],
   "source": [
    "include(\"Julia_files/load_network_uni_class.jl\");"
   ]
  },
  {
   "cell_type": "code",
   "execution_count": 4,
   "metadata": {},
   "outputs": [],
   "source": [
    "ta_data = load_ta_network_(out_dir, files_ID, month_w, instance1);"
   ]
  },
  {
   "cell_type": "code",
   "execution_count": 5,
   "metadata": {},
   "outputs": [],
   "source": [
    "capacity = ta_data.capacity;\n",
    "free_flow_time = ta_data.free_flow_time;"
   ]
  },
  {
   "cell_type": "code",
   "execution_count": 6,
   "metadata": {},
   "outputs": [],
   "source": [
    "############\n",
    "#Read in the demand file\n",
    "file = open(out_dir * \"data_traffic_assignment_uni-class/\" * files_ID * \"_trips_\" * month_w * \"_\" * instance1 * \".txt\")\n",
    "demands = Dict()\n",
    "s = 0\n",
    "for line in eachline(file)\n",
    "    if contains(line, \"Origin\")\n",
    "        s = Int(parse(Float64,(split(line)[2])))\n",
    "    elseif contains(line, \";\")\n",
    "        pairs = split(line, \";\")\n",
    "        for pair in pairs[1:end-1]\n",
    "            if !contains(pair, \"\\n\")\n",
    "                pair_vals = split(pair, \":\")\n",
    "                t, demand = Int(parse(Float64,pair_vals[1])), parse(Float64,pair_vals[2])\n",
    "                demands[(s,t)] = demand \n",
    "            end\n",
    "        end\n",
    "    end\n",
    "end                \n",
    "close(file);"
   ]
  },
  {
   "cell_type": "code",
   "execution_count": 7,
   "metadata": {},
   "outputs": [
    {
     "data": {
      "text/plain": [
       "Dict{Any,Any} with 64 entries:\n",
       "  (3, 6) => 1824.91\n",
       "  (4, 4) => 0.0\n",
       "  (3, 1) => 1026.72\n",
       "  (4, 5) => 1152.71\n",
       "  (2, 4) => 1352.56\n",
       "  (6, 5) => 1438.48\n",
       "  (8, 4) => 1846.1\n",
       "  (1, 2) => 30.5014\n",
       "  (5, 1) => 422.279\n",
       "  (3, 4) => 425.322\n",
       "  (8, 2) => 187.473\n",
       "  (2, 3) => 6.88617\n",
       "  (2, 6) => 7.80625\n",
       "  (5, 4) => 598.79\n",
       "  (2, 1) => 1723.62\n",
       "  (2, 5) => 7.52821\n",
       "  (8, 5) => 234.213\n",
       "  (1, 4) => 30.372\n",
       "  (2, 8) => 8.1608\n",
       "  (5, 8) => 530.366\n",
       "  (4, 8) => 4845.33\n",
       "  (7, 8) => 1894.53\n",
       "  (1, 1) => 0.0\n",
       "  (7, 7) => 0.0\n",
       "  (5, 7) => 503.606\n",
       "  ⋮      => ⋮"
      ]
     },
     "execution_count": 7,
     "metadata": {},
     "output_type": "execute_result"
    }
   ],
   "source": [
    "demands"
   ]
  },
  {
   "cell_type": "code",
   "execution_count": 8,
   "metadata": {},
   "outputs": [],
   "source": [
    "demandsVec = zeros(length(odPairLabel_))\n",
    "\n",
    "for i = 1:length(demandsVec)\n",
    "    demandsVec[i] = demands[odPairLabel_[\"$i\"][1], odPairLabel_[\"$i\"][2]]\n",
    "end"
   ]
  },
  {
   "cell_type": "code",
   "execution_count": 9,
   "metadata": {},
   "outputs": [
    {
     "data": {
      "text/plain": [
       "56-element Array{Float64,1}:\n",
       "   30.5014 \n",
       "  984.779  \n",
       "   30.372  \n",
       "  667.846  \n",
       "  670.645  \n",
       "  411.881  \n",
       "  436.342  \n",
       " 1723.62   \n",
       "    6.88617\n",
       " 1352.56   \n",
       "    7.52821\n",
       "    7.80625\n",
       "    7.72761\n",
       "    ⋮      \n",
       "  325.357  \n",
       "  322.824  \n",
       "  816.791  \n",
       "  589.363  \n",
       " 1894.53   \n",
       "  175.974  \n",
       "  187.473  \n",
       "  185.953  \n",
       " 1846.1    \n",
       "  234.213  \n",
       "  227.518  \n",
       "  377.775  "
      ]
     },
     "execution_count": 9,
     "metadata": {},
     "output_type": "execute_result"
    }
   ],
   "source": [
    "demandsVec"
   ]
  },
  {
   "cell_type": "code",
   "execution_count": 10,
   "metadata": {},
   "outputs": [],
   "source": [
    "for key=keys(odPairRoute)\n",
    "    if contains(key, \"56-\")\n",
    "        println(key)\n",
    "    end\n",
    "end"
   ]
  },
  {
   "cell_type": "code",
   "execution_count": 11,
   "metadata": {},
   "outputs": [],
   "source": [
    "linkRoute;"
   ]
  },
  {
   "cell_type": "code",
   "execution_count": 12,
   "metadata": {},
   "outputs": [
    {
     "data": {
      "text/plain": [
       "7-element Array{Any,1}:\n",
       "  1.0       \n",
       "  0.0055448 \n",
       "  0.021304  \n",
       "  0.0106823 \n",
       "  0.0443759 \n",
       " -0.00108853\n",
       "  0.00750175"
      ]
     },
     "execution_count": 12,
     "metadata": {},
     "output_type": "execute_result"
    }
   ],
   "source": [
    "coeffs_dict_Apr_PM_ = readstring(out_dir * \"coeffs_dict_\" * month_w *  \"_\" * instance1 * \".json\")\n",
    "coeffs_dict_Apr_PM_ = JSON.parse(coeffs_dict_Apr_PM_)\n",
    "fcoeffs = coeffs_dict_Apr_PM_[\"(6, 0.5, 100.0, 1)\"]"
   ]
  },
  {
   "cell_type": "code",
   "execution_count": 13,
   "metadata": {
    "scrolled": false
   },
   "outputs": [
    {
     "name": "stdout",
     "output_type": "stream",
     "text": [
      "56-82\n"
     ]
    },
    {
     "name": "stderr",
     "output_type": "stream",
     "text": [
      "\u001b[1m\u001b[33mWARNING: \u001b[39m\u001b[22m\u001b[33mThe curly syntax (sum{},prod{},norm2{}) is deprecated in favor of the new generator syntax (sum(),prod(),norm()).\u001b[39m\n",
      "\u001b[1m\u001b[33mWARNING: \u001b[39m\u001b[22m\u001b[33mReplace sum{free_flow_time[a] * fcoeffs[1] * linkFlow[a] + (free_flow_time[a] * fcoeffs[2] * linkFlow[a] ^ 2) / capacity[a] + (free_flow_time[a] * fcoeffs[3] * linkFlow[a] ^ 3) / capacity[a] ^ 2 + (free_flow_time[a] * fcoeffs[4] * linkFlow[a] ^ 4) / capacity[a] ^ 3 + (free_flow_time[a] * fcoeffs[5] * linkFlow[a] ^ 5) / capacity[a] ^ 4 + (free_flow_time[a] * fcoeffs[6] * linkFlow[a] ^ 6) / capacity[a] ^ 5 + (free_flow_time[a] * fcoeffs[7] * linkFlow[a] ^ 7) / capacity[a] ^ 6, a = 1:numLinks} with sum(free_flow_time[a] * fcoeffs[1] * linkFlow[a] + (free_flow_time[a] * fcoeffs[2] * linkFlow[a] ^ 2) / capacity[a] + (free_flow_time[a] * fcoeffs[3] * linkFlow[a] ^ 3) / capacity[a] ^ 2 + (free_flow_time[a] * fcoeffs[4] * linkFlow[a] ^ 4) / capacity[a] ^ 3 + (free_flow_time[a] * fcoeffs[5] * linkFlow[a] ^ 5) / capacity[a] ^ 4 + (free_flow_time[a] * fcoeffs[6] * linkFlow[a] ^ 6) / capacity[a] ^ 5 + (free_flow_time[a] * fcoeffs[7] * linkFlow[a] ^ 7) / capacity[a] ^ 6 for a = 1:numLinks).\u001b[39m\n"
     ]
    }
   ],
   "source": [
    "using JuMP, Ipopt\n",
    "\n",
    "# m = Model(solver=GurobiSolver(OutputFlag=false))\n",
    "m = Model(solver=IpoptSolver())\n",
    "\n",
    "numLinks = length(linkLabel_)\n",
    "numRoute = length(linkRoute)\n",
    "numOD = length(demandsVec)\n",
    "\n",
    "@variable(m, linkFlow[1:numLinks])\n",
    "@variable(m, pathFlow[1:numRoute])\n",
    "\n",
    "pathFlowSum = Dict()\n",
    "\n",
    "for i=1:numOD\n",
    "    pathFlowSum[i] = 0\n",
    "    for j=1:numRoute\n",
    "        if \"$(i)-$(j)\" in keys(odPairRoute)\n",
    "            pathFlowSum[i] += pathFlow[j]\n",
    "        end\n",
    "    end\n",
    "    @constraint(m, pathFlowSum[i] == demandsVec[i])\n",
    "end\n",
    "\n",
    "pathFlowLinkSum = Dict()\n",
    "\n",
    "\n",
    "\n",
    "for a=1:numLinks\n",
    "    pathFlowLinkSum[a] = 0\n",
    "    for j=1:numRoute\n",
    "        if \"$(a)-$(j)\" in keys(linkRoute)\n",
    "            pathFlowLinkSum[a] += pathFlow[j]\n",
    "        end\n",
    "    end\n",
    "    @constraint(m, pathFlowLinkSum[a] == linkFlow[a])\n",
    "end\n",
    "\n",
    "\n",
    "\n",
    "for j=1:numRoute\n",
    "    @NLconstraint(m, pathFlow[j] >= 0)\n",
    "end\n",
    "\n",
    "#@NLexpression(f, sum{free_flow_time[a]*linkFlow[a] + .03*free_flow_time[a]*((linkFlow[a])^5)/((capacity[a])^4), a = 1:numLinks})\n",
    "\n",
    "@NLexpression(m, f, sum{free_flow_time[a] * fcoeffs[1] * linkFlow[a] + \n",
    "    free_flow_time[a] * fcoeffs[2] * linkFlow[a]^2 / capacity[a] +\n",
    "    free_flow_time[a] * fcoeffs[3] * linkFlow[a]^3 / capacity[a]^2 +\n",
    "    free_flow_time[a] * fcoeffs[4] * linkFlow[a]^4 / capacity[a]^3 +\n",
    "    free_flow_time[a] * fcoeffs[5] * linkFlow[a]^5 / capacity[a]^4 +\n",
    "    free_flow_time[a] * fcoeffs[6] * linkFlow[a]^6 / capacity[a]^5 +\n",
    "    free_flow_time[a] * fcoeffs[7] * linkFlow[a]^7 / capacity[a]^6 , a = 1:numLinks})\n",
    "\n",
    "\n",
    "\n",
    "@NLobjective(m, Min, f)\n",
    "#print(m) \n",
    "\n",
    "solve(m);"
   ]
  },
  {
   "cell_type": "code",
   "execution_count": 14,
   "metadata": {},
   "outputs": [
    {
     "name": "stdout",
     "output_type": "stream",
     "text": [
      "\n",
      "******************************************************************************\n",
      "This program contains Ipopt, a library for large-scale nonlinear optimization.\n",
      " Ipopt is released as open source code under the Eclipse Public License (EPL).\n",
      "         For more information visit http://projects.coin-or.org/Ipopt\n",
      "******************************************************************************\n",
      "\n",
      "This is Ipopt version 3.12.8, running with linear solver mumps.\n",
      "NOTE: Other linear solvers might be more efficient (see Ipopt documentation).\n",
      "\n",
      "Number of nonzeros in equality constraint Jacobian...:      294\n",
      "Number of nonzeros in inequality constraint Jacobian.:      192\n",
      "Number of nonzeros in Lagrangian Hessian.............:       24\n",
      "\n",
      "Total number of variables............................:      216\n",
      "                     variables with only lower bounds:        0\n",
      "                variables with lower and upper bounds:        0\n",
      "                     variables with only upper bounds:        0\n",
      "Total number of equality constraints.................:       80\n",
      "Total number of inequality constraints...............:      192\n",
      "        inequality constraints with only lower bounds:      192\n",
      "   inequality constraints with lower and upper bounds:        0\n",
      "        inequality constraints with only upper bounds:        0\n",
      "\n",
      "iter    objective    inf_pr   inf_du lg(mu)  ||d||  lg(rg) alpha_du alpha_pr  ls\n",
      "   0 0.0000000e+000 4.85e+003 5.00e-001  -1.0 0.00e+000    -  0.00e+000 0.00e+000   0\n",
      "   1 1.6836476e+004 1.14e-012 4.85e+005  -1.0 4.85e+003    -  2.04e-006 1.00e+000h  1\n",
      "   2 1.6832645e+004 1.42e-012 5.00e-002  -1.0 3.99e+001    -  9.50e-001 1.00e+000f  1\n",
      "   3 1.6785314e+004 1.14e-012 1.80e-002  -1.0 5.60e+002    -  6.40e-001 1.00e+000f  1\n",
      "   4 1.6759505e+004 7.39e-013 4.48e-003  -1.0 3.32e+002    -  8.02e-001 1.00e+000f  1\n",
      "   5 1.6750486e+004 9.09e-013 1.33e-004  -1.0 2.63e+002    -  9.90e-001 1.00e+000f  1\n",
      "   6 1.6747632e+004 1.14e-012 9.91e-005  -1.7 5.61e+002    -  9.96e-001 1.00e+000f  1\n",
      "   7 1.6746845e+004 9.09e-013 1.13e-004  -2.5 7.89e+003    -  9.78e-001 1.00e+000f  1\n",
      "   8 1.6746717e+004 1.48e-012 2.00e-006  -2.5 7.27e+004    -  1.00e+000 1.00e+000f  1\n",
      "   9 1.6746648e+004 1.25e-012 2.47e-005  -3.8 9.99e+002    -  9.67e-001 1.00e+000f  1\n",
      "iter    objective    inf_pr   inf_du lg(mu)  ||d||  lg(rg) alpha_du alpha_pr  ls\n",
      "  10 1.6746641e+004 1.14e-012 4.01e-009  -5.7 1.38e+002    -  1.00e+000 1.00e+000f  1\n",
      "  11 1.6746641e+004 1.14e-012 9.11e-013  -8.6 2.40e+001    -  1.00e+000 1.00e+000f  1\n",
      "\n",
      "Number of Iterations....: 11\n",
      "\n",
      "                                   (scaled)                 (unscaled)\n",
      "Objective...............:  1.6746641259977780e+004   1.6746641259977780e+004\n",
      "Dual infeasibility......:  9.1082696940247843e-013   9.1082696940247843e-013\n",
      "Constraint violation....:  1.1368683772161603e-012   1.1368683772161603e-012\n",
      "Complementarity.........:  4.1345226538534915e-009   4.1345226538534915e-009\n",
      "Overall NLP error.......:  4.1345226538534915e-009   4.1345226538534915e-009\n",
      "\n",
      "\n",
      "Number of objective function evaluations             = 12\n",
      "Number of objective gradient evaluations             = 12\n",
      "Number of equality constraint evaluations            = 12\n",
      "Number of inequality constraint evaluations          = 12\n",
      "Number of equality constraint Jacobian evaluations   = 12\n",
      "Number of inequality constraint Jacobian evaluations = 12\n",
      "Number of Lagrangian Hessian evaluations             = 11\n",
      "Total CPU secs in IPOPT (w/o function evaluations)   =      0.104\n",
      "Total CPU secs in NLP function evaluations           =      0.023\n",
      "\n",
      "EXIT: Optimal Solution Found.\n"
     ]
    }
   ],
   "source": [
    "getvalue(linkFlow);"
   ]
  },
  {
   "cell_type": "code",
   "execution_count": 15,
   "metadata": {},
   "outputs": [
    {
     "data": {
      "text/plain": [
       "16746.64125997778"
      ]
     },
     "execution_count": 15,
     "metadata": {},
     "output_type": "execute_result"
    }
   ],
   "source": [
    "getobjectivevalue(m)"
   ]
  },
  {
   "cell_type": "code",
   "execution_count": 16,
   "metadata": {},
   "outputs": [
    {
     "data": {
      "text/plain": [
       "Dict{Any,Any} with 24 entries:\n",
       "  (3, 6) => 2503.36\n",
       "  (2, 3) => 1886.86\n",
       "  (5, 6) => 3823.52\n",
       "  (5, 4) => 1708.89\n",
       "  (2, 1) => 2620.48\n",
       "  (6, 3) => 1521.97\n",
       "  (3, 1) => 2411.31\n",
       "  (1, 3) => 1322.74\n",
       "  (4, 5) => 3775.97\n",
       "  (4, 8) => 4845.33\n",
       "  (7, 5) => 2857.77\n",
       "  (8, 7) => 1388.91\n",
       "  (3, 2) => 3831.03\n",
       "  (7, 8) => 4668.87\n",
       "  (2, 4) => 1382.93\n",
       "  (7, 6) => 816.88\n",
       "  (6, 5) => 1800.43\n",
       "  (6, 7) => 3360.23\n",
       "  (8, 4) => 1846.1\n",
       "  (1, 2) => 1909.62\n",
       "  (5, 3) => 3632.31\n",
       "  (4, 2) => 2247.91\n",
       "  (3, 5) => 5368.14\n",
       "  (5, 7) => 3926.97"
      ]
     },
     "execution_count": 16,
     "metadata": {},
     "output_type": "execute_result"
    }
   ],
   "source": [
    "flows = Dict()\n",
    "\n",
    "for i = 1:length(ta_data.start_node)\n",
    "    key = (ta_data.start_node[i], ta_data.end_node[i])\n",
    "    flows[key] = getvalue(linkFlow)[i]\n",
    "end\n",
    "\n",
    "flows"
   ]
  },
  {
   "cell_type": "code",
   "execution_count": 17,
   "metadata": {},
   "outputs": [
    {
     "ename": "LoadError",
     "evalue": "\u001b[91m@pyimport: json already defined\u001b[39m",
     "output_type": "error",
     "traceback": [
      "\u001b[91m@pyimport: json already defined\u001b[39m",
      "",
      "Stacktrace:",
      " [1] \u001b[1merror\u001b[22m\u001b[22m\u001b[1m(\u001b[22m\u001b[22m::String, ::Symbol, ::Vararg{Any,N} where N\u001b[1m)\u001b[22m\u001b[22m at \u001b[1m.\\error.jl:30\u001b[22m\u001b[22m"
     ]
    }
   ],
   "source": [
    "using PyCall\n",
    "unshift!(PyVector(pyimport(\"sys\")[\"path\"]), \"\");\n",
    "#using Conda\n",
    "#using Pandas\n",
    "\n",
    "@pyimport matplotlib.pyplot as plt\n",
    "@pyimport numpy as np\n",
    "@pyimport json\n",
    "@pyimport os\n",
    "@pyimport pickle\n",
    "@pyimport pandas as pd\n",
    "@pyimport collections\n",
    "\n",
    "\n",
    "#@pyimport pandas\n",
    "#@pyimport parameters_julia\n",
    "#@pyimport utils_julia\n",
    "#@pyimport GLS_julia"
   ]
  },
  {
   "cell_type": "code",
   "execution_count": 18,
   "metadata": {},
   "outputs": [],
   "source": [
    "@pyimport parameters_julia\n",
    "@pyimport utils_julia\n",
    "@pyimport GLS_julia"
   ]
  },
  {
   "cell_type": "code",
   "execution_count": 19,
   "metadata": {},
   "outputs": [],
   "source": [
    "flow_user  = GLS_julia.x_;"
   ]
  },
  {
   "cell_type": "code",
   "execution_count": 20,
   "metadata": {},
   "outputs": [
    {
     "data": {
      "text/plain": [
       "socialObj (generic function with 1 method)"
      ]
     },
     "execution_count": 20,
     "metadata": {},
     "output_type": "execute_result"
    }
   ],
   "source": [
    "function socialObj(linkFlowVec)\n",
    "    objVal = sum([free_flow_time[a] * fcoeffs[1] * linkFlowVec[a] + \n",
    "                    free_flow_time[a] * fcoeffs[2] * linkFlowVec[a]^2 / capacity[a] + \n",
    "                    free_flow_time[a] * fcoeffs[3] * linkFlowVec[a]^3 / capacity[a]^2 + \n",
    "                    free_flow_time[a] * fcoeffs[4] * linkFlowVec[a]^4 / capacity[a]^3 + \n",
    "                    free_flow_time[a] * fcoeffs[5] * linkFlowVec[a]^5 / capacity[a]^4 for a = 1:numLinks])\n",
    "    return objVal\n",
    "end"
   ]
  },
  {
   "cell_type": "code",
   "execution_count": 21,
   "metadata": {},
   "outputs": [],
   "source": [
    "PoA_dict = Dict();\n",
    "tapSocialFlowDicDict = Dict();\n",
    "tapSocialFlowVecDict = Dict();\n",
    "\n",
    "week_day_Apr_list = 2, 3, 4, 5, 6, 9, 10, 11, 12, 13, 16, 17, 18, 19, 20, 23, 24, 25, 26, 27, 30\n",
    "for i = 1:length(week_day_Apr_list)\n",
    "    \n",
    "    println(socialObj(flow_user[:, i])/getobjectivevalue(m))\n",
    "end"
   ]
  },
  {
   "cell_type": "code",
   "execution_count": null,
   "metadata": {},
   "outputs": [],
   "source": []
  },
  {
   "cell_type": "code",
   "execution_count": 22,
   "metadata": {},
   "outputs": [
    {
     "data": {
      "text/plain": [
       "16746.64125997778"
      ]
     },
     "execution_count": 22,
     "metadata": {},
     "output_type": "execute_result"
    },
    {
     "name": "stdout",
     "output_type": "stream",
     "text": [
      "0.9184266650537098\n",
      "1.1633710310020742\n",
      "1.118226345945591\n",
      "1.326664874201384\n",
      "1.0002566696323687\n",
      "0.8808867584754252\n",
      "0.9517331343277949\n",
      "1.0913553927729396\n",
      "1.4073545905393279\n",
      "1.1281934710459962\n",
      "0.7914033787966687\n",
      "1.08650933580465\n",
      "1.251226810142686\n",
      "1.1984619195126756\n",
      "1.068986251102524\n",
      "0.8907034607153301\n",
      "1.0217381735693019\n",
      "1.084734504517406\n",
      "1.2448734751355035\n",
      "1.137044784955886\n",
      "1.0200957905606225\n"
     ]
    }
   ],
   "source": [
    "getobjectivevalue(m)"
   ]
  },
  {
   "cell_type": "code",
   "execution_count": null,
   "metadata": {},
   "outputs": [],
   "source": []
  },
  {
   "cell_type": "code",
   "execution_count": null,
   "metadata": {},
   "outputs": [],
   "source": []
  }
 ],
 "metadata": {
  "kernelspec": {
   "display_name": "Julia 0.6.4",
   "language": "julia",
   "name": "julia-0.6"
  },
  "language_info": {
   "file_extension": ".jl",
   "mimetype": "application/julia",
   "name": "julia",
   "version": "0.6.4"
  }
 },
 "nbformat": 4,
 "nbformat_minor": 2
}
