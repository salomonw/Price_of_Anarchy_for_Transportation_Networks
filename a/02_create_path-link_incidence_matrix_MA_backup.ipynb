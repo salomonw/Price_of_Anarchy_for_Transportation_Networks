{
 "cells": [
  {
   "cell_type": "code",
   "execution_count": 1,
   "metadata": {},
   "outputs": [],
   "source": [
    "%run ../Python_files/create_path_link_incidence_matrix_MA.py"
   ]
  },
  {
   "cell_type": "code",
   "execution_count": 2,
   "metadata": {},
   "outputs": [
    {
     "data": {
      "text/plain": [
       "(56, 724)"
      ]
     },
     "execution_count": 2,
     "metadata": {},
     "output_type": "execute_result"
    }
   ],
   "source": [
    "np.shape(P)"
   ]
  },
  {
   "cell_type": "code",
   "execution_count": 3,
   "metadata": {
    "collapsed": true
   },
   "outputs": [],
   "source": [
    "P_dict = {}\n",
    "\n",
    "for i in range(np.shape(P)[0]):\n",
    "    for j in range(np.shape(P)[1]):\n",
    "        key = str(i+1) + '-' + str(j+1)\n",
    "        if (P[i, j] > 1e-1):\n",
    "            P_dict[key] = P[i, j]\n",
    "        \n",
    "with open('od_pair_route_incidence_MA.json', 'w') as json_file:\n",
    "    json.dump(P_dict, json_file)"
   ]
  },
  {
   "cell_type": "code",
   "execution_count": 4,
   "metadata": {},
   "outputs": [
    {
     "data": {
      "text/plain": [
       "(24, 724)"
      ]
     },
     "execution_count": 4,
     "metadata": {},
     "output_type": "execute_result"
    }
   ],
   "source": [
    "np.shape(A)"
   ]
  },
  {
   "cell_type": "code",
   "execution_count": 5,
   "metadata": {
    "collapsed": true
   },
   "outputs": [],
   "source": [
    "A_dict = {}\n",
    "\n",
    "for i in range(np.shape(A)[0]):\n",
    "    for j in range(np.shape(A)[1]):\n",
    "        key = str(i+1) + '-' + str(j+1)\n",
    "        if (A[i, j] > 1e-1):\n",
    "            A_dict[key] = A[i, j]\n",
    "        \n",
    "with open('link_route_incidence_MA.json', 'w') as json_file:\n",
    "    json.dump(A_dict, json_file)"
   ]
  },
  {
   "cell_type": "code",
   "execution_count": 6,
   "metadata": {},
   "outputs": [
    {
     "name": "stdout",
     "output_type": "stream",
     "text": [
      "rank of P is: \n",
      "56\n",
      "sizes of P are: \n",
      "56\n",
      "724\n",
      "rank of A is: \n",
      "24\n",
      "sizes of A are: \n",
      "24\n",
      "724\n",
      "rank of AP_t is: \n",
      "24\n",
      "shape of AP_t is: \n",
      "(24, 56)\n"
     ]
    }
   ],
   "source": [
    "A_t = np.transpose(A)\n",
    "P_t = np.transpose(P)\n",
    "# PA'\n",
    "AP_t = np.dot(A, P_t)\n",
    "print(\"rank of P is: \")\n",
    "print(matrix_rank(P))\n",
    "print(\"sizes of P are: \")\n",
    "print(np.size(P, 0))\n",
    "print(np.size(P, 1))\n",
    "print(\"rank of A is: \")\n",
    "print(matrix_rank(A))\n",
    "print(\"sizes of A are: \")\n",
    "print(np.size(A, 0))\n",
    "print(np.size(A, 1))\n",
    "print(\"rank of AP_t is: \")\n",
    "print(matrix_rank(AP_t))\n",
    "print(\"shape of AP_t is: \")\n",
    "print(np.shape(AP_t))"
   ]
  },
  {
   "cell_type": "code",
   "execution_count": 7,
   "metadata": {},
   "outputs": [
    {
     "data": {
      "text/plain": [
       "array([[  9.99987108e-01,   5.57539525e-01,   9.59708808e-01, ...,\n",
       "          5.15307590e-28,   0.00000000e+00,   0.00000000e+00],\n",
       "       [  0.00000000e+00,   0.00000000e+00,   0.00000000e+00, ...,\n",
       "          4.46066790e-24,   1.62455650e-22,   3.06147451e-29],\n",
       "       [  1.28917625e-05,   4.42460475e-01,   4.02911919e-02, ...,\n",
       "          4.46066790e-24,   1.62455650e-22,   3.06147451e-29],\n",
       "       ..., \n",
       "       [  0.00000000e+00,   1.05678724e-19,   0.00000000e+00, ...,\n",
       "          6.59510387e-04,   9.67790208e-01,   0.00000000e+00],\n",
       "       [  1.01182551e-25,   0.00000000e+00,   7.70109976e-09, ...,\n",
       "          0.00000000e+00,   0.00000000e+00,   0.00000000e+00],\n",
       "       [  0.00000000e+00,   2.21293383e-21,   0.00000000e+00, ...,\n",
       "          9.99381720e-01,   9.99980070e-01,   9.99999998e-01]])"
      ]
     },
     "execution_count": 7,
     "metadata": {},
     "output_type": "execute_result"
    }
   ],
   "source": [
    "AP_t"
   ]
  },
  {
   "cell_type": "code",
   "execution_count": 8,
   "metadata": {},
   "outputs": [
    {
     "data": {
      "text/plain": [
       "array([[  9.99987108e-01,   1.28917625e-05,   1.16642727e-18, ...,\n",
       "          0.00000000e+00,   0.00000000e+00,   0.00000000e+00],\n",
       "       [  0.00000000e+00,   0.00000000e+00,   0.00000000e+00, ...,\n",
       "          0.00000000e+00,   0.00000000e+00,   0.00000000e+00],\n",
       "       [  0.00000000e+00,   0.00000000e+00,   0.00000000e+00, ...,\n",
       "          0.00000000e+00,   0.00000000e+00,   0.00000000e+00],\n",
       "       ..., \n",
       "       [  0.00000000e+00,   0.00000000e+00,   0.00000000e+00, ...,\n",
       "          0.00000000e+00,   0.00000000e+00,   0.00000000e+00],\n",
       "       [  0.00000000e+00,   0.00000000e+00,   0.00000000e+00, ...,\n",
       "          0.00000000e+00,   0.00000000e+00,   0.00000000e+00],\n",
       "       [  0.00000000e+00,   0.00000000e+00,   0.00000000e+00, ...,\n",
       "          2.49467797e-09,   1.21587717e-16,   1.54760546e-12]])"
      ]
     },
     "execution_count": 8,
     "metadata": {},
     "output_type": "execute_result"
    }
   ],
   "source": [
    "P"
   ]
  },
  {
   "cell_type": "code",
   "execution_count": null,
   "metadata": {
    "collapsed": true
   },
   "outputs": [],
   "source": []
  }
 ],
 "metadata": {
  "kernelspec": {
   "display_name": "Python 2",
   "language": "python",
   "name": "python2"
  },
  "language_info": {
   "codemirror_mode": {
    "name": "ipython",
    "version": 2
   },
   "file_extension": ".py",
   "mimetype": "text/x-python",
   "name": "python",
   "nbconvert_exporter": "python",
   "pygments_lexer": "ipython2",
   "version": "2.7.15"
  }
 },
 "nbformat": 4,
 "nbformat_minor": 1
}
