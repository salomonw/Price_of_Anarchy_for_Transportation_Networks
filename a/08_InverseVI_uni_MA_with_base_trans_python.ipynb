{
 "cells": [
  {
   "cell_type": "markdown",
   "metadata": {},
   "source": [
    "## Solve an inverse tarffic problem over polynomials of degree at most d\n",
    "\n",
    "## Optionally use a regularizer from the poly kernel"
   ]
  },
  {
   "cell_type": "code",
   "execution_count": 1,
   "metadata": {
    "collapsed": false
   },
   "outputs": [
    {
     "name": "stdout",
     "output_type": "stream",
     "text": [
      "No dicts found; please check load_dicts...\n"
     ]
    }
   ],
   "source": [
    "%run ../Python_files/util.py"
   ]
  },
  {
   "cell_type": "code",
   "execution_count": 2,
   "metadata": {
    "collapsed": true
   },
   "outputs": [],
   "source": [
    "N = zload('node_link_incidence_MA.pkz')"
   ]
  },
  {
   "cell_type": "code",
   "execution_count": 3,
   "metadata": {
    "collapsed": true
   },
   "outputs": [],
   "source": [
    "# bpr cost\n",
    "def g_true(t):\n",
    "    return 1 + 0.15 * (t ** 4)"
   ]
  },
  {
   "cell_type": "code",
   "execution_count": 4,
   "metadata": {
    "collapsed": true
   },
   "outputs": [],
   "source": [
    "def polyEval(coeffs, pt):\n",
    "    return sum([coeffs[i] * (pt ** i) for i in range(len(coeffs))])  "
   ]
  },
  {
   "cell_type": "code",
   "execution_count": 5,
   "metadata": {
    "collapsed": true
   },
   "outputs": [],
   "source": [
    "capac_list = []\n",
    "free_flow_time_list = []\n",
    "capac_dict = {}\n",
    "free_flow_time_dict = {}\n",
    "\n",
    "with open('East_Massachusetts_net_Jan_PM.txt', 'r') as f:\n",
    "    read_data = f.readlines()\n",
    "\n",
    "for row in read_data:\n",
    "    if len(row.split()) == 11:\n",
    "        key = row.split()[0] + ',' + row.split()[1]\n",
    "        capac_list.append(float(row.split()[2]))\n",
    "        free_flow_time_list.append(float(row.split()[4]))\n",
    "        capac_dict[key] = float(row.split()[2])\n",
    "        free_flow_time_dict[key] = float(row.split()[4])"
   ]
  },
  {
   "cell_type": "code",
   "execution_count": 6,
   "metadata": {
    "collapsed": false
   },
   "outputs": [
    {
     "data": {
      "text/plain": [
       "[0.309077,\n",
       " 0.328601,\n",
       " 0.455004,\n",
       " 0.463031,\n",
       " 0.141994,\n",
       " 0.169591,\n",
       " 0.532474,\n",
       " 0.551125,\n",
       " 0.241228,\n",
       " 0.250947,\n",
       " 0.198582,\n",
       " 0.205095,\n",
       " 0.239197,\n",
       " 0.246538,\n",
       " 0.1746,\n",
       " 0.173098,\n",
       " 0.342531,\n",
       " 0.343678,\n",
       " 0.189028,\n",
       " 0.187959,\n",
       " 0.259832,\n",
       " 0.259502,\n",
       " 0.194284,\n",
       " 0.201222]"
      ]
     },
     "execution_count": 6,
     "metadata": {},
     "output_type": "execute_result"
    }
   ],
   "source": [
    "free_flow_time_list"
   ]
  },
  {
   "cell_type": "code",
   "execution_count": 7,
   "metadata": {
    "collapsed": true
   },
   "outputs": [],
   "source": [
    "# read in link labels\n",
    "with open('link_label_dict_MA.json', 'r') as json_file:\n",
    "    link_label_dict = json.load(json_file)"
   ]
  },
  {
   "cell_type": "code",
   "execution_count": 8,
   "metadata": {
    "collapsed": true
   },
   "outputs": [],
   "source": [
    "# read in demand data\n",
    "with open('demands_MA.json', 'r') as json_file:\n",
    "    demands = json.load(json_file)"
   ]
  },
  {
   "cell_type": "code",
   "execution_count": 9,
   "metadata": {
    "collapsed": false
   },
   "outputs": [
    {
     "data": {
      "text/plain": [
       "{u'(1,1)': 0.0,\n",
       " u'(1,2)': 1000.0,\n",
       " u'(1,3)': 1000.0,\n",
       " u'(1,4)': 5000.0,\n",
       " u'(1,5)': 2000.0,\n",
       " u'(1,6)': 3000.0,\n",
       " u'(1,7)': 5000.0,\n",
       " u'(1,8)': 8000.0,\n",
       " u'(2,1)': 1000.0,\n",
       " u'(2,2)': 0.0,\n",
       " u'(2,3)': 1000.0,\n",
       " u'(2,4)': 2000.0,\n",
       " u'(2,5)': 1000.0,\n",
       " u'(2,6)': 4000.0,\n",
       " u'(2,7)': 2000.0,\n",
       " u'(2,8)': 4000.0,\n",
       " u'(3,1)': 1000.0,\n",
       " u'(3,2)': 1000.0,\n",
       " u'(3,3)': 0.0,\n",
       " u'(3,4)': 2000.0,\n",
       " u'(3,5)': 1000.0,\n",
       " u'(3,6)': 3000.0,\n",
       " u'(3,7)': 1000.0,\n",
       " u'(3,8)': 2000.0,\n",
       " u'(4,1)': 5000.0,\n",
       " u'(4,2)': 2000.0,\n",
       " u'(4,3)': 2000.0,\n",
       " u'(4,4)': 0.0,\n",
       " u'(4,5)': 5000.0,\n",
       " u'(4,6)': 4000.0,\n",
       " u'(4,7)': 4000.0,\n",
       " u'(4,8)': 7000.0,\n",
       " u'(5,1)': 2000.0,\n",
       " u'(5,2)': 1000.0,\n",
       " u'(5,3)': 1000.0,\n",
       " u'(5,4)': 5000.0,\n",
       " u'(5,5)': 0.0,\n",
       " u'(5,6)': 2000.0,\n",
       " u'(5,7)': 2000.0,\n",
       " u'(5,8)': 5000.0,\n",
       " u'(6,1)': 3000.0,\n",
       " u'(6,2)': 4000.0,\n",
       " u'(6,3)': 3000.0,\n",
       " u'(6,4)': 4000.0,\n",
       " u'(6,5)': 2000.0,\n",
       " u'(6,6)': 0.0,\n",
       " u'(6,7)': 4000.0,\n",
       " u'(6,8)': 8000.0,\n",
       " u'(7,1)': 5000.0,\n",
       " u'(7,2)': 2000.0,\n",
       " u'(7,3)': 1000.0,\n",
       " u'(7,4)': 4000.0,\n",
       " u'(7,5)': 2000.0,\n",
       " u'(7,6)': 4000.0,\n",
       " u'(7,7)': 0.0,\n",
       " u'(7,8)': 10000.0,\n",
       " u'(8,1)': 8000.0,\n",
       " u'(8,2)': 4000.0,\n",
       " u'(8,3)': 2000.0,\n",
       " u'(8,4)': 7000.0,\n",
       " u'(8,5)': 5000.0,\n",
       " u'(8,6)': 8000.0,\n",
       " u'(8,7)': 10000.0,\n",
       " u'(8,8)': 0.0}"
      ]
     },
     "execution_count": 9,
     "metadata": {},
     "output_type": "execute_result"
    }
   ],
   "source": [
    "demands"
   ]
  },
  {
   "cell_type": "code",
   "execution_count": 10,
   "metadata": {
    "collapsed": false
   },
   "outputs": [
    {
     "data": {
      "text/plain": [
       "[14699.597922,\n",
       " 14306.696382,\n",
       " 18114.841651,\n",
       " 18355.223894,\n",
       " 18827.226551,\n",
       " 17196.194236,\n",
       " 15365.510225,\n",
       " 15354.290511,\n",
       " 19942.691487,\n",
       " 19596.030461,\n",
       " 18921.572927,\n",
       " 16388.730266,\n",
       " 14387.500463,\n",
       " 16011.187225,\n",
       " 14815.269593,\n",
       " 11904.960328,\n",
       " 15000.0,\n",
       " 15000.0,\n",
       " 18095.925423,\n",
       " 18215.554894,\n",
       " 17324.12926,\n",
       " 16728.543105,\n",
       " 15000.0,\n",
       " 15000.0]"
      ]
     },
     "execution_count": 10,
     "metadata": {},
     "output_type": "execute_result"
    }
   ],
   "source": [
    "capac_list"
   ]
  },
  {
   "cell_type": "code",
   "execution_count": 11,
   "metadata": {
    "collapsed": true
   },
   "outputs": [],
   "source": [
    "numNode = N.shape[0]\n",
    "numLink = N.shape[1]\n",
    "assert(numLink == len(capac_list))"
   ]
  },
  {
   "cell_type": "code",
   "execution_count": 12,
   "metadata": {
    "collapsed": false
   },
   "outputs": [],
   "source": [
    "flow_list = []\n",
    "flow_dict = {}\n",
    "\n",
    "with open('flows_converge.txt', 'r') as f:\n",
    "    read_data = f.readlines()\n",
    "\n",
    "for row in read_data:\n",
    "    if len(row.split()) == 3:\n",
    "        key = row.split()[0] + ',' + row.split()[1]\n",
    "        flow_list.append(float(row.split()[2]))\n",
    "        flow_dict[key] = float(row.split()[2])\n",
    "#         print(row.split())"
   ]
  },
  {
   "cell_type": "code",
   "execution_count": 13,
   "metadata": {
    "collapsed": false
   },
   "outputs": [
    {
     "data": {
      "text/plain": [
       "[12449.46135126259,\n",
       " 12098.207512248424,\n",
       " 12550.538648183572,\n",
       " 12901.792487193356,\n",
       " 8000.00001029226,\n",
       " 8000.0000012240125,\n",
       " 17449.4613410048,\n",
       " 17098.20751103876,\n",
       " 14969.57576976304,\n",
       " 15528.976422877002,\n",
       " 12580.962888630183,\n",
       " 12372.816065472918,\n",
       " 15398.718808036634,\n",
       " 15000.00009002714,\n",
       " 6000.000000436973,\n",
       " 6000.000000432818,\n",
       " 17449.46143133243,\n",
       " 17496.926319379065,\n",
       " 19969.575679915495,\n",
       " 20130.257615025897,\n",
       " 14580.962888247637,\n",
       " 14372.816065090396,\n",
       " 26550.538568039785,\n",
       " 26503.07367999163]"
      ]
     },
     "execution_count": 13,
     "metadata": {},
     "output_type": "execute_result"
    }
   ],
   "source": [
    "flow_list"
   ]
  },
  {
   "cell_type": "code",
   "execution_count": 14,
   "metadata": {
    "collapsed": false
   },
   "outputs": [],
   "source": [
    "flow_normalized = [flow_list[i]/capac_list[i] for i in range(numLink)]"
   ]
  },
  {
   "cell_type": "code",
   "execution_count": 15,
   "metadata": {
    "collapsed": false
   },
   "outputs": [],
   "source": [
    "def fitCost(c, d, gama):\n",
    "\n",
    "    normCoeffs = []\n",
    "\n",
    "    for i in range(d+1):\n",
    "        normCoeffs.append(sc.comb(d, i, exact=True) * (c ** (d-i)))\n",
    "\n",
    "    od_list = []\n",
    "    for i in range(numNode + 1)[1:]:\n",
    "        for j in range(numNode + 1)[1:]:\n",
    "            if i != j:\n",
    "                key = '(' + str(i) + ',' + str(j) + ')'\n",
    "                od_list.append(key)\n",
    "\n",
    "    model = Model(\"InverseVI_MA\")\n",
    "\n",
    "    alpha = []\n",
    "    for i in range(d+1):\n",
    "        key = str(i)\n",
    "        alpha.append(model.addVar(name='alpha_' + key))\n",
    "\n",
    "    epsilon = model.addVar(name='epsilon')\n",
    "\n",
    "    yw = {}\n",
    "    for od in od_list:\n",
    "        for i in range(numNode):\n",
    "            key = od + str(i)\n",
    "            yw[key] = model.addVar(name='yw_' + key)\n",
    "\n",
    "    model.update()\n",
    "\n",
    "    # add dual feasibility constraints\n",
    "    for od in od_list:\n",
    "        for a in range(numLink):\n",
    "            model.addConstr(yw[od+str(int(link_label_dict[str(a)].split(',')[0])-1)] - \n",
    "                            yw[od+str(int(link_label_dict[str(a)].split(',')[1])-1)] <= \n",
    "                            free_flow_time_list[a] * polyEval(alpha, flow_normalized[a]))        \n",
    "    model.update()\n",
    "\n",
    "    # add increasing constraints\n",
    "    myList = flow_normalized\n",
    "    flow_sorted_idx = sorted(range(len(myList)),key=lambda x:myList[x])\n",
    "    # model.addConstr(polyEval(alpha, 0) <= polyEval(alpha, flow_normalized[flow_sorted_idx[0]]))\n",
    "    for i in range(numLink):\n",
    "        if (i < numLink-1):\n",
    "            a_i_1 = flow_sorted_idx[i]\n",
    "            a_i_2 = flow_sorted_idx[i+1]\n",
    "            model.addConstr(polyEval(alpha, flow_normalized[a_i_1]) <= polyEval(alpha, flow_normalized[a_i_2]))\n",
    "    model.update()\n",
    "\n",
    "    model.addConstr(epsilon >= 0)\n",
    "    model.update()\n",
    "\n",
    "    # add primal-dual gap constraint\n",
    "\n",
    "    primal_cost = sum([flow_list[a] * free_flow_time_list[a] * polyEval(alpha, flow_normalized[a]) \n",
    "                       for a in range(numLink)])\n",
    "    dual_cost = sum([demands[od] * (yw[od + str(int(od.split(',')[1].split(')')[0])-1)] - \n",
    "                                    yw[od + str(int(od.split(',')[0].split('(')[1])-1)]) \n",
    "                     for od in od_list])\n",
    "    \n",
    "    ref_cost = sum([flow_list[a] * free_flow_time_list[a] for a in range(numLink)])\n",
    "\n",
    "    model.addConstr(primal_cost - dual_cost <= epsilon * ref_cost)\n",
    "#     model.addConstr(dual_cost - primal_cost <= epsilon * ref_cost)\n",
    "\n",
    "    model.update()\n",
    "\n",
    "    # add normalization constraint\n",
    "    model.addConstr(alpha[0] == 1)\n",
    "    model.update()\n",
    "\n",
    "    # Set objective\n",
    "    obj = 0\n",
    "    obj += sum([alpha[i] * alpha[i] / normCoeffs[i] for i in range(d+1)])\n",
    "    obj += gama * epsilon\n",
    "\n",
    "    model.setObjective(obj)\n",
    "\n",
    "    model.setParam('OutputFlag', False)\n",
    "    model.optimize()\n",
    "    alpha_list = []\n",
    "    for v in model.getVars():\n",
    "    #     print('%s %g' % (v.varName, v.x))\n",
    "        if 'alpha' in v.varName:\n",
    "            alpha_list.append(v.x)\n",
    "    return alpha_list"
   ]
  },
  {
   "cell_type": "code",
   "execution_count": 16,
   "metadata": {
    "collapsed": false
   },
   "outputs": [],
   "source": [
    "alpha_list = fitCost(1.5, 5, 1.0)"
   ]
  },
  {
   "cell_type": "code",
   "execution_count": 17,
   "metadata": {
    "collapsed": false
   },
   "outputs": [
    {
     "data": {
      "text/plain": [
       "[1.0,\n",
       " 3.2771747763751357e-10,\n",
       " 3.2882863375038963e-10,\n",
       " 0.05787338179118806,\n",
       " 0.0754479552851153,\n",
       " 0.02443455083878186]"
      ]
     },
     "execution_count": 17,
     "metadata": {},
     "output_type": "execute_result"
    }
   ],
   "source": [
    "alpha_list"
   ]
  },
  {
   "cell_type": "code",
   "execution_count": 18,
   "metadata": {
    "collapsed": true
   },
   "outputs": [],
   "source": [
    "%matplotlib inline"
   ]
  },
  {
   "cell_type": "code",
   "execution_count": 19,
   "metadata": {
    "collapsed": true
   },
   "outputs": [],
   "source": [
    "import matplotlib.pyplot as plt\n",
    "import pylab\n",
    "from pylab import *"
   ]
  },
  {
   "cell_type": "code",
   "execution_count": 20,
   "metadata": {
    "collapsed": true
   },
   "outputs": [],
   "source": [
    "xs = linspace(0, 2, 20)\n",
    "zs_true = [g_true(t) for t in xs]\n",
    "\n",
    "def g_est(t):\n",
    "    return polyEval(alpha_list, t)\n",
    "\n",
    "zs_est = [g_est(t) for t in xs]"
   ]
  },
  {
   "cell_type": "code",
   "execution_count": 21,
   "metadata": {
    "collapsed": false
   },
   "outputs": [
    {
     "data": {
      "image/png": "[encoded data removed]",
      "text/plain": [
       "<matplotlib.figure.Figure at 0x7fbe7afd1710>"
      ]
     },
     "metadata": {},
     "output_type": "display_data"
    }
   ],
   "source": [
    "true, = plt.plot(xs, zs_true, \"bo-\")\n",
    "est, = plt.plot(xs, zs_est, \"rs-\")\n",
    "\n",
    "plt.legend([true, est], [\"g_true\", \"g_est\"], loc=0)\n",
    "plt.xlabel('Scaled Flow')\n",
    "plt.ylabel('Scaled Cost')\n",
    "pylab.xlim(-0.1, 1.6)\n",
    "pylab.ylim(0.9, 2.0)\n",
    "grid(\"on\")\n",
    "savefig('fittedCostFunc.eps')"
   ]
  },
  {
   "cell_type": "code",
   "execution_count": null,
   "metadata": {
    "collapsed": true
   },
   "outputs": [],
   "source": []
  },
  {
   "cell_type": "code",
   "execution_count": null,
   "metadata": {
    "collapsed": true
   },
   "outputs": [],
   "source": []
  }
 ],
 "metadata": {
  "kernelspec": {
   "display_name": "Python 2",
   "language": "python",
   "name": "python2"
  },
  "language_info": {
   "codemirror_mode": {
    "name": "ipython",
    "version": 2
   },
   "file_extension": ".py",
   "mimetype": "text/x-python",
   "name": "python",
   "nbconvert_exporter": "python",
   "pygments_lexer": "ipython2",
   "version": "2.7.11"
  }
 },
 "nbformat": 4,
 "nbformat_minor": 0
}
