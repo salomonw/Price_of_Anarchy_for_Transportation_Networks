{
 "cells": [
  {
   "cell_type": "code",
   "execution_count": 1,
   "metadata": {
    "collapsed": true
   },
   "outputs": [],
   "source": [
    "using JSON\n",
    "\n",
    "#load OD pair-route incidence\n",
    "odPairRoute = readall(\"od_pair_route_incidence_MA.json\");\n",
    "odPairRoute = JSON.parse(odPairRoute);\n",
    "\n",
    "#load link-route incidence\n",
    "linkRoute = readall(\"link_route_incidence_MA.json\");\n",
    "linkRoute = JSON.parse(linkRoute);\n",
    "\n",
    "#load OD pair labels\n",
    "odPairLabel = readall(\"od_pair_label_dict_MA_refined.json\");\n",
    "odPairLabel = JSON.parse(odPairLabel);\n",
    "\n",
    "odPairLabel_ = readall(\"od_pair_label_dict__MA_refined.json\");\n",
    "odPairLabel_ = JSON.parse(odPairLabel_);\n",
    "\n",
    "#load link labels\n",
    "linkLabel = readall(\"link_label_dict_MA.json\");\n",
    "linkLabel = JSON.parse(linkLabel);\n",
    "\n",
    "linkLabel_ = readall(\"link_label_dict_MA_.json\");\n",
    "linkLabel_ = JSON.parse(linkLabel_);\n",
    "\n",
    "#load node-link incidence\n",
    "nodeLink = readall(\"node_link_incidence_MA.json\");\n",
    "nodeLink = JSON.parse(nodeLink);"
   ]
  },
  {
   "cell_type": "code",
   "execution_count": 2,
   "metadata": {
    "collapsed": false
   },
   "outputs": [
    {
     "data": {
      "text/plain": [
       "load_ta_network (generic function with 2 methods)"
      ]
     },
     "execution_count": 2,
     "metadata": {},
     "output_type": "execute_result"
    }
   ],
   "source": [
    "include(\"load_network_uni-class.jl\")"
   ]
  },
  {
   "cell_type": "code",
   "execution_count": 3,
   "metadata": {
    "collapsed": true
   },
   "outputs": [],
   "source": [
    "ta_data = load_ta_network(\"East_Massachusetts_Apr_PM\");"
   ]
  },
  {
   "cell_type": "code",
   "execution_count": 4,
   "metadata": {
    "collapsed": false
   },
   "outputs": [],
   "source": [
    "capacity = ta_data.capacity;\n",
    "free_flow_time = ta_data.free_flow_time;"
   ]
  },
  {
   "cell_type": "code",
   "execution_count": 5,
   "metadata": {
    "collapsed": false
   },
   "outputs": [],
   "source": [
    "############\n",
    "#Read in the demand file\n",
    "file = open(\"../data_traffic_assignment_uni-class/East_Massachusetts_trips_Apr_PM.txt\")\n",
    "demands = Dict{(Int64,Int64), Float64}()\n",
    "s = 0\n",
    "for line in eachline(file)\n",
    "    if contains(line, \"Origin\")\n",
    "        s = int(split(line)[2])\n",
    "    else\n",
    "        pairs = split(line, \";\")\n",
    "        for pair in pairs\n",
    "            if !contains(pair, \"\\n\")\n",
    "                pair_vals = split(pair, \":\")\n",
    "                t, demand = int(pair_vals[1]), float(pair_vals[2])\n",
    "                demands[(s,t)] = demand \n",
    "            end\n",
    "        end\n",
    "    end\n",
    "end                \n",
    "close(file)"
   ]
  },
  {
   "cell_type": "code",
   "execution_count": 6,
   "metadata": {
    "collapsed": false
   },
   "outputs": [
    {
     "data": {
      "text/plain": [
       "Dict{(Int64,Int64),Float64} with 64 entries:\n",
       "  (3,6) => 1315.275222\n",
       "  (4,4) => 0.0\n",
       "  (3,1) => 302.447243\n",
       "  (4,5) => 278.568958\n",
       "  (2,4) => 459.387746\n",
       "  (6,5) => 754.478522\n",
       "  (8,4) => 383.709803\n",
       "  (1,2) => 364.030563\n",
       "  (5,1) => 374.332883\n",
       "  (3,4) => 636.435156\n",
       "  (8,2) => 234.682173\n",
       "  (2,3) => 326.300096\n",
       "  (2,6) => 663.680693\n",
       "  (5,4) => 472.954265\n",
       "  (2,1) => 511.457588\n",
       "  (2,5) => 581.073471\n",
       "  (8,5) => 402.014719\n",
       "  (1,4) => 387.087581\n",
       "  (2,8) => 213.569741\n",
       "  (5,8) => 260.003198\n",
       "  (4,8) => 127.833452\n",
       "  (7,8) => 188.789153\n",
       "  (1,1) => 0.0\n",
       "  (7,7) => 0.0\n",
       "  (5,7) => 600.509755\n",
       "  ⋮     => ⋮"
      ]
     },
     "execution_count": 6,
     "metadata": {},
     "output_type": "execute_result"
    }
   ],
   "source": [
    "demands"
   ]
  },
  {
   "cell_type": "code",
   "execution_count": 7,
   "metadata": {
    "collapsed": false
   },
   "outputs": [
    {
     "data": {
      "text/plain": [
       "Dict{UTF8String,Any} with 56 entries:\n",
       "  \"32\" => {5,4}\n",
       "  \"29\" => {5,1}\n",
       "  \"1\"  => {1,2}\n",
       "  \"54\" => {8,5}\n",
       "  \"2\"  => {1,3}\n",
       "  \"41\" => {6,7}\n",
       "  \"53\" => {8,4}\n",
       "  \"51\" => {8,2}\n",
       "  \"27\" => {4,7}\n",
       "  \"42\" => {6,8}\n",
       "  \"33\" => {5,6}\n",
       "  \"28\" => {4,8}\n",
       "  \"52\" => {8,3}\n",
       "  \"50\" => {8,1}\n",
       "  \"26\" => {4,6}\n",
       "  \"10\" => {2,4}\n",
       "  \"24\" => {4,3}\n",
       "  \"25\" => {4,5}\n",
       "  \"23\" => {4,2}\n",
       "  \"49\" => {7,8}\n",
       "  \"5\"  => {1,6}\n",
       "  \"31\" => {5,3}\n",
       "  \"43\" => {7,1}\n",
       "  \"39\" => {6,4}\n",
       "  \"44\" => {7,2}\n",
       "  ⋮    => ⋮"
      ]
     },
     "execution_count": 7,
     "metadata": {},
     "output_type": "execute_result"
    }
   ],
   "source": [
    "odPairLabel_"
   ]
  },
  {
   "cell_type": "code",
   "execution_count": 8,
   "metadata": {
    "collapsed": false
   },
   "outputs": [],
   "source": [
    "demandsVec = zeros(56)\n",
    "\n",
    "for i = 1:length(demandsVec)\n",
    "    demandsVec[i] = demands[(odPairLabel_[\"$i\"][1], odPairLabel_[\"$i\"][2])]\n",
    "end"
   ]
  },
  {
   "cell_type": "code",
   "execution_count": 9,
   "metadata": {
    "collapsed": false
   },
   "outputs": [
    {
     "data": {
      "text/plain": [
       "56-element Array{Float64,1}:\n",
       "  364.031\n",
       "  325.364\n",
       "  387.088\n",
       "  543.744\n",
       "  531.093\n",
       "  533.457\n",
       "  187.046\n",
       "  511.458\n",
       "  326.3  \n",
       "  459.388\n",
       "  581.073\n",
       "  663.681\n",
       "  610.212\n",
       "    ⋮    \n",
       "  714.337\n",
       "  517.884\n",
       "  849.503\n",
       " 1621.38 \n",
       "  188.789\n",
       "  239.612\n",
       "  234.682\n",
       "  514.833\n",
       "  383.71 \n",
       "  402.015\n",
       "  566.538\n",
       "  282.776"
      ]
     },
     "execution_count": 9,
     "metadata": {},
     "output_type": "execute_result"
    }
   ],
   "source": [
    "demandsVec"
   ]
  },
  {
   "cell_type": "code",
   "execution_count": 10,
   "metadata": {
    "collapsed": false
   },
   "outputs": [
    {
     "name": "stdout",
     "output_type": "stream",
     "text": [
      "56-314\n",
      "56-313\n",
      "56-312\n"
     ]
    }
   ],
   "source": [
    "for key=keys(odPairRoute)\n",
    "    if contains(key, \"56-\")\n",
    "        println(key)\n",
    "    end\n",
    "end"
   ]
  },
  {
   "cell_type": "code",
   "execution_count": 11,
   "metadata": {
    "collapsed": false
   },
   "outputs": [
    {
     "data": {
      "text/plain": [
       "Dict{UTF8String,Any} with 986 entries:\n",
       "  \"5-260\"  => 1.0\n",
       "  \"3-290\"  => 1.0\n",
       "  \"20-207\" => 1.0\n",
       "  \"16-217\" => 1.0\n",
       "  \"6-198\"  => 1.0\n",
       "  \"19-180\" => 1.0\n",
       "  \"23-180\" => 1.0\n",
       "  \"16-48\"  => 1.0\n",
       "  \"10-128\" => 1.0\n",
       "  \"16-266\" => 1.0\n",
       "  \"11-148\" => 1.0\n",
       "  \"14-299\" => 1.0\n",
       "  \"21-112\" => 1.0\n",
       "  \"18-290\" => 1.0\n",
       "  \"16-235\" => 1.0\n",
       "  \"5-70\"   => 1.0\n",
       "  \"9-93\"   => 1.0\n",
       "  \"9-60\"   => 1.0\n",
       "  \"1-14\"   => 1.0\n",
       "  \"11-19\"  => 1.0\n",
       "  \"17-190\" => 1.0\n",
       "  \"11-52\"  => 1.0\n",
       "  \"19-65\"  => 1.0\n",
       "  \"10-291\" => 1.0\n",
       "  \"12-241\" => 1.0\n",
       "  ⋮        => ⋮"
      ]
     },
     "execution_count": 11,
     "metadata": {},
     "output_type": "execute_result"
    }
   ],
   "source": [
    "linkRoute"
   ]
  },
  {
   "cell_type": "code",
   "execution_count": 12,
   "metadata": {
    "collapsed": false
   },
   "outputs": [
    {
     "data": {
      "text/plain": [
       "9-element Array{Any,1}:\n",
       "  1.0       \n",
       " -0.00302509\n",
       "  0.0577279 \n",
       " -0.195632  \n",
       "  0.620696  \n",
       " -0.905963  \n",
       "  0.936143  \n",
       " -0.469483  \n",
       "  0.108584  "
      ]
     },
     "execution_count": 12,
     "metadata": {},
     "output_type": "execute_result"
    }
   ],
   "source": [
    "coeffs_dict_Apr_PM_ = readall(\"../temp_files/coeffs_dict_Apr_PM.json\")\n",
    "coeffs_dict_Apr_PM_ = JSON.parse(coeffs_dict_Apr_PM_)\n",
    "fcoeffs = coeffs_dict_Apr_PM_[\"(8,0.5,10000.0,1)\"]"
   ]
  },
  {
   "cell_type": "code",
   "execution_count": 13,
   "metadata": {
    "collapsed": false
   },
   "outputs": [
    {
     "name": "stdout",
     "output_type": "stream",
     "text": [
      "\n",
      "******************************************************************************\n",
      "This program contains Ipopt, a library for large-scale nonlinear optimization.\n",
      " Ipopt is released as open source code under the Eclipse Public License (EPL).\n",
      "         For more information visit http://projects.coin-or.org/Ipopt\n",
      "******************************************************************************\n",
      "\n",
      "This is Ipopt version 3.12.1, running with linear solver mumps.\n",
      "NOTE: Other linear solvers might be more efficient (see Ipopt documentation).\n",
      "\n",
      "Number of nonzeros in equality constraint Jacobian...:     1324\n",
      "Number of nonzeros in inequality constraint Jacobian.:      314\n",
      "Number of nonzeros in Lagrangian Hessian.............:       24\n",
      "\n",
      "Total number of variables............................:      338\n",
      "                     variables with only lower bounds:        0\n",
      "                variables with lower and upper bounds:        0\n",
      "                     variables with only upper bounds:        0\n",
      "Total number of equality constraints.................:       80\n",
      "Total number of inequality constraints...............:      314\n",
      "        inequality constraints with only lower bounds:      314\n",
      "   inequality constraints with lower and upper bounds:        0\n",
      "        inequality constraints with only upper bounds:        0\n",
      "\n",
      "iter    objective    inf_pr   inf_du lg(mu)  ||d||  lg(rg) alpha_du alpha_pr  ls\n",
      "   0  0.0000000e+00 1.62e+03 4.62e-01  -1.0 0.00e+00    -  0.00e+00 0.00e+00   0\n",
      "   1  2.1219469e+04 1.18e-12 4.05e+04  -1.0 4.81e+03    -  2.44e-05 1.00e+00h  1\n",
      "   2  2.0486875e+04 1.45e-12 3.68e+04  -1.0 5.02e+03    -  7.67e-02 9.17e-02f  1\n",
      "   3  2.0326264e+04 2.61e-12 3.56e+04  -1.0 2.36e+03    -  3.37e-01 3.35e-02f  1\n",
      "   4  1.8225603e+04 1.19e-12 2.36e+04  -1.0 2.68e+03    -  1.82e-01 3.37e-01f  1\n",
      "   5  1.7918314e+04 2.36e-12 2.23e+04  -1.0 2.21e+03    -  3.20e-01 5.41e-02f  1\n",
      "   6  1.3695571e+04 1.31e-12 8.87e+03  -1.0 2.55e+03    -  1.49e-01 6.02e-01f  1\n",
      "   7  1.1927010e+04 9.52e-13 3.29e+03  -1.0 8.70e+02    -  4.60e-01 6.29e-01f  1\n",
      "   8  1.1189825e+04 1.92e-12 9.72e+02  -1.0 9.74e+02    -  5.08e-01 7.05e-01f  1\n",
      "   9  1.0912761e+04 1.31e-12 6.88e+01  -1.0 4.34e+02    -  5.54e-01 9.29e-01f  1\n",
      "iter    objective    inf_pr   inf_du lg(mu)  ||d||  lg(rg) alpha_du alpha_pr  ls\n",
      "  10  1.0894666e+04 1.38e-12 5.20e-03  -1.0 1.99e+02    -  8.99e-01 1.00e+00f  1\n",
      "  11  1.0873917e+04 2.34e-12 7.78e-05  -1.7 1.32e+02    -  1.00e+00 1.00e+00f  1\n",
      "  12  1.0869563e+04 3.79e-12 2.70e-05  -2.5 7.42e+01    -  1.00e+00 1.00e+00f  1\n",
      "  13  1.0869525e+04 4.53e-12 5.01e-06  -2.5 3.11e+01    -  1.00e+00 1.00e+00f  1\n",
      "  14  1.0868876e+04 2.38e-12 1.04e-06  -3.8 1.42e+01    -  1.00e+00 1.00e+00f  1\n",
      "  15  1.0868840e+04 2.12e-12 4.53e-08  -5.7 2.93e+00    -  1.00e+00 1.00e+00f  1\n",
      "  16  1.0868840e+04 2.87e-12 7.65e-11  -5.7 9.22e+00    -  1.00e+00 1.00e+00h  1\n",
      "  17  1.0868839e+04 2.39e-12 1.42e-13  -8.6 5.25e-03    -  1.00e+00 1.00e+00f  1\n",
      "\n",
      "Number of Iterations....: 17\n",
      "\n",
      "                                   (scaled)                 (unscaled)\n",
      "Objective...............:   1.0868839136251017e+04    1.0868839136251017e+04\n",
      "Dual infeasibility......:   1.4216405830325130e-13    1.4216405830325130e-13\n",
      "Constraint violation....:   2.3874235921539366e-12    2.3874235921539366e-12\n",
      "Complementarity.........:   3.3109211713703422e-09    3.3109211713703422e-09\n",
      "Overall NLP error.......:   3.3109211713703422e-09    3.3109211713703422e-09\n",
      "\n",
      "\n",
      "Number of objective function evaluations             = 18\n",
      "Number of objective gradient evaluations             = 18\n",
      "Number of equality constraint evaluations            = 18\n",
      "Number of inequality constraint evaluations          = 18\n",
      "Number of equality constraint Jacobian evaluations   = 18\n",
      "Number of inequality constraint Jacobian evaluations = 18\n",
      "Number of Lagrangian Hessian evaluations             = 17\n",
      "Total CPU secs in IPOPT (w/o function evaluations)   =      0.060\n",
      "Total CPU secs in NLP function evaluations           =      0.024\n",
      "\n",
      "EXIT: Optimal Solution Found.\n"
     ]
    },
    {
     "data": {
      "text/plain": [
       ":Optimal"
      ]
     },
     "execution_count": 13,
     "metadata": {},
     "output_type": "execute_result"
    }
   ],
   "source": [
    "using JuMP\n",
    "\n",
    "# m = Model(solver=GurobiSolver(OutputFlag=false))\n",
    "m = Model()\n",
    "\n",
    "numLinks = 24\n",
    "numRoute = 314\n",
    "numOD = 56\n",
    "\n",
    "@defVar(m, linkFlow[1:numLinks])\n",
    "@defVar(m, pathFlow[1:numRoute])\n",
    "\n",
    "pathFlowSum = Dict()\n",
    "\n",
    "for i=1:numOD\n",
    "    pathFlowSum[i] = 0\n",
    "    for j=1:numRoute\n",
    "        if \"$(i)-$(j)\" in keys(odPairRoute)\n",
    "            pathFlowSum[i] += pathFlow[j]\n",
    "        end\n",
    "    end\n",
    "    @addConstraint(m, pathFlowSum[i] == demandsVec[i])\n",
    "end\n",
    "\n",
    "pathFlowLinkSum = Dict()\n",
    "\n",
    "for a=1:numLinks\n",
    "    pathFlowLinkSum[a] = 0\n",
    "    for j=1:numRoute\n",
    "        if \"$(a)-$(j)\" in keys(linkRoute)\n",
    "            pathFlowLinkSum[a] += pathFlow[j]\n",
    "        end\n",
    "    end\n",
    "    @addConstraint(m, pathFlowLinkSum[a] == linkFlow[a])\n",
    "end\n",
    "\n",
    "for j=1:numRoute\n",
    "    @addConstraint(m, pathFlow[j] >= 0)\n",
    "end\n",
    "\n",
    "# @defNLExpr(f, sum{free_flow_time[a]*linkFlow[a] + .03*free_flow_time[a]*((linkFlow[a])^5)/((capacity[a])^4), a = 1:numLinks})\n",
    "\n",
    "@defNLExpr(f, sum{free_flow_time[a] * fcoeffs[1] * linkFlow[a] + \n",
    "    free_flow_time[a] * fcoeffs[2] * linkFlow[a]^2 / capacity[a] +\n",
    "    free_flow_time[a] * fcoeffs[3] * linkFlow[a]^3 / capacity[a]^2 +\n",
    "    free_flow_time[a] * fcoeffs[4] * linkFlow[a]^4 / capacity[a]^3 +\n",
    "    free_flow_time[a] * fcoeffs[5] * linkFlow[a]^5 / capacity[a]^4 +\n",
    "    free_flow_time[a] * fcoeffs[6] * linkFlow[a]^6 / capacity[a]^5 +\n",
    "    free_flow_time[a] * fcoeffs[7] * linkFlow[a]^7 / capacity[a]^6 +\n",
    "    free_flow_time[a] * fcoeffs[8] * linkFlow[a]^8 / capacity[a]^7 +\n",
    "    free_flow_time[a] * fcoeffs[9] * linkFlow[a]^9 / capacity[a]^8, a = 1:numLinks})\n",
    "\n",
    "@setNLObjective(m, Min, f)\n",
    "\n",
    "solve(m)"
   ]
  },
  {
   "cell_type": "code",
   "execution_count": 14,
   "metadata": {
    "collapsed": false
   },
   "outputs": [
    {
     "data": {
      "text/plain": [
       "24-element Array{Float64,1}:\n",
       " 1785.96 \n",
       "  701.911\n",
       " 1085.87 \n",
       " 1671.61 \n",
       " 3429.67 \n",
       " 1939.71 \n",
       "  846.475\n",
       "  354.302\n",
       " 5207.62 \n",
       " 4199.34 \n",
       " 2998.45 \n",
       " 1465.06 \n",
       " 1189.39 \n",
       " 2275.66 \n",
       " 1139.88 \n",
       " 1402.86 \n",
       "  127.833\n",
       "  383.71 \n",
       " 3354.52 \n",
       " 4345.24 \n",
       " 1478.36 \n",
       " 2258.64 \n",
       " 1438.49 \n",
       " 2240.46 "
      ]
     },
     "execution_count": 14,
     "metadata": {},
     "output_type": "execute_result"
    }
   ],
   "source": [
    "getValue(linkFlow)"
   ]
  },
  {
   "cell_type": "code",
   "execution_count": 15,
   "metadata": {
    "collapsed": false
   },
   "outputs": [
    {
     "data": {
      "text/plain": [
       "10868.839136251017"
      ]
     },
     "execution_count": 15,
     "metadata": {},
     "output_type": "execute_result"
    }
   ],
   "source": [
    "getObjectiveValue(m)"
   ]
  },
  {
   "cell_type": "code",
   "execution_count": 16,
   "metadata": {
    "collapsed": false
   },
   "outputs": [
    {
     "data": {
      "text/plain": [
       "Dict{(Int64,Int64),Float64} with 24 entries:\n",
       "  (3,6) => 2998.4454658586897\n",
       "  (2,3) => 3429.6727776218027\n",
       "  (5,6) => 1139.8781390979877\n",
       "  (5,4) => 2275.6583249228456\n",
       "  (2,1) => 701.9114412529308\n",
       "  (6,3) => 1465.0646073535527\n",
       "  (3,1) => 1671.6113585734893\n",
       "  (1,3) => 1085.866113305218\n",
       "  (4,5) => 1189.3858859553195\n",
       "  (4,8) => 127.8334519361988\n",
       "  (7,5) => 4345.237365625287\n",
       "  (8,7) => 2240.456486904579\n",
       "  (3,2) => 1939.71163735912\n",
       "  (7,6) => 2258.639957203024\n",
       "  (2,4) => 846.4753267897162\n",
       "  (7,8) => 1438.4946519314647\n",
       "  (6,5) => 1402.8630651233193\n",
       "  (6,7) => 1478.3587076828294\n",
       "  (8,4) => 383.70980296308494\n",
       "  (1,2) => 1785.955300521202\n",
       "  (5,3) => 4199.336566582771\n",
       "  (4,2) => 354.3024947841282\n",
       "  (3,5) => 5207.623358072046\n",
       "  (5,7) => 3354.5154791723685"
      ]
     },
     "execution_count": 16,
     "metadata": {},
     "output_type": "execute_result"
    }
   ],
   "source": [
    "flows = Dict{(Int64,Int64),Float64}()\n",
    "\n",
    "for i = 1:length(ta_data.start_node)\n",
    "    key = (ta_data.start_node[i], ta_data.end_node[i])\n",
    "    flows[key] = getValue(linkFlow)[i]\n",
    "end\n",
    "\n",
    "flows"
   ]
  },
  {
   "cell_type": "code",
   "execution_count": 17,
   "metadata": {
    "collapsed": true
   },
   "outputs": [],
   "source": [
    "# outfile = open(\"flows_MA.json\", \"w\")\n",
    "\n",
    "# JSON.print(outfile, flows)\n",
    "\n",
    "# close(outfile)"
   ]
  },
  {
   "cell_type": "code",
   "execution_count": 18,
   "metadata": {
    "collapsed": false
   },
   "outputs": [],
   "source": [
    "# using JuMP\n",
    "\n",
    "# # m = Model(solver=GurobiSolver(OutputFlag=false))\n",
    "# m = Model()\n",
    "\n",
    "# numLinks = 24  # number of links\n",
    "# numNodes = 8  # number of nodes\n",
    "\n",
    "# @defVar(m, linkFlow[1:numLinks])\n",
    "\n",
    "# @defVar(m, odLinkFlow[keys(demands), 1:numLinks])\n",
    "# for (s,t) = keys(demands)\n",
    "#     for k = 1:numLinks\n",
    "#         @addConstraint(m, odLinkFlow[(s,t), k] >= 0)\n",
    "#     end\n",
    "# end\n",
    "\n",
    "# for k = 1:numLinks\n",
    "#     linkFlowPartial = sum([odLinkFlow[(s,t), k] for (s,t) = keys(demands)])\n",
    "#     @addConstraint(m, linkFlowPartial == linkFlow[k])\n",
    "# end\n",
    "\n",
    "# for l = 1:numNodes\n",
    "#     for (s,t) = keys(demands)\n",
    "#         if s != t\n",
    "#             odLinkFlowPartial = sum([nodeLink[\"$(l-1)-$(k-1)\"] * odLinkFlow[(s,t), k] for k = 1:numLinks])\n",
    "#             if (l == s)\n",
    "#                 @addConstraint(m, odLinkFlowPartial + demands[(s,t)] == 0)\n",
    "#             elseif (l == t)\n",
    "#                 @addConstraint(m, odLinkFlowPartial - demands[(s,t)] == 0)\n",
    "#             else\n",
    "#                 @addConstraint(m, odLinkFlowPartial == 0)\n",
    "#             end\n",
    "#         end\n",
    "#     end\n",
    "# end\n",
    "\n",
    "# @defNLExpr(f, sum{free_flow_time[a]*linkFlow[a] + .03*free_flow_time[a]*((linkFlow[a])^5)/((capacity[a])^4), a = 1:24})\n",
    "\n",
    "# @setNLObjective(m, Min, f)\n",
    "\n",
    "# solve(m)"
   ]
  },
  {
   "cell_type": "code",
   "execution_count": 19,
   "metadata": {
    "collapsed": false
   },
   "outputs": [],
   "source": [
    "# getValue(linkFlow)"
   ]
  },
  {
   "cell_type": "code",
   "execution_count": 20,
   "metadata": {
    "collapsed": false
   },
   "outputs": [],
   "source": [
    "# getObjectiveValue(m)"
   ]
  },
  {
   "cell_type": "code",
   "execution_count": 21,
   "metadata": {
    "collapsed": false
   },
   "outputs": [
    {
     "name": "stdout",
     "output_type": "stream",
     "text": [
      "No dicts found; please check load_dicts...\n"
     ]
    }
   ],
   "source": [
    "using PyCall\n",
    "unshift!(PyVector(pyimport(\"sys\")[\"path\"]), \"\");\n",
    "@pyimport GLS_Apr_weekday_PM"
   ]
  },
  {
   "cell_type": "code",
   "execution_count": 22,
   "metadata": {
    "collapsed": false
   },
   "outputs": [
    {
     "data": {
      "text/plain": [
       "24x30 Array{Float64,2}:\n",
       " 1468.48  2887.21  3396.09  3176.74  …  3436.13  2544.48  1991.71  1724.99\n",
       " 1913.51  1785.06  1505.4   1768.44     1636.06  1674.9   1634.01  2242.21\n",
       " 2685.38  1917.63  2168.52  2036.55     1933.07  1863.47  2171.32  2610.22\n",
       " 3019.04  2648.3   2296.73  2541.17     2349.07  2168.59  2585.11  2093.1 \n",
       " 2188.54  4130.96  6993.85  3314.72     2986.23  2045.14  2207.91  2656.21\n",
       " 2800.07  2101.55  2008.23  1951.03  …  1636.08  2105.63  1520.69  1800.1 \n",
       " 1638.15  1643.23  2740.69  2925.09     3023.63  1411.12  1591.81  2567.03\n",
       " 2229.0   1943.95  1867.89  1935.72     1611.75  1428.49  1574.32  3034.69\n",
       " 2998.65  3607.01  6300.37  6845.22     6218.79  2276.28  2968.94  6358.73\n",
       " 2960.27  3864.1   3951.95  4929.88     4282.8   2452.26  2173.73  4574.88\n",
       " 3332.75  5300.41  6927.29  5841.46  …  6566.89  3130.58  3202.07  6816.34\n",
       " 3046.12  3410.43  3814.36  3684.83     3024.27  3278.96  2720.3   3215.74\n",
       " 1482.62  1506.15  1348.81  1638.99     1312.12  2004.32  1415.54  1361.87\n",
       " 1920.88  2284.35  4622.83  2664.11     5354.36  1433.64  1329.22  2676.06\n",
       " 1814.76  2184.46  4810.06  3463.1      3606.97  1661.23  1454.04  3540.42\n",
       " 1822.07  2902.94  2811.66  3045.69  …  3534.6   1513.74  1452.45  2641.13\n",
       " 2296.89  1496.93  1753.53  1480.5      1487.98  1718.05  1831.21  1330.75\n",
       " 2249.24  1200.36  2144.25  1428.03     1348.41  1810.54  2103.44  1342.82\n",
       " 2724.56  2556.57  2185.02  2039.07     2351.1   2506.28  2483.98  2157.34\n",
       " 2974.93  3817.9   5010.78  5333.28     6999.35  2306.79  1880.35  5939.44\n",
       " 2939.95  3823.71  4802.37  5671.7   …  4662.5   4136.28  2648.33  4496.22\n",
       " 3155.17  4257.9   4411.53  5233.82     5350.13  4319.77  1926.23  3837.82\n",
       " 2359.61  1648.96  1739.84  1318.28     1525.14  1543.36  1947.25  1439.34\n",
       " 1830.05  2547.75  4091.15  3781.34     3046.29  1498.09  1740.57  2647.3 "
      ]
     },
     "execution_count": 22,
     "metadata": {},
     "output_type": "execute_result"
    }
   ],
   "source": [
    "flow_user = GLS_Apr_weekday_PM.x_"
   ]
  },
  {
   "cell_type": "code",
   "execution_count": 23,
   "metadata": {
    "collapsed": false
   },
   "outputs": [
    {
     "data": {
      "text/plain": [
       "socialObj (generic function with 1 method)"
      ]
     },
     "execution_count": 23,
     "metadata": {},
     "output_type": "execute_result"
    }
   ],
   "source": [
    "function socialObj(linkFlowVec)\n",
    "    objVal = sum([free_flow_time[a] * fcoeffs[1] * linkFlowVec[a] + free_flow_time[a] * fcoeffs[2] * linkFlowVec[a]^2 / capacity[a] + free_flow_time[a] * fcoeffs[3] * linkFlowVec[a]^3 / capacity[a]^2 + free_flow_time[a] * fcoeffs[4] * linkFlowVec[a]^4 / capacity[a]^3 + free_flow_time[a] * fcoeffs[5] * linkFlowVec[a]^5 / capacity[a]^4 + free_flow_time[a] * fcoeffs[6] * linkFlowVec[a]^6 / capacity[a]^5 + free_flow_time[a] * fcoeffs[7] * linkFlowVec[a]^7 / capacity[a]^6 + free_flow_time[a] * fcoeffs[8] * linkFlowVec[a]^8 / capacity[a]^7 + free_flow_time[a] * fcoeffs[9] * linkFlowVec[a]^9 / capacity[a]^8 for a = 1:numLinks])\n",
    "    return objVal\n",
    "end"
   ]
  },
  {
   "cell_type": "code",
   "execution_count": 24,
   "metadata": {
    "collapsed": false
   },
   "outputs": [
    {
     "name": "stdout",
     "output_type": "stream",
     "text": [
      "1.3987922991730621\n",
      "1.4988399534013912\n",
      "1.9076235871612943\n",
      "1.8252039836603506\n",
      "2.0899844547169195\n",
      "1.690984989728792\n",
      "1.201707438870099\n",
      "1.3663769413021225\n",
      "1.456054577399142\n",
      "1.5701527047213173\n",
      "1.748819864730797\n",
      "2.244594276737557\n",
      "1.8937484389390264\n",
      "1.185769590967761\n",
      "1.151661997622998\n",
      "1.3255977529292693\n",
      "1.6902987109876253\n",
      "2.0640916320738194\n",
      "1.9369571379172823\n",
      "1.7764050106517995\n",
      "1.1146733290689883\n",
      "1.5383898151295183\n",
      "1.4722226439117234\n",
      "1.66495498789451\n",
      "1.7547107631122831\n",
      "1.994322535468672\n",
      "1.845239088010564\n",
      "1.248219346336131\n",
      "1.1757442564932292\n",
      "1.7308690710221917\n"
     ]
    }
   ],
   "source": [
    "for i = 1:30\n",
    "    println(socialObj(flow_user[:, i])/getObjectiveValue(m))\n",
    "end"
   ]
  }
 ],
 "metadata": {
  "kernelspec": {
   "display_name": "Julia 0.3.7",
   "language": "julia",
   "name": "julia-0.3"
  },
  "language_info": {
   "file_extension": ".jl",
   "mimetype": "application/julia",
   "name": "julia",
   "version": "0.3.7"
  }
 },
 "nbformat": 4,
 "nbformat_minor": 0
}
