{
 "cells": [
  {
   "cell_type": "code",
   "execution_count": 22,
   "metadata": {},
   "outputs": [],
   "source": [
    "%run ../Python_files/util.py"
   ]
  },
  {
   "cell_type": "code",
   "execution_count": 23,
   "metadata": {},
   "outputs": [],
   "source": [
    "%run ../Python_files/print_OD_pair_link_labels_MA.py"
   ]
  },
  {
   "cell_type": "code",
   "execution_count": 24,
   "metadata": {},
   "outputs": [],
   "source": [
    "link_label_dict_ = zload('../temp_files/link_label_dict_MA_.pkz')"
   ]
  },
  {
   "cell_type": "code",
   "execution_count": 25,
   "metadata": {},
   "outputs": [
    {
     "data": {
      "text/plain": [
       "{'1->2': 0,\n",
       " '1->3': 2,\n",
       " '2->1': 1,\n",
       " '2->3': 4,\n",
       " '2->4': 6,\n",
       " '3->1': 3,\n",
       " '3->2': 5,\n",
       " '3->5': 8,\n",
       " '3->6': 10,\n",
       " '4->2': 7,\n",
       " '4->5': 12,\n",
       " '4->8': 16,\n",
       " '5->3': 9,\n",
       " '5->4': 13,\n",
       " '5->6': 14,\n",
       " '5->7': 18,\n",
       " '6->3': 11,\n",
       " '6->5': 15,\n",
       " '6->7': 20,\n",
       " '7->5': 19,\n",
       " '7->6': 21,\n",
       " '7->8': 22,\n",
       " '8->4': 17,\n",
       " '8->7': 23}"
      ]
     },
     "execution_count": 25,
     "metadata": {},
     "output_type": "execute_result"
    }
   ],
   "source": [
    "link_label_dict_"
   ]
  },
  {
   "cell_type": "code",
   "execution_count": 26,
   "metadata": {},
   "outputs": [],
   "source": [
    "OD_pair_label_dict_ = zload('../temp_files/OD_pair_label_dict__MA.pkz')"
   ]
  },
  {
   "cell_type": "code",
   "execution_count": 27,
   "metadata": {},
   "outputs": [
    {
     "data": {
      "text/plain": [
       "{'0': (1, 2),\n",
       " '1': (1, 3),\n",
       " '10': (2, 5),\n",
       " '11': (2, 6),\n",
       " '12': (2, 7),\n",
       " '13': (2, 8),\n",
       " '14': (3, 1),\n",
       " '15': (3, 2),\n",
       " '16': (3, 4),\n",
       " '17': (3, 5),\n",
       " '18': (3, 6),\n",
       " '19': (3, 7),\n",
       " '2': (1, 4),\n",
       " '20': (3, 8),\n",
       " '21': (4, 1),\n",
       " '22': (4, 2),\n",
       " '23': (4, 3),\n",
       " '24': (4, 5),\n",
       " '25': (4, 6),\n",
       " '26': (4, 7),\n",
       " '27': (4, 8),\n",
       " '28': (5, 1),\n",
       " '29': (5, 2),\n",
       " '3': (1, 5),\n",
       " '30': (5, 3),\n",
       " '31': (5, 4),\n",
       " '32': (5, 6),\n",
       " '33': (5, 7),\n",
       " '34': (5, 8),\n",
       " '35': (6, 1),\n",
       " '36': (6, 2),\n",
       " '37': (6, 3),\n",
       " '38': (6, 4),\n",
       " '39': (6, 5),\n",
       " '4': (1, 6),\n",
       " '40': (6, 7),\n",
       " '41': (6, 8),\n",
       " '42': (7, 1),\n",
       " '43': (7, 2),\n",
       " '44': (7, 3),\n",
       " '45': (7, 4),\n",
       " '46': (7, 5),\n",
       " '47': (7, 6),\n",
       " '48': (7, 8),\n",
       " '49': (8, 1),\n",
       " '5': (1, 7),\n",
       " '50': (8, 2),\n",
       " '51': (8, 3),\n",
       " '52': (8, 4),\n",
       " '53': (8, 5),\n",
       " '54': (8, 6),\n",
       " '55': (8, 7),\n",
       " '6': (1, 8),\n",
       " '7': (2, 1),\n",
       " '8': (2, 3),\n",
       " '9': (2, 4)}"
      ]
     },
     "execution_count": 27,
     "metadata": {},
     "output_type": "execute_result"
    }
   ],
   "source": [
    "OD_pair_label_dict_"
   ]
  },
  {
   "cell_type": "code",
   "execution_count": 28,
   "metadata": {},
   "outputs": [],
   "source": [
    "link_length_dict = zload('../temp_files/link_length_dict.pkz')"
   ]
  },
  {
   "cell_type": "code",
   "execution_count": 29,
   "metadata": {},
   "outputs": [],
   "source": [
    "import json\n",
    "\n",
    "link_length_dict_MA = {}\n",
    "\n",
    "for i in range(len(link_length_dict)):\n",
    "    key = str(i)\n",
    "    link_length_dict_MA[key] = link_length_dict[key].length\n",
    "\n",
    "with open('../temp_files/link_length_dict_MA.json', 'w') as json_file:\n",
    "    json.dump(link_length_dict_MA, json_file)"
   ]
  },
  {
   "cell_type": "code",
   "execution_count": 30,
   "metadata": {},
   "outputs": [
    {
     "data": {
      "text/plain": [
       "{'0': 21.485922426146935,\n",
       " '1': 22.83528621404672,\n",
       " '10': 12.877906054446688,\n",
       " '11': 12.937426500746488,\n",
       " '12': 16.937195032523533,\n",
       " '13': 17.16259431586474,\n",
       " '14': 10.770853345153691,\n",
       " '15': 10.681694627287877,\n",
       " '16': 24.43531455794137,\n",
       " '17': 24.36731206452414,\n",
       " '18': 12.50835831654928,\n",
       " '19': 12.33527275744721,\n",
       " '2': 32.02562773881377,\n",
       " '20': 16.50791708359106,\n",
       " '21': 16.299241593254592,\n",
       " '22': 13.920130127329351,\n",
       " '23': 14.194653045839052,\n",
       " '3': 32.70389230340661,\n",
       " '4': 10.077340795420966,\n",
       " '5': 11.97811293023347,\n",
       " '6': 37.63461529833393,\n",
       " '7': 38.66741121038666,\n",
       " '8': 16.215435794797198,\n",
       " '9': 16.796114242202183}"
      ]
     },
     "execution_count": 30,
     "metadata": {},
     "output_type": "execute_result"
    }
   ],
   "source": [
    "link_length_dict_MA"
   ]
  },
  {
   "cell_type": "code",
   "execution_count": 31,
   "metadata": {},
   "outputs": [],
   "source": [
    "with open('../temp_files/path_link_incidence_MA_CDC.txt', 'r') as the_file:\n",
    "    # path counts\n",
    "    i = 0  \n",
    "    for row in the_file:\n",
    "        if '->' in row:\n",
    "            i = i + 1"
   ]
  },
  {
   "cell_type": "code",
   "execution_count": 32,
   "metadata": {},
   "outputs": [
    {
     "data": {
      "text/plain": [
       "314"
      ]
     },
     "execution_count": 32,
     "metadata": {},
     "output_type": "execute_result"
    }
   ],
   "source": [
    "i"
   ]
  },
  {
   "cell_type": "code",
   "execution_count": 33,
   "metadata": {},
   "outputs": [],
   "source": [
    "# number of links\n",
    "m = 24\n",
    "\n",
    "# create link labels\n",
    "# create a dictionary mapping directed links to labels\n",
    "link_label_dict = {}\n",
    "link_label_dict_ = {}\n",
    "\n",
    "link_list = ['1,2','2,1','1,3','3,1','2,3','3,2','2,4','4,2','3,5','5,3',\n",
    "             '3,6','6,3','4,5','5,4','5,6','6,5','4,8','8,4','5,7','7,5',\n",
    "             '6,7','7,6','7,8','8,7']\n",
    "\n",
    "for i in range(m):\n",
    "    link_label_dict[str(i)] = link_list[i]\n",
    "\n",
    "for i in range(m):\n",
    "    link_label_dict_[link_list[i]] = i\n",
    "\n",
    "with open('link_label_dict_MA.json', 'w') as json_file:\n",
    "    json.dump(link_label_dict, json_file)\n",
    "    \n",
    "with open('link_label_dict_MA_.json', 'w') as json_file:\n",
    "    json.dump(link_label_dict_, json_file)"
   ]
  },
  {
   "cell_type": "code",
   "execution_count": 34,
   "metadata": {},
   "outputs": [
    {
     "data": {
      "text/plain": [
       "{'1,2': 0,\n",
       " '1,3': 2,\n",
       " '2,1': 1,\n",
       " '2,3': 4,\n",
       " '2,4': 6,\n",
       " '3,1': 3,\n",
       " '3,2': 5,\n",
       " '3,5': 8,\n",
       " '3,6': 10,\n",
       " '4,2': 7,\n",
       " '4,5': 12,\n",
       " '4,8': 16,\n",
       " '5,3': 9,\n",
       " '5,4': 13,\n",
       " '5,6': 14,\n",
       " '5,7': 18,\n",
       " '6,3': 11,\n",
       " '6,5': 15,\n",
       " '6,7': 20,\n",
       " '7,5': 19,\n",
       " '7,6': 21,\n",
       " '7,8': 22,\n",
       " '8,4': 17,\n",
       " '8,7': 23}"
      ]
     },
     "execution_count": 34,
     "metadata": {},
     "output_type": "execute_result"
    }
   ],
   "source": [
    "link_label_dict_"
   ]
  },
  {
   "cell_type": "code",
   "execution_count": 35,
   "metadata": {},
   "outputs": [],
   "source": [
    "# create O-D pair labels\n",
    "# create a dictionary mapping O-D pairs to labels\n",
    "\n",
    "import json\n",
    "\n",
    "n = 8  # number of nodes\n",
    "\n",
    "OD_pair_label_dict = {}\n",
    "OD_pair_label_dict_ = {}\n",
    "\n",
    "label = 1\n",
    "for i in range(n + 1)[1:]:\n",
    "    for j in range(n + 1)[1:]:\n",
    "        key = (i, j)\n",
    "        OD_pair_label_dict[str(key)] = label\n",
    "        OD_pair_label_dict_[str(label)] = key\n",
    "        label += 1\n",
    "        \n",
    "with open('od_pair_label_dict_MA.json', 'w') as json_file:\n",
    "    json.dump(OD_pair_label_dict, json_file)\n",
    "    \n",
    "with open('od_pair_label_dict__MA.json', 'w') as json_file:\n",
    "    json.dump(OD_pair_label_dict_, json_file)"
   ]
  },
  {
   "cell_type": "code",
   "execution_count": 37,
   "metadata": {},
   "outputs": [],
   "source": [
    "OD_pair_label_dict_;"
   ]
  },
  {
   "cell_type": "code",
   "execution_count": 38,
   "metadata": {},
   "outputs": [
    {
     "data": {
      "text/plain": [
       "64"
      ]
     },
     "execution_count": 38,
     "metadata": {},
     "output_type": "execute_result"
    }
   ],
   "source": [
    "len(OD_pair_label_dict_)"
   ]
  },
  {
   "cell_type": "code",
   "execution_count": 40,
   "metadata": {},
   "outputs": [],
   "source": [
    "# create O-D pair labels\n",
    "# create a dictionary mapping O-D pairs to labels\n",
    "\n",
    "import json\n",
    "\n",
    "n = 8  # number of nodes\n",
    "\n",
    "OD_pair_label_dict_refined = {}\n",
    "OD_pair_label_dict_refined_ = {}\n",
    "\n",
    "label = 1\n",
    "for i in range(n + 1)[1:]:\n",
    "    for j in range(n + 1)[1:]:\n",
    "        if i != j:\n",
    "            key = (i, j)\n",
    "            OD_pair_label_dict_refined[str(key)] = label\n",
    "            OD_pair_label_dict_refined_[str(label)] = key\n",
    "            label += 1\n",
    "        \n",
    "with open('od_pair_label_dict_MA_refined.json', 'w') as json_file:\n",
    "    json.dump(OD_pair_label_dict_refined, json_file)\n",
    "    \n",
    "with open('od_pair_label_dict__MA_refined.json', 'w') as json_file:\n",
    "    json.dump(OD_pair_label_dict_refined_, json_file)"
   ]
  },
  {
   "cell_type": "code",
   "execution_count": null,
   "metadata": {
    "collapsed": true
   },
   "outputs": [],
   "source": []
  }
 ],
 "metadata": {
  "kernelspec": {
   "display_name": "Python 2",
   "language": "python",
   "name": "python2"
  },
  "language_info": {
   "codemirror_mode": {
    "name": "ipython",
    "version": 2
   },
   "file_extension": ".py",
   "mimetype": "text/x-python",
   "name": "python",
   "nbconvert_exporter": "python",
   "pygments_lexer": "ipython2",
   "version": "2.7.15"
  }
 },
 "nbformat": 4,
 "nbformat_minor": 1
}
