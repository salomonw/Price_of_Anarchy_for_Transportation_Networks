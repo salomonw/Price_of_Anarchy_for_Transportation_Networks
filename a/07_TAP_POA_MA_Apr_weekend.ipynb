{
 "cells": [
  {
   "cell_type": "code",
   "execution_count": 1,
   "metadata": {
    "collapsed": true
   },
   "outputs": [],
   "source": [
    "using JSON\n",
    "\n",
    "#load OD pair-route incidence\n",
    "odPairRoute = readall(\"od_pair_route_incidence_MA.json\");\n",
    "odPairRoute = JSON.parse(odPairRoute);\n",
    "\n",
    "#load link-route incidence\n",
    "linkRoute = readall(\"link_route_incidence_MA.json\");\n",
    "linkRoute = JSON.parse(linkRoute);\n",
    "\n",
    "#load OD pair labels\n",
    "odPairLabel = readall(\"od_pair_label_dict_MA_refined.json\");\n",
    "odPairLabel = JSON.parse(odPairLabel);\n",
    "\n",
    "odPairLabel_ = readall(\"od_pair_label_dict__MA_refined.json\");\n",
    "odPairLabel_ = JSON.parse(odPairLabel_);\n",
    "\n",
    "#load link labels\n",
    "linkLabel = readall(\"link_label_dict_MA.json\");\n",
    "linkLabel = JSON.parse(linkLabel);\n",
    "\n",
    "linkLabel_ = readall(\"link_label_dict_MA_.json\");\n",
    "linkLabel_ = JSON.parse(linkLabel_);\n",
    "\n",
    "#load node-link incidence\n",
    "nodeLink = readall(\"node_link_incidence_MA.json\");\n",
    "nodeLink = JSON.parse(nodeLink);"
   ]
  },
  {
   "cell_type": "code",
   "execution_count": 2,
   "metadata": {
    "collapsed": false
   },
   "outputs": [
    {
     "data": {
      "text/plain": [
       "load_ta_network (generic function with 2 methods)"
      ]
     },
     "execution_count": 2,
     "metadata": {},
     "output_type": "execute_result"
    }
   ],
   "source": [
    "include(\"load_network_uni-class.jl\")"
   ]
  },
  {
   "cell_type": "code",
   "execution_count": 3,
   "metadata": {
    "collapsed": true
   },
   "outputs": [],
   "source": [
    "ta_data = load_ta_network(\"East_Massachusetts_Apr_weekend\");"
   ]
  },
  {
   "cell_type": "code",
   "execution_count": 4,
   "metadata": {
    "collapsed": false
   },
   "outputs": [],
   "source": [
    "capacity = ta_data.capacity;\n",
    "free_flow_time = ta_data.free_flow_time;"
   ]
  },
  {
   "cell_type": "code",
   "execution_count": 5,
   "metadata": {
    "collapsed": false
   },
   "outputs": [],
   "source": [
    "############\n",
    "#Read in the demand file\n",
    "file = open(\"../data_traffic_assignment_uni-class/East_Massachusetts_trips_Apr_weekend.txt\")\n",
    "demands = Dict{(Int64,Int64), Float64}()\n",
    "s = 0\n",
    "for line in eachline(file)\n",
    "    if contains(line, \"Origin\")\n",
    "        s = int(split(line)[2])\n",
    "    else\n",
    "        pairs = split(line, \";\")\n",
    "        for pair in pairs\n",
    "            if !contains(pair, \"\\n\")\n",
    "                pair_vals = split(pair, \":\")\n",
    "                t, demand = int(pair_vals[1]), float(pair_vals[2])\n",
    "                demands[(s,t)] = demand \n",
    "            end\n",
    "        end\n",
    "    end\n",
    "end                \n",
    "close(file)"
   ]
  },
  {
   "cell_type": "code",
   "execution_count": 6,
   "metadata": {
    "collapsed": false
   },
   "outputs": [
    {
     "data": {
      "text/plain": [
       "Dict{(Int64,Int64),Float64} with 64 entries:\n",
       "  (3,6) => 492.255174\n",
       "  (4,4) => 0.0\n",
       "  (3,1) => 550.454014\n",
       "  (4,5) => 297.8199\n",
       "  (2,4) => 262.686455\n",
       "  (6,5) => 337.64275\n",
       "  (8,4) => 393.749843\n",
       "  (1,2) => 469.814113\n",
       "  (5,1) => 357.213346\n",
       "  (3,4) => 337.58996\n",
       "  (8,2) => 204.437727\n",
       "  (2,3) => 370.060645\n",
       "  (2,6) => 435.446049\n",
       "  (5,4) => 315.592454\n",
       "  (2,1) => 497.168947\n",
       "  (2,5) => 416.028957\n",
       "  (8,5) => 302.149252\n",
       "  (1,4) => 216.960225\n",
       "  (2,8) => 280.070247\n",
       "  (5,8) => 277.481654\n",
       "  (4,8) => 207.332502\n",
       "  (7,8) => 272.515276\n",
       "  (1,1) => 0.0\n",
       "  (7,7) => 0.0\n",
       "  (5,7) => 486.898716\n",
       "  ⋮     => ⋮"
      ]
     },
     "execution_count": 6,
     "metadata": {},
     "output_type": "execute_result"
    }
   ],
   "source": [
    "demands"
   ]
  },
  {
   "cell_type": "code",
   "execution_count": 7,
   "metadata": {
    "collapsed": false
   },
   "outputs": [
    {
     "data": {
      "text/plain": [
       "Dict{UTF8String,Any} with 56 entries:\n",
       "  \"32\" => {5,4}\n",
       "  \"29\" => {5,1}\n",
       "  \"1\"  => {1,2}\n",
       "  \"54\" => {8,5}\n",
       "  \"2\"  => {1,3}\n",
       "  \"41\" => {6,7}\n",
       "  \"53\" => {8,4}\n",
       "  \"51\" => {8,2}\n",
       "  \"27\" => {4,7}\n",
       "  \"42\" => {6,8}\n",
       "  \"33\" => {5,6}\n",
       "  \"28\" => {4,8}\n",
       "  \"52\" => {8,3}\n",
       "  \"50\" => {8,1}\n",
       "  \"26\" => {4,6}\n",
       "  \"10\" => {2,4}\n",
       "  \"24\" => {4,3}\n",
       "  \"25\" => {4,5}\n",
       "  \"23\" => {4,2}\n",
       "  \"49\" => {7,8}\n",
       "  \"5\"  => {1,6}\n",
       "  \"31\" => {5,3}\n",
       "  \"43\" => {7,1}\n",
       "  \"39\" => {6,4}\n",
       "  \"44\" => {7,2}\n",
       "  ⋮    => ⋮"
      ]
     },
     "execution_count": 7,
     "metadata": {},
     "output_type": "execute_result"
    }
   ],
   "source": [
    "odPairLabel_"
   ]
  },
  {
   "cell_type": "code",
   "execution_count": 8,
   "metadata": {
    "collapsed": false
   },
   "outputs": [],
   "source": [
    "demandsVec = zeros(56)\n",
    "\n",
    "for i = 1:length(demandsVec)\n",
    "    demandsVec[i] = demands[(odPairLabel_[\"$i\"][1], odPairLabel_[\"$i\"][2])]\n",
    "end"
   ]
  },
  {
   "cell_type": "code",
   "execution_count": 9,
   "metadata": {
    "collapsed": false
   },
   "outputs": [
    {
     "data": {
      "text/plain": [
       "56-element Array{Float64,1}:\n",
       " 469.814\n",
       " 673.788\n",
       " 216.96 \n",
       " 419.865\n",
       " 320.701\n",
       " 388.629\n",
       " 229.399\n",
       " 497.169\n",
       " 370.061\n",
       " 262.686\n",
       " 416.029\n",
       " 435.446\n",
       " 367.146\n",
       "   ⋮    \n",
       " 334.435\n",
       " 332.73 \n",
       " 339.458\n",
       " 287.751\n",
       " 272.515\n",
       " 238.571\n",
       " 204.438\n",
       " 337.006\n",
       " 393.75 \n",
       " 302.149\n",
       " 325.533\n",
       " 389.839"
      ]
     },
     "execution_count": 9,
     "metadata": {},
     "output_type": "execute_result"
    }
   ],
   "source": [
    "demandsVec"
   ]
  },
  {
   "cell_type": "code",
   "execution_count": 10,
   "metadata": {
    "collapsed": false
   },
   "outputs": [
    {
     "name": "stdout",
     "output_type": "stream",
     "text": [
      "56-314\n",
      "56-313\n",
      "56-312\n"
     ]
    }
   ],
   "source": [
    "for key=keys(odPairRoute)\n",
    "    if contains(key, \"56-\")\n",
    "        println(key)\n",
    "    end\n",
    "end"
   ]
  },
  {
   "cell_type": "code",
   "execution_count": 11,
   "metadata": {
    "collapsed": false
   },
   "outputs": [
    {
     "data": {
      "text/plain": [
       "Dict{UTF8String,Any} with 986 entries:\n",
       "  \"5-260\"  => 1.0\n",
       "  \"3-290\"  => 1.0\n",
       "  \"20-207\" => 1.0\n",
       "  \"16-217\" => 1.0\n",
       "  \"6-198\"  => 1.0\n",
       "  \"19-180\" => 1.0\n",
       "  \"23-180\" => 1.0\n",
       "  \"16-48\"  => 1.0\n",
       "  \"10-128\" => 1.0\n",
       "  \"16-266\" => 1.0\n",
       "  \"11-148\" => 1.0\n",
       "  \"14-299\" => 1.0\n",
       "  \"21-112\" => 1.0\n",
       "  \"18-290\" => 1.0\n",
       "  \"16-235\" => 1.0\n",
       "  \"5-70\"   => 1.0\n",
       "  \"9-93\"   => 1.0\n",
       "  \"9-60\"   => 1.0\n",
       "  \"1-14\"   => 1.0\n",
       "  \"11-19\"  => 1.0\n",
       "  \"17-190\" => 1.0\n",
       "  \"11-52\"  => 1.0\n",
       "  \"19-65\"  => 1.0\n",
       "  \"10-291\" => 1.0\n",
       "  \"12-241\" => 1.0\n",
       "  ⋮        => ⋮"
      ]
     },
     "execution_count": 11,
     "metadata": {},
     "output_type": "execute_result"
    }
   ],
   "source": [
    "linkRoute"
   ]
  },
  {
   "cell_type": "code",
   "execution_count": 12,
   "metadata": {
    "collapsed": false
   },
   "outputs": [
    {
     "data": {
      "text/plain": [
       "9-element Array{Any,1}:\n",
       "  1.0       \n",
       " -0.00285055\n",
       "  0.0535364 \n",
       " -0.209553  \n",
       "  0.582268  \n",
       " -0.92582   \n",
       "  0.892288  \n",
       " -0.468562  \n",
       "  0.103891  "
      ]
     },
     "execution_count": 12,
     "metadata": {},
     "output_type": "execute_result"
    }
   ],
   "source": [
    "coeffs_dict = readall(\"../temp_files/coeffs_dict_Apr_weekend.json\")\n",
    "coeffs_dict = JSON.parse(coeffs_dict)\n",
    "fcoeffs = coeffs_dict[\"(8,0.5,10000.0,1)\"]"
   ]
  },
  {
   "cell_type": "code",
   "execution_count": 13,
   "metadata": {
    "collapsed": false
   },
   "outputs": [
    {
     "name": "stdout",
     "output_type": "stream",
     "text": [
      "\n",
      "******************************************************************************\n",
      "This program contains Ipopt, a library for large-scale nonlinear optimization.\n",
      " Ipopt is released as open source code under the Eclipse Public License (EPL).\n",
      "         For more information visit http://projects.coin-or.org/Ipopt\n",
      "******************************************************************************\n",
      "\n",
      "This is Ipopt version 3.12.1, running with linear solver mumps.\n",
      "NOTE: Other linear solvers might be more efficient (see Ipopt documentation).\n",
      "\n",
      "Number of nonzeros in equality constraint Jacobian...:     1324\n",
      "Number of nonzeros in inequality constraint Jacobian.:      314\n",
      "Number of nonzeros in Lagrangian Hessian.............:       24\n",
      "\n",
      "Total number of variables............................:      338\n",
      "                     variables with only lower bounds:        0\n",
      "                variables with lower and upper bounds:        0\n",
      "                     variables with only upper bounds:        0\n",
      "Total number of equality constraints.................:       80\n",
      "Total number of inequality constraints...............:      314\n",
      "        inequality constraints with only lower bounds:      314\n",
      "   inequality constraints with lower and upper bounds:        0\n",
      "        inequality constraints with only upper bounds:        0\n",
      "\n",
      "iter    objective    inf_pr   inf_du lg(mu)  ||d||  lg(rg) alpha_du alpha_pr  ls\n",
      "   0  0.0000000e+00 6.74e+02 4.62e-01  -1.0 0.00e+00    -  0.00e+00 0.00e+00   0\n",
      "   1  1.5172280e+04 7.96e-13 2.24e+04  -1.0 3.33e+03    -  4.41e-05 1.00e+00h  1\n",
      "   2  1.4917298e+04 2.10e-12 2.20e+04  -1.0 1.21e+04    -  3.78e-02 2.03e-02f  1\n",
      "   3  1.4796746e+04 1.14e-12 2.12e+04  -1.0 1.72e+03    -  3.65e-01 3.49e-02f  1\n",
      "   4  1.2848491e+04 1.76e-12 1.29e+04  -1.0 2.06e+03    -  1.96e-01 3.90e-01f  1\n",
      "   5  1.0888509e+04 1.05e-12 6.38e+03  -1.0 1.32e+03    -  2.80e-01 5.07e-01f  1\n",
      "   6  9.2158908e+03 6.98e-13 2.27e+03  -1.0 7.90e+02    -  3.54e-01 6.43e-01f  1\n",
      "   7  8.4143832e+03 8.46e-13 5.00e+02  -1.0 7.48e+02    -  5.18e-01 7.80e-01f  1\n",
      "   8  8.1652167e+03 7.88e-13 3.68e+01  -1.0 5.29e+02    -  5.55e-01 9.26e-01f  1\n",
      "   9  8.1299139e+03 1.65e-12 1.91e-02  -1.0 2.97e+02    -  6.93e-01 1.00e+00f  1\n",
      "iter    objective    inf_pr   inf_du lg(mu)  ||d||  lg(rg) alpha_du alpha_pr  ls\n",
      "  10  8.1072830e+03 1.50e-12 2.99e-03  -1.7 2.38e+02    -  8.45e-01 1.00e+00f  1\n",
      "  11  8.1027607e+03 1.88e-12 1.40e-05  -2.5 1.33e+02    -  1.00e+00 1.00e+00f  1\n",
      "  12  8.1026880e+03 2.31e-12 1.27e-06  -2.5 3.87e+01    -  1.00e+00 1.00e+00f  1\n",
      "  13  8.1019918e+03 2.28e-12 6.59e-08  -3.8 8.82e+00    -  1.00e+00 1.00e+00f  1\n",
      "  14  8.1019531e+03 1.01e-12 2.30e-10  -5.7 5.21e-01    -  1.00e+00 1.00e+00f  1\n",
      "  15  8.1019526e+03 9.38e-13 2.51e-14  -8.6 4.78e-03    -  1.00e+00 1.00e+00f  1\n",
      "\n",
      "Number of Iterations....: 15\n",
      "\n",
      "                                   (scaled)                 (unscaled)\n",
      "Objective...............:   8.1019525923601896e+03    8.1019525923601896e+03\n",
      "Dual infeasibility......:   2.5091040356528538e-14    2.5091040356528538e-14\n",
      "Constraint violation....:   9.3774583486138123e-13    9.3774583486138123e-13\n",
      "Complementarity.........:   2.5334488480843376e-09    2.5334488480843376e-09\n",
      "Overall NLP error.......:   2.5334488480843376e-09    2.5334488480843376e-09\n",
      "\n",
      "\n",
      "Number of objective function evaluations             = 16\n",
      "Number of objective gradient evaluations             = 16\n",
      "Number of equality constraint evaluations            = 16\n",
      "Number of inequality constraint evaluations          = 16\n",
      "Number of equality constraint Jacobian evaluations   = 16\n",
      "Number of inequality constraint Jacobian evaluations = 16\n",
      "Number of Lagrangian Hessian evaluations             = 15\n",
      "Total CPU secs in IPOPT (w/o function evaluations)   =      0.048\n",
      "Total CPU secs in NLP function evaluations           =      0.020\n",
      "\n",
      "EXIT: Optimal Solution Found.\n"
     ]
    },
    {
     "data": {
      "text/plain": [
       ":Optimal"
      ]
     },
     "execution_count": 13,
     "metadata": {},
     "output_type": "execute_result"
    }
   ],
   "source": [
    "using JuMP\n",
    "\n",
    "# m = Model(solver=GurobiSolver(OutputFlag=false))\n",
    "m = Model()\n",
    "\n",
    "numLinks = 24\n",
    "numRoute = 314\n",
    "numOD = 56\n",
    "\n",
    "@defVar(m, linkFlow[1:numLinks])\n",
    "@defVar(m, pathFlow[1:numRoute])\n",
    "\n",
    "pathFlowSum = Dict()\n",
    "\n",
    "for i=1:numOD\n",
    "    pathFlowSum[i] = 0\n",
    "    for j=1:numRoute\n",
    "        if \"$(i)-$(j)\" in keys(odPairRoute)\n",
    "            pathFlowSum[i] += pathFlow[j]\n",
    "        end\n",
    "    end\n",
    "    @addConstraint(m, pathFlowSum[i] == demandsVec[i])\n",
    "end\n",
    "\n",
    "pathFlowLinkSum = Dict()\n",
    "\n",
    "for a=1:numLinks\n",
    "    pathFlowLinkSum[a] = 0\n",
    "    for j=1:numRoute\n",
    "        if \"$(a)-$(j)\" in keys(linkRoute)\n",
    "            pathFlowLinkSum[a] += pathFlow[j]\n",
    "        end\n",
    "    end\n",
    "    @addConstraint(m, pathFlowLinkSum[a] == linkFlow[a])\n",
    "end\n",
    "\n",
    "for j=1:numRoute\n",
    "    @addConstraint(m, pathFlow[j] >= 0)\n",
    "end\n",
    "\n",
    "# @defNLExpr(f, sum{free_flow_time[a]*linkFlow[a] + .03*free_flow_time[a]*((linkFlow[a])^5)/((capacity[a])^4), a = 1:numLinks})\n",
    "\n",
    "@defNLExpr(f, sum{free_flow_time[a] * fcoeffs[1] * linkFlow[a] + \n",
    "    free_flow_time[a] * fcoeffs[2] * linkFlow[a]^2 / capacity[a] +\n",
    "    free_flow_time[a] * fcoeffs[3] * linkFlow[a]^3 / capacity[a]^2 +\n",
    "    free_flow_time[a] * fcoeffs[4] * linkFlow[a]^4 / capacity[a]^3 +\n",
    "    free_flow_time[a] * fcoeffs[5] * linkFlow[a]^5 / capacity[a]^4 +\n",
    "    free_flow_time[a] * fcoeffs[6] * linkFlow[a]^6 / capacity[a]^5 +\n",
    "    free_flow_time[a] * fcoeffs[7] * linkFlow[a]^7 / capacity[a]^6 +\n",
    "    free_flow_time[a] * fcoeffs[8] * linkFlow[a]^8 / capacity[a]^7 +\n",
    "    free_flow_time[a] * fcoeffs[9] * linkFlow[a]^9 / capacity[a]^8, a = 1:numLinks})\n",
    "\n",
    "@setNLObjective(m, Min, f)\n",
    "\n",
    "solve(m)"
   ]
  },
  {
   "cell_type": "code",
   "execution_count": 14,
   "metadata": {
    "collapsed": false
   },
   "outputs": [
    {
     "data": {
      "text/plain": [
       "24-element Array{Float64,1}:\n",
       " 2489.76 \n",
       "  710.807\n",
       "  229.4  \n",
       " 1885.53 \n",
       " 3671.74 \n",
       " 1761.14 \n",
       "  479.647\n",
       "  396.9  \n",
       " 3555.53 \n",
       " 3054.14 \n",
       " 1248.4  \n",
       " 1222.27 \n",
       " 1167.27 \n",
       " 1268.17 \n",
       "  690.164\n",
       "  619.896\n",
       "  207.333\n",
       "  393.75 \n",
       " 2949.78 \n",
       " 2791.24 \n",
       "  539.065\n",
       "  613.285\n",
       " 1638.47 \n",
       " 1797.54 "
      ]
     },
     "execution_count": 14,
     "metadata": {},
     "output_type": "execute_result"
    }
   ],
   "source": [
    "getValue(linkFlow)"
   ]
  },
  {
   "cell_type": "code",
   "execution_count": 15,
   "metadata": {
    "collapsed": false
   },
   "outputs": [
    {
     "data": {
      "text/plain": [
       "8101.95259236019"
      ]
     },
     "execution_count": 15,
     "metadata": {},
     "output_type": "execute_result"
    }
   ],
   "source": [
    "getObjectiveValue(m)"
   ]
  },
  {
   "cell_type": "code",
   "execution_count": 16,
   "metadata": {
    "collapsed": false
   },
   "outputs": [
    {
     "data": {
      "text/plain": [
       "Dict{(Int64,Int64),Float64} with 24 entries:\n",
       "  (3,6) => 1248.4021706562737\n",
       "  (2,3) => 3671.736039557336\n",
       "  (5,6) => 690.1643740868645\n",
       "  (5,4) => 1268.1657069498056\n",
       "  (2,1) => 710.806532209143\n",
       "  (6,3) => 1222.2650027062286\n",
       "  (3,1) => 1885.5320036167768\n",
       "  (1,3) => 229.39950341135184\n",
       "  (4,5) => 1167.2678959567706\n",
       "  (4,8) => 207.332501915158\n",
       "  (7,5) => 2791.243461299993\n",
       "  (8,7) => 1797.535590932901\n",
       "  (3,2) => 1761.1353313459633\n",
       "  (7,6) => 613.2845665662535\n",
       "  (2,4) => 479.6466797438978\n",
       "  (7,8) => 1638.4675969458124\n",
       "  (6,5) => 619.8959610864896\n",
       "  (6,7) => 539.0648805166733\n",
       "  (8,4) => 393.74984292807045\n",
       "  (1,2) => 2489.758223414568\n",
       "  (5,3) => 3054.1396602714526\n",
       "  (4,2) => 396.90038474984505\n",
       "  (3,5) => 3555.534735327354\n",
       "  (5,7) => 2949.778350362485"
      ]
     },
     "execution_count": 16,
     "metadata": {},
     "output_type": "execute_result"
    }
   ],
   "source": [
    "flows = Dict{(Int64,Int64),Float64}()\n",
    "\n",
    "for i = 1:length(ta_data.start_node)\n",
    "    key = (ta_data.start_node[i], ta_data.end_node[i])\n",
    "    flows[key] = getValue(linkFlow)[i]\n",
    "end\n",
    "\n",
    "flows"
   ]
  },
  {
   "cell_type": "code",
   "execution_count": 17,
   "metadata": {
    "collapsed": false
   },
   "outputs": [
    {
     "name": "stdout",
     "output_type": "stream",
     "text": [
      "No dicts found; please check load_dicts...\n"
     ]
    }
   ],
   "source": [
    "using PyCall\n",
    "unshift!(PyVector(pyimport(\"sys\")[\"path\"]), \"\");\n",
    "@pyimport GLS_Apr_weekend"
   ]
  },
  {
   "cell_type": "code",
   "execution_count": 18,
   "metadata": {
    "collapsed": false
   },
   "outputs": [
    {
     "data": {
      "text/plain": [
       "24x30 Array{Float64,2}:\n",
       " 2145.86  1838.03  1787.53  2499.06  …  1532.97  1822.93   2089.49  1470.89\n",
       " 1919.36  2234.54  2530.34  2967.14     2228.66  1716.73   2007.27  2755.1 \n",
       " 2625.05  2398.24  2088.94  2426.37     1979.68  2240.81   2118.98  1888.16\n",
       " 2539.48  2815.03  2926.87  3300.89     1721.72  1830.36   2517.52  2949.26\n",
       " 2565.94  2651.87  2395.74  2319.8      2226.21  2122.4    2166.88  2287.79\n",
       " 2526.44  3165.0   5082.23  3519.52  …  2374.31  1753.98   2338.65  5535.94\n",
       " 2297.39  2286.0   2031.24  2079.66     1862.24  1653.94   1940.96  2468.52\n",
       " 1905.67  2201.92  1877.32  3696.87     1730.31  1618.64   1778.8   3021.88\n",
       " 2904.24  4531.49  4197.81  4413.11     4058.6   2301.68   2463.97  4386.34\n",
       " 2909.25  6522.7   6384.04  6118.6      3656.59  1409.38   2430.28  5995.56\n",
       " 2947.98  4268.55  5220.57  5235.21  …  3622.56  2607.33   1932.15  4855.45\n",
       " 2802.79  4396.48  4398.06  4895.27     4414.85  2429.3    2443.83  4699.74\n",
       " 1594.66  4776.13  5022.85  5140.21     1276.86  1172.54   1986.06  5018.14\n",
       " 1828.84  1625.88  1379.85  1402.78     1628.52  1327.41   1777.08  1326.25\n",
       " 1649.05  4269.84  3571.89  3941.34     3405.34  1195.35   1398.4   4073.88\n",
       " 1312.93  1591.91  2979.94  2027.49  …  1535.75  1588.6    1319.84  1886.12\n",
       " 1805.57  1922.88  3268.05  1813.91     1757.83  1165.54   1493.36  1820.56\n",
       " 2233.8   1846.22  1650.2   1410.4      1461.29  1567.08   2007.19  1318.09\n",
       " 2411.5   6573.06  6722.62  6267.12     5816.71  1921.9    1980.74  6922.18\n",
       " 2201.52  2632.06  2593.59  2522.45     2636.2   1529.26   2285.56  2553.37\n",
       " 1312.26  5068.36  4455.41  4635.44  …  4797.33  1736.04   1514.07  4431.99\n",
       " 1820.07  3282.49  4560.92  4001.02     2984.49   930.879  1196.47  4945.18\n",
       " 2300.83  2523.27  2477.67  2455.57     1602.45  1718.88   1739.4   1765.8 \n",
       " 2156.37  1739.86  1627.31  1721.1      1712.97  1591.08   2052.67  1400.34"
      ]
     },
     "execution_count": 18,
     "metadata": {},
     "output_type": "execute_result"
    }
   ],
   "source": [
    "flow_user = GLS_Apr_weekend.x_"
   ]
  },
  {
   "cell_type": "code",
   "execution_count": 19,
   "metadata": {
    "collapsed": false
   },
   "outputs": [
    {
     "data": {
      "text/plain": [
       "socialObj (generic function with 1 method)"
      ]
     },
     "execution_count": 19,
     "metadata": {},
     "output_type": "execute_result"
    }
   ],
   "source": [
    "function socialObj(linkFlowVec)\n",
    "    objVal = sum([free_flow_time[a] * fcoeffs[1] * linkFlowVec[a] + free_flow_time[a] * fcoeffs[2] * linkFlowVec[a]^2 / capacity[a] + free_flow_time[a] * fcoeffs[3] * linkFlowVec[a]^3 / capacity[a]^2 + free_flow_time[a] * fcoeffs[4] * linkFlowVec[a]^4 / capacity[a]^3 + free_flow_time[a] * fcoeffs[5] * linkFlowVec[a]^5 / capacity[a]^4 + free_flow_time[a] * fcoeffs[6] * linkFlowVec[a]^6 / capacity[a]^5 + free_flow_time[a] * fcoeffs[7] * linkFlowVec[a]^7 / capacity[a]^6 + free_flow_time[a] * fcoeffs[8] * linkFlowVec[a]^8 / capacity[a]^7 + free_flow_time[a] * fcoeffs[9] * linkFlowVec[a]^9 / capacity[a]^8 for a = 1:numLinks])\n",
    "    return objVal\n",
    "end"
   ]
  },
  {
   "cell_type": "code",
   "execution_count": 20,
   "metadata": {
    "collapsed": false
   },
   "outputs": [
    {
     "name": "stdout",
     "output_type": "stream",
     "text": [
      "1.7276359082663204\n",
      "1.4535870661096035\n",
      "1.8831015515818645\n",
      "1.3671288177916\n",
      "1.7030046968611627\n",
      "1.335203389723173\n",
      "1.6732255147378796\n",
      "1.3365776419086006\n",
      "1.5468530754375809\n"
     ]
    }
   ],
   "source": [
    "weekend_Apr_list = [1, 7, 8, 14, 15, 21, 22, 28, 29]\n",
    "\n",
    "for i in weekend_Apr_list\n",
    "    println(socialObj(flow_user[:, i])/getObjectiveValue(m))\n",
    "end"
   ]
  },
  {
   "cell_type": "code",
   "execution_count": null,
   "metadata": {
    "collapsed": true
   },
   "outputs": [],
   "source": []
  }
 ],
 "metadata": {
  "kernelspec": {
   "display_name": "Julia 0.3.7",
   "language": "julia",
   "name": "julia-0.3"
  },
  "language_info": {
   "file_extension": ".jl",
   "mimetype": "application/julia",
   "name": "julia",
   "version": "0.3.7"
  }
 },
 "nbformat": 4,
 "nbformat_minor": 0
}
