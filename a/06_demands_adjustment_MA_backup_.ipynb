{
 "cells": [
  {
   "cell_type": "code",
   "execution_count": 1,
   "metadata": {
    "collapsed": false
   },
   "outputs": [
    {
     "data": {
      "text/plain": [
       "Arc (constructor with 3 methods)"
      ]
     },
     "execution_count": 1,
     "metadata": {},
     "output_type": "execute_result"
    }
   ],
   "source": [
    "type Arc\n",
    "    initNode::Int \n",
    "    termNode::Int \n",
    "    capacity::Float64\n",
    "    freeflowtime::Float64\n",
    "    flow::Float64\n",
    "end\n",
    "\n",
    "Arc(initNode::Int, termNode::Int, capacity::Float64, freeflowtime::Float64) = \n",
    "    Arc(initNode, termNode, capacity, freeflowtime, 0.)"
   ]
  },
  {
   "cell_type": "markdown",
   "metadata": {},
   "source": [
    "## Solve an inverse tarffic problem over polynomials of degree at most d\n",
    "\n",
    "## Optionally use a regularizer from the poly kernel"
   ]
  },
  {
   "cell_type": "code",
   "execution_count": 65,
   "metadata": {
    "collapsed": false
   },
   "outputs": [
    {
     "data": {
      "text/plain": [
       "bpacost (generic function with 3 methods)"
      ]
     },
     "execution_count": 65,
     "metadata": {},
     "output_type": "execute_result"
    }
   ],
   "source": [
    "using JuMP\n",
    "using Gurobi\n",
    "using Graphs\n",
    "using Roots\n",
    "\n",
    "\n",
    "polyEval(coeffs, pt) = sum([coeffs[i] * pt^(i-1) for i = 1:length(coeffs)])  \n",
    "\n",
    "polyEval(coeffs::Array{Float64, 1}, pt) = sum([coeffs[i] * pt^(i-1) for i = 1:length(coeffs)]) \n",
    "\n",
    "bpacost(flow::Float64, capacity::Float64, freeflowtime::Float64) = freeflowtime*(1 + .15 * (flow/capacity)^4)\n",
    "bpacost(flow::Float64, arc) = bpacost(flow, arc.capacity, arc.freeflowtime)\n",
    "bpacost(arc::Arc) = bpacost(arc.flow, arc)"
   ]
  },
  {
   "cell_type": "code",
   "execution_count": 3,
   "metadata": {
    "collapsed": false
   },
   "outputs": [
    {
     "data": {
      "text/plain": [
       "setUpFitting (generic function with 1 method)"
      ]
     },
     "execution_count": 3,
     "metadata": {},
     "output_type": "execute_result"
    }
   ],
   "source": [
    "function setUpFitting(deg::Int, c::Float64)\n",
    "\n",
    "\tm = Model(solver=GurobiSolver(OutputFlag=false))\n",
    "    \n",
    "\t@defVar(m, coeffs[1:deg+1])\n",
    "\t@defVar(m, Calphas[1:deg+1])\n",
    "\n",
    "\t#build the graham matrix; cf. Ref. [21] (Regularization Networks and Support Vector Machines), page 47\n",
    "\tsamples = linspace(0, 1, deg + 1)\n",
    "\tk(x,y) = (c + x*y)^deg\n",
    "\tK = [ k(x,y) for x = samples, y=samples]\n",
    "\tK = convert(Array{Float64, 2}, K)\n",
    "\t#assert(rank(K) == deg+1)\n",
    "    \n",
    "\tC = chol(K + 1e-6* eye(deg+1))\n",
    "\tfor i=1:deg + 1\n",
    "\t\t@addConstraint(m, polyEval(coeffs, samples[i]) == sum{C[j, i] * Calphas[j], j=1:deg+1})\n",
    "\tend\n",
    "    \n",
    "\t@defVar(m, reg_term >= 0)\n",
    "\treg_term_ = QuadExpr(Calphas[:], Calphas[:], ones(deg+1), AffExpr())\n",
    "    \n",
    "\t@addConstraint(m, reg_term >= reg_term_)\n",
    "    \n",
    "\treturn m, coeffs, reg_term\n",
    "\n",
    "end"
   ]
  },
  {
   "cell_type": "code",
   "execution_count": 4,
   "metadata": {
    "collapsed": false
   },
   "outputs": [
    {
     "data": {
      "text/plain": [
       "fixCoeffs (generic function with 1 method)"
      ]
     },
     "execution_count": 4,
     "metadata": {},
     "output_type": "execute_result"
    }
   ],
   "source": [
    "function fixCoeffs(m, fcoeffs, coeffs)\n",
    "\tfor (fc, c) in zip(fcoeffs, coeffs[:])\n",
    "\t\t@addConstraint(m, fc == c)\n",
    "\tend\n",
    "end"
   ]
  },
  {
   "cell_type": "code",
   "execution_count": 5,
   "metadata": {
    "collapsed": false
   },
   "outputs": [
    {
     "data": {
      "text/plain": [
       "addResid (generic function with 1 method)"
      ]
     },
     "execution_count": 5,
     "metadata": {},
     "output_type": "execute_result"
    }
   ],
   "source": [
    "function addResid(m, coeffs, ys, demands, arcs, scaling)\n",
    "    @defVar(m, resid)\n",
    "\t@defVar(m, dual_cost)\n",
    "\t@defVar(m, primal_cost)\n",
    "\n",
    "\t@addConstraint(m, dual_cost == sum{demands[(s,t)] * (ys[(s,t), t] - ys[(s,t), s]), (s,t)=keys(demands)})  \n",
    "\t@addConstraint(m, primal_cost == sum{a.flow * a.freeflowtime * polyEval(coeffs, a.flow/a.capacity), a=values(arcs)})\n",
    "\n",
    "\t@addConstraint(m, resid >= (dual_cost - primal_cost) / scaling )\n",
    "\t@addConstraint(m, resid >= (primal_cost - dual_cost) / scaling )\n",
    "\treturn resid\n",
    "end"
   ]
  },
  {
   "cell_type": "code",
   "execution_count": 6,
   "metadata": {
    "collapsed": false
   },
   "outputs": [
    {
     "data": {
      "text/plain": [
       "addIncreasingCnsts (generic function with 1 method)"
      ]
     },
     "execution_count": 6,
     "metadata": {},
     "output_type": "execute_result"
    }
   ],
   "source": [
    "function addIncreasingCnsts(m, coeffs, arcs; TOL=0.)\n",
    "\tsorted_flows = sort([a.flow / a.capacity for a in values(arcs)])\n",
    "\t@addConstraint(m, polyEval(coeffs, 0) <= polyEval(coeffs, sorted_flows[1]))\n",
    "\tfor i = 2:length(sorted_flows)\n",
    "\t\t@addConstraint(m, polyEval(coeffs, sorted_flows[i-1]) <= polyEval(coeffs, sorted_flows[i]) + TOL)\n",
    "\tend\n",
    "    @addConstraint(m, coeffs[1] == 1)\n",
    "end"
   ]
  },
  {
   "cell_type": "code",
   "execution_count": 7,
   "metadata": {
    "collapsed": false
   },
   "outputs": [
    {
     "data": {
      "text/plain": [
       "normalize (generic function with 3 methods)"
      ]
     },
     "execution_count": 7,
     "metadata": {},
     "output_type": "execute_result"
    }
   ],
   "source": [
    "#equates the total cost of the network to the true total cost\n",
    "function normalize(m, coeffs, tot_true_cost::Float64, arcs)\n",
    "\t@addConstraint(m, \n",
    "\t\tsum{a.freeflowtime * a.flow * polyEval(coeffs, a.flow / a.capacity), a=values(arcs)} == tot_true_cost)\n",
    "end\n",
    "\n",
    "function normalize(m, coeffs, scaled_flow::Float64, cost::Float64)\n",
    "\t@addConstraint(m, polyEval(coeffs, scaled_flow) == cost)\n",
    "end\n",
    "\n",
    "function normalize(m, coeffs, scaled_flows::Array{Float64, 1}, avgCost::Float64)\n",
    "    @addConstraint(m, sum{polyEval(coeffs, f), f=scaled_flows} == avgCost * length(scaled_flows))\n",
    "end"
   ]
  },
  {
   "cell_type": "code",
   "execution_count": 8,
   "metadata": {
    "collapsed": false
   },
   "outputs": [
    {
     "data": {
      "text/plain": [
       "addNetworkCnsts (generic function with 1 method)"
      ]
     },
     "execution_count": 8,
     "metadata": {},
     "output_type": "execute_result"
    }
   ],
   "source": [
    "function addNetworkCnsts(m, coeffs, demands, arcs, numNodes)\n",
    "\t@defVar(m, ys[keys(demands), 1:numNodes])\n",
    "\tfor k = keys(arcs)\n",
    "\t\ta = arcs[k]\n",
    "\t\trhs = a.freeflowtime * polyEval(coeffs, a.flow/a.capacity)\n",
    "\t\tfor od in keys(demands)\n",
    "\t\t\t@addConstraint(m, ys[od, k[2]] - ys[od, k[1]] <= rhs)\n",
    "\t\tend\n",
    "\tend\n",
    "\treturn ys\n",
    "end"
   ]
  },
  {
   "cell_type": "code",
   "execution_count": 9,
   "metadata": {
    "collapsed": false
   },
   "outputs": [],
   "source": [
    "############\n",
    "#Read in the demand file\n",
    "file = open(\"../data_original/SiouxFalls_trips.txt\")\n",
    "demands = Dict{(Int64,Int64), Float64}()\n",
    "s = 0\n",
    "for line in eachline(file)\n",
    "    if contains(line, \"Origin\")\n",
    "        s = int(split(line)[2])\n",
    "    else\n",
    "        pairs = split(line, \";\")\n",
    "        for pair in pairs\n",
    "            if !contains(pair, \"\\n\")\n",
    "                pair_vals = split(pair, \":\")\n",
    "                t, demand = int(pair_vals[1]), float(pair_vals[2])\n",
    "                demands[(s,t)] = demand \n",
    "            end\n",
    "        end\n",
    "    end\n",
    "end                \n",
    "close(file)"
   ]
  },
  {
   "cell_type": "code",
   "execution_count": 10,
   "metadata": {
    "collapsed": false
   },
   "outputs": [],
   "source": [
    "############\n",
    "#read in the arc files\n",
    "arcs = Dict{(Int, Int), Arc}()\n",
    "file = open(\"../data_original/SiouxFalls_net.txt\")\n",
    "inHeader=true\n",
    "for line in eachline(file)\n",
    "    if inHeader\n",
    "        inHeader = !contains(line, \"Init node\")\n",
    "        continue\n",
    "    end\n",
    "    vals = split(line, )\n",
    "    arcs[(int(vals[1]), int(vals[2]))] = Arc(int(vals[1]), int(vals[2]), float(vals[3]), float(vals[5]))\n",
    "end\n",
    "close(file)"
   ]
  },
  {
   "cell_type": "code",
   "execution_count": 11,
   "metadata": {
    "collapsed": false
   },
   "outputs": [],
   "source": [
    "###########\n",
    "#read in the initial flows\n",
    "file = open(\"../data_original/SiouxFallsFlow.txt\")\n",
    "ix = 0; \n",
    "for line in eachline(file)\n",
    "    ix +=1\n",
    "    if ix ==1\n",
    "        continue\n",
    "    end\n",
    "    vals = split(line)\n",
    "    arcs[(int(vals[1]), int(vals[2]))].flow = float(vals[3])\n",
    "end\n",
    "close(file)"
   ]
  },
  {
   "cell_type": "code",
   "execution_count": 12,
   "metadata": {
    "collapsed": true
   },
   "outputs": [],
   "source": [
    "##########\n",
    "# Set up demand data and flow data\n",
    "##########\n",
    "\n",
    "flow_data = Array(Float64, length(arcs))\n",
    "flows = Dict{(Int64,Int64), Float64}()\n",
    "demand_data = Dict{(Int, Int), Array{Float64, 1}}()\n",
    "\n",
    "numNodes = maximum(map(pair->pair[1], keys(demands)))\n",
    "g = simple_inclist(numNodes, is_directed=true)\n",
    "vArcs = Arc[]\n",
    "for arc in values(arcs)\n",
    "    add_edge!(g, arc.initNode, arc.termNode) \n",
    "    push!(vArcs, arc)\n",
    "end\n",
    "\n",
    "for odpair in keys(demands)\n",
    "    if ! haskey(demand_data, odpair)\n",
    "        demand_data[odpair] = [demands[odpair], ]\n",
    "    else\n",
    "        push!(demand_data[odpair], demands[odpair])\n",
    "    end\n",
    "end\n",
    "\n",
    "flow_data = [a.flow::Float64 for a in vArcs]\n",
    "\n",
    "for a in vArcs\n",
    "    flows[(a.initNode, a.termNode)] = a.flow\n",
    "end"
   ]
  },
  {
   "cell_type": "code",
   "execution_count": 13,
   "metadata": {
    "collapsed": false
   },
   "outputs": [
    {
     "data": {
      "text/plain": [
       "Dict{(Int64,Int64),Float64} with 76 entries:\n",
       "  (15,19) => 19083.289764747366\n",
       "  (20,21) => 6302.022874186994\n",
       "  (22,20) => 7000.0\n",
       "  (23,22) => 9626.21020048335\n",
       "  (10,11) => 17726.62503296105\n",
       "  (8,9)   => 6882.664912661778\n",
       "  (13,12) => 12378.642039980477\n",
       "  (24,21) => 10259.524716223794\n",
       "  (3,1)   => 8094.6576464564205\n",
       "  (19,17) => 9941.856797956832\n",
       "  (4,5)   => 18006.371019862527\n",
       "  (17,16) => 11683.838282439508\n",
       "  (20,22) => 7000.0\n",
       "  (22,21) => 8607.387929735014\n",
       "  (18,16) => 15333.406655753832\n",
       "  (6,5)   => 8806.498666814754\n",
       "  (16,17) => 11695.002916533696\n",
       "  (22,15) => 18386.47276399956\n",
       "  (1,2)   => 4494.6576464564205\n",
       "  (22,23) => 9661.824231365848\n",
       "  (19,20) => 8688.367040494595\n",
       "  (9,8)   => 6836.705975294404\n",
       "  (11,12) => 8365.285653859217\n",
       "  (3,4)   => 14006.371019862527\n",
       "  (8,16)  => 8388.71306300359\n",
       "  ⋮       => ⋮"
      ]
     },
     "execution_count": 13,
     "metadata": {},
     "output_type": "execute_result"
    }
   ],
   "source": [
    "flows"
   ]
  },
  {
   "cell_type": "code",
   "execution_count": 14,
   "metadata": {
    "collapsed": true
   },
   "outputs": [],
   "source": [
    "using JSON\n",
    "\n",
    "#load node-link incidence\n",
    "nodeLink = readall(\"node_link_incidence_Sioux.json\");\n",
    "nodeLink = JSON.parse(nodeLink);"
   ]
  },
  {
   "cell_type": "code",
   "execution_count": 15,
   "metadata": {
    "collapsed": true
   },
   "outputs": [],
   "source": [
    "link_label_dict = readall(\"link_label_dict_Sioux.json\");\n",
    "link_label_dict = JSON.parse(link_label_dict);"
   ]
  },
  {
   "cell_type": "code",
   "execution_count": 16,
   "metadata": {
    "collapsed": false
   },
   "outputs": [
    {
     "data": {
      "text/plain": [
       "\"1\""
      ]
     },
     "execution_count": 16,
     "metadata": {},
     "output_type": "execute_result"
    }
   ],
   "source": [
    "link_label_dict[\"1\"]\n",
    "\n",
    "int(split(link_label_dict[\"1\"], ',')[1]), int(split(link_label_dict[\"1\"], ',')[2])\n",
    "\n",
    "flows[int(split(link_label_dict[\"1\"], ',')[1]), int(split(link_label_dict[\"1\"], ',')[2])]\n",
    "\n",
    "string(1)"
   ]
  },
  {
   "cell_type": "code",
   "execution_count": 17,
   "metadata": {
    "collapsed": false
   },
   "outputs": [
    {
     "data": {
      "text/plain": [
       "addResid_ (generic function with 1 method)"
      ]
     },
     "execution_count": 17,
     "metadata": {},
     "output_type": "execute_result"
    }
   ],
   "source": [
    "function addResid_(m, coeffs, ys, demands_, demands, arcs, scaling)\n",
    "    @defVar(m, resid)\n",
    "\t@defVar(m, dual_cost)\n",
    "\t@defVar(m, primal_cost)\n",
    "\n",
    "    for (s,t)=keys(demands)\n",
    "        @addConstraint(m, demands_[(s,t)] >= 0)\n",
    "    end\n",
    "\n",
    "\t@addConstraint(m, dual_cost == sum{demands_[(s,t)] * (ys[(s,t), t] - ys[(s,t), s]), (s,t)=keys(demands)})  \n",
    "\t@addConstraint(m, primal_cost == sum{a.flow * a.freeflowtime * polyEval(coeffs, a.flow/a.capacity), a=values(arcs)})\n",
    "\n",
    "\t@addConstraint(m, resid >= (dual_cost - primal_cost) / scaling )\n",
    "\t@addConstraint(m, resid >= (primal_cost - dual_cost) / scaling )\n",
    "\treturn resid\n",
    "end"
   ]
  },
  {
   "cell_type": "code",
   "execution_count": 18,
   "metadata": {
    "collapsed": false
   },
   "outputs": [
    {
     "data": {
      "text/plain": [
       "train_cy (generic function with 1 method)"
      ]
     },
     "execution_count": 18,
     "metadata": {},
     "output_type": "execute_result"
    }
   ],
   "source": [
    "##########\n",
    "#Fitting Funcs\n",
    "##########\n",
    "\n",
    "function train_cy(lam::Float64, deg::Int, c::Float64, demands, flow_data, arcs; fcoeffs=nothing)\n",
    "    numNodes = maximum(map(pair->pair[1], keys(arcs)))\n",
    "    m, coeffs, reg_term = setUpFitting(deg, c)\n",
    "    \n",
    "    addIncreasingCnsts(m, coeffs, arcs, TOL=1e-8)  #uses the original obs flows\n",
    "\n",
    "    avgCost = mean( [bpacost(a.flow, a.capacity, 1.0) for a in values(arcs)] )\n",
    "    normalize(m, coeffs, [a.flow / a.capacity for a in values(arcs)], avgCost)\n",
    "\n",
    "\n",
    "    resids = Variable[]\n",
    "    \n",
    "\n",
    "    #copy the flow data over to the arcs\n",
    "    for (ix, a) in enumerate(vArcs)\n",
    "        a.flow = flow_data[ix]\n",
    "    end\n",
    "\n",
    "    #Dual Feasibility\n",
    "    ys = addNetworkCnsts(m, coeffs, demands, arcs, numNodes)\n",
    "\n",
    "    #add the residual for this data point\n",
    "    push!(resids, addResid(m, coeffs, ys, demands, arcs, 1e6))\n",
    "\n",
    "\n",
    "    if fcoeffs != nothing\n",
    "        fixCoeffs(m, fcoeffs, coeffs)\n",
    "    end\n",
    "    @setObjective(m, Min, sum{resids[i], i = 1:length(resids)} + lam*reg_term)\n",
    "    solve(m)\n",
    "    return [getValue(coeffs[i]) for i =1:length(coeffs)], getValue(ys), getValue(resids)\n",
    "end"
   ]
  },
  {
   "cell_type": "code",
   "execution_count": 19,
   "metadata": {
    "collapsed": false
   },
   "outputs": [
    {
     "data": {
      "text/plain": [
       "0.0"
      ]
     },
     "execution_count": 19,
     "metadata": {},
     "output_type": "execute_result"
    }
   ],
   "source": [
    "nodeLink[\"0-75\"]"
   ]
  },
  {
   "cell_type": "code",
   "execution_count": 20,
   "metadata": {
    "collapsed": false
   },
   "outputs": [
    {
     "data": {
      "text/plain": [
       "Dict{(Int64,Int64),Float64} with 576 entries:\n",
       "  (23,8)  => 300.0\n",
       "  (8,23)  => 300.0\n",
       "  (6,9)   => 400.0\n",
       "  (18,3)  => 0.0\n",
       "  (21,13) => 600.0\n",
       "  (22,16) => 1200.0\n",
       "  (15,17) => 1500.0\n",
       "  (22,14) => 1200.0\n",
       "  (13,9)  => 600.0\n",
       "  (23,10) => 1800.0\n",
       "  (24,22) => 1100.0\n",
       "  (8,9)   => 800.0\n",
       "  (9,1)   => 500.0\n",
       "  (17,14) => 700.0\n",
       "  (16,6)  => 900.0\n",
       "  (16,12) => 700.0\n",
       "  (16,13) => 600.0\n",
       "  (22,2)  => 100.0\n",
       "  (24,3)  => 0.0\n",
       "  (7,16)  => 1400.0\n",
       "  (1,12)  => 200.0\n",
       "  (4,5)   => 500.0\n",
       "  (11,8)  => 800.0\n",
       "  (18,21) => 100.0\n",
       "  (19,4)  => 200.0\n",
       "  ⋮       => ⋮"
      ]
     },
     "execution_count": 20,
     "metadata": {},
     "output_type": "execute_result"
    }
   ],
   "source": [
    "demands"
   ]
  },
  {
   "cell_type": "code",
   "execution_count": 21,
   "metadata": {
    "collapsed": true
   },
   "outputs": [],
   "source": [
    "outfile = open(\"demands_Sioux.json\", \"w\")\n",
    "\n",
    "JSON.print(outfile, demands)\n",
    "\n",
    "close(outfile)"
   ]
  },
  {
   "cell_type": "code",
   "execution_count": 22,
   "metadata": {
    "collapsed": false
   },
   "outputs": [
    {
     "data": {
      "text/plain": [
       "train_cd (generic function with 1 method)"
      ]
     },
     "execution_count": 22,
     "metadata": {},
     "output_type": "execute_result"
    }
   ],
   "source": [
    "##########\n",
    "#Fitting Funcs\n",
    "##########\n",
    "\n",
    "function train_cd(lam::Float64, deg::Int, c::Float64, ys, flow_data, flows, nodeLink, arcs; fcoeffs=nothing)\n",
    "    numNodes = maximum(map(pair->pair[1], keys(arcs)))\n",
    "    m, coeffs, reg_term = setUpFitting(deg, c)\n",
    "    \n",
    "    addIncreasingCnsts(m, coeffs, arcs, TOL=1e-8)  #uses the original obs flows\n",
    "\n",
    "    avgCost = mean( [bpacost(a.flow, a.capacity, 1.0) for a in values(arcs)] )\n",
    "    normalize(m, coeffs, [a.flow / a.capacity for a in values(arcs)], avgCost)\n",
    "\n",
    "    resids = Variable[]\n",
    "    \n",
    "\n",
    "    #copy the flow data over to the arcs\n",
    "    for (ix, a) in enumerate(vArcs)\n",
    "        a.flow = flow_data[ix]\n",
    "    end\n",
    "\n",
    "    for k = keys(arcs)\n",
    "\t\ta = arcs[k]\n",
    "\t\trhs = a.freeflowtime * polyEval(coeffs, a.flow/a.capacity)\n",
    "\t\tfor od in keys(demands)\n",
    "\t\t\t@addConstraint(m, ys[od, k[2]] - ys[od, k[1]] <= rhs)\n",
    "\t\tend\n",
    "\tend\n",
    "\n",
    "    @defVar(m, demands_[keys(demands)])\n",
    "    \n",
    "    for (s,t) = keys(demands)\n",
    "        @addConstraint(m, demands_[(s,t)] >= 0)\n",
    "        @addConstraint(m, demands_[(s,t)] - demands[(s,t)] <= demands[(s,t)] * 0.05)\n",
    "        @addConstraint(m, demands[(s,t)] - demands_[(s,t)] <= demands[(s,t)] * 0.05)\n",
    "    end\n",
    "    \n",
    "    numLinks = length(flows)  # number of links\n",
    "    @defVar(m, odLinkFlow[keys(demands), 1:numLinks])\n",
    "    for (s,t) = keys(demands)\n",
    "        for k = 1:numLinks\n",
    "            @addConstraint(m, odLinkFlow[(s,t), k] >= 0)\n",
    "        end\n",
    "    end\n",
    "    \n",
    "    for k = 1:numLinks\n",
    "        linkFlowPartial = 0\n",
    "        for (s,t) = keys(demands)\n",
    "            linkFlowPartial += odLinkFlow[(s,t), k]\n",
    "        end\n",
    "        key = (int(split(link_label_dict[\"$(k-1)\"], ',')[1]), int(split(link_label_dict[\"$(k-1)\"], ',')[2]))\n",
    "        @addConstraint(m, linkFlowPartial == flows[key])\n",
    "    end\n",
    "\n",
    "    for l = 1:numNodes\n",
    "        for (s,t) = keys(demands)\n",
    "            if s == t\n",
    "                @addConstraint(m, demands_[(s,t)] == 0)\n",
    "            else\n",
    "                odLinkFlowPartial = 0\n",
    "                for k = 1:numLinks\n",
    "                    odLinkFlowPartial += nodeLink[\"$(l-1)-$(k-1)\"] * odLinkFlow[(s,t), k]\n",
    "                end\n",
    "\n",
    "                if (l == s)\n",
    "                    @addConstraint(m, odLinkFlowPartial + demands_[(s,t)] == 0)\n",
    "                elseif (l == t)\n",
    "                    @addConstraint(m, odLinkFlowPartial - demands_[(s,t)] == 0)\n",
    "                else\n",
    "                    @addConstraint(m, odLinkFlowPartial == 0)\n",
    "                end\n",
    "            end\n",
    "        end\n",
    "    end\n",
    "    \n",
    "    #add the residual for this data point\n",
    "    push!(resids, addResid_(m, coeffs, ys, demands_, demands, arcs, 1e6))\n",
    "\n",
    "    if fcoeffs != nothing\n",
    "        fixCoeffs(m, fcoeffs, coeffs)\n",
    "    end\n",
    "    @setObjective(m, Min, sum{resids[i], i = 1:length(resids)} + lam*reg_term)\n",
    "    solve(m)\n",
    "    return [getValue(coeffs[i]) for i =1:length(coeffs)], getValue(demands_), getValue(resids)\n",
    "end"
   ]
  },
  {
   "cell_type": "code",
   "execution_count": 23,
   "metadata": {
    "collapsed": false
   },
   "outputs": [
    {
     "data": {
      "text/plain": [
       "0.0"
      ]
     },
     "execution_count": 23,
     "metadata": {},
     "output_type": "execute_result"
    }
   ],
   "source": [
    "demands[(1, 1)]"
   ]
  },
  {
   "cell_type": "code",
   "execution_count": 24,
   "metadata": {
    "collapsed": false
   },
   "outputs": [
    {
     "data": {
      "text/plain": [
       "Dict{(Int64,Int64),Float64} with 576 entries:\n",
       "  (23,8)  => 300.0\n",
       "  (8,23)  => 300.0\n",
       "  (6,9)   => 400.0\n",
       "  (18,3)  => 0.0\n",
       "  (21,13) => 600.0\n",
       "  (22,16) => 1200.0\n",
       "  (15,17) => 1500.0\n",
       "  (22,14) => 1200.0\n",
       "  (13,9)  => 600.0\n",
       "  (23,10) => 1800.0\n",
       "  (24,22) => 1100.0\n",
       "  (8,9)   => 800.0\n",
       "  (9,1)   => 500.0\n",
       "  (17,14) => 700.0\n",
       "  (16,6)  => 900.0\n",
       "  (16,12) => 700.0\n",
       "  (16,13) => 600.0\n",
       "  (22,2)  => 100.0\n",
       "  (24,3)  => 0.0\n",
       "  (7,16)  => 1400.0\n",
       "  (1,12)  => 200.0\n",
       "  (4,5)   => 500.0\n",
       "  (11,8)  => 800.0\n",
       "  (18,21) => 100.0\n",
       "  (19,4)  => 200.0\n",
       "  ⋮       => ⋮"
      ]
     },
     "execution_count": 24,
     "metadata": {},
     "output_type": "execute_result"
    }
   ],
   "source": [
    "#include(\"trafficCval.jl\")\n",
    "\n",
    "coeffs_dict = Dict{(Int64,Float64,Float64),Array{Float64,1}}()\n",
    "\n",
    "deg = 6\n",
    "c = 3.41\n",
    "lam = 1.\n",
    "\n",
    "demands_0 = copy(demands)"
   ]
  },
  {
   "cell_type": "code",
   "execution_count": 25,
   "metadata": {
    "collapsed": false
   },
   "outputs": [
    {
     "data": {
      "text/plain": [
       "7-element Array{Float64,1}:\n",
       "  1.0       \n",
       "  0.00811581\n",
       " -0.0308172 \n",
       "  0.04389   \n",
       "  0.120305  \n",
       "  0.00962954\n",
       " -0.00120584"
      ]
     },
     "execution_count": 25,
     "metadata": {},
     "output_type": "execute_result"
    }
   ],
   "source": [
    "fcoeffs, ys, resids = train_cy(lam, deg, c, demands_0, flow_data, arcs)\n",
    "coeffs_dict[(deg, c, lam)] = fcoeffs"
   ]
  },
  {
   "cell_type": "code",
   "execution_count": 26,
   "metadata": {
    "collapsed": false
   },
   "outputs": [
    {
     "name": "stderr",
     "output_type": "stream",
     "text": [
      "WARNING: The addition operator has been used on JuMP expressions a large number of times. This warning is safe to ignore but may indicate that model generation is slower than necessary. For performance reasons, you should not add expressions in a loop. Instead of x += y, use append!(x,y) to modify x in place. If y is a single variable, you may also use push!(x, coef, y) in place of x += coef*y.\n"
     ]
    },
    {
     "data": {
      "text/plain": [
       "7-element Array{Float64,1}:\n",
       "  1.0       \n",
       "  0.00811157\n",
       " -0.0307916 \n",
       "  0.0438539 \n",
       "  0.120333  \n",
       "  0.00960501\n",
       " -0.00119956"
      ]
     },
     "execution_count": 26,
     "metadata": {},
     "output_type": "execute_result"
    }
   ],
   "source": [
    "fcoeffs, demands_, resides_ = train_cd(lam, deg, c, ys, flow_data, flows, nodeLink, arcs)\n",
    "for (s,t) = keys(demands)\n",
    "    demands_0[(s,t)] = demands_[(s,t)]\n",
    "end\n",
    "coeffs_dict[(deg, c, lam)] = fcoeffs"
   ]
  },
  {
   "cell_type": "code",
   "execution_count": 27,
   "metadata": {
    "collapsed": false
   },
   "outputs": [
    {
     "name": "stderr",
     "output_type": "stream",
     "text": [
      "/home/jzh/.julia/v0.3/Conda/deps/usr/lib/python2.7/site-packages/matplotlib/font_manager.py:273: UserWarning: Matplotlib is building the font cache using fc-list. This may take a moment.\n",
      "  warnings.warn('Matplotlib is building the font cache using fc-list. This may take a moment.')\n",
      "INFO: Loading help data...\n"
     ]
    },
    {
     "data": {
      "image/png": "[encoded data removed]",
      "text/plain": [
       "Figure(PyObject <matplotlib.figure.Figure object at 0x7ff77e0f6d50>)"
      ]
     },
     "metadata": {},
     "output_type": "display_data"
    }
   ],
   "source": [
    "using PyPlot\n",
    "\n",
    "true_coeffs = [1, 0, 0, 0, .15]\n",
    "\n",
    "fcoeffs = coeffs_dict[(6, 3.41, 1.)]\n",
    "\n",
    "xs = linspace(0, 2, 20)\n",
    "zs_true = map(x->polyEval(true_coeffs, x), xs)\n",
    "\n",
    "zs = map(x->polyEval(fcoeffs, x), xs)\n",
    "\n",
    "plot(xs, zs_true, \"s-g\", label=\"True\")\n",
    "\n",
    "plot(xs, zs, \"^-m\", label=\"deg=6\")\n",
    "legend(loc=\"upper left\",fancybox=\"true\") \n",
    "\n",
    "grid(\"on\")\n",
    "xlim(-0.1, 1.6);\n",
    "ylim(0.9, 2.0);\n",
    "\n",
    "font1 = [\"family\"=>\"serif\",\"color\"=>\"darkred\",\"weight\"=>\"normal\",\"size\"=>14]\n",
    "xlabel(\"Scaled Flow\", fontdict=font1)\n",
    "ylabel(\"Scaled Cost\", fontdict=font1)\n",
    "\n",
    "savefig(\"fitting_Sioux.pdf\")"
   ]
  },
  {
   "cell_type": "code",
   "execution_count": 28,
   "metadata": {
    "collapsed": false,
    "scrolled": true
   },
   "outputs": [
    {
     "data": {
      "text/plain": [
       "Dict{(Int64,Int64),Float64} with 576 entries:\n",
       "  (23,8)  => 299.8472991513264\n",
       "  (8,23)  => 301.7868992933728\n",
       "  (6,9)   => 391.6550245803358\n",
       "  (18,3)  => -0.0\n",
       "  (21,13) => 572.5308226857171\n",
       "  (22,16) => 1149.891205181834\n",
       "  (15,17) => 1572.8146554432171\n",
       "  (22,14) => 1172.3563740151762\n",
       "  (13,9)  => 628.9299385657738\n",
       "  (23,10) => 1752.203877047718\n",
       "  (24,22) => 1112.9908608865637\n",
       "  (8,9)   => 837.4479490435394\n",
       "  (9,1)   => 523.3632088884866\n",
       "  (17,14) => 733.6644599296308\n",
       "  (16,6)  => 896.201981948164\n",
       "  (16,12) => 673.3169705019402\n",
       "  (16,13) => 584.9230551052686\n",
       "  (22,2)  => 98.05257274862156\n",
       "  (24,3)  => -0.0\n",
       "  (7,16)  => 1343.2278149950457\n",
       "  (1,12)  => 209.92517654910375\n",
       "  (4,5)   => 501.6704694018562\n",
       "  (11,8)  => 822.0078367032239\n",
       "  (18,21) => 97.32606711117162\n",
       "  (19,4)  => 209.56791932347156\n",
       "  ⋮        => ⋮"
      ]
     },
     "execution_count": 28,
     "metadata": {},
     "output_type": "execute_result"
    }
   ],
   "source": [
    "demands_0"
   ]
  },
  {
   "cell_type": "code",
   "execution_count": 29,
   "metadata": {
    "collapsed": false
   },
   "outputs": [
    {
     "data": {
      "text/plain": [
       "Dict{(Int64,Int64),Float64} with 576 entries:\n",
       "  (23,8)  => 300.0\n",
       "  (8,23)  => 300.0\n",
       "  (6,9)   => 400.0\n",
       "  (18,3)  => 0.0\n",
       "  (21,13) => 600.0\n",
       "  (22,16) => 1200.0\n",
       "  (15,17) => 1500.0\n",
       "  (22,14) => 1200.0\n",
       "  (13,9)  => 600.0\n",
       "  (23,10) => 1800.0\n",
       "  (24,22) => 1100.0\n",
       "  (8,9)   => 800.0\n",
       "  (9,1)   => 500.0\n",
       "  (17,14) => 700.0\n",
       "  (16,6)  => 900.0\n",
       "  (16,12) => 700.0\n",
       "  (16,13) => 600.0\n",
       "  (22,2)  => 100.0\n",
       "  (24,3)  => 0.0\n",
       "  (7,16)  => 1400.0\n",
       "  (1,12)  => 200.0\n",
       "  (4,5)   => 500.0\n",
       "  (11,8)  => 800.0\n",
       "  (18,21) => 100.0\n",
       "  (19,4)  => 200.0\n",
       "  ⋮        => ⋮"
      ]
     },
     "execution_count": 29,
     "metadata": {},
     "output_type": "execute_result"
    }
   ],
   "source": [
    "demands"
   ]
  },
  {
   "cell_type": "code",
   "execution_count": 30,
   "metadata": {
    "collapsed": false
   },
   "outputs": [
    {
     "data": {
      "text/plain": [
       "get_vector (generic function with 1 method)"
      ]
     },
     "execution_count": 30,
     "metadata": {},
     "output_type": "execute_result"
    }
   ],
   "source": [
    "# based on https://github.com/chkwon/TrafficAssignment.jl\n",
    "\n",
    "include(\"load_network_uni-class.jl\")\n",
    "\n",
    "using Graphs\n",
    "\n",
    "function create_graph(start_node, end_node)\n",
    "    @assert Base.length(start_node)==Base.length(end_node)\n",
    "\n",
    "    no_node = max(maximum(start_node), maximum(end_node))\n",
    "    no_arc = Base.length(start_node)\n",
    "\n",
    "    graph = simple_inclist(no_node)\n",
    "    for i=1:no_arc\n",
    "        add_edge!(graph, start_node[i], end_node[i])\n",
    "    end\n",
    "    return graph\n",
    "end\n",
    "\n",
    "function get_vector(state, origin, destination, link_dic)\n",
    "    current = destination\n",
    "    parent = -1\n",
    "    x = zeros(Int, maximum(link_dic))\n",
    "\n",
    "    while parent != origin\n",
    "        parent = state.parents[current]\n",
    "\n",
    "        link_idx = link_dic[parent,current]\n",
    "\n",
    "        if link_idx != 0\n",
    "            x[link_idx] = 1\n",
    "        end\n",
    "\n",
    "        current = parent\n",
    "    end\n",
    "\n",
    "    return x\n",
    "end"
   ]
  },
  {
   "cell_type": "code",
   "execution_count": 71,
   "metadata": {
    "collapsed": false
   },
   "outputs": [],
   "source": [
    "ta_data = load_ta_network(\"Sioux Falls\");\n",
    "\n",
    "# ta_data.travel_demand;\n",
    "\n",
    "# unpacking data from ta_data\n",
    "network_name = ta_data.network_name\n",
    "\n",
    "number_of_zones = ta_data.number_of_zones\n",
    "number_of_nodes = ta_data.number_of_nodes\n",
    "first_thru_node = ta_data.first_thru_node\n",
    "number_of_links = ta_data.number_of_links\n",
    "\n",
    "start_node = ta_data.start_node\n",
    "end_node = ta_data.end_node\n",
    "capacity = ta_data.capacity\n",
    "link_length = ta_data.link_length\n",
    "\n",
    "free_flow_time = ta_data.free_flow_time\n",
    "B = ta_data.B\n",
    "power = ta_data.power\n",
    "speed_limit = ta_data.speed_limit\n",
    "toll = ta_data.toll\n",
    "link_type = ta_data.link_type\n",
    "number_of_zones = ta_data.number_of_zones\n",
    "total_od_flow = ta_data.total_od_flow\n",
    "# travel_demand = ta_data.travel_demand\n",
    "od_pairs = ta_data.od_pairs\n",
    "\n",
    "toll_factor = ta_data.toll_factor\n",
    "distance_factor = ta_data.distance_factor\n",
    "\n",
    "best_objective = ta_data.best_objective\n",
    "\n",
    "travel_demand = zeros(24, 24)\n",
    "\n",
    "for (s,t)=keys(demands)\n",
    "    travel_demand[s,t] = demands_0[(s,t)]\n",
    "end"
   ]
  },
  {
   "cell_type": "code",
   "execution_count": 32,
   "metadata": {
    "collapsed": true
   },
   "outputs": [],
   "source": [
    "# preparing a graph\n",
    "graph = create_graph(start_node, end_node)\n",
    "link_dic = sparse(start_node, end_node, 1:number_of_links);"
   ]
  },
  {
   "cell_type": "code",
   "execution_count": 33,
   "metadata": {
    "collapsed": false
   },
   "outputs": [
    {
     "data": {
      "text/plain": [
       "BPR (generic function with 1 method)"
      ]
     },
     "execution_count": 33,
     "metadata": {},
     "output_type": "execute_result"
    }
   ],
   "source": [
    "function BPR(x)\n",
    "    bpr = similar(x)\n",
    "    for i=1:length(bpr)\n",
    "        bpr[i] = free_flow_time[i] * polyEval(fcoeffs, x[i]/capacity[i])\n",
    "#         bpr[i] = free_flow_time[i] * ( 1.0 + B[i] * (x[i]/capacity[i])^power[i] )\n",
    "    end\n",
    "    return bpr\n",
    "end"
   ]
  },
  {
   "cell_type": "code",
   "execution_count": 34,
   "metadata": {
    "collapsed": false
   },
   "outputs": [
    {
     "data": {
      "text/plain": [
       "all_or_nothing (generic function with 1 method)"
      ]
     },
     "execution_count": 34,
     "metadata": {},
     "output_type": "execute_result"
    }
   ],
   "source": [
    "function all_or_nothing(travel_time)\n",
    "    state = []\n",
    "    path = []\n",
    "    x = zeros(size(start_node))\n",
    "\n",
    "    for r=1:size(travel_demand)[1]\n",
    "        # for each origin node r, find shortest paths to all destination nodes\n",
    "        state = dijkstra_shortest_paths(graph, travel_time, r)\n",
    "\n",
    "        for s=1:size(travel_demand)[2]\n",
    "            # for each destination node s, find the shortest-path vector\n",
    "            # load travel demand\n",
    "            x = x + travel_demand[r,s] * get_vector(state, r, s, link_dic)\n",
    "        end\n",
    "    end\n",
    "\n",
    "    return x\n",
    "end"
   ]
  },
  {
   "cell_type": "code",
   "execution_count": 35,
   "metadata": {
    "collapsed": false
   },
   "outputs": [
    {
     "data": {
      "text/plain": [
       "Dict{(Int64,Int64),Float64} with 76 entries:\n",
       "  (15,19) => 19122.431147705018\n",
       "  (20,21) => 6245.794987322632\n",
       "  (22,20) => 7008.256712095961\n",
       "  (23,22) => 9666.399492216604\n",
       "  (10,11) => 17611.50990656922\n",
       "  (8,9)   => 6840.478097419327\n",
       "  (13,12) => 12313.149313741273\n",
       "  (24,21) => 10308.54087699824\n",
       "  (3,1)   => 8127.6338730678435\n",
       "  (19,17) => 9953.224009219357\n",
       "  (4,5)   => 18054.7322767356\n",
       "  (17,16) => 11693.247905994382\n",
       "  (20,22) => 7007.992042932931\n",
       "  (22,21) => 8624.465553209917\n",
       "  (18,16) => 15305.263585978742\n",
       "  (6,5)   => 8800.46364106035\n",
       "  (16,17) => 11682.534110546734\n",
       "  (22,15) => 18409.497302844946\n",
       "  (1,2)   => 4526.495182426613\n",
       "  (22,23) => 9627.647621487049\n",
       "  (19,20) => 8711.211303881388\n",
       "  (9,8)   => 6885.456253981151\n",
       "  (11,12) => 8408.19222983249\n",
       "  (3,4)   => 14055.402170789996\n",
       "  (8,16)  => 8409.141709525218\n",
       "  ⋮        => ⋮"
      ]
     },
     "execution_count": 35,
     "metadata": {},
     "output_type": "execute_result"
    }
   ],
   "source": [
    "# Finding a starting feasible solution\n",
    "travel_time = BPR(zeros(number_of_links))\n",
    "xl = all_or_nothing(travel_time);\n",
    "\n",
    "max_iter_no = 2e3\n",
    "l = 1\n",
    "#average_excess_cost = 1\n",
    "tol = 1e-6\n",
    "\n",
    "while l < max_iter_no\n",
    "    l += 1\n",
    "    \n",
    "    xl_old = xl\n",
    "    \n",
    "    # Finding yl\n",
    "    travel_time = BPR(xl)\n",
    "    \n",
    "    yl = all_or_nothing(travel_time)\n",
    "    \n",
    "    assert(yl != xl)\n",
    "    \n",
    "    xl = xl + (yl - xl)/l\n",
    "    \n",
    "    xl_new = xl\n",
    "    \n",
    "    relative_gap = norm(xl_new - xl_old, 1) / norm(xl_new, 1)\n",
    "\n",
    "#     if l % 500 == 0\n",
    "#         print(\"l = $l------------------------------------------------\\n\")\n",
    "#         print(\"relative_gap is $relative_gap\\n\")\n",
    "#     end\n",
    "\n",
    "    if relative_gap < tol \n",
    "        print(\"l = $l------------------------------------------------\\n\")\n",
    "        print(\"relative_gap is $relative_gap\\n\")\n",
    "        break\n",
    "    end\n",
    "    \n",
    "end\n",
    "\n",
    "tapFlows = Dict{(Int64,Int64),Float64}()\n",
    "\n",
    "for i = 1:length(ta_data.start_node)\n",
    "    key = (ta_data.start_node[i], ta_data.end_node[i])\n",
    "    tapFlows[key] = xl[i]\n",
    "end\n",
    "\n",
    "tapFlows"
   ]
  },
  {
   "cell_type": "code",
   "execution_count": 36,
   "metadata": {
    "collapsed": false
   },
   "outputs": [
    {
     "data": {
      "text/plain": [
       "Dict{(Int64,Int64),Float64} with 76 entries:\n",
       "  (15,19) => 19083.289764747366\n",
       "  (20,21) => 6302.022874186994\n",
       "  (22,20) => 7000.0\n",
       "  (23,22) => 9626.21020048335\n",
       "  (10,11) => 17726.62503296105\n",
       "  (8,9)   => 6882.664912661778\n",
       "  (13,12) => 12378.642039980477\n",
       "  (24,21) => 10259.524716223794\n",
       "  (3,1)   => 8094.6576464564205\n",
       "  (19,17) => 9941.856797956832\n",
       "  (4,5)   => 18006.371019862527\n",
       "  (17,16) => 11683.838282439508\n",
       "  (20,22) => 7000.0\n",
       "  (22,21) => 8607.387929735014\n",
       "  (18,16) => 15333.406655753832\n",
       "  (6,5)   => 8806.498666814754\n",
       "  (16,17) => 11695.002916533696\n",
       "  (22,15) => 18386.47276399956\n",
       "  (1,2)   => 4494.6576464564205\n",
       "  (22,23) => 9661.824231365848\n",
       "  (19,20) => 8688.367040494595\n",
       "  (9,8)   => 6836.705975294404\n",
       "  (11,12) => 8365.285653859217\n",
       "  (3,4)   => 14006.371019862527\n",
       "  (8,16)  => 8388.71306300359\n",
       "  ⋮        => ⋮"
      ]
     },
     "execution_count": 36,
     "metadata": {},
     "output_type": "execute_result"
    }
   ],
   "source": [
    "flows"
   ]
  },
  {
   "cell_type": "code",
   "execution_count": 37,
   "metadata": {
    "collapsed": false
   },
   "outputs": [
    {
     "data": {
      "text/plain": [
       "7-element Array{Float64,1}:\n",
       "  1.0       \n",
       "  0.00811157\n",
       " -0.0307916 \n",
       "  0.0438539 \n",
       "  0.120333  \n",
       "  0.00960501\n",
       " -0.00119956"
      ]
     },
     "execution_count": 37,
     "metadata": {},
     "output_type": "execute_result"
    }
   ],
   "source": [
    "fcoeffs"
   ]
  },
  {
   "cell_type": "code",
   "execution_count": 38,
   "metadata": {
    "collapsed": false
   },
   "outputs": [
    {
     "data": {
      "text/plain": [
       "sa (generic function with 1 method)"
      ]
     },
     "execution_count": 38,
     "metadata": {},
     "output_type": "execute_result"
    }
   ],
   "source": [
    "function sa(x, a)  # calculate the partial derivatives of c_a w.r.t. x_a\n",
    "    assert(a <= length(x) && a >= 1)\n",
    "    n = length(fcoeffs)\n",
    "    dcdx = 0\n",
    "    for i=2:n\n",
    "        dcdx += (i-1) * fcoeffs[i] * (x[a]/capacity[a])^(i-2)\n",
    "    end\n",
    "    dcdx *= free_flow_time[a]/capacity[a]\n",
    "    return dcdx\n",
    "end"
   ]
  },
  {
   "cell_type": "code",
   "execution_count": 39,
   "metadata": {
    "collapsed": false
   },
   "outputs": [
    {
     "data": {
      "text/plain": [
       "Dict{(Int64,Int64),Float64} with 76 entries:\n",
       "  (15,19) => 19122.431147705018\n",
       "  (20,21) => 6245.794987322632\n",
       "  (22,20) => 7008.256712095961\n",
       "  (23,22) => 9666.399492216604\n",
       "  (10,11) => 17611.50990656922\n",
       "  (8,9)   => 6840.478097419327\n",
       "  (13,12) => 12313.149313741273\n",
       "  (24,21) => 10308.54087699824\n",
       "  (3,1)   => 8127.6338730678435\n",
       "  (19,17) => 9953.224009219357\n",
       "  (4,5)   => 18054.7322767356\n",
       "  (17,16) => 11693.247905994382\n",
       "  (20,22) => 7007.992042932931\n",
       "  (22,21) => 8624.465553209917\n",
       "  (18,16) => 15305.263585978742\n",
       "  (6,5)   => 8800.46364106035\n",
       "  (16,17) => 11682.534110546734\n",
       "  (22,15) => 18409.497302844946\n",
       "  (1,2)   => 4526.495182426613\n",
       "  (22,23) => 9627.647621487049\n",
       "  (19,20) => 8711.211303881388\n",
       "  (9,8)   => 6885.456253981151\n",
       "  (11,12) => 8408.19222983249\n",
       "  (3,4)   => 14055.402170789996\n",
       "  (8,16)  => 8409.141709525218\n",
       "  ⋮        => ⋮"
      ]
     },
     "execution_count": 39,
     "metadata": {},
     "output_type": "execute_result"
    }
   ],
   "source": [
    "tapFlows"
   ]
  },
  {
   "cell_type": "code",
   "execution_count": 40,
   "metadata": {
    "collapsed": false
   },
   "outputs": [],
   "source": [
    "x = zeros(size(start_node))\n",
    "for k = 1:length(x)\n",
    "    key = (int(split(link_label_dict[\"$(k-1)\"], ',')[1]), int(split(link_label_dict[\"$(k-1)\"], ',')[2]))\n",
    "    x[k] = tapFlows[key]\n",
    "end"
   ]
  },
  {
   "cell_type": "code",
   "execution_count": 41,
   "metadata": {
    "collapsed": false
   },
   "outputs": [
    {
     "data": {
      "text/plain": [
       "76-element Array{Float64,1}:\n",
       "  4526.5 \n",
       "  8102.24\n",
       "  4501.1 \n",
       "  5994.55\n",
       "  8127.63\n",
       " 14055.4 \n",
       " 10009.1 \n",
       " 14031.8 \n",
       " 18054.7 \n",
       "  5310.31\n",
       " 18030.3 \n",
       "  8809.27\n",
       " 15808.9 \n",
       "     ⋮   \n",
       "  8611.81\n",
       " 10259.2 \n",
       " 18409.5 \n",
       "  7008.26\n",
       "  8624.47\n",
       "  9627.65\n",
       "  8399.97\n",
       "  9666.4 \n",
       "  7868.05\n",
       " 11121.8 \n",
       " 10308.5 \n",
       "  7910.06"
      ]
     },
     "execution_count": 41,
     "metadata": {},
     "output_type": "execute_result"
    }
   ],
   "source": [
    "x"
   ]
  },
  {
   "cell_type": "markdown",
   "metadata": {},
   "source": [
    "## Obtain $\\left( {\\frac{{\\partial {c_a}\\left( {{g^l}} \\right)}}{{\\partial {v_a}}};a \\in \\mathcal{A}} \\right)$ "
   ]
  },
  {
   "cell_type": "code",
   "execution_count": 42,
   "metadata": {
    "collapsed": false
   },
   "outputs": [],
   "source": [
    "saVec = similar(x)\n",
    "for a = 1:length(x)\n",
    "    saVec[a] = sa(x, a)\n",
    "end"
   ]
  },
  {
   "cell_type": "code",
   "execution_count": 43,
   "metadata": {
    "collapsed": false
   },
   "outputs": [
    {
     "data": {
      "text/plain": [
       "5-element Array{Float64,1}:\n",
       " 9.22049e-7\n",
       " 3.96278e-6\n",
       " 9.15435e-7\n",
       " 0.00106958\n",
       " 4.00187e-6"
      ]
     },
     "execution_count": 43,
     "metadata": {},
     "output_type": "execute_result"
    }
   ],
   "source": [
    "saVec[1:5]"
   ]
  },
  {
   "cell_type": "markdown",
   "metadata": {},
   "source": [
    "## Now we want to solve:\n",
    "$$\\begin{gathered}\n",
    "  {\\text{[P2]  }}\\mathop {\\min }\\limits_{\\textbf{d}} {\\text{  }}\\sum\\limits_{a \\in \\mathcal{A}} {\\frac{{\\partial {c_a}\\left( {{g^l}} \\right)}}{{\\partial {v_a}}}d_a^2}  \\hfill \\\\\n",
    "  {\\text{         s}}{\\text{.t}}{\\text{.      }}\\Lambda \\textbf{x} = {\\textbf{e}_i},{\\text{  }}i \\in \\mathcal{I}, \\hfill \\\\\n",
    "  {\\text{                  }}\\textbf{d} = \\Delta \\textbf{x}, \\hfill \\\\ \n",
    "\\end{gathered}$$\n",
    "where $\\Lambda $ is the OD pair-path incidence, and $\\Delta$ is the link-path incidence.\n",
    "\n",
    "The solution to [P2] is the $i$-th row of the Jacobian $\\left[ {\\frac{{\\partial {v_a}\\left( {{g^l}} \\right)}}{{\\partial {g_i}}}; \\,\\,a \\in \\mathcal{A},\\,i \\in \\mathcal{I}} \\right]$.\n",
    "\n",
    "\n",
    "Reference:\n",
    "\n",
    "A heuristic for the bilevel origin-destination matrix estimation problem\n",
    "http://www.sciencedirect.com/science/article/pii/S019126150700080X"
   ]
  },
  {
   "cell_type": "code",
   "execution_count": 44,
   "metadata": {
    "collapsed": true
   },
   "outputs": [],
   "source": [
    "#load OD pair-route incidence\n",
    "odPairRoute = readall(\"od_pair_route_incidence_Sioux.json\");\n",
    "odPairRoute = JSON.parse(odPairRoute);\n",
    "\n",
    "#load link-route incidence\n",
    "linkRoute = readall(\"link_route_incidence_Sioux.json\");\n",
    "linkRoute = JSON.parse(linkRoute);\n",
    "\n",
    "#load OD pair labels\n",
    "odPairLabel = readall(\"od_pair_label_dict_Sioux.json\");\n",
    "odPairLabel = JSON.parse(odPairLabel);\n",
    "\n",
    "odPairLabel_ = readall(\"od_pair_label_dict__Sioux.json\");\n",
    "odPairLabel_ = JSON.parse(odPairLabel_);"
   ]
  },
  {
   "cell_type": "code",
   "execution_count": 45,
   "metadata": {
    "collapsed": false
   },
   "outputs": [],
   "source": [
    "# express the demand data as vector (array)\n",
    "\n",
    "demandsVec = zeros(length(demands))\n",
    "\n",
    "for i = 1:length(demandsVec)\n",
    "    demandsVec[i] = demands_0[(odPairLabel_[\"$i\"][1], odPairLabel_[\"$i\"][2])]\n",
    "end"
   ]
  },
  {
   "cell_type": "code",
   "execution_count": 46,
   "metadata": {
    "collapsed": false
   },
   "outputs": [
    {
     "data": {
      "text/plain": [
       "5-element Array{Float64,1}:\n",
       "  -0.0   \n",
       " 104.974 \n",
       "  98.4159\n",
       " 475.702 \n",
       " 190.564 "
      ]
     },
     "execution_count": 46,
     "metadata": {},
     "output_type": "execute_result"
    }
   ],
   "source": [
    "demandsVec[1:5]"
   ]
  },
  {
   "cell_type": "code",
   "execution_count": 47,
   "metadata": {
    "collapsed": false,
    "scrolled": true
   },
   "outputs": [],
   "source": [
    "# convert the demand data into dictionary\n",
    "\n",
    "demandsDict = similar(demands)\n",
    "\n",
    "for key = keys(demands)\n",
    "    demandsDict[key] = demandsVec[odPairLabel[\"($(key[1]), $(key[2]))\"]]\n",
    "end"
   ]
  },
  {
   "cell_type": "code",
   "execution_count": 48,
   "metadata": {
    "collapsed": false
   },
   "outputs": [
    {
     "data": {
      "text/plain": [
       "false"
      ]
     },
     "execution_count": 48,
     "metadata": {},
     "output_type": "execute_result"
    }
   ],
   "source": [
    "\"1-200\" in keys(odPairRoute)"
   ]
  },
  {
   "cell_type": "code",
   "execution_count": 68,
   "metadata": {
    "collapsed": false
   },
   "outputs": [
    {
     "name": "stderr",
     "output_type": "stream",
     "text": [
      "exception on 2: ERROR: start_node not defined\n",
      " in eval at /home/jzh/julia/base/sysimg.jl:7\n",
      " in anonymous at multi.jl:1310\n",
      " in anonymous at multi.jl:848\n",
      " in run_work_thunk at multi.jl:621\n",
      " in run_work_thunk at multi.jl:630\n",
      " in anonymous at task.jl:6\n",
      "exception on 4: exception on 7: ERROR: start_node not defined\n",
      " in eval at /home/jzh/julia/base/sysimg.jl:7\n",
      " in anonymous at multi.jl:1310\n",
      " in anonymous at multi.jl:848\n",
      " in run_work_thunk at multi.jl:621\n",
      " in run_work_thunk at multi.jl:630\n",
      " in anonymous at task.jl:6\n",
      "ERROR: start_node not defined\n",
      " in eval at /home/jzh/julia/base/sysimg.jl:7\n",
      " in anonymous at multi.jl:1310\n",
      " in anonymous at multi.jl:848\n",
      " in run_work_thunk at multi.jl:621\n",
      " in run_work_thunk at multi.jl:630\n",
      " in anonymous at task.jl:6\n",
      "exception on 3: exception on 6: exception on 5: ERROR: start_node not defined\n",
      " in eval at /home/jzh/julia/base/sysimg.jl:7\n",
      " in anonymous at multi.jl:1310\n",
      " in anonymous at multi.jl:848\n",
      " in run_work_thunk at multi.jl:621\n",
      " in run_work_thunk at multi.jl:630\n",
      " in anonymous at task.jl:6\n",
      "ERROR: start_node not defined\n",
      " in eval at /home/jzh/julia/base/sysimg.jl:7\n",
      " in anonymous at multi.jl:1310\n",
      " in anonymous at multi.jl:848\n",
      " in run_work_thunk at multi.jl:621\n",
      " in run_work_thunk at multi.jl:630\n",
      " in anonymous at task.jl:6\n",
      "ERROR: start_node not defined\n",
      " in eval at /home/jzh/julia/base/sysimg.jl:7\n",
      " in anonymous at multi.jl:1310\n",
      " in anonymous at multi.jl:848\n",
      " in run_work_thunk at multi.jl:621\n",
      " in run_work_thunk at multi.jl:630\n",
      " in anonymous at task.jl:6\n",
      "exception on 8: ERROR: start_node not defined\n",
      " in eval at /home/jzh/julia/base/sysimg.jl:7\n",
      " in anonymous at multi.jl:1310\n",
      " in anonymous at multi.jl:848\n",
      " in run_work_thunk at multi.jl:621\n",
      " in run_work_thunk at multi.jl:630\n",
      " in anonymous at task.jl:6\n",
      "exception on 2: ERROR: odPairRoute not defined\n",
      " in eval at /home/jzh/julia/base/sysimg.jl:7\n",
      " in anonymous at multi.jl:1310\n",
      " in anonymous at multi.jl:848\n",
      " in run_work_thunk at multi.jl:621\n",
      " in run_work_thunk at multi.jl:630\n",
      " in anonymous at task.jl:6\n",
      "exception on exception on 53: : exception on 4: exception on 7: exception on 6: ERROR: odPairRoute not defined\n",
      " in eval at /home/jzh/julia/base/sysimg.jl:7\n",
      " in anonymous at multi.jl:1310\n",
      " in anonymous at multi.jl:848\n",
      " in run_work_thunk at multi.jl:621\n",
      " in run_work_thunk at multi.jl:630\n",
      " in anonymous at task.jl:6\n",
      "ERROR: odPairRoute not defined\n",
      " in eval at /home/jzh/julia/base/sysimg.jl:7\n",
      " in anonymous at multi.jl:1310\n",
      " in anonymous at multi.jl:848\n",
      " in run_work_thunk at multi.jl:621\n",
      " in run_work_thunk at multi.jl:630\n",
      " in anonymous at task.jl:6\n",
      "ERROR: odPairRoute not defined\n",
      " in eval at /home/jzh/julia/base/sysimg.jl:7\n",
      " in anonymous at multi.jl:1310\n",
      " in anonymous at multi.jl:848\n",
      " in run_work_thunk at multi.jl:621\n",
      " in run_work_thunk at multi.jl:630\n",
      " in anonymous at task.jl:6\n",
      "ERROR: odPairRoute not defined\n",
      " in eval at /home/jzh/julia/base/sysimg.jl:7\n",
      " in anonymous at multi.jl:1310\n",
      " in anonymous at multi.jl:848\n",
      " in run_work_thunk at multi.jl:621\n",
      " in run_work_thunk at multi.jl:630\n",
      " in anonymous at task.jl:6\n",
      "ERROR: odPairRoute not defined\n",
      " in eval at /home/jzh/julia/base/sysimg.jl:7\n",
      " in anonymous at multi.jl:1310\n",
      " in anonymous at multi.jl:848\n",
      " in run_work_thunk at multi.jl:621\n",
      " in run_work_thunk at multi.jl:630\n",
      " in anonymous at task.jl:6\n",
      "exception on 8: ERROR: odPairRoute not defined\n",
      " in eval at /home/jzh/julia/base/sysimg.jl:7\n",
      " in anonymous at multi.jl:1310\n",
      " in anonymous at multi.jl:848\n",
      " in run_work_thunk at multi.jl:621\n",
      " in run_work_thunk at multi.jl:630\n",
      " in anonymous at task.jl:6\n"
     ]
    }
   ],
   "source": [
    "numLinks = size(start_node)[1]\n",
    "numRoutes = length(odPairRoute)"
   ]
  },
  {
   "cell_type": "code",
   "execution_count": 66,
   "metadata": {
    "collapsed": false
   },
   "outputs": [],
   "source": [
    "# solve [P2]\n",
    "function solveJacob(i_th)\n",
    "    \n",
    "    jacobi = Model(solver=GurobiSolver(OutputFlag=false))\n",
    "\n",
    "    @defVar(jacobi, d[1:numLinks])\n",
    "    @defVar(jacobi, x[1:numRoutes])\n",
    "\n",
    "    for i=1:length(demandsVec)\n",
    "        sumLamX = 0\n",
    "        for j=1:numRoutes\n",
    "            if \"$(i)-$(j)\" in keys(odPairRoute)\n",
    "                sumLamX += x[j]\n",
    "            end\n",
    "        end\n",
    "        if i == i_th\n",
    "            @addConstraint(jacobi, sumLamX == 1)\n",
    "        else\n",
    "            @addConstraint(jacobi, sumLamX == 0)\n",
    "        end\n",
    "    end\n",
    "\n",
    "    for i=1:numLinks\n",
    "        sumDeltaX = 0\n",
    "        for j=1:numRoutes\n",
    "            if \"$(i)-$(j)\" in keys(linkRoute)\n",
    "                sumDeltaX += x[j]\n",
    "            end\n",
    "        end\n",
    "        @addConstraint(jacobi, sumDeltaX == d[i])\n",
    "    end\n",
    "\n",
    "    @setObjective(jacobi, Min, sum{saVec[i] * (d[i])^2, i = 1:length(numLinks)})\n",
    "\n",
    "    solve(jacobi)\n",
    "\n",
    "    return getValue(d)\n",
    "end"
   ]
  },
  {
   "cell_type": "code",
   "execution_count": 67,
   "metadata": {
    "collapsed": false
   },
   "outputs": [
    {
     "name": "stderr",
     "output_type": "stream",
     "text": [
      "exception on 2: ERROR: numLinks not defined\n",
      " in solveJacob at In[66]:125\n",
      " in anonymous at multi.jl:855\n",
      " in run_work_thunk at multi.jl:621\n",
      " in anonymous at task.jl:855\n"
     ]
    },
    {
     "data": {
      "text/plain": [
       "1-element Array{Any,1}:\n",
       " UndefVarError(:numLinks)"
      ]
     },
     "execution_count": 67,
     "metadata": {},
     "output_type": "execute_result"
    }
   ],
   "source": [
    "M = {1:8}\n",
    "pmap(solveJacob, M)"
   ]
  },
  {
   "cell_type": "code",
   "execution_count": 61,
   "metadata": {
    "collapsed": false
   },
   "outputs": [
    {
     "name": "stdout",
     "output_type": "stream",
     "text": [
      "1-th row completed\n",
      "2-th row completed\n",
      "3-th row completed\n",
      "4-th row completed\n",
      "5-th row completed\n",
      "6-th row completed\n"
     ]
    },
    {
     "ename": "LoadError",
     "evalue": "interrupt\nwhile loading In[61], in expression starting on line 5",
     "output_type": "error",
     "traceback": [
      "interrupt\nwhile loading In[61], in expression starting on line 5",
      "",
      " in bytestring at ./string.jl:34",
      " in print_to_string at ./string.jl:26",
      " in string at string.jl:31",
      " in solveJacob at In[53]:12",
      " in anonymous at no file:6"
     ]
    }
   ],
   "source": [
    "jacob = zeros(length(demandsVec), numLinks)\n",
    "\n",
    "# addprocs(7)  # parallel computing\n",
    "\n",
    "for i=1:length(demandsVec)\n",
    "    d = solveJacob(i)\n",
    "    for j=1:numLinks\n",
    "        jacob[i,j] = d[j]\n",
    "    end\n",
    "    println(\"$(i)-th row completed\")\n",
    "end"
   ]
  },
  {
   "cell_type": "code",
   "execution_count": 60,
   "metadata": {
    "collapsed": false
   },
   "outputs": [
    {
     "data": {
      "text/plain": [
       "576x76 Array{Float64,2}:\n",
       " -0.0  1.0  0.0  0.0  0.0  1.0  0.0  …  0.0  0.0  0.0  0.0  0.0  0.0  0.0\n",
       " -0.0  1.0  0.0  0.0  0.0  0.0  0.0     0.0  0.0  0.0  0.0  0.0  0.0  0.0\n",
       " -0.0  1.0  0.0  0.0  0.0  0.0  0.0     0.0  0.0  0.0  0.0  0.0  0.0  0.0\n",
       " -0.0  1.0  0.0  0.0  0.0  0.0  0.0     0.0  0.0  0.0  0.0  0.0  0.0  0.0\n",
       " -0.0  1.0  0.0  0.0  0.0  0.0  0.0     0.0  0.0  0.0  0.0  0.0  0.0  0.0\n",
       " -0.0  1.0  0.0  0.0  0.0  0.0  0.0  …  0.0  0.0  0.0  0.0  0.0  0.0  0.0\n",
       " -0.0  1.0  0.0  0.0  0.0  0.0  0.0     0.0  0.0  0.0  0.0  0.0  0.0  0.0\n",
       " -0.0  1.0  0.0  0.0  0.0  0.0  0.0     0.0  0.0  0.0  0.0  0.0  0.0  0.0\n",
       " -0.0  1.0  0.0  0.0  0.0  0.0  0.0     0.0  0.0  0.0  0.0  0.0  0.0  0.0\n",
       " -0.0  1.0  0.0  0.0  0.0  0.0  0.0     0.0  0.0  0.0  0.0  0.0  0.0  0.0\n",
       " -0.0  1.0  0.0  0.0  1.0  0.0  1.0  …  0.0  0.0  0.0  0.0  0.0  0.0  0.0\n",
       " -0.0  1.0  1.0  0.0  1.0  0.0  1.0     0.0  0.0  0.0  0.0  0.0  0.0  0.0\n",
       " -0.0  1.0  0.0  0.0  0.0  0.0  0.0     0.0  0.0  0.0  0.0  0.0  0.0  0.0\n",
       "  ⋮                        ⋮         ⋱       ⋮                        ⋮  \n",
       "  0.0  0.0  0.0  0.0  0.0  0.0  0.0     0.0  0.0  0.0  0.0  0.0  0.0  0.0\n",
       "  0.0  0.0  0.0  0.0  0.0  0.0  0.0  …  0.0  0.0  0.0  0.0  0.0  0.0  0.0\n",
       "  0.0  0.0  0.0  0.0  0.0  0.0  0.0     0.0  0.0  0.0  0.0  0.0  0.0  0.0\n",
       "  0.0  0.0  0.0  0.0  0.0  0.0  0.0     0.0  0.0  0.0  0.0  0.0  0.0  0.0\n",
       "  0.0  0.0  0.0  0.0  0.0  0.0  0.0     0.0  0.0  0.0  0.0  0.0  0.0  0.0\n",
       "  0.0  0.0  0.0  0.0  0.0  0.0  0.0     0.0  0.0  0.0  0.0  0.0  0.0  0.0\n",
       "  0.0  0.0  0.0  0.0  0.0  0.0  0.0  …  0.0  0.0  0.0  0.0  0.0  0.0  0.0\n",
       "  0.0  0.0  0.0  0.0  0.0  0.0  0.0     0.0  0.0  0.0  0.0  0.0  0.0  0.0\n",
       "  0.0  0.0  0.0  0.0  0.0  0.0  0.0     0.0  0.0  0.0  0.0  0.0  0.0  0.0\n",
       "  0.0  0.0  0.0  0.0  0.0  0.0  0.0     0.0  0.0  0.0  0.0  0.0  0.0  0.0\n",
       "  0.0  0.0  0.0  0.0  0.0  0.0  0.0     0.0  0.0  0.0  0.0  0.0  0.0  0.0\n",
       "  0.0  0.0  0.0  0.0  0.0  0.0  0.0  …  0.0  0.0  0.0  0.0  0.0  0.0  0.0"
      ]
     },
     "execution_count": 60,
     "metadata": {},
     "output_type": "execute_result"
    }
   ],
   "source": [
    "jacob"
   ]
  },
  {
   "cell_type": "code",
   "execution_count": 62,
   "metadata": {
    "collapsed": false
   },
   "outputs": [
    {
     "data": {
      "text/plain": [
       "10-element Array{Any,1}:\n",
       " (\n",
       "1000x1000 Array{Float64,2}:\n",
       " -0.0319652   0.0104189     0.0157388   …   0.0653918    -0.0521525  \n",
       " -0.031391    0.0458657     0.00100725     -0.0130875    -0.00555528 \n",
       " -0.0319157  -0.0160645    -0.0189691      -0.0131195     0.00738698 \n",
       " -0.0319064   0.0182532    -0.0148786      -0.0243007     0.000883813\n",
       " -0.0323962  -0.0225797     0.00123175     -0.0146999     0.0492076  \n",
       " -0.030949   -0.0110564    -0.0143354   …  -0.0407302    -0.0470007  \n",
       " -0.0319053   0.0651823     0.0210659       0.00417674   -0.00193778 \n",
       " -0.0322023   0.0311495     0.0157302      -0.0108527     0.0141575  \n",
       " -0.0326894   0.0154871     0.00132133      0.00996687    0.0565427  \n",
       " -0.0324833  -0.0359806     0.0321342      -0.0632611     0.0481499  \n",
       " -0.0315936  -0.0212435     0.0096273   …  -0.0259583    -0.00100895 \n",
       " -0.0327001  -0.0274148     0.00916748      0.0143607    -0.0429603  \n",
       " -0.0315777  -0.00111832   -0.0313072       0.0287469    -0.0281652  \n",
       "  ⋮                                     ⋱                            \n",
       " -0.0308657   0.0173155     0.0181552       0.0344042    -0.0408578  \n",
       " -0.0322271   0.00362738    0.043573        0.0302522    -0.0238494  \n",
       " -0.0313243  -0.055073     -0.0239126   …  -0.0506555    -0.0224209  \n",
       " -0.0313885   0.0338878     0.0336752      -0.013435      0.00847368 \n",
       " -0.0319011   0.000689396   0.0108299      -0.0263247    -0.0411624  \n",
       " -0.0313804   0.00646032    0.00360082      0.0246981    -0.00205832 \n",
       " -0.032066   -0.0235168    -0.0188411      -0.0244387     0.0469034  \n",
       " -0.031599   -0.00389356   -0.00137891  …   0.0294329     0.0278106  \n",
       " -0.0319865  -0.0130338     0.0107332      -0.00948843   -0.0290757  \n",
       " -0.0318216   0.0718141     0.0340207      -0.00462074   -0.00787032 \n",
       " -0.0320059   0.0527386    -0.009072       -0.0597251    -0.014329   \n",
       " -0.0318669  -0.0405119     0.0338998      -0.000105949  -0.011669   ,\n",
       "\n",
       "[499.769,18.2856,18.1649,17.9435,17.8856,17.8368,17.711,17.6663,17.6163,17.5722  …  0.123785,0.116673,0.105493,0.0955877,0.0901828,0.0649201,0.048971,0.0338381,0.0133082,0.00082411],\n",
       "1000x1000 Array{Float64,2}:\n",
       " -0.0306229   0.0410507   -0.0321517   …  -0.0378724   -0.0188559 \n",
       " -0.0319749  -0.0187395    0.0264777       0.0286792    0.0499429 \n",
       " -0.0317177   0.0571082    0.0323603       0.0110065   -0.00655403\n",
       " -0.0313941   0.0293097    0.0185576       0.0478579   -0.00420735\n",
       " -0.0323225  -0.0288483   -0.0211634       0.0221325    0.0166481 \n",
       " -0.0322968   0.0420861    0.00592656  …  -0.0457999    0.0477315 \n",
       " -0.0314052  -0.00151768  -0.0105105       0.00520056  -0.00275028\n",
       " -0.0312256   0.00509268   0.00110302      0.0157857    0.0668346 \n",
       " -0.0316298   0.0290198    0.0164199      -0.0375515    0.0249155 \n",
       " -0.030962    0.00658517  -0.00759863     -0.00602147   0.00217292\n",
       " -0.0314578  -0.041174    -0.0254548   …  -0.0105541   -0.0126189 \n",
       " -0.0316451   0.0113948    0.0127266      -0.011433    -0.0446581 \n",
       " -0.0320198  -0.0250651    0.00679998     -0.00573109  -0.0342617 \n",
       "  ⋮                                    ⋱                          \n",
       " -0.0326078  -0.0177585    0.00286723      0.0132704    0.0162485 \n",
       " -0.0316944   0.00628253   0.015982        0.0538397    0.0346615 \n",
       " -0.0320953  -0.018109    -0.0414649   …  -0.00865494  -0.0053612 \n",
       " -0.0314022  -0.0252345   -0.00408316     -0.028414    -0.0428611 \n",
       " -0.0310126   0.0575506   -0.0138691      -0.0118203   -0.02378   \n",
       " -0.0308631  -0.00410876  -0.0438071      -0.0189753   -0.0243423 \n",
       " -0.032185   -0.04545     -0.036651        0.0354375   -0.00767864\n",
       " -0.0321936  -0.00481298   0.00473864  …  -0.00388238  -0.0233534 \n",
       " -0.030925   -0.00188489   0.0418286       0.0374811   -0.00872184\n",
       " -0.0315574   0.0185581   -0.0253981      -0.0103386    0.00832996\n",
       " -0.0313477  -0.00266278  -0.00949807      0.0226581    0.0324763 \n",
       " -0.0326928  -0.00648271   0.0567724      -0.00270854   0.0204928 )                                                                                \n",
       " (\n",
       "1000x1000 Array{Float64,2}:\n",
       " -0.0317602   0.00133912   -0.0402276    …   0.043714    -0.0449345  \n",
       " -0.0301924   0.0394542     0.00890947      -0.0055798   -0.0247071  \n",
       " -0.0312975   0.00396615    0.00375031       0.00691832  -0.0243566  \n",
       " -0.0312041   0.056076     -0.0108193        0.0162833    0.00396799 \n",
       " -0.0319102  -0.00824107   -0.00570803      -0.0141552   -0.037088   \n",
       " -0.031854    0.0161096     0.00671195   …   0.00751611   0.0413882  \n",
       " -0.0304179   0.0273431    -0.0093195        0.0459848    0.0161543  \n",
       " -0.0314802   0.0164187     0.00576499      -0.0241449   -0.0518105  \n",
       " -0.0320958   0.0474662     0.00909402       0.0305912    0.0215822  \n",
       " -0.0311216  -0.0365036     0.0266148        0.0143566    0.0575755  \n",
       " -0.0323445  -0.00551646   -0.0229758    …  -0.0223463    0.0126042  \n",
       " -0.0319576   0.0277198     0.0376793        0.00645914  -0.0389786  \n",
       " -0.031853    0.00417814   -0.0559766        0.0226816    0.0327019  \n",
       "  ⋮                                      ⋱                           \n",
       " -0.031397   -0.00245923    0.0130592        0.0198725    0.0337429  \n",
       " -0.0318117  -0.0137376    -0.00127661      -0.0306364    0.0138022  \n",
       " -0.0322424   0.0375209     0.00100312   …  -0.0194261   -0.0072905  \n",
       " -0.0314686   0.0514879    -4.86705e-5      -0.0365763   -0.0625567  \n",
       " -0.0319184  -0.0342394     0.000934449      0.0275858    0.0435028  \n",
       " -0.0312982  -0.016527     -0.00910337       0.00777018  -0.00797267 \n",
       " -0.0312024  -0.000713051  -0.0210475       -0.00231009  -0.0459269  \n",
       " -0.031961   -0.0162663     0.0211911    …  -0.0396033   -0.000181683\n",
       " -0.0309412  -0.0276958    -0.0508394        0.0157733   -0.0361991  \n",
       " -0.0312289  -0.0383651     0.00307835      -0.0109397    0.00824819 \n",
       " -0.0309646   0.0272007    -0.0339035        0.0117292    0.011481   \n",
       " -0.0305678  -0.014808      0.00292479      -0.0304747    0.00617559 ,\n",
       "\n",
       "[500.175,18.1357,18.04,17.9578,17.8931,17.7825,17.6611,17.6434,17.6075,17.5284  …  0.138862,0.121097,0.118277,0.111422,0.0783505,0.0605441,0.0509939,0.0462593,0.0204742,0.00554504],\n",
       "1000x1000 Array{Float64,2}:\n",
       " -0.0309099   0.00211098   -0.00278885  …   0.0141559    0.00794801 \n",
       " -0.0319061   0.0258649    -0.0438791      -0.0247494   -0.0121943  \n",
       " -0.0320197   0.016523      0.0278568      -0.0117904    0.0362288  \n",
       " -0.0329065   0.0165337    -0.0204604       0.0255421    0.036669   \n",
       " -0.0319757  -0.0166313    -0.0290052      -0.00815138   0.0347102  \n",
       " -0.0314769   0.0175554     0.0323835   …  -0.0122876   -0.041603   \n",
       " -0.0318293  -0.0225596    -0.00026041     -0.0394882    0.000833498\n",
       " -0.0319409  -0.0775289     0.00240587     -0.0549283    0.000436224\n",
       " -0.0316478  -0.0678064    -0.0442497       0.0201551    0.0314783  \n",
       " -0.030689    0.000496958   0.037101        0.0197842   -0.00670638 \n",
       " -0.0312547   0.0363525    -0.0170097   …   0.041836     0.0012439  \n",
       " -0.0315677   0.00475489   -0.0192777       0.0428167    0.0287482  \n",
       " -0.0322556   0.0411084     0.00654899      7.58406e-5  -0.00993488 \n",
       "  ⋮                                     ⋱                           \n",
       " -0.0317767   0.0174662    -0.0408989      -0.081116     0.0144217  \n",
       " -0.0312849   0.00525618    0.00426434     -0.0269843    0.0132269  \n",
       " -0.0324451  -0.0114883    -0.0302487   …   0.0420316    0.0302362  \n",
       " -0.0309813  -0.0288077    -0.0160012       0.0358935   -0.0343984  \n",
       " -0.0316035   0.0420384     0.0135572      -0.0440619   -0.0714567  \n",
       " -0.0323414  -0.0180845     0.00205566     -0.00906455  -0.0086115  \n",
       " -0.0326879   0.0523925     0.00360017     -0.0712002    0.0470013  \n",
       " -0.031995    0.0309066    -0.0364849   …   0.0095163   -0.0190679  \n",
       " -0.0309339   0.0142948     0.0452602      -0.0198941    0.00444727 \n",
       " -0.0321953   0.0231113     0.0264157       0.0379862   -0.00414898 \n",
       " -0.0307613  -0.0475392    -0.0256993      -0.00182354   0.0555837  \n",
       " -0.0315745  -0.0172675    -0.0223457       0.0629496   -0.00650467 )                             \n",
       " (\n",
       "1000x1000 Array{Float64,2}:\n",
       " -0.0312362  -0.00274513   -0.0587989    …   0.0212008    -0.0141027  \n",
       " -0.0309898   0.000201499   0.0064778       -0.0197922    -0.0054403  \n",
       " -0.0318711  -0.0308191     0.0119508       -0.00320976    0.037619   \n",
       " -0.0314349  -0.00126452   -0.0175654        0.0140388    -0.0356021  \n",
       " -0.0320775   0.0197467    -0.0403514       -0.0408504     0.00744108 \n",
       " -0.0306591   0.00626539   -0.0470556    …  -0.0206638     0.00106221 \n",
       " -0.0322889   0.0131502    -0.0150848       -0.0251656     0.0272242  \n",
       " -0.0318859  -0.0384967    -0.0481378        0.0299228    -0.0129071  \n",
       " -0.0319585   0.0279181    -0.0565965        0.0398036     0.00293047 \n",
       " -0.031489   -0.0111439     0.00964254      -0.0187483     0.000965228\n",
       " -0.0324285  -0.00614914    0.0593402    …  -0.00534285   -0.00262253 \n",
       " -0.0321313   0.0210952     0.0434512        0.0289849    -0.00472548 \n",
       " -0.0329704  -0.0119344    -0.0142957       -0.0109241    -0.0365524  \n",
       "  ⋮                                      ⋱                            \n",
       " -0.0314844  -0.0187406    -0.00560137      -0.0233628     0.0219922  \n",
       " -0.0319297  -0.0374942     0.000330547      0.000378614   0.0168816  \n",
       " -0.0316314  -0.06335      -0.0467636    …   0.00416898   -0.00173867 \n",
       " -0.0316869  -0.00252087    0.0286716       -0.0115779    -0.0185677  \n",
       " -0.031696    0.0170951     0.0148332        0.00401888    0.0118824  \n",
       " -0.0319945   0.00966441    0.0612032       -0.029208      0.00338532 \n",
       " -0.0318032   0.0065803     0.0144674       -0.00828804   -0.0112575  \n",
       " -0.0321493  -0.000249174   0.0161875    …   0.0191203     0.004666   \n",
       " -0.0310232  -0.00160842    0.00335034       0.0936101     0.0220591  \n",
       " -0.031638    0.0214422    -0.00835159      -0.00756241   -0.0598958  \n",
       " -0.03103    -0.0145063     0.0252512        0.0480238    -0.030847   \n",
       " -0.0317708   0.0228961    -0.059699        -0.044128     -0.0125927  ,\n",
       "\n",
       "[499.818,18.1343,18.0012,17.9872,17.9087,17.871,17.8217,17.7247,17.5666,17.5269  …  0.113488,0.107562,0.0975583,0.0715462,0.0628061,0.0483489,0.0420045,0.0338364,0.0262848,0.00911386],\n",
       "1000x1000 Array{Float64,2}:\n",
       " -0.0311784   0.0595293   -0.0199185    …   0.0183435    0.00437578 \n",
       " -0.0312574   0.0308481    0.0563072       -0.0847211   -0.0031509  \n",
       " -0.0307664   0.027076    -0.0119936       -0.0213318    0.0325169  \n",
       " -0.0319436   0.00592947   0.0404623       -0.0750801    0.000257638\n",
       " -0.0315906  -0.0292084    0.0411863       -0.00051702   0.00456348 \n",
       " -0.0313237  -0.0654103    0.0664023    …   0.0225826   -0.00170927 \n",
       " -0.0302934  -0.0401956   -0.0199106       -0.00539545  -0.0297484  \n",
       " -0.0325164   0.0158766    0.0612676       -0.0300365    0.0505332  \n",
       " -0.0319452  -0.0307465   -0.0358302        0.0126002   -0.0351185  \n",
       " -0.0314466   0.0327646    0.0201845       -0.0102649   -0.0107312  \n",
       " -0.0318049  -0.0387411    0.0163807    …   0.00323104   0.0175982  \n",
       " -0.0314245   0.00915585  -0.0104742        0.0670886   -0.00372794 \n",
       " -0.0309802  -2.96872e-5   0.0745163        0.0235565   -0.0181842  \n",
       "  ⋮                                     ⋱                           \n",
       " -0.0323579   0.0480197   -0.00594756      -0.0049711    0.00842764 \n",
       " -0.0310645  -0.0109618    0.0275459        0.0216594   -0.0311838  \n",
       " -0.0321241   0.018994     0.0159989    …   0.0143064    0.0470588  \n",
       " -0.0326239  -0.0282211    0.0185708        0.0185931    0.0373299  \n",
       " -0.0311549  -0.00989191   0.0523301       -0.0155487    0.0460731  \n",
       " -0.031945    0.0331356    0.0312227       -0.0190489    0.0181155  \n",
       " -0.0313653  -0.00145995   0.0804835       -0.01922     -0.0255108  \n",
       " -0.0317917  -0.0359489   -0.0505635    …   0.0128366   -0.0411098  \n",
       " -0.0308663  -0.0214125   -0.000144391      0.0163237   -0.0157865  \n",
       " -0.0313733   0.0597773    0.0399511       -0.00779871  -0.0382607  \n",
       " -0.0319502  -0.0242439   -0.00733807       0.0214581    0.0105171  \n",
       " -0.0321344   0.00644098  -0.0186034       -0.0286709   -0.0410499  )\n",
       " (\n",
       "1000x1000 Array{Float64,2}:\n",
       " -0.030815   -0.00413028  -0.0148055   …   0.0141713    -0.0308462 \n",
       " -0.0304965   0.0541054   -0.0833466      -0.0810781    -0.00122811\n",
       " -0.0318752  -0.00876498   0.0410063       0.024174      0.0610391 \n",
       " -0.0320686  -0.0214535    0.00470574     -0.0625066    -0.0289579 \n",
       " -0.0321769  -0.0455009    0.0443631       0.00546419    0.00624876\n",
       " -0.0310358  -0.0283623   -0.0369531   …   0.0434353    -0.0343789 \n",
       " -0.0313569   0.0451656    0.00580206      0.0120155    -0.0429592 \n",
       " -0.0320441   0.0180934   -0.0593167      -0.0164827     0.0266717 \n",
       " -0.0310409  -0.0293685   -0.0117297      -0.000761714  -0.0226593 \n",
       " -0.0314678   0.0170357   -0.0155806      -0.0320983     0.00850759\n",
       " -0.0304035   0.0217503    0.0323481   …  -0.046713     -0.0568832 \n",
       " -0.0309852  -0.0650826   -0.0658137       0.00971824   -0.0237426 \n",
       " -0.0308081  -0.0255256   -0.0149934      -0.0175767     0.0328223 \n",
       "  ⋮                                    ⋱                           \n",
       " -0.0323542   0.0129605    0.00777115     -0.0126845    -0.0461004 \n",
       " -0.0315281  -0.0572025    0.00158986      0.0588829     0.0749883 \n",
       " -0.0325044  -0.0466247   -0.00945898  …  -0.00860883   -0.0150575 \n",
       " -0.0310004   0.0139956    0.00397696     -0.0679804     0.0708172 \n",
       " -0.0317464   0.0705381   -0.00962551      0.0315256    -0.0188354 \n",
       " -0.0317785   0.0205341   -0.0503075       0.0913962     0.0603469 \n",
       " -0.0317854   0.0228136    0.0293788       0.0537276    -0.0109378 \n",
       " -0.0323932   0.0230614   -0.0158773   …  -0.042932      0.0221828 \n",
       " -0.0330036   0.0289408   -0.023783       -0.00196864    0.0072136 \n",
       " -0.0322467  -0.0716475   -0.0116373      -0.0167761     0.0347072 \n",
       " -0.0310594   0.0141104    0.0356699       0.0751403    -0.0114466 \n",
       " -0.0316893   0.0729647    0.00973158      0.0229766     0.0558321 ,\n",
       "\n",
       "[499.529,18.0765,17.9515,17.8584,17.8069,17.7643,17.7166,17.6317,17.5754,17.5422  …  0.124355,0.115841,0.10054,0.0940708,0.0877741,0.0500748,0.0401866,0.0243971,0.0122273,0.00478845],\n",
       "1000x1000 Array{Float64,2}:\n",
       " -0.0316218   0.0470326    -0.00972104  …   0.0241626    0.0264966 \n",
       " -0.032776   -0.010786     -0.0110362       0.01293     -0.0456607 \n",
       " -0.031619    0.0329467    -0.00407717      0.00590917  -0.0334674 \n",
       " -0.0312562  -0.0436198     0.00528102     -0.0152858    0.0256757 \n",
       " -0.0313185   0.0537597     0.0577474      -0.0172759   -0.0241877 \n",
       " -0.0312446   0.00346444    0.0124266   …  -0.0214608    0.0663763 \n",
       " -0.032214   -0.00515722   -0.00371052      0.00686774  -0.00732156\n",
       " -0.0319973  -0.00833777   -0.0135078       0.0131426   -0.0109971 \n",
       " -0.0312404   0.0230142     0.0397842       0.049214     0.0050851 \n",
       " -0.0302566   0.0445038    -0.0273509       0.019817    -0.021898  \n",
       " -0.0316579   0.0334484     0.00920818  …  -0.00294184  -0.088595  \n",
       " -0.032185   -0.0477677     0.00484623      0.0137445   -0.00902505\n",
       " -0.0319156  -0.0369289     0.0265732       0.010594     0.00510712\n",
       "  ⋮                                     ⋱                          \n",
       " -0.0311593   0.0210794     0.00843355     -0.0316005    0.0213603 \n",
       " -0.0317291  -0.00680935   -0.0301915       0.0442517    0.0634946 \n",
       " -0.0319708   0.0286239     0.0154698   …  -0.0412133   -0.0251478 \n",
       " -0.0321272   0.0285984     0.0359554      -0.0660394    0.0651558 \n",
       " -0.0318717  -0.00205494   -0.0572017      -0.00406574   0.0423987 \n",
       " -0.0311843   0.00252162   -0.0396001      -0.0402691    0.0232779 \n",
       " -0.0321559   0.0765258     0.00709997      0.003896     0.0479379 \n",
       " -0.0317215  -0.0437609    -0.0180843   …   0.0176859    0.0371127 \n",
       " -0.031302   -0.0452345    -0.0496589      -0.0762106    0.00591388\n",
       " -0.0311161  -0.0268853    -0.0526084      -0.0425561    0.043845  \n",
       " -0.0315      0.00824445    0.0140467      -0.0188913   -0.043269  \n",
       " -0.0304008   0.000861575  -0.0440041       0.00211124   0.0310078 )                                                                                                         \n",
       " (\n",
       "1000x1000 Array{Float64,2}:\n",
       " -0.0316747  -0.0545502    -0.04417    …   0.0247638   -0.0137216 \n",
       " -0.0324838  -0.0333267    -0.0129824      0.0456352   -0.0121906 \n",
       " -0.0310782  -0.0148048     0.0575976     -0.0159405   -0.0356665 \n",
       " -0.0309721   0.013886      0.0167388     -0.0324033    0.00671363\n",
       " -0.0321552   0.0256173    -0.0236621      0.0136349    0.00518188\n",
       " -0.0318062   0.00320814   -0.044622   …   0.0552966    0.0283147 \n",
       " -0.0311833   0.0282864    -0.0263835      0.0200594   -0.0282869 \n",
       " -0.0318802   0.012269      0.0144003     -0.0200668    0.031697  \n",
       " -0.0314687  -0.0230155    -0.0370316      0.0460019    0.0121214 \n",
       " -0.0319086   0.0235467     0.0175904     -0.0586856    0.00605846\n",
       " -0.0317024   0.02497      -0.0220719  …  -0.0421432    0.0215414 \n",
       " -0.032588   -0.0419792    -0.0435459      0.0074067    0.024007  \n",
       " -0.0314931  -0.0387692    -0.038428       0.0347001    0.0261654 \n",
       "  ⋮                                    ⋱                          \n",
       " -0.0317349  -0.00853774   -0.0209645     -0.00603187  -0.00107825\n",
       " -0.0305851  -0.0128934     0.0510372     -0.0308252    0.00796632\n",
       " -0.0311612   0.00151903    0.0558776  …  -0.0275705    0.0128332 \n",
       " -0.0326755  -0.00130435    0.0304476     -0.0134604   -0.0167331 \n",
       " -0.0319926  -0.000232007  -0.0401558      0.00263568  -0.0370529 \n",
       " -0.0310596   0.0114515    -0.0289218      0.0294506    0.0010249 \n",
       " -0.0312486  -0.0313562     0.0140909      0.0335361    0.0275294 \n",
       " -0.0322285   0.066196     -0.029201   …  -0.0301797   -0.0232063 \n",
       " -0.0321233   0.0242716     0.0389988      0.0357291   -0.0256176 \n",
       " -0.0307846  -0.0492657     0.0104171     -0.0354298    0.0450234 \n",
       " -0.0311882   0.0356599    -0.0500059      0.00198201   0.0482752 \n",
       " -0.032711   -0.0103698    -0.0550466      0.0318369   -0.0164467 ,\n",
       "\n",
       "[500.567,18.1456,18.0147,17.9505,17.9123,17.8107,17.7611,17.6809,17.6009,17.5345  …  0.116863,0.103466,0.0903737,0.0792384,0.0689881,0.0635951,0.0564974,0.0386723,0.0206808,0.00544802],\n",
       "1000x1000 Array{Float64,2}:\n",
       " -0.0314478  -0.0352011    0.0307464   …   0.0386099    0.0282656 \n",
       " -0.0326121   0.0437458    0.032808       -0.0352675    0.029584  \n",
       " -0.0312153   0.0206555   -0.0222914       0.00426704  -0.00626157\n",
       " -0.0309198  -0.0017219    0.0047041       0.0373212    0.0488674 \n",
       " -0.0317531  -0.0184332   -0.0304741      -0.0867756   -0.0406073 \n",
       " -0.0311957  -0.00100623   0.0895284   …   0.00250987  -0.0253393 \n",
       " -0.0312415   0.0173774    0.00787004     -0.0430175   -0.0791466 \n",
       " -0.0310195   0.0630656   -0.0341359      -0.0274069    0.0532915 \n",
       " -0.030652    0.0510151   -0.029408       -0.0090357    0.0477844 \n",
       " -0.0319009  -0.0499966   -0.0816017      -0.00262243  -0.0448406 \n",
       " -0.0317135   0.0472561    0.0447731   …   0.00638923  -0.0201505 \n",
       " -0.0316385   0.0155776   -0.0117111       0.00199031  -0.0236757 \n",
       " -0.0319872   0.0102882   -0.030784       -0.0589653    0.0211564 \n",
       "  ⋮                                    ⋱                          \n",
       " -0.0328482   0.0219299    0.0132937       0.0250363   -0.030172  \n",
       " -0.031587   -0.00446891  -0.0355167       0.00036455  -0.0190763 \n",
       " -0.0299898   0.0115953    0.00553148  …   0.00156676  -0.0101724 \n",
       " -0.0323145  -0.00759443   0.0146252      -0.00318299  -0.0366012 \n",
       " -0.0310968  -0.0307879   -0.0194349      -0.0124372    0.0423843 \n",
       " -0.0313157   0.0725101    0.0134432      -0.0138979   -0.0733282 \n",
       " -0.0317775   0.0076073   -0.0177955       0.0080179   -0.039123  \n",
       " -0.0321121  -0.0372009    0.0211325   …  -0.0249605    0.0160983 \n",
       " -0.0314219  -0.019818    -0.0441921      -0.0148523   -0.0115244 \n",
       " -0.0315394  -0.0388575    0.00963845      0.0456483    0.0206756 \n",
       " -0.0311363   0.00249404   0.00785345     -0.0354476    0.0100227 \n",
       " -0.0322008  -0.0106743   -0.0234765       0.0270514   -0.0115868 )                                                                                                                                                           \n",
       " (\n",
       "1000x1000 Array{Float64,2}:\n",
       " -0.0311235  -0.0060867     0.00716337  …   0.019542      0.0162319  \n",
       " -0.0312591  -0.0173222    -0.0219551      -0.0144953    -0.00559009 \n",
       " -0.0310843   0.0280223     0.0284306      -0.000798233  -0.00664413 \n",
       " -0.0316636  -0.000178338   0.0361124       0.00472226    0.0167406  \n",
       " -0.0313209   0.0276973     0.0629489      -0.0185321    -0.0211065  \n",
       " -0.0308978  -0.0168085    -0.0045446   …  -0.0152       -0.000582425\n",
       " -0.0313957  -0.0359452     0.0258099      -0.0277302    -0.0044085  \n",
       " -0.031336   -0.0207403     0.0135261       0.0393264    -0.011891   \n",
       " -0.0317452   0.0592535    -0.0241187       0.0111823     0.0138875  \n",
       " -0.0314997   0.0578537    -0.0100287      -0.0211471     0.0760452  \n",
       " -0.0306243   0.0551841     0.0410595   …   0.000241524  -0.0119587  \n",
       " -0.0315973  -0.0179113    -0.0592346       0.0183143    -0.0344113  \n",
       " -0.0316761  -0.00592433    0.0546197       0.0126847     0.0057415  \n",
       "  ⋮                                     ⋱                            \n",
       " -0.0308373   0.0156887    -0.0601655      -0.0397766    -0.016379   \n",
       " -0.0321757  -0.00263439   -0.041184        0.00967446   -0.034244   \n",
       " -0.0317386  -0.050385     -0.00714939  …   0.00393344    0.0212359  \n",
       " -0.0316924   0.0429676     0.0147811       0.0251547    -0.000323458\n",
       " -0.0325926   0.0153543    -0.0685539      -0.0177656    -0.0211378  \n",
       " -0.0321279  -0.0258169     0.0396208       0.0365088    -0.0310967  \n",
       " -0.0321988  -0.015554      0.00459203      0.0282464     0.00904565 \n",
       " -0.0323254  -0.0085155     0.0180609   …  -0.00653121    0.0193378  \n",
       " -0.0317911   0.0228364    -0.0412258       0.0290694    -0.0166959  \n",
       " -0.0312308   0.0297358    -0.00397439      0.0272242     0.0737482  \n",
       " -0.0311444  -0.0232714    -0.0294153       0.0377655    -0.0351314  \n",
       " -0.0313328   0.0169419    -0.0317667       0.00386156   -0.0339255  ,\n",
       "\n",
       "[499.71,18.1909,18.1126,17.9357,17.8087,17.7898,17.709,17.6432,17.6144,17.5646  …  0.137043,0.10495,0.0952171,0.0749775,0.0579797,0.0519525,0.0305421,0.0285536,0.0117162,0.00581783],\n",
       "1000x1000 Array{Float64,2}:\n",
       " -0.0308438   0.0249756   -0.0402295   …   0.00761584    0.0588527  \n",
       " -0.0314332   0.0265825   -0.0463618       0.0528051     0.0127453  \n",
       " -0.0313818   0.0345466   -0.016292       -0.000879967   0.0262376  \n",
       " -0.0306459   0.0212591   -0.0657625       0.0475216     0.045668   \n",
       " -0.0316465  -0.0253516    0.0286158      -0.00916141   -0.0180271  \n",
       " -0.0319954  -0.0056951    0.083841    …  -0.0105233     0.00974788 \n",
       " -0.0305847  -0.0283891    0.0389016       0.0125034     0.000882946\n",
       " -0.0325192  -0.0219105    0.0378179       0.014723      0.0206533  \n",
       " -0.0314507   0.0237292    0.00983441      0.044847      0.00660662 \n",
       " -0.031876    0.00114278  -0.0129078       0.0188973    -0.048206   \n",
       " -0.0310018  -0.0521309   -0.0177923   …  -0.0149177    -0.0229445  \n",
       " -0.0312682  -0.0537729   -0.0164957      -0.0138153     0.00854768 \n",
       " -0.0305692  -0.0132382    0.0387835      -0.0107561    -0.014563   \n",
       "  ⋮                                    ⋱                            \n",
       " -0.0300557   0.0115594   -0.0272177       0.00182819    0.0380928  \n",
       " -0.0310088   0.019043    -0.0178636      -0.0126361    -0.021775   \n",
       " -0.0317358   0.014152    -0.0216194   …   0.0160155    -0.00464755 \n",
       " -0.0323136  -0.0296092   -0.044501       -0.0425787     0.0787281  \n",
       " -0.0321255  -0.00793394  -0.0274421      -0.0391461     0.0170918  \n",
       " -0.0320304   0.0346737   -0.00618457      0.0117158     0.0227658  \n",
       " -0.0323608   0.0221044   -0.0498201      -0.00571694   -0.0214567  \n",
       " -0.0306003   0.0454019    0.0332209   …   0.0369835    -0.00461296 \n",
       " -0.0323964   0.0354664   -0.00119313     -0.0401954    -0.00569505 \n",
       " -0.0323894   0.0316747   -0.0255202       0.0699885     0.00440772 \n",
       " -0.0312284  -0.0413362   -0.0512115      -0.00215536   -0.0299586  \n",
       " -0.0321609   0.0176157    0.0200934       0.0122553     0.0283056  )                            \n",
       " (\n",
       "1000x1000 Array{Float64,2}:\n",
       " -0.0319466  -0.0230229   -0.0107723   …   0.0347727     0.013185   \n",
       " -0.0316708   0.0046014   -0.0169224       0.0117024    -0.00662317 \n",
       " -0.0317909   0.0102915   -0.0137477       0.0184826    -0.00287289 \n",
       " -0.0314891   0.021483     0.0042752       0.000637539  -0.0402422  \n",
       " -0.031656   -0.00912921  -0.00266302     -0.0152158    -0.0538235  \n",
       " -0.0315308  -0.00810098   0.059999    …  -0.00142959   -0.0513431  \n",
       " -0.0317711  -0.0453674    0.0883174      -0.0155297     0.047245   \n",
       " -0.0319009   0.0265679    0.0103608      -0.0345797     0.00917698 \n",
       " -0.030813   -0.0607889   -0.00649202     -0.0371893    -0.00792882 \n",
       " -0.0321865  -0.0631848    0.00818206      0.0405719     0.0338894  \n",
       " -0.0310346  -0.0320395   -0.0123079   …  -0.0387035    -0.013784   \n",
       " -0.0313536   0.0191865    0.0435179      -0.00271119    0.0235628  \n",
       " -0.0314377  -0.0303902    0.0156102       0.0233492    -0.000798286\n",
       "  ⋮                                    ⋱                            \n",
       " -0.0326834   0.0488329    0.00981743      0.0137221     0.0203535  \n",
       " -0.0311921   0.01254     -0.026229       -0.0337788    -0.000378794\n",
       " -0.0326341  -0.0737811   -0.0483405   …   0.0129862    -0.0251411  \n",
       " -0.0330244  -0.0408448    0.00766745     -0.0362124    -0.0208406  \n",
       " -0.0318493  -0.0123929    0.0150553      -0.00647258   -0.0153015  \n",
       " -0.0319991   0.0309896   -0.070306        0.0111016    -0.048761   \n",
       " -0.0315902  -0.00571      0.021255        0.0801666     0.050559   \n",
       " -0.0314577   0.00922546   0.0263771   …   0.0303859     0.0140515  \n",
       " -0.0302429  -0.0371813   -0.0122895       0.0395337     0.0174583  \n",
       " -0.0318795  -0.056977     0.00742335     -0.00783776   -0.0122854  \n",
       " -0.032155   -0.010738     0.0060786      -0.033942     -0.0287401  \n",
       " -0.0305777  -0.0137805   -0.0391734       0.0121017    -0.0449744  ,\n",
       "\n",
       "[500.059,18.1819,18.0428,17.9916,17.9217,17.8554,17.802,17.725,17.7059,17.5912  …  0.134335,0.124606,0.113207,0.0856106,0.070805,0.0677023,0.0530624,0.0286136,0.0163217,0.00795074],\n",
       "1000x1000 Array{Float64,2}:\n",
       " -0.0321749  -0.0468277    0.0304063   …   0.0285179    0.0542523 \n",
       " -0.0317944   0.0110622    0.0189737       0.0283065   -0.0156223 \n",
       " -0.0302878  -0.0290815    0.0163734       0.0428031    0.0154139 \n",
       " -0.0327141   0.0745417   -0.00628327      0.0250129   -0.0198728 \n",
       " -0.0313592   0.00457114   0.0014529      -0.0459392   -0.0228651 \n",
       " -0.0321107   0.0518241   -0.0172129   …   0.0574067    0.00976096\n",
       " -0.0317621   0.0564163    0.00143287     -0.0194726   -0.0435282 \n",
       " -0.0323323  -0.0121      -0.0301375      -0.00335128   0.00300709\n",
       " -0.0316361   0.0352387   -0.00773574     -0.00753194  -0.0350236 \n",
       " -0.0302557   0.0141877    0.0340558       0.00287739   0.056869  \n",
       " -0.0309814  -0.0559101   -0.00878492  …  -0.0266612    0.0502268 \n",
       " -0.0319519  -0.0189448   -0.0195892       0.0235789   -0.0809107 \n",
       " -0.0317488  -0.0408203    0.0245004      -0.0244497    0.0069972 \n",
       "  ⋮                                    ⋱                          \n",
       " -0.0308343  -0.019523    -0.0502622      -0.0631422    0.020932  \n",
       " -0.0314638   0.0437057    0.0562261      -0.0481299   -0.045434  \n",
       " -0.0320106  -0.0252767    0.0242271   …  -0.00420047  -0.0244567 \n",
       " -0.0300304  -0.00982149  -0.0336534      -0.0155621    0.0371798 \n",
       " -0.0315582   0.0132831    0.021117       -0.015531     0.0012485 \n",
       " -0.0316857  -0.0589887    0.0571026      -0.00707746   0.00701247\n",
       " -0.0319979  -0.0482266    0.0383802       0.0350075    0.0306989 \n",
       " -0.0305603   0.0299308   -0.0107777   …   0.022567    -0.010579  \n",
       " -0.0315653  -0.0218327    0.0413621      -0.00917221  -0.0242977 \n",
       " -0.0317876   0.0534142   -0.00336442      0.0231173   -0.0231398 \n",
       " -0.0318719   0.0127092    0.0462848       0.00692734  -0.00229675\n",
       " -0.0308047   0.0150766    0.0303019       5.36572e-5   0.0354633 )                                                                                                           \n",
       " (\n",
       "1000x1000 Array{Float64,2}:\n",
       " -0.0319118  -0.0454407   -0.0125261    …   0.0239713    -0.0026726 \n",
       " -0.0323271   0.030291    -0.00524702      -0.0274742     0.0470594 \n",
       " -0.032154    0.0139592   -0.0177172        0.0611686     0.0326357 \n",
       " -0.0314885   0.0577525    0.0325445        0.0717444    -0.0225712 \n",
       " -0.0308291  -0.0420133    0.0367336       -0.000501989  -0.00478909\n",
       " -0.0312355  -0.0266645    0.0163079    …   0.00342018   -0.00761878\n",
       " -0.0309879   0.0245937   -0.00416444       0.00620022    0.0333289 \n",
       " -0.0313062   0.0272034   -0.0268319        0.0366738     0.0500965 \n",
       " -0.0320116  -0.00146275   0.012575         0.053022     -0.0208585 \n",
       " -0.0306988   0.00689327   0.000826707      0.0187651     0.0228356 \n",
       " -0.0329804  -0.0732988    0.0304207    …  -0.0335876    -0.00462853\n",
       " -0.0316009   0.0609915    0.0264877        0.0355824     0.0244391 \n",
       " -0.0314388   0.0117606    0.00912531      -0.0833225     0.00437376\n",
       "  ⋮                                     ⋱                           \n",
       " -0.031478   -0.0363975   -0.0218056        0.0235013     0.0503335 \n",
       " -0.0309391   0.0020053    0.0110558       -0.0222677     0.0107892 \n",
       " -0.0315192  -0.00648289  -0.0610662    …  -0.0501188     0.0348548 \n",
       " -0.0313887  -0.0384974    0.0274495        0.0248607    -0.0155599 \n",
       " -0.0317977   0.0233737   -0.0496585        0.0333673    -0.0691582 \n",
       " -0.0315173   0.00934243   0.00424716       0.0122988    -0.00924583\n",
       " -0.0317073   0.0166731   -0.0488568       -0.0122679     0.00427051\n",
       " -0.0327968   0.0297513   -0.0169836    …   0.00542271   -0.0464599 \n",
       " -0.0317439   0.0187984   -0.00685392       0.0196359    -0.0168748 \n",
       " -0.0309081   0.0356845    0.0063826       -0.0174044    -0.0217472 \n",
       " -0.0318772   0.00932505  -0.00811609      -0.00139736    0.0023878 \n",
       " -0.0312723  -0.0459784   -0.0456647       -0.0154731     0.0521495 ,\n",
       "\n",
       "[500.06,18.1951,18.1277,17.9844,17.8888,17.8588,17.7255,17.6523,17.5969,17.5553  …  0.126668,0.102047,0.0979317,0.0958133,0.0818655,0.0667734,0.0395429,0.0315377,0.0177643,0.00595899],\n",
       "1000x1000 Array{Float64,2}:\n",
       " -0.0321303  -0.02918      0.00479384   …   0.0168535    0.00325146\n",
       " -0.0312548   0.04103      0.0257032       -0.0155605   -0.0382711 \n",
       " -0.0325727   0.0268201    0.000161736      0.050061     0.0640437 \n",
       " -0.0316369   0.0130561    0.015072         0.0429687   -0.00248324\n",
       " -0.0326041   0.0153121   -0.0117679        0.0311671   -0.0439186 \n",
       " -0.0317394   0.0154762   -0.0367586    …  -0.0259732   -1.28424e-5\n",
       " -0.0320073  -0.00698181   0.00383804      -0.011521     0.0338178 \n",
       " -0.031222    0.0325208   -0.0435024        0.0208052    0.00720178\n",
       " -0.0314118  -0.0314633   -0.00721437       0.0281292   -0.0327991 \n",
       " -0.0323815   0.0256112    0.00152549       0.0319463   -0.011992  \n",
       " -0.0315986   0.0302894    0.0572195    …  -0.0190618    0.0282921 \n",
       " -0.031237    0.00243139  -0.0277702        0.0159108   -0.066857  \n",
       " -0.0317553   0.0389773    0.00230028      -0.052118     0.0111152 \n",
       "  ⋮                                     ⋱                          \n",
       " -0.0314503   0.00276283   0.0318364       -0.0305888   -0.00876907\n",
       " -0.0311232   0.0146735   -9.76341e-6      -0.025283     0.053543  \n",
       " -0.0323843   0.0569948    0.0143311    …   0.0172969    0.0608046 \n",
       " -0.0320474  -0.0131898    0.00164813      -0.0428312    0.0103982 \n",
       " -0.0311517  -0.042987    -0.019573         0.00457941  -0.0498291 \n",
       " -0.0313955  -0.0130602    0.00142906      -0.00199656  -0.0109035 \n",
       " -0.0313367   0.0315651    0.0466816        0.021428     0.0447437 \n",
       " -0.0315558   0.0273659    0.00863957   …   0.0317778   -0.0375348 \n",
       " -0.030877   -0.00690536  -0.014989         0.0309175    0.0203438 \n",
       " -0.030685   -0.0598153    0.000651905      0.0411739   -0.0278316 \n",
       " -0.0316125  -0.0148285    0.0305722       -0.040071    -0.0353283 \n",
       " -0.0308705  -0.0295462    0.0071806       -0.00112398   0.017054  )                                                                              \n",
       " (\n",
       "1000x1000 Array{Float64,2}:\n",
       " -0.0319314  -0.0130457   -0.0175872   …   0.019464     0.0508207 \n",
       " -0.0316499   0.00578565  -0.00193648     -0.0444615   -0.0313766 \n",
       " -0.0321837  -0.0277235   -0.058273       -0.0182723   -0.0727247 \n",
       " -0.0312182  -0.0195677    0.00457343      0.0230367   -0.0112264 \n",
       " -0.0318549  -0.00612921   0.041118       -0.0518261    0.0129194 \n",
       " -0.0312863   0.0241129   -0.0147494   …   0.00486841  -0.00704923\n",
       " -0.0318393   0.0534468    0.0394276      -0.00730202  -0.00831703\n",
       " -0.0307232   0.0767734   -0.018805        0.040187    -0.0236848 \n",
       " -0.0314239  -0.0117131    0.00288739      0.0140519   -0.0398792 \n",
       " -0.0306828   0.0137097   -0.00310797      0.039232    -0.0209857 \n",
       " -0.031654    0.0129778   -0.0322067   …  -0.0313394    0.0159172 \n",
       " -0.0314813  -0.0715915   -0.0263861       0.0264523   -0.00125574\n",
       " -0.0318459   0.0150517    0.0392877      -0.0374677   -0.0155839 \n",
       "  ⋮                                    ⋱                          \n",
       " -0.0314457   0.00496254  -0.00704978      0.0467808   -0.0307943 \n",
       " -0.0324064   0.00484992   0.0123357       0.0365502    0.00647983\n",
       " -0.031151    0.0275315    0.0168327   …   0.00182896   0.0376183 \n",
       " -0.0316433  -0.0281474    0.0579578      -0.0124263   -0.0288224 \n",
       " -0.0317793  -0.00416218   0.0181059      -0.0238674   -0.0217157 \n",
       " -0.0317397  -0.0188346   -0.0212928      -0.0496671   -0.059265  \n",
       " -0.0311803   0.00475705   0.0290645       0.0348551    0.0106125 \n",
       " -0.0310266  -0.0389996    0.018036    …  -0.0464066    0.0144519 \n",
       " -0.0316372   0.00543112   0.0359053      -0.0223376   -0.01117   \n",
       " -0.0317324  -0.083628    -0.0152451      -0.0262877   -0.0189311 \n",
       " -0.0313173   0.0161582    0.0236546      -0.0255294    0.0127877 \n",
       " -0.0327603   0.0116528   -0.0358022      -0.0730369    0.0211682 ,\n",
       "\n",
       "[500.445,18.1057,18.08,17.9255,17.8097,17.8058,17.7087,17.6316,17.5872,17.563  …  0.131558,0.116989,0.0988614,0.0951135,0.0836361,0.0575629,0.0424789,0.0320733,0.0155484,0.0101035],\n",
       "1000x1000 Array{Float64,2}:\n",
       " -0.0313454  -0.0111719    0.000707207  …   0.00815368   0.0809835 \n",
       " -0.0316553  -0.0183481   -0.0181851       -0.0215557   -0.0807157 \n",
       " -0.0321458  -0.00559959  -0.013863         0.034473     0.0326149 \n",
       " -0.0317725  -0.0254283   -0.0601883        0.0287459    0.010121  \n",
       " -0.0311818   0.0525375   -0.0116974       -0.0723969   -0.044986  \n",
       " -0.0312562  -0.0145791    0.0298375    …   0.0510595    0.0146601 \n",
       " -0.0302987   0.0157717    0.0220666       -0.0202367   -0.00135451\n",
       " -0.0322504  -0.00220195   0.0102928       -0.0247124   -0.0158265 \n",
       " -0.0314771   0.00127425  -0.00376784       0.00939615  -0.0512757 \n",
       " -0.0319213   0.00547397   0.0227233       -0.0374992    0.0247434 \n",
       " -0.0314096   0.0152112   -0.000671925  …   0.00535267   0.0139777 \n",
       " -0.0306165  -0.0412848    0.022934         0.0241333    0.0485878 \n",
       " -0.0310962  -0.0281425    0.037957        -0.0115545   -0.0376603 \n",
       "  ⋮                                     ⋱                          \n",
       " -0.032253    0.0202962    0.00892844       0.0303868    0.0555466 \n",
       " -0.0315846  -0.0434388    0.00233155       0.019946     0.0120623 \n",
       " -0.032102    0.0116959   -0.00956197   …   0.00512357   0.0217499 \n",
       " -0.0315896   0.0109469   -0.0609432       -0.0616829   -0.0353056 \n",
       " -0.0324881   0.00388251   0.0130793       -0.021548    -0.0190425 \n",
       " -0.0324147  -0.0340527   -0.0284757        0.00209389   4.60263e-5\n",
       " -0.0314791   0.0251211   -0.0124785       -0.0419261    0.0298561 \n",
       " -0.0317637  -0.00607985   0.0829146    …   0.0366178   -0.090342  \n",
       " -0.0315444   0.025268     0.0363314        0.0272066   -0.0600353 \n",
       " -0.0316739  -0.0132872   -0.00387278       0.0292123    0.00972147\n",
       " -0.0323978  -0.00278538  -0.0517396        0.0214363   -0.0415826 \n",
       " -0.0319143  -0.0172536    0.077322        -0.050839    -0.043815  )                                                                                                                                     \n",
       " (\n",
       "1000x1000 Array{Float64,2}:\n",
       " -0.0311933   0.0139688     0.000817279  …   0.0421589    -0.0129021  \n",
       " -0.0316187  -0.00376719   -0.0162917       -0.0147114    -0.00183059 \n",
       " -0.0310595   0.036565     -0.042087        -0.000385753  -0.00938162 \n",
       " -0.0312739  -0.000778672   0.0444456        0.00732101    0.0238962  \n",
       " -0.0314686   0.0403941     0.0252379        0.0501838     0.0232082  \n",
       " -0.0312771  -0.0212105     0.0202187    …  -0.0574229    -0.0494182  \n",
       " -0.0305889  -0.0172674    -0.00294506      -0.0134056    -0.0268581  \n",
       " -0.0318977  -0.042589      0.0133166        0.0303619    -0.0057199  \n",
       " -0.032045   -0.0327459     0.0334762       -0.0128171     0.000455703\n",
       " -0.0308696   0.0358201    -0.00938602      -0.0205687    -0.0451928  \n",
       " -0.0301674   0.0629495    -0.0447319    …   0.00495279    0.0396095  \n",
       " -0.0325289   0.0407051     0.0417831        0.0438067    -0.0231018  \n",
       " -0.0327634   0.022615     -0.0634528       -0.00667768   -0.107679   \n",
       "  ⋮                                      ⋱                            \n",
       " -0.0311693  -0.0256112    -0.0309033       -0.0288254    -0.00964697 \n",
       " -0.0323223   0.0237887    -0.0353945       -0.0480567    -0.00899202 \n",
       " -0.0316556   0.000921592   0.0185153    …   0.00688074    0.0204199  \n",
       " -0.029921    0.036628      0.0112154       -0.0534244    -0.0283549  \n",
       " -0.0317918  -0.0158516     0.0444473       -0.0207334     0.0184492  \n",
       " -0.0321645  -0.0241255    -0.0214766        0.0128588    -0.00952213 \n",
       " -0.0318537   0.00123176   -0.0410987       -0.00688124    0.0523852  \n",
       " -0.0304834   0.0342295     0.0757603    …  -0.0261367     0.0433078  \n",
       " -0.0307918   0.0490866    -0.00195218       0.00225282    0.0495653  \n",
       " -0.0314053  -0.0229498    -0.00750854       0.00344767    0.0782164  \n",
       " -0.0309899   0.0166741     0.0261234        0.0330503    -0.00512052 \n",
       " -0.031969   -0.0205292    -0.00223643      -0.00835988    0.00942821 ,\n",
       "\n",
       "[500.45,18.2165,18.1653,18.1017,18.0275,17.8659,17.7833,17.7629,17.7571,17.6637  …  0.123593,0.115302,0.103391,0.0922676,0.0804879,0.0634645,0.0488558,0.0270772,0.0248727,0.0143071],\n",
       "1000x1000 Array{Float64,2}:\n",
       " -0.0319203   0.0142149    -0.0271912   …  -0.00548801  -0.0211511  \n",
       " -0.0318162  -0.0288442    -0.0360678       0.00941895   0.0153713  \n",
       " -0.0315109  -0.0501915    -0.00308708      0.00101125   0.0343132  \n",
       " -0.0326522   0.00625142   -0.0390042       0.0175773   -0.0242273  \n",
       " -0.0310296   0.0189837     0.0171512      -0.00460701  -0.0543048  \n",
       " -0.0327226  -0.00878026   -0.036058    …   0.0113008    0.0392271  \n",
       " -0.0316461   0.0158468    -0.0491289       0.0343133    0.00179891 \n",
       " -0.0318065  -0.0128143     0.00540037     -0.0258877   -0.0582101  \n",
       " -0.0321708  -0.00807741   -0.0268585       0.0471755    0.0158382  \n",
       " -0.0311668   0.0184013    -0.0688464      -0.0428033   -0.0067896  \n",
       " -0.0317555   0.030992     -0.042686    …  -0.0123457   -0.0633031  \n",
       " -0.032014   -0.0227517    -0.0478596       0.0333052    0.0056834  \n",
       " -0.0304919  -0.0181953    -0.00578237     -0.030286    -0.000999243\n",
       "  ⋮                                     ⋱                           \n",
       " -0.0311988   0.0110485    -0.012196       -0.0272886   -0.0403683  \n",
       " -0.0307235  -0.0589474    -0.00232788      0.0246862    0.0332212  \n",
       " -0.031495    0.00589936   -0.0290402   …   0.073049     0.0788075  \n",
       " -0.0312023  -0.00253223   -0.0345332       0.025285     0.0182483  \n",
       " -0.0300606   0.0264056     0.0300177       0.00656666  -0.0298951  \n",
       " -0.031595   -0.0371161     0.0254137       0.0448213    0.0279821  \n",
       " -0.0322672  -0.024215      0.0447606      -0.0211597    0.00123842 \n",
       " -0.0318164   0.000853934   0.046003    …  -0.00904604  -0.0193358  \n",
       " -0.0310366   0.0361678    -0.0306472       0.0363854    0.0665298  \n",
       " -0.0316596  -0.0200782     0.0335471      -0.00212551   0.00994299 \n",
       " -0.0321524   0.00206992   -0.0228836      -0.0292158    0.00301341 \n",
       " -0.0330351  -0.0369876     0.011288        0.0366303    0.00905568 )  "
      ]
     },
     "execution_count": 62,
     "metadata": {},
     "output_type": "execute_result"
    }
   ],
   "source": [
    "M = {rand(1000,1000) for i=1:10}\n",
    "pmap(svd, M)"
   ]
  },
  {
   "cell_type": "code",
   "execution_count": null,
   "metadata": {
    "collapsed": true
   },
   "outputs": [],
   "source": []
  }
 ],
 "metadata": {
  "kernelspec": {
   "display_name": "Julia 0.3.7",
   "language": "julia",
   "name": "julia-0.3"
  },
  "language_info": {
   "file_extension": ".jl",
   "mimetype": "application/julia",
   "name": "julia",
   "version": "0.3.7"
  }
 },
 "nbformat": 4,
 "nbformat_minor": 0
}
