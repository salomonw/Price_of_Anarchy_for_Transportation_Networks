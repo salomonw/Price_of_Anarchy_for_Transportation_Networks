{
 "cells": [
  {
   "cell_type": "code",
   "execution_count": 1,
   "metadata": {},
   "outputs": [],
   "source": [
    "%run ../Python_files/load_dicts.py\n",
    "%run ../Python_files/util.py"
   ]
  },
  {
   "cell_type": "code",
   "execution_count": 2,
   "metadata": {},
   "outputs": [],
   "source": [
    "from util import *\n",
    "import numpy as np\n",
    "from numpy.linalg import inv, matrix_rank\n",
    "import json"
   ]
  },
  {
   "cell_type": "code",
   "execution_count": 3,
   "metadata": {},
   "outputs": [],
   "source": [
    "# # load logit_route_choice_probability_matrix\n",
    "# P = zload('../temp_files/logit_route_choice_probability_matrix_Sioux.pkz')\n",
    "# P = np.matrix(P)\n",
    "\n",
    "# print('rank of P is: ')\n",
    "# print(matrix_rank(P))\n",
    "\n",
    "# print('shape of P is: ')\n",
    "# print(np.shape(P))"
   ]
  },
  {
   "cell_type": "code",
   "execution_count": 4,
   "metadata": {},
   "outputs": [],
   "source": [
    "# # load path-link incidence matrix\n",
    "# A = zload('../temp_files/path-link_incidence_matrix_Sioux-Falls.pkz')\n",
    "\n",
    "# print('rank of A is: ')\n",
    "# print(matrix_rank(A))\n",
    "\n",
    "# print('shape of A is: ')\n",
    "# print(np.shape(A))"
   ]
  },
  {
   "cell_type": "code",
   "execution_count": 3,
   "metadata": {},
   "outputs": [
    {
     "ename": "IOError",
     "evalue": "[Errno 2] No such file or directory: 'SiouxFallsFlow.txt'",
     "output_type": "error",
     "traceback": [
      "\u001b[1;31m---------------------------------------------------------------------------\u001b[0m",
      "\u001b[1;31mIOError\u001b[0m                                   Traceback (most recent call last)",
      "\u001b[1;32m<ipython-input-3-2776e3bd34e8>\u001b[0m in \u001b[0;36m<module>\u001b[1;34m()\u001b[0m\n\u001b[0;32m      2\u001b[0m \u001b[1;33m\u001b[0m\u001b[0m\n\u001b[0;32m      3\u001b[0m \u001b[0mflow_list\u001b[0m \u001b[1;33m=\u001b[0m \u001b[1;33m[\u001b[0m\u001b[1;33m]\u001b[0m\u001b[1;33m\u001b[0m\u001b[0m\n\u001b[1;32m----> 4\u001b[1;33m \u001b[1;32mwith\u001b[0m \u001b[0mopen\u001b[0m\u001b[1;33m(\u001b[0m\u001b[1;34m'SiouxFallsFlow.txt'\u001b[0m\u001b[1;33m,\u001b[0m \u001b[1;34m'r'\u001b[0m\u001b[1;33m)\u001b[0m \u001b[1;32mas\u001b[0m \u001b[0mf\u001b[0m\u001b[1;33m:\u001b[0m\u001b[1;33m\u001b[0m\u001b[0m\n\u001b[0m\u001b[0;32m      5\u001b[0m     \u001b[0mread_data\u001b[0m \u001b[1;33m=\u001b[0m \u001b[0mf\u001b[0m\u001b[1;33m.\u001b[0m\u001b[0mreadlines\u001b[0m\u001b[1;33m(\u001b[0m\u001b[1;33m)\u001b[0m\u001b[1;33m\u001b[0m\u001b[0m\n\u001b[0;32m      6\u001b[0m     \u001b[0mflag\u001b[0m \u001b[1;33m=\u001b[0m \u001b[1;36m0\u001b[0m\u001b[1;33m\u001b[0m\u001b[0m\n",
      "\u001b[1;31mIOError\u001b[0m: [Errno 2] No such file or directory: 'SiouxFallsFlow.txt'"
     ]
    }
   ],
   "source": [
    "# load link counts data\n",
    "\n",
    "flow_list = []\n",
    "with open('SiouxFallsFlow.txt', 'r') as f:\n",
    "    read_data = f.readlines()\n",
    "    flag = 0\n",
    "    for row in read_data:\n",
    "        flag += 1\n",
    "        if flag > 1:\n",
    "            flow_list.append(float(row.split('\\t')[2]))\n",
    "\n",
    "x_0 = np.array(flow_list)"
   ]
  },
  {
   "cell_type": "code",
   "execution_count": 6,
   "metadata": {},
   "outputs": [
    {
     "data": {
      "text/plain": [
       "array([  4494.65764646,   8119.07994805,   4519.07994805,   5967.33639617,\n",
       "         8094.65764646,  14006.37101986,  10022.31961516,  14030.5609174 ,\n",
       "        18006.37101986,   5200.        ,  18030.5609174 ,   8798.26771411,\n",
       "        15780.78205547,   5991.75869776,   8806.49866681,  12492.92536056,\n",
       "        12101.52912231,  15794.01060698,  12525.57861486,  12040.91827285,\n",
       "         6882.66491266,   8388.713063  ,  15796.7410003 ,   6836.70597529,\n",
       "        21744.07608018,  21814.07608764,  17726.62503296,  23125.7972901 ,\n",
       "        11047.09388127,   8100.        ,   5300.        ,  17604.22353323,\n",
       "         8365.28565386,   9776.11953275,   9973.70741603,   8404.93462395,\n",
       "        12287.60526902,  12378.64203998,  11121.35796002,   9814.06906293,\n",
       "         9036.33413403,   8400.43683027,  23192.28335936,   9079.82031659,\n",
       "        19083.28976475,  18409.93502652,   8406.71440521,  11073.00931921,\n",
       "        11695.00291653,  15278.32524152,   8100.        ,  11683.83828244,\n",
       "         9953.02143205,  15854.62145644,  15333.40665575,  18976.7961192 ,\n",
       "        19116.72427908,   9941.85679796,   8688.36704049,  18992.4883829 ,\n",
       "         8710.63692073,   6302.02287419,   7000.        ,   6239.98501812,\n",
       "         8619.5396981 ,  10309.41080392,  18386.472764  ,   7000.        ,\n",
       "         8607.38792974,   9661.82423137,   8394.9001779 ,   9626.21020048,\n",
       "         7902.98392706,  11112.39473098,  10259.52471622,   7861.8332438 ])"
      ]
     },
     "execution_count": 6,
     "metadata": {},
     "output_type": "execute_result"
    }
   ],
   "source": [
    "x_0"
   ]
  },
  {
   "cell_type": "markdown",
   "metadata": {},
   "source": [
    "### Assignment Equation\n",
    "\n",
    "We have the following equation: \n",
    "$$AP'\\boldsymbol{\\lambda} = \\textbf{x},$$\n",
    "whose least-squares solution can be written as\n",
    "$$\\boldsymbol{\\lambda} = (AP')^+\\textbf{x}, \\quad (1)$$\n",
    "where $(AP')^{+}$ is the pseudo-inverse of $AP'$.\n",
    "\n",
    "However, the $\\boldsymbol{\\lambda}$ given by (1) might contain negative entries, which is not desired. Thus, instead, we solve a constrained least-squares problem:\n",
    "$$\\mathop {\\min }\\limits_{\\boldsymbol{\\lambda}  \\geq \\textbf{0}} {\\left\\| {AP'\\boldsymbol{\\lambda}  - \\textbf{x}} \\right\\|_2}. \\quad (2)$$\n",
    "\n",
    "Note that (2) typically contains a non-PSD matrix Q, thus preventing the solver calculating the correct $\\boldsymbol{\\lambda}$.\n",
    "\n",
    "In the end, we return to the flow conservation expression in CDC16 paper; that is\n",
    "$$\\mathcal{F} = \\left\\{ {\\textbf{x}:\\exists {\\textbf{x}^{\\textbf{w}}} \\in \\mathbb{R}_ +\n",
    "    ^{\\left| \\mathcal{A} \\right|} ~\\text{s.t.}~\\textbf{x} =\n",
    "    \\sum\\limits_{\\textbf{w} \\in \\mathcal{W}} {{\\textbf{x}^{\\textbf{w}}}}\n",
    "    ,~\\textbf{N}{\\textbf{x}^{\\textbf{w}}} = {\\textbf{d}^{\\textbf{w}}},~\\forall\n",
    "    \\textbf{w} \\in \\mathcal{W}} \\right\\}.$$"
   ]
  },
  {
   "cell_type": "code",
   "execution_count": 7,
   "metadata": {},
   "outputs": [],
   "source": [
    "# load node-link incidence matrix\n",
    "N = zload('node_link_incidence_Sioux.pkz')"
   ]
  },
  {
   "cell_type": "code",
   "execution_count": 8,
   "metadata": {},
   "outputs": [
    {
     "data": {
      "text/plain": [
       "array([[ 1.,  1., -1., ...,  0.,  0.,  0.],\n",
       "       [-1.,  0.,  1., ...,  0.,  0.,  0.],\n",
       "       [ 0., -1.,  0., ...,  0.,  0.,  0.],\n",
       "       ..., \n",
       "       [ 0.,  0.,  0., ...,  0.,  0.,  0.],\n",
       "       [ 0.,  0.,  0., ...,  0.,  0., -1.],\n",
       "       [ 0.,  0.,  0., ...,  1.,  1.,  1.]])"
      ]
     },
     "execution_count": 8,
     "metadata": {},
     "output_type": "execute_result"
    }
   ],
   "source": [
    "N"
   ]
  },
  {
   "cell_type": "code",
   "execution_count": 9,
   "metadata": {
    "collapsed": true
   },
   "outputs": [],
   "source": [
    "# load link counts data\n",
    "with open('demands_Sioux.json', 'r') as json_file:\n",
    "    demands_Sioux = json.load(json_file)"
   ]
  },
  {
   "cell_type": "code",
   "execution_count": 10,
   "metadata": {},
   "outputs": [
    {
     "data": {
      "text/plain": [
       "100.0"
      ]
     },
     "execution_count": 10,
     "metadata": {},
     "output_type": "execute_result"
    }
   ],
   "source": [
    "demands_Sioux['(1,2)']"
   ]
  },
  {
   "cell_type": "code",
   "execution_count": 11,
   "metadata": {},
   "outputs": [],
   "source": [
    "# assert(1==2)\n",
    "\n",
    "n = 24  # number of nodes\n",
    "m = 76  # number of links\n",
    "\n",
    "model = Model(\"OD_matrix_est_Sioux\")\n",
    "\n",
    "# lam = {}\n",
    "# for i in range(n+1)[1:]:\n",
    "#     for j in range(n+1)[1:]:\n",
    "#         if i != j:\n",
    "#             key = str(i) + '->' + str(j)\n",
    "#             lam[key] = model.addVar(name='lam_' + key)\n",
    "            \n",
    "x = {}\n",
    "for k in range(m):\n",
    "    for i in range(n+1)[1:]:\n",
    "        for j in range(n+1)[1:]:\n",
    "            if i != j:\n",
    "                key = str(k) + '->' + str(i) + '->' + str(j)\n",
    "                x[key] = model.addVar(name='x_' + key)\n",
    "\n",
    "model.update() "
   ]
  },
  {
   "cell_type": "code",
   "execution_count": 12,
   "metadata": {},
   "outputs": [],
   "source": [
    "# Set objective\n",
    "obj = 0\n",
    "\n",
    "# for i in range(n+1)[1:]:\n",
    "#     for j in range(n+1)[1:]:\n",
    "#         if i != j:\n",
    "#             key = str(i) + '->' + str(j)\n",
    "#             obj += lam[key] * lam[key]\n",
    "            \n",
    "model.setObjective(obj)"
   ]
  },
  {
   "cell_type": "code",
   "execution_count": 13,
   "metadata": {},
   "outputs": [],
   "source": [
    "# # Add constraint: lam >= 0\n",
    "# for i in range(n+1)[1:]:\n",
    "#     for j in range(n+1)[1:]:\n",
    "#         if i != j:\n",
    "#             key = str(i) + '->' + str(j)\n",
    "#             key_ = '(' + str(i) + ',' + str(j) + ')'\n",
    "# #             model.addConstr(lam[key] >= 0)\n",
    "#             model.addConstr(lam[key] == demands_Sioux[key_])\n",
    "            \n",
    "for k in range(m):\n",
    "    s = 0\n",
    "    for i in range(n+1)[1:]:\n",
    "        for j in range(n+1)[1:]:\n",
    "            if i != j:\n",
    "                key = str(k) + '->' + str(i) + '->' + str(j)\n",
    "                s += x[key]\n",
    "                model.addConstr(x[key] >= 0)\n",
    "    model.addConstr(s - x_0[k] <= 1e2)\n",
    "    model.addConstr(x_0[k] - s <= 1e2)\n",
    "            \n",
    "for l in range(n):\n",
    "    for i in range(n+1)[1:]:\n",
    "        for j in range(n+1)[1:]:\n",
    "            if i != j:\n",
    "                key_ = str(i) + '->' + str(j)\n",
    "                key__ = '(' + str(i) + ',' + str(j) + ')'\n",
    "                s = 0\n",
    "                for k in range(m):\n",
    "                    key = str(k) + '->' + str(i) + '->' + str(j)\n",
    "                    s += N[l, k] * x[key]      \n",
    "                if (l+1 == i):\n",
    "                    model.addConstr(s + demands_Sioux[key__] == 0)\n",
    "                elif (l+1 == j):\n",
    "                    model.addConstr(s - demands_Sioux[key__]== 0)\n",
    "                else:\n",
    "                    model.addConstr(s == 0)\n",
    "                \n",
    "#                 if (i == 1 and j == 2):\n",
    "#                     print(s)\n",
    "\n",
    "model.update()"
   ]
  },
  {
   "cell_type": "code",
   "execution_count": 74,
   "metadata": {},
   "outputs": [
    {
     "name": "stdout",
     "output_type": "stream",
     "text": [
      "Optimize a model with 55352 rows, 41952 columns and 209760 nonzeros\n",
      "Coefficient statistics:\n",
      "  Matrix range    [1e+00, 1e+00]\n",
      "  Objective range [0e+00, 0e+00]\n",
      "  Bounds range    [0e+00, 0e+00]\n",
      "  RHS range       [1e+02, 2e+04]\n",
      "\n",
      "Concurrent LP optimizer: dual simplex and barrier\n",
      "Showing barrier log only...\n",
      "\n",
      "Presolve removed 42580 rows and 0 columns\n",
      "Presolve time: 0.07s\n",
      "Presolved: 12772 rows, 42028 columns, 122620 nonzeros\n",
      "\n",
      "Ordering time: 0.00s\n",
      "\n",
      "Barrier statistics:\n",
      " AA' NZ     : 9.991e+04\n",
      " Factor NZ  : 7.941e+05 (roughly 30 MBytes of memory)\n",
      " Factor Ops : 5.594e+07 (less than 1 second per iteration)\n",
      " Threads    : 3\n",
      "\n",
      "                  Objective                Residual\n",
      "Iter       Primal          Dual         Primal    Dual     Compl     Time\n",
      "   0   0.00000000e+00 -1.52000000e+03  1.29e+06 0.00e+00  2.34e+02     0s\n",
      "   1   0.00000000e+00 -7.03736893e+04  1.34e+05 8.33e-17  2.57e+01     0s\n",
      "   2   0.00000000e+00 -2.83030061e+04  1.38e+04 9.71e-17  3.12e+00     0s\n",
      "   3   0.00000000e+00 -1.18256050e+04  3.60e+03 1.11e-16  9.65e-01     0s\n",
      "   4   0.00000000e+00 -5.88353604e+03  1.54e+03 1.11e-16  4.57e-01     0s\n",
      "   5   0.00000000e+00 -2.74452425e+03  7.70e+02 1.18e-16  2.27e-01     0s\n",
      "   6   0.00000000e+00 -1.21517064e+03  1.67e+02 1.11e-16  6.18e-02     0s\n",
      "   7   0.00000000e+00 -4.20718073e+02  6.62e+00 1.11e-16  1.08e-02     0s\n",
      "   8   0.00000000e+00 -3.76071089e+00  4.57e-07 1.11e-16  8.93e-05     0s\n",
      "   9   0.00000000e+00 -3.76071087e-03  2.11e-06 1.36e-18  8.93e-08     0s\n",
      "  10   0.00000000e+00 -3.78152412e-09  1.64e-07 1.78e-19  8.98e-14     0s\n",
      "\n",
      "Barrier solved model in 10 iterations and 0.44 seconds\n",
      "Optimal objective 0.00000000e+00\n",
      "\n",
      "Crossover log...\n",
      "\n",
      "       0 DPushes remaining with DInf 0.0000000e+00                 0s\n",
      "\n",
      "   29267 PPushes remaining with PInf 0.0000000e+00                 0s\n",
      "       0 PPushes remaining with PInf 0.0000000e+00                 1s\n",
      "\n",
      "  Push phase complete: Pinf 0.0000000e+00, Dinf 0.0000000e+00      1s\n",
      "\n",
      "Iteration    Objective       Primal Inf.    Dual Inf.      Time\n",
      "   32284    0.0000000e+00   0.000000e+00   0.000000e+00      1s\n",
      "   32284    0.0000000e+00   0.000000e+00   0.000000e+00      1s\n",
      "\n",
      "Solved with barrier\n",
      "Solved in 32284 iterations and 0.75 seconds\n",
      "Optimal objective  0.000000000e+00\n"
     ]
    }
   ],
   "source": [
    "# model.setParam('OutputFlag', False)\n",
    "model.optimize()"
   ]
  },
  {
   "cell_type": "code",
   "execution_count": 14,
   "metadata": {},
   "outputs": [
    {
     "ename": "GurobiError",
     "evalue": "Unable to retrieve attribute 'x'",
     "output_type": "error",
     "traceback": [
      "\u001b[1;31m---------------------------------------------------------------------------\u001b[0m",
      "\u001b[1;31mGurobiError\u001b[0m                               Traceback (most recent call last)",
      "\u001b[1;32m<ipython-input-14-80488e9c0c5f>\u001b[0m in \u001b[0;36m<module>\u001b[1;34m()\u001b[0m\n\u001b[0;32m      1\u001b[0m \u001b[0mlam_list\u001b[0m \u001b[1;33m=\u001b[0m \u001b[1;33m[\u001b[0m\u001b[1;33m]\u001b[0m\u001b[1;33m\u001b[0m\u001b[0m\n\u001b[0;32m      2\u001b[0m \u001b[1;32mfor\u001b[0m \u001b[0mv\u001b[0m \u001b[1;32min\u001b[0m \u001b[0mmodel\u001b[0m\u001b[1;33m.\u001b[0m\u001b[0mgetVars\u001b[0m\u001b[1;33m(\u001b[0m\u001b[1;33m)\u001b[0m\u001b[1;33m:\u001b[0m\u001b[1;33m\u001b[0m\u001b[0m\n\u001b[1;32m----> 3\u001b[1;33m     \u001b[1;32mprint\u001b[0m\u001b[1;33m(\u001b[0m\u001b[1;34m'%s %g'\u001b[0m \u001b[1;33m%\u001b[0m \u001b[1;33m(\u001b[0m\u001b[0mv\u001b[0m\u001b[1;33m.\u001b[0m\u001b[0mvarName\u001b[0m\u001b[1;33m,\u001b[0m \u001b[0mv\u001b[0m\u001b[1;33m.\u001b[0m\u001b[0mx\u001b[0m\u001b[1;33m)\u001b[0m\u001b[1;33m)\u001b[0m\u001b[1;33m\u001b[0m\u001b[0m\n\u001b[0m\u001b[0;32m      4\u001b[0m     \u001b[0mlam_list\u001b[0m\u001b[1;33m.\u001b[0m\u001b[0mappend\u001b[0m\u001b[1;33m(\u001b[0m\u001b[0mv\u001b[0m\u001b[1;33m.\u001b[0m\u001b[0mx\u001b[0m\u001b[1;33m)\u001b[0m\u001b[1;33m\u001b[0m\u001b[0m\n\u001b[0;32m      5\u001b[0m \u001b[1;31m# print('Obj: %g' % obj.getValue())\u001b[0m\u001b[1;33m\u001b[0m\u001b[1;33m\u001b[0m\u001b[0m\n",
      "\u001b[1;32mvar.pxi\u001b[0m in \u001b[0;36mgurobipy.Var.__getattr__ (../../src/python/gurobipy.c:11793)\u001b[1;34m()\u001b[0m\n",
      "\u001b[1;32mvar.pxi\u001b[0m in \u001b[0;36mgurobipy.Var.getAttr (../../src/python/gurobipy.c:12667)\u001b[1;34m()\u001b[0m\n",
      "\u001b[1;31mGurobiError\u001b[0m: Unable to retrieve attribute 'x'"
     ]
    }
   ],
   "source": [
    "lam_list = []\n",
    "for v in model.getVars():\n",
    "    print('%s %g' % (v.varName, v.x))\n",
    "    lam_list.append(v.x)\n",
    "# print('Obj: %g' % obj.getValue())"
   ]
  },
  {
   "cell_type": "code",
   "execution_count": 76,
   "metadata": {},
   "outputs": [
    {
     "data": {
      "text/plain": [
       "4594.6576464564205"
      ]
     },
     "execution_count": 76,
     "metadata": {},
     "output_type": "execute_result"
    }
   ],
   "source": [
    "sum(lam_list[0:551])"
   ]
  },
  {
   "cell_type": "code",
   "execution_count": 77,
   "metadata": {},
   "outputs": [],
   "source": [
    "# write estimation result to file\n",
    "n = 24  # number of nodes\n",
    "with open('OD_demand_matrix_Sioux.txt', 'w') as the_file:\n",
    "    idx = 0\n",
    "    for i in range(n + 1)[1:]:\n",
    "        for j in range(n + 1)[1:]:\n",
    "            if i != j: \n",
    "                the_file.write(\"%d,%d,%f\\n\" %(i, j, lam_list[idx]))\n",
    "                idx += 1"
   ]
  },
  {
   "cell_type": "code",
   "execution_count": null,
   "metadata": {
    "collapsed": true
   },
   "outputs": [],
   "source": []
  }
 ],
 "metadata": {
  "kernelspec": {
   "display_name": "Python 2",
   "language": "python",
   "name": "python2"
  },
  "language_info": {
   "codemirror_mode": {
    "name": "ipython",
    "version": 2
   },
   "file_extension": ".py",
   "mimetype": "text/x-python",
   "name": "python",
   "nbconvert_exporter": "python",
   "pygments_lexer": "ipython2",
   "version": "2.7.14"
  }
 },
 "nbformat": 4,
 "nbformat_minor": 1
}
