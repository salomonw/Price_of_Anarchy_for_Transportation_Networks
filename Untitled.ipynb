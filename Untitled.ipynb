{
 "cells": [
  {
   "cell_type": "code",
   "execution_count": 22,
   "metadata": {},
   "outputs": [
    {
     "ename": "LoadError",
     "evalue": "\u001b[91minvalid redefinition of constant TA_Data\u001b[39m",
     "output_type": "error",
     "traceback": [
      "\u001b[91minvalid redefinition of constant TA_Data\u001b[39m",
      ""
     ]
    }
   ],
   "source": [
    "# Traffic Assignment Data structure\n",
    "type TA_Data\n",
    "    network_name::String\n",
    "\n",
    "    number_of_zones::Int64\n",
    "    number_of_nodes::Int64\n",
    "    first_thru_node::Int64\n",
    "    number_of_links::Int64\n",
    "\n",
    "    start_node::Array\n",
    "    end_node::Array\n",
    "    capacity::Array\n",
    "    link_length::Array\n",
    "    free_flow_time::Array\n",
    "    B::Array\n",
    "    power::Array\n",
    "    speed_limit::Array\n",
    "    toll::Array\n",
    "    link_type::Array\n",
    "\n",
    "    total_od_flow::Float64\n",
    "\n",
    "    travel_demand::Array\n",
    "    od_pairs::Array\n",
    "\n",
    "    toll_factor::Float64\n",
    "    distance_factor::Float64\n",
    "\n",
    "    best_objective::Float64\n",
    "end"
   ]
  },
  {
   "cell_type": "code",
   "execution_count": 23,
   "metadata": {},
   "outputs": [
    {
     "name": "stderr",
     "output_type": "stream",
     "text": [
      "WARNING: Method definition (::Type{Main.TA_Data})(String, Int64, Int64, Int64, Int64, Array{T, N} where N where T, Array{T, N} where N where T, Array{T, N} where N where T, Array{T, N} where N where T, Array{T, N} where N where T, Array{T, N} where N where T, Array{T, N} where N where T, Array{T, N} where N where T, Array{T, N} where N where T, Array{T, N} where N where T, Float64, Array{T, N} where N where T, Array{T, N} where N where T, Float64, Float64, Float64) in module Main at In[12]:3 overwritten at In[23]:3.\n",
      "WARNING: Method definition (::Type{Main.TA_Data})(Any, Any, Any, Any, Any, Any, Any, Any, Any, Any, Any, Any, Any, Any, Any, Any, Any, Any, Any, Any, Any) in module Main at In[12]:3 overwritten at In[23]:3.\n"
     ]
    }
   ],
   "source": [
    "\n",
    "\n",
    "    out_dir = \"../results/\"\n",
    "    files_ID =\"_cdc_all_comp_apr_2012\"\n",
    "    month_w = \"Apr\"\n",
    "    instance = \"NT\"\n",
    "\n",
    "\n",
    "    toll_factor = 0\n",
    "    distance_factor = 0\n",
    "    network_data_file = files_ID * \"_net_\" * month_w * \"_\" * instance * \".txt\"\n",
    "    trip_table_file = files_ID * \"_trips_\" * month_w * \"_\" * instance * \".txt\"\n",
    "    best_objective = 0\n",
    "\n",
    "    network_name = files_ID\n",
    "\n",
    "    network_data_file =  out_dir * files_ID * \"/data_traffic_assignment_uni-class/\" * network_data_file\n",
    "    trip_table_file =   out_dir * files_ID * \"/data_traffic_assignment_uni-class/\" * trip_table_file\n",
    "\n",
    "    number_of_zones = 0\n",
    "    number_of_links = 0\n",
    "    number_of_nodes = 0\n",
    "    first_thru_node = 0\n",
    "    \n",
    "    n = 0\n",
    "    A = 0\n",
    "    n = open(network_data_file, \"r\")\n",
    "    A = readlines(n)\n",
    "    for line in A\n",
    "        #print( line)\n",
    "        if contains(line, \"<NUMBER OF ZONES>\")\n",
    "            number_of_zones = parse( Int, line[ search(line, '>')+1 : end] )\n",
    "        elseif contains(line, \"<NUMBER OF NODES>\")\n",
    "            number_of_nodes = parse( Int, line[ search(line, '>')+1 : end] )\n",
    "        elseif contains(line, \"<FIRST THRU NODE>\")\n",
    "            first_thru_node = parse( Int, line[ search(line, '>')+1 : end] )\n",
    "        elseif contains(line, \"<NUMBER OF LINKS>\")\n",
    "            number_of_links = parse( Int, line[ search(line, '>')+1 : end] )\n",
    "        elseif contains(line, \"<END OF METADATA>\")\n",
    "       # println(line)\n",
    "        end\n",
    "    end\n",
    "\n",
    "    @assert number_of_links > 0\n",
    "    start_node = Array{Int}(number_of_links)\n",
    "    end_node = Array{Int}(number_of_links)\n",
    "    capacity = zeros(number_of_links)\n",
    "    link_length = zeros(number_of_links)\n",
    "    free_flow_time = zeros(number_of_links)\n",
    "    B = zeros(number_of_links)\n",
    "    power = zeros(number_of_links)\n",
    "    speed_limit = zeros(number_of_links)\n",
    "    toll = zeros(number_of_links)\n",
    "    link_type = Array{Int}(number_of_links)\n",
    "\n",
    "    idx = 1\n",
    "\n",
    "    apa = 0\n",
    "    for line in A\n",
    "        if contains(line, \"~\")\n",
    "            continue\n",
    "        end\n",
    "\n",
    "        if contains(line, \";\")\n",
    "            line = strip(line, '\\n')\n",
    "            line = strip(line, ';')\n",
    "            numbers = split(line)\n",
    "            start_node[idx] = parse(Int, numbers[1])\n",
    "            end_node[idx] = parse(Int, numbers[2])\n",
    "            \n",
    "            capacity[idx] = parse(Float64, numbers[3])\n",
    "            link_length[idx] = parse(Float64, numbers[4])\n",
    "            \n",
    "            free_flow_time[idx] = parse(Float64, numbers[5])\n",
    "            B[idx] = parse(Float64, numbers[6])\n",
    "            power[idx] = parse(Float64, numbers[7])\n",
    "            speed_limit[idx] = parse(Float64, numbers[8])\n",
    "            toll[idx] = parse(Float64, numbers[9])\n",
    "            link_type[idx] = parse(Float64, numbers[10])\n",
    "            \n",
    "            idx = idx + 1\n",
    "        end\n",
    "    end\n",
    "\n",
    "    ##################################################\n",
    "    # Trip Table\n",
    "    ##################################################\n",
    "\n",
    "    number_of_zones_trip = 0\n",
    "    total_od_flow = 0\n",
    "    \n",
    "    f = open(trip_table_file, \"r\")\n",
    "    fe = readlines(f)\n",
    "    \n",
    "    for line in fe\n",
    "        println(line)\n",
    "        if contains(line, \"<NUMBER OF ZONES>\")\n",
    "            number_of_zones_trip = parse( Int, line[ search(line, '>')+1 : end ] )\n",
    "        elseif contains(line, \"<TOTAL OD FLOW>\")\n",
    "            total_od_flow = parse( Float64, line[ search(line, '>')+1 : end ] )\n",
    "        elseif contains(line, \"<END OF METADATA>\")\n",
    "            break\n",
    "        end\n",
    "    end\n",
    "\n",
    "    @assert number_of_zones_trip == number_of_zones # Check if number_of_zone is same in both txt files\n",
    "\n",
    "    travel_demand = zeros(number_of_zones, number_of_zones)\n",
    "    od_pairs = []\n",
    "    origin = 0\n",
    "    for line in fe\n",
    "        if contains(line, \"Origin\")\n",
    "            origin = parse( Int, split(line)[2] )\n",
    "        elseif contains(line, \";\")\n",
    "            pairs = split(line, \";\")\n",
    "            for i=1:size(pairs)[1]\n",
    "                if contains(pairs[i], \":\")\n",
    "                    pair = split(pairs[i], \":\")\n",
    "                    destination = parse( Int, strip(pair[1]) )\n",
    "                    od_flow = parse( Float64, strip(pair[2]) )\n",
    "                    travel_demand[origin, destination] = od_flow\n",
    "                    push!(od_pairs, (origin, destination))\n",
    "                   # println(\"origin=$origin, destination=$destination, flow=$od_flow\")\n",
    "                end\n",
    "            end\n",
    "        end\n",
    "    end\n",
    "\n",
    "    # Preparing data to return\n",
    "    ta_data = TA_Data(\n",
    "        network_name,\n",
    "        number_of_zones,\n",
    "        number_of_nodes,\n",
    "        first_thru_node,\n",
    "        number_of_links,\n",
    "        start_node,\n",
    "        end_node,\n",
    "        capacity,\n",
    "        link_length,\n",
    "        free_flow_time,\n",
    "        B,\n",
    "        power,\n",
    "        speed_limit,\n",
    "        toll,\n",
    "        link_type,\n",
    "        total_od_flow,\n",
    "        travel_demand,\n",
    "        od_pairs,\n",
    "        toll_factor,\n",
    "        distance_factor,\n",
    "        best_objective)\n",
    "\n",
    "    return ta_data\n",
    "\n",
    "#end # end of load_network "
   ]
  },
  {
   "cell_type": "code",
   "execution_count": 13,
   "metadata": {},
   "outputs": [
    {
     "data": {
      "text/plain": [
       "\"NT\""
      ]
     },
     "execution_count": 13,
     "metadata": {},
     "output_type": "execute_result"
    }
   ],
   "source": []
  },
  {
   "cell_type": "code",
   "execution_count": 14,
   "metadata": {},
   "outputs": [
    {
     "data": {
      "text/plain": [
       "\"../results/_cdc_all_comp_apr_2012/data_traffic_assignment_uni-class/_cdc_all_comp_apr_2012_trips_Apr_NT.txt\""
      ]
     },
     "execution_count": 14,
     "metadata": {},
     "output_type": "execute_result"
    }
   ],
   "source": []
  },
  {
   "cell_type": "code",
   "execution_count": 24,
   "metadata": {},
   "outputs": [],
   "source": []
  },
  {
   "cell_type": "code",
   "execution_count": 32,
   "metadata": {},
   "outputs": [
    {
     "data": {
      "text/plain": [
       "1"
      ]
     },
     "execution_count": 32,
     "metadata": {},
     "output_type": "execute_result"
    }
   ],
   "source": []
  },
  {
   "cell_type": "code",
   "execution_count": 33,
   "metadata": {},
   "outputs": [],
   "source": []
  },
  {
   "cell_type": "code",
   "execution_count": 37,
   "metadata": {},
   "outputs": [
    {
     "data": {
      "text/plain": [
       "24-element Array{Int64,1}:\n",
       " 1\n",
       " 1\n",
       " 2\n",
       " 2\n",
       " 2\n",
       " 3\n",
       " 3\n",
       " 3\n",
       " 3\n",
       " 4\n",
       " 4\n",
       " 4\n",
       " 5\n",
       " 5\n",
       " 5\n",
       " 5\n",
       " 6\n",
       " 6\n",
       " 6\n",
       " 7\n",
       " 7\n",
       " 7\n",
       " 8\n",
       " 8"
      ]
     },
     "execution_count": 37,
     "metadata": {},
     "output_type": "execute_result"
    }
   ],
   "source": [
    "start_node"
   ]
  },
  {
   "cell_type": "code",
   "execution_count": 56,
   "metadata": {},
   "outputs": [
    {
     "name": "stdout",
     "output_type": "stream",
     "text": [
      "<NUMBER OF ZONES> 8\n",
      "<TOTAL OD FLOW> 0.0\n",
      "<END OF METADATA>\n"
     ]
    }
   ],
   "source": []
  },
  {
   "cell_type": "code",
   "execution_count": null,
   "metadata": {},
   "outputs": [],
   "source": []
  },
  {
   "cell_type": "code",
   "execution_count": 54,
   "metadata": {},
   "outputs": [
    {
     "data": {
      "text/plain": [
       "0.0"
      ]
     },
     "execution_count": 54,
     "metadata": {},
     "output_type": "execute_result"
    }
   ],
   "source": []
  },
  {
   "cell_type": "code",
   "execution_count": 59,
   "metadata": {},
   "outputs": [
    {
     "data": {
      "text/plain": [
       "LastMain.TA_Data(\"_cdc_all_comp_apr_2012\", 8, 0, 1, 24, [1, 1, 2, 2, 2, 3, 3, 3, 3, 4  …  5, 5, 6, 6, 6, 7, 7, 7, 8, 8], [2, 3, 1, 3, 4, 1, 2, 5, 6, 8  …  6, 7, 3, 5, 7, 8, 5, 6, 4, 7], [6000.0, 7178.74, 5581.27, 6927.74, 6146.19, 7127.65, 7096.72, 7988.61, 7445.12, 6000.0  …  6081.93, 6421.73, 7061.6, 6061.45, 7055.02, 6000.0, 6240.37, 7023.75, 6000.0, 6000.0], [0.0, 0.0, 0.0, 0.0, 0.0, 0.0, 0.0, 0.0, 0.0, 0.0  …  0.0, 0.0, 0.0, 0.0, 0.0, 0.0, 0.0, 0.0, 0.0, 0.0], [0.298035, 0.438588, 0.319098, 0.137379, 0.516436, 0.446557, 0.163218, 0.227349, 0.186787, 0.332648  …  0.164536, 0.17877, 0.191054, 0.162789, 0.24362, 0.187242, 0.179265, 0.241999, 0.331649, 0.19439], [0.0, 0.0, 0.0, 0.0, 0.0, 0.0, 0.0, 0.0, 0.0, 0.0  …  0.0, 0.0, 0.0, 0.0, 0.0, 0.0, 0.0, 0.0, 0.0, 0.0], [0.0, 0.0, 0.0, 0.0, 0.0, 0.0, 0.0, 0.0, 0.0, 0.0  …  0.0, 0.0, 0.0, 0.0, 0.0, 0.0, 0.0, 0.0, 0.0, 0.0], [0.0, 0.0, 0.0, 0.0, 0.0, 0.0, 0.0, 0.0, 0.0, 0.0  …  0.0, 0.0, 0.0, 0.0, 0.0, 0.0, 0.0, 0.0, 0.0, 0.0], [0.0, 0.0, 0.0, 0.0, 0.0, 0.0, 0.0, 0.0, 0.0, 0.0  …  0.0, 0.0, 0.0, 0.0, 0.0, 0.0, 0.0, 0.0, 0.0, 0.0], [0, 0, 0, 0, 0, 0, 0, 0, 0, 0  …  0, 0, 0, 0, 0, 0, 0, 0, 0, 0], 0.0, [0.0 0.0 … 355.673 330.328; 874.464 0.0 … 0.0 0.0; … ; 255.285 245.689 … 0.0 1665.74; 188.646 190.005 … 557.136 0.0], Any[(1, 1), (1, 2), (1, 3), (1, 4), (1, 5), (1, 6), (1, 7), (1, 8), (2, 2), (2, 1)  …  (7, 6), (7, 8), (8, 8), (8, 1), (8, 2), (8, 3), (8, 4), (8, 5), (8, 6), (8, 7)], 0.0, 0.0, 0.0)"
      ]
     },
     "execution_count": 59,
     "metadata": {},
     "output_type": "execute_result"
    }
   ],
   "source": []
  }
 ],
 "metadata": {
  "kernelspec": {
   "display_name": "Julia 0.6.4",
   "language": "julia",
   "name": "julia-0.6"
  },
  "language_info": {
   "file_extension": ".jl",
   "mimetype": "application/julia",
   "name": "julia",
   "version": "0.6.4"
  }
 },
 "nbformat": 4,
 "nbformat_minor": 2
}
