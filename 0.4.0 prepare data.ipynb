{
 "cells": [
  {
   "cell_type": "code",
   "execution_count": 1,
   "metadata": {},
   "outputs": [
    {
     "data": {
      "text/plain": [
       "prepare_demand_data (generic function with 1 method)"
      ]
     },
     "execution_count": 1,
     "metadata": {},
     "output_type": "execute_result"
    }
   ],
   "source": [
    "function prepare_demand_data(out_dir, files_ID, time_instances, week_day_list, month_w)\n",
    "    ############\n",
    "    #Read in the demand file\n",
    "    for instance in time_instances\n",
    "        for day in week_day_list\n",
    "            file = open( out_dir * \"data_traffic_assignment_uni-class/\" * files_ID * \"_trips_\" * month_w * \"_\" * string(day) * \"_\" * instance * \".txt\")\n",
    "            demands = Dict()\n",
    "            s = 0\n",
    "            cnt = 0\n",
    "            for line in eachline(file)\n",
    "                if contains(line, \"Origin\")\n",
    "                    s = parse(Int, split(line)[2])\n",
    "\n",
    "                elseif contains(line, \" : \")\n",
    "                    pairs = split(line, \";\")\n",
    "\n",
    "                    for pair in pairs\n",
    "                        if contains(pair, \":\")\n",
    "                            pair_vals = split(pair, \":\")\n",
    "                            t = parse(Int, pair_vals[1])\n",
    "                            demand = parse(Float64, pair_vals[2])\n",
    "                            demands[(s,t)] = demand \n",
    "                        end\n",
    "                    end\n",
    "                end\n",
    "            end                    \n",
    "            \n",
    "            close(file)\n",
    "            \n",
    "            outfile = open(out_dir * \"/OD_demands/demands_\" * month_w * \"_\" * string(day) * \"_\" * instance * \".json\", \"w\")\n",
    "            \n",
    "            JSON.print(outfile, demands)\n",
    "            \n",
    "            close(outfile)\n",
    "        end\n",
    "        \n",
    "    end\n",
    "end"
   ]
  },
  {
   "cell_type": "code",
   "execution_count": 2,
   "metadata": {},
   "outputs": [
    {
     "ename": "LoadError",
     "evalue": "\u001b[91mSystemError: opening file ../results/_cdc_apr_2012_density/data_traffic_assignment_uni-class/_cdc_apr_2012_density_trips_Apr_2_AM.txt: No such file or directory\u001b[39m",
     "output_type": "error",
     "traceback": [
      "\u001b[91mSystemError: opening file ../results/_cdc_apr_2012_density/data_traffic_assignment_uni-class/_cdc_apr_2012_density_trips_Apr_2_AM.txt: No such file or directory\u001b[39m",
      "",
      "Stacktrace:",
      " [1] \u001b[1m#systemerror#44\u001b[22m\u001b[22m at \u001b[1m.\\error.jl:64\u001b[22m\u001b[22m [inlined]",
      " [2] \u001b[1msystemerror\u001b[22m\u001b[22m\u001b[1m(\u001b[22m\u001b[22m::String, ::Bool\u001b[1m)\u001b[22m\u001b[22m at \u001b[1m.\\error.jl:64\u001b[22m\u001b[22m",
      " [3] \u001b[1mopen\u001b[22m\u001b[22m\u001b[1m(\u001b[22m\u001b[22m::String, ::Bool, ::Bool, ::Bool, ::Bool, ::Bool\u001b[1m)\u001b[22m\u001b[22m at \u001b[1m.\\iostream.jl:104\u001b[22m\u001b[22m",
      " [4] \u001b[1mprepare_demand_data\u001b[22m\u001b[22m\u001b[1m(\u001b[22m\u001b[22m::String, ::String, ::Array{String,1}, ::Array{Int64,1}, ::String\u001b[1m)\u001b[22m\u001b[22m at \u001b[1m.\\In[1]:6\u001b[22m\u001b[22m"
     ]
    }
   ],
   "source": [
    "using PyCall\n",
    "unshift!(PyVector(pyimport(\"sys\")[\"path\"]), \"\");\n",
    "@pyimport matplotlib.pyplot as plt\n",
    "@pyimport numpy as np\n",
    "@pyimport json\n",
    "@pyimport os\n",
    "@pyimport pickle\n",
    "@pyimport pandas as pd\n",
    "@pyimport collections\n",
    "\n",
    "@pyimport parameters_julia\n",
    "@pyimport utils_julia\n",
    "\n",
    "out_dir = parameters_julia.out_dir;\n",
    "files_ID = parameters_julia.files_ID;\n",
    "month_w = parameters_julia.month_w;\n",
    "year = parameters_julia.year;\n",
    "time_instances = parameters_julia.instances_ID;\n",
    "deg_grid = parameters_julia.deg_grid;\n",
    "c_grid = parameters_julia.c_grid;\n",
    "lamb_grid = parameters_julia.lamb_grid;\n",
    "week_day_list = parameters_julia.week_day_list;\n",
    "\n",
    "prepare_demand_data(out_dir, files_ID, time_instances, week_day_list, month_w)"
   ]
  },
  {
   "cell_type": "code",
   "execution_count": null,
   "metadata": {},
   "outputs": [],
   "source": []
  },
  {
   "cell_type": "code",
   "execution_count": null,
   "metadata": {},
   "outputs": [],
   "source": []
  }
 ],
 "metadata": {
  "kernelspec": {
   "display_name": "Julia 0.6.4",
   "language": "julia",
   "name": "julia-0.6"
  },
  "language_info": {
   "file_extension": ".jl",
   "mimetype": "application/julia",
   "name": "julia",
   "version": "0.6.4"
  }
 },
 "nbformat": 4,
 "nbformat_minor": 2
}
