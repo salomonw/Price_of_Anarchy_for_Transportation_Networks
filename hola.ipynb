{
 "cells": [
  {
   "cell_type": "code",
   "execution_count": 1,
   "metadata": {},
   "outputs": [
    {
     "name": "stderr",
     "output_type": "stream",
     "text": [
      "\u001b[1m\u001b[34mINFO: Precompiling module PyCall.\n",
      "\u001b[0m\u001b[1m\u001b[31mERROR: LoadError: LoadError: PyCall not properly installed. Please run Pkg.build(\"PyCall\")\n",
      " in macro expansion; at C:\\Users\\Salomon Wollenstein\\.julia\\v0.5\\PyCall\\src\\startup.jl:44 [inlined]\n",
      " in anonymous at .\\<missing>:?\n",
      " in include_from_node1(::String) at .\\loading.jl:488 (repeats 2 times)\n",
      " in macro expansion; at .\\none:2 [inlined]\n",
      " in anonymous at .\\<missing>:?\n",
      " in eval(::Module, ::Any) at .\\boot.jl:234\n",
      " in process_options(::Base.JLOptions) at .\\client.jl:242\n",
      " in _start() at .\\client.jl:321\n",
      "while loading C:\\Users\\Salomon Wollenstein\\.julia\\v0.5\\PyCall\\src\\startup.jl, in expression starting on line 41\n",
      "while loading C:\\Users\\Salomon Wollenstein\\.julia\\v0.5\\PyCall\\src\\PyCall.jl, in expression starting on line 39\n",
      "\u001b[0m"
     ]
    },
    {
     "ename": "LoadError",
     "evalue": "Failed to precompile PyCall to C:\\Users\\Salomon Wollenstein\\.julia\\lib\\v0.5\\PyCall.ji.",
     "output_type": "error",
     "traceback": [
      "Failed to precompile PyCall to C:\\Users\\Salomon Wollenstein\\.julia\\lib\\v0.5\\PyCall.ji.",
      "",
      " in compilecache(::String) at .\\loading.jl:593",
      " in require(::Symbol) at .\\loading.jl:422",
      " in include_string(::String, ::String) at .\\loading.jl:441"
     ]
    }
   ],
   "source": [
    "using PyCall"
   ]
  },
  {
   "cell_type": "code",
   "execution_count": null,
   "metadata": {},
   "outputs": [],
   "source": [
    "string(\"pwd()\", \"functions.py\")"
   ]
  },
  {
   "cell_type": "code",
   "execution_count": null,
   "metadata": {},
   "outputs": [],
   "source": [
    "Pkg.update()"
   ]
  },
  {
   "cell_type": "code",
   "execution_count": null,
   "metadata": {},
   "outputs": [],
   "source": [
    "using PyCall\n",
    "unshift!(PyVector(pyimport(\"sys\")[\"path\"]), \"\");\n",
    "@pyimport ODandRouteChoiceMat"
   ]
  },
  {
   "cell_type": "code",
   "execution_count": null,
   "metadata": {},
   "outputs": [],
   "source": [
    "Pkg.pin(\"MacroTools\", v\"0.3.4\")"
   ]
  },
  {
   "cell_type": "code",
   "execution_count": null,
   "metadata": {},
   "outputs": [],
   "source": [
    "xi_list = GLS_Apr_weekday_AM.xi_list\n",
    "P = GLS_Apr_weekday_AM.P\n",
    "L = GLS_Apr_weekday_AM.L  # dimension of xi\n",
    "\n",
    "size(P, 1), size(P, 2)\n",
    "\n",
    "using JuMP\n",
    "using Ipopt\n",
    "\n",
    "mGLSJulia = Model(solver=IpoptSolver())\n",
    "\n",
    "@variable(mGLSJulia, lam[1:size(P,1)] >= 0)\n",
    "\n",
    "@variable(mGLSJulia, p[1:size(P,1), 1:size(P,2)] >= 0)\n",
    "\n",
    "for i = 1:size(P,1)\n",
    "    for j = 1:size(P,2)\n",
    "        if P[i,j] == 0\n",
    "            @constraint(mGLSJulia, p[i,j] == 0)\n",
    "        end\n",
    "    end\n",
    "end\n",
    "            \n",
    "for i = 1:size(P,1)\n",
    "    @NLconstraint(mGLSJulia, sum(p[i,j] for j = 1:size(P,2)) == 1)\n",
    "end\n",
    "\n",
    "for l = 1:L\n",
    "    @NLconstraint(mGLSJulia, sum(p[i,l] * lam[i] for i = 1:size(P,1)) == xi_list[l])\n",
    "end\n",
    "    \n",
    "@NLobjective(mGLSJulia, Min, sum(p[1,j] for j = 1:size(P,2)))  # play no actual role, but could not use zero objective\n",
    "\n",
    "solve(mGLSJulia)\n",
    "\n",
    "getvalue(lam)\n",
    "\n",
    "getObjectiveValue(mGLSJulia)\n",
    "\n",
    "GLS_Apr_weekday_AM.saveDemandVec(getvalue(lam))\n",
    "\n",
    "getvalue(p)\n",
    "\n",
    "route_choice_matrix_Apr_AM = getvalue(p)\n",
    "\n",
    "sum(route_choice_matrix_Apr_AM[1, :])\n",
    "\n",
    "route_choice_matrix_dict_Apr_AM = Dict()\n",
    "\n",
    "for row_idx = 1:size(route_choice_matrix_Apr_AM)[1]\n",
    "    for col_idx = 1:size(route_choice_matrix_Apr_AM)[2]\n",
    "        route_choice_matrix_dict_Apr_AM[(row_idx, col_idx)] = route_choice_matrix_Apr_AM[row_idx, col_idx]\n",
    "    end\n",
    "end\n",
    "\n",
    "route_choice_matrix_dict_Apr_AM\n",
    "\n",
    "outfile = open(\"../temp_files/route_choice_CDC_Apr_AM.json\", \"w\")\n",
    "\n",
    "JSON.print(outfile, route_choice_matrix_dict_Apr_AM)\n",
    "\n",
    "close(outfile)"
   ]
  }
 ],
 "metadata": {
  "kernelspec": {
   "display_name": "Julia 0.5.2",
   "language": "julia",
   "name": "julia-0.5"
  },
  "language_info": {
   "file_extension": ".jl",
   "mimetype": "application/julia",
   "name": "julia",
   "version": "0.5.2"
  }
 },
 "nbformat": 4,
 "nbformat_minor": 2
}
